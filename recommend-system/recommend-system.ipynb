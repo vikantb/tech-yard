{
 "cells": [
  {
   "cell_type": "code",
   "execution_count": 3,
   "source": [
    "from flask import Flask\r\n",
    "from flask import jsonify\r\n",
    "\r\n",
    "from flask_cors import CORS\r\n",
    "\r\n",
    "\r\n",
    "app = Flask(__name__)\r\n",
    "CORS(app)"
   ],
   "outputs": [
    {
     "output_type": "execute_result",
     "data": {
      "text/plain": [
       "<flask_cors.extension.CORS at 0x1ac3cc18eb0>"
      ]
     },
     "metadata": {},
     "execution_count": 3
    }
   ],
   "metadata": {}
  },
  {
   "cell_type": "code",
   "execution_count": 4,
   "source": [
    "# Load EDA\r\n",
    "import json\r\n",
    "import pandas as pd \r\n",
    "import numpy as np \r\n",
    "from sklearn.feature_extraction.text import CountVectorizer\r\n",
    "from sklearn.metrics.pairwise import cosine_similarity,linear_kernel"
   ],
   "outputs": [],
   "metadata": {}
  },
  {
   "cell_type": "code",
   "execution_count": 5,
   "source": [
    "#Store the data\r\n",
    "df=pd.read_csv('udemy.csv')"
   ],
   "outputs": [],
   "metadata": {}
  },
  {
   "cell_type": "code",
   "execution_count": 6,
   "source": [
    "#show the data\r\n",
    "df.head(2)"
   ],
   "outputs": [
    {
     "output_type": "execute_result",
     "data": {
      "text/plain": [
       "   course_id                                       course_title  \\\n",
       "0    1070968                 Ultimate Investment Banking Course   \n",
       "1    1113822  Complete GST Course & Certification - Grow You...   \n",
       "\n",
       "                                                 url  is_paid  price  \\\n",
       "0  https://www.udemy.com/ultimate-investment-bank...     True    200   \n",
       "1      https://www.udemy.com/goods-and-services-tax/     True     75   \n",
       "\n",
       "   num_subscribers  num_reviews  num_lectures       level content_duration  \\\n",
       "0             2147           23            51  All Levels        1.5 hours   \n",
       "1             2792          923           274  All Levels         39 hours   \n",
       "\n",
       "    published_timestamp           subject  profit published_date  \\\n",
       "0  2017-01-18T20:58:58Z  Business Finance  429400     2017-01-18   \n",
       "1  2017-03-09T16:34:20Z  Business Finance  209400     2017-03-09   \n",
       "\n",
       "  published_time  year  month  day  \n",
       "0      20:58:58Z  2017      1   18  \n",
       "1      16:34:20Z  2017      3    9  "
      ],
      "text/html": [
       "<div>\n",
       "<style scoped>\n",
       "    .dataframe tbody tr th:only-of-type {\n",
       "        vertical-align: middle;\n",
       "    }\n",
       "\n",
       "    .dataframe tbody tr th {\n",
       "        vertical-align: top;\n",
       "    }\n",
       "\n",
       "    .dataframe thead th {\n",
       "        text-align: right;\n",
       "    }\n",
       "</style>\n",
       "<table border=\"1\" class=\"dataframe\">\n",
       "  <thead>\n",
       "    <tr style=\"text-align: right;\">\n",
       "      <th></th>\n",
       "      <th>course_id</th>\n",
       "      <th>course_title</th>\n",
       "      <th>url</th>\n",
       "      <th>is_paid</th>\n",
       "      <th>price</th>\n",
       "      <th>num_subscribers</th>\n",
       "      <th>num_reviews</th>\n",
       "      <th>num_lectures</th>\n",
       "      <th>level</th>\n",
       "      <th>content_duration</th>\n",
       "      <th>published_timestamp</th>\n",
       "      <th>subject</th>\n",
       "      <th>profit</th>\n",
       "      <th>published_date</th>\n",
       "      <th>published_time</th>\n",
       "      <th>year</th>\n",
       "      <th>month</th>\n",
       "      <th>day</th>\n",
       "    </tr>\n",
       "  </thead>\n",
       "  <tbody>\n",
       "    <tr>\n",
       "      <th>0</th>\n",
       "      <td>1070968</td>\n",
       "      <td>Ultimate Investment Banking Course</td>\n",
       "      <td>https://www.udemy.com/ultimate-investment-bank...</td>\n",
       "      <td>True</td>\n",
       "      <td>200</td>\n",
       "      <td>2147</td>\n",
       "      <td>23</td>\n",
       "      <td>51</td>\n",
       "      <td>All Levels</td>\n",
       "      <td>1.5 hours</td>\n",
       "      <td>2017-01-18T20:58:58Z</td>\n",
       "      <td>Business Finance</td>\n",
       "      <td>429400</td>\n",
       "      <td>2017-01-18</td>\n",
       "      <td>20:58:58Z</td>\n",
       "      <td>2017</td>\n",
       "      <td>1</td>\n",
       "      <td>18</td>\n",
       "    </tr>\n",
       "    <tr>\n",
       "      <th>1</th>\n",
       "      <td>1113822</td>\n",
       "      <td>Complete GST Course &amp; Certification - Grow You...</td>\n",
       "      <td>https://www.udemy.com/goods-and-services-tax/</td>\n",
       "      <td>True</td>\n",
       "      <td>75</td>\n",
       "      <td>2792</td>\n",
       "      <td>923</td>\n",
       "      <td>274</td>\n",
       "      <td>All Levels</td>\n",
       "      <td>39 hours</td>\n",
       "      <td>2017-03-09T16:34:20Z</td>\n",
       "      <td>Business Finance</td>\n",
       "      <td>209400</td>\n",
       "      <td>2017-03-09</td>\n",
       "      <td>16:34:20Z</td>\n",
       "      <td>2017</td>\n",
       "      <td>3</td>\n",
       "      <td>9</td>\n",
       "    </tr>\n",
       "  </tbody>\n",
       "</table>\n",
       "</div>"
      ]
     },
     "metadata": {},
     "execution_count": 6
    }
   ],
   "metadata": {}
  },
  {
   "cell_type": "code",
   "execution_count": 7,
   "source": [
    "#create a function to combine the important columns/features\r\n",
    "def create_book_id_column(data):\r\n",
    "    features=[]\r\n",
    "    for i in range (0,data.shape[0]):\r\n",
    "        features.append( i )\r\n",
    "    \r\n",
    "    return features"
   ],
   "outputs": [],
   "metadata": {}
  },
  {
   "cell_type": "code",
   "execution_count": 8,
   "source": [
    "#Create a column to store the combined features\r\n",
    "df['book_id']=create_book_id_column(df)\r\n",
    "#show the data\r\n",
    "df.head(2)"
   ],
   "outputs": [
    {
     "output_type": "execute_result",
     "data": {
      "text/plain": [
       "   course_id                                       course_title  \\\n",
       "0    1070968                 Ultimate Investment Banking Course   \n",
       "1    1113822  Complete GST Course & Certification - Grow You...   \n",
       "\n",
       "                                                 url  is_paid  price  \\\n",
       "0  https://www.udemy.com/ultimate-investment-bank...     True    200   \n",
       "1      https://www.udemy.com/goods-and-services-tax/     True     75   \n",
       "\n",
       "   num_subscribers  num_reviews  num_lectures       level content_duration  \\\n",
       "0             2147           23            51  All Levels        1.5 hours   \n",
       "1             2792          923           274  All Levels         39 hours   \n",
       "\n",
       "    published_timestamp           subject  profit published_date  \\\n",
       "0  2017-01-18T20:58:58Z  Business Finance  429400     2017-01-18   \n",
       "1  2017-03-09T16:34:20Z  Business Finance  209400     2017-03-09   \n",
       "\n",
       "  published_time  year  month  day  book_id  \n",
       "0      20:58:58Z  2017      1   18        0  \n",
       "1      16:34:20Z  2017      3    9        1  "
      ],
      "text/html": [
       "<div>\n",
       "<style scoped>\n",
       "    .dataframe tbody tr th:only-of-type {\n",
       "        vertical-align: middle;\n",
       "    }\n",
       "\n",
       "    .dataframe tbody tr th {\n",
       "        vertical-align: top;\n",
       "    }\n",
       "\n",
       "    .dataframe thead th {\n",
       "        text-align: right;\n",
       "    }\n",
       "</style>\n",
       "<table border=\"1\" class=\"dataframe\">\n",
       "  <thead>\n",
       "    <tr style=\"text-align: right;\">\n",
       "      <th></th>\n",
       "      <th>course_id</th>\n",
       "      <th>course_title</th>\n",
       "      <th>url</th>\n",
       "      <th>is_paid</th>\n",
       "      <th>price</th>\n",
       "      <th>num_subscribers</th>\n",
       "      <th>num_reviews</th>\n",
       "      <th>num_lectures</th>\n",
       "      <th>level</th>\n",
       "      <th>content_duration</th>\n",
       "      <th>published_timestamp</th>\n",
       "      <th>subject</th>\n",
       "      <th>profit</th>\n",
       "      <th>published_date</th>\n",
       "      <th>published_time</th>\n",
       "      <th>year</th>\n",
       "      <th>month</th>\n",
       "      <th>day</th>\n",
       "      <th>book_id</th>\n",
       "    </tr>\n",
       "  </thead>\n",
       "  <tbody>\n",
       "    <tr>\n",
       "      <th>0</th>\n",
       "      <td>1070968</td>\n",
       "      <td>Ultimate Investment Banking Course</td>\n",
       "      <td>https://www.udemy.com/ultimate-investment-bank...</td>\n",
       "      <td>True</td>\n",
       "      <td>200</td>\n",
       "      <td>2147</td>\n",
       "      <td>23</td>\n",
       "      <td>51</td>\n",
       "      <td>All Levels</td>\n",
       "      <td>1.5 hours</td>\n",
       "      <td>2017-01-18T20:58:58Z</td>\n",
       "      <td>Business Finance</td>\n",
       "      <td>429400</td>\n",
       "      <td>2017-01-18</td>\n",
       "      <td>20:58:58Z</td>\n",
       "      <td>2017</td>\n",
       "      <td>1</td>\n",
       "      <td>18</td>\n",
       "      <td>0</td>\n",
       "    </tr>\n",
       "    <tr>\n",
       "      <th>1</th>\n",
       "      <td>1113822</td>\n",
       "      <td>Complete GST Course &amp; Certification - Grow You...</td>\n",
       "      <td>https://www.udemy.com/goods-and-services-tax/</td>\n",
       "      <td>True</td>\n",
       "      <td>75</td>\n",
       "      <td>2792</td>\n",
       "      <td>923</td>\n",
       "      <td>274</td>\n",
       "      <td>All Levels</td>\n",
       "      <td>39 hours</td>\n",
       "      <td>2017-03-09T16:34:20Z</td>\n",
       "      <td>Business Finance</td>\n",
       "      <td>209400</td>\n",
       "      <td>2017-03-09</td>\n",
       "      <td>16:34:20Z</td>\n",
       "      <td>2017</td>\n",
       "      <td>3</td>\n",
       "      <td>9</td>\n",
       "      <td>1</td>\n",
       "    </tr>\n",
       "  </tbody>\n",
       "</table>\n",
       "</div>"
      ]
     },
     "metadata": {},
     "execution_count": 8
    }
   ],
   "metadata": {}
  },
  {
   "cell_type": "code",
   "execution_count": 9,
   "source": [
    "#create a function to combine the important columns/features\r\n",
    "def combine_feature(data):\r\n",
    "    features=[]\r\n",
    "    for i in range (0,data.shape[0]):\r\n",
    "        features.append( data['course_title'][i])\r\n",
    "    \r\n",
    "    return features"
   ],
   "outputs": [],
   "metadata": {}
  },
  {
   "cell_type": "code",
   "execution_count": 10,
   "source": [
    "#Create a column to store the combined features\r\n",
    "df['combined_features']=combine_feature(df)\r\n",
    "#show the data\r\n",
    "df.head(2)"
   ],
   "outputs": [
    {
     "output_type": "execute_result",
     "data": {
      "text/plain": [
       "   course_id                                       course_title  \\\n",
       "0    1070968                 Ultimate Investment Banking Course   \n",
       "1    1113822  Complete GST Course & Certification - Grow You...   \n",
       "\n",
       "                                                 url  is_paid  price  \\\n",
       "0  https://www.udemy.com/ultimate-investment-bank...     True    200   \n",
       "1      https://www.udemy.com/goods-and-services-tax/     True     75   \n",
       "\n",
       "   num_subscribers  num_reviews  num_lectures       level content_duration  \\\n",
       "0             2147           23            51  All Levels        1.5 hours   \n",
       "1             2792          923           274  All Levels         39 hours   \n",
       "\n",
       "    published_timestamp           subject  profit published_date  \\\n",
       "0  2017-01-18T20:58:58Z  Business Finance  429400     2017-01-18   \n",
       "1  2017-03-09T16:34:20Z  Business Finance  209400     2017-03-09   \n",
       "\n",
       "  published_time  year  month  day  book_id  \\\n",
       "0      20:58:58Z  2017      1   18        0   \n",
       "1      16:34:20Z  2017      3    9        1   \n",
       "\n",
       "                                   combined_features  \n",
       "0                 Ultimate Investment Banking Course  \n",
       "1  Complete GST Course & Certification - Grow You...  "
      ],
      "text/html": [
       "<div>\n",
       "<style scoped>\n",
       "    .dataframe tbody tr th:only-of-type {\n",
       "        vertical-align: middle;\n",
       "    }\n",
       "\n",
       "    .dataframe tbody tr th {\n",
       "        vertical-align: top;\n",
       "    }\n",
       "\n",
       "    .dataframe thead th {\n",
       "        text-align: right;\n",
       "    }\n",
       "</style>\n",
       "<table border=\"1\" class=\"dataframe\">\n",
       "  <thead>\n",
       "    <tr style=\"text-align: right;\">\n",
       "      <th></th>\n",
       "      <th>course_id</th>\n",
       "      <th>course_title</th>\n",
       "      <th>url</th>\n",
       "      <th>is_paid</th>\n",
       "      <th>price</th>\n",
       "      <th>num_subscribers</th>\n",
       "      <th>num_reviews</th>\n",
       "      <th>num_lectures</th>\n",
       "      <th>level</th>\n",
       "      <th>content_duration</th>\n",
       "      <th>published_timestamp</th>\n",
       "      <th>subject</th>\n",
       "      <th>profit</th>\n",
       "      <th>published_date</th>\n",
       "      <th>published_time</th>\n",
       "      <th>year</th>\n",
       "      <th>month</th>\n",
       "      <th>day</th>\n",
       "      <th>book_id</th>\n",
       "      <th>combined_features</th>\n",
       "    </tr>\n",
       "  </thead>\n",
       "  <tbody>\n",
       "    <tr>\n",
       "      <th>0</th>\n",
       "      <td>1070968</td>\n",
       "      <td>Ultimate Investment Banking Course</td>\n",
       "      <td>https://www.udemy.com/ultimate-investment-bank...</td>\n",
       "      <td>True</td>\n",
       "      <td>200</td>\n",
       "      <td>2147</td>\n",
       "      <td>23</td>\n",
       "      <td>51</td>\n",
       "      <td>All Levels</td>\n",
       "      <td>1.5 hours</td>\n",
       "      <td>2017-01-18T20:58:58Z</td>\n",
       "      <td>Business Finance</td>\n",
       "      <td>429400</td>\n",
       "      <td>2017-01-18</td>\n",
       "      <td>20:58:58Z</td>\n",
       "      <td>2017</td>\n",
       "      <td>1</td>\n",
       "      <td>18</td>\n",
       "      <td>0</td>\n",
       "      <td>Ultimate Investment Banking Course</td>\n",
       "    </tr>\n",
       "    <tr>\n",
       "      <th>1</th>\n",
       "      <td>1113822</td>\n",
       "      <td>Complete GST Course &amp; Certification - Grow You...</td>\n",
       "      <td>https://www.udemy.com/goods-and-services-tax/</td>\n",
       "      <td>True</td>\n",
       "      <td>75</td>\n",
       "      <td>2792</td>\n",
       "      <td>923</td>\n",
       "      <td>274</td>\n",
       "      <td>All Levels</td>\n",
       "      <td>39 hours</td>\n",
       "      <td>2017-03-09T16:34:20Z</td>\n",
       "      <td>Business Finance</td>\n",
       "      <td>209400</td>\n",
       "      <td>2017-03-09</td>\n",
       "      <td>16:34:20Z</td>\n",
       "      <td>2017</td>\n",
       "      <td>3</td>\n",
       "      <td>9</td>\n",
       "      <td>1</td>\n",
       "      <td>Complete GST Course &amp; Certification - Grow You...</td>\n",
       "    </tr>\n",
       "  </tbody>\n",
       "</table>\n",
       "</div>"
      ]
     },
     "metadata": {},
     "execution_count": 10
    }
   ],
   "metadata": {}
  },
  {
   "cell_type": "code",
   "execution_count": 11,
   "source": [
    "#convert the text from the new column to a matrix of word counts\r\n",
    "cm= CountVectorizer().fit_transform(df['combined_features'])\r\n",
    "print(cm)"
   ],
   "outputs": [
    {
     "output_type": "stream",
     "name": "stdout",
     "text": [
      "  (0, 3328)\t1\n",
      "  (0, 1771)\t1\n",
      "  (0, 369)\t1\n",
      "  (0, 806)\t1\n",
      "  (1, 806)\t1\n",
      "  (1, 725)\t1\n",
      "  (1, 1523)\t1\n",
      "  (1, 608)\t1\n",
      "  (1, 1515)\t1\n",
      "  (1, 3572)\t1\n",
      "  (1, 545)\t1\n",
      "  (1, 2476)\t1\n",
      "  (2, 1312)\t1\n",
      "  (2, 2135)\t1\n",
      "  (2, 1362)\t1\n",
      "  (2, 532)\t1\n",
      "  (2, 224)\t1\n",
      "  (2, 229)\t1\n",
      "  (2, 766)\t1\n",
      "  (3, 1312)\t1\n",
      "  (3, 411)\t1\n",
      "  (3, 3219)\t1\n",
      "  (3, 2517)\t1\n",
      "  (3, 222)\t1\n",
      "  (3, 1685)\t1\n",
      "  :\t:\n",
      "  (3679, 3482)\t1\n",
      "  (3679, 300)\t1\n",
      "  (3679, 938)\t1\n",
      "  (3679, 3532)\t1\n",
      "  (3680, 229)\t1\n",
      "  (3680, 1895)\t1\n",
      "  (3680, 524)\t1\n",
      "  (3680, 3366)\t1\n",
      "  (3680, 2450)\t1\n",
      "  (3681, 3572)\t1\n",
      "  (3681, 823)\t1\n",
      "  (3681, 2274)\t1\n",
      "  (3681, 3482)\t1\n",
      "  (3681, 214)\t1\n",
      "  (3681, 1095)\t1\n",
      "  (3681, 853)\t1\n",
      "  (3681, 238)\t1\n",
      "  (3682, 411)\t1\n",
      "  (3682, 3219)\t1\n",
      "  (3682, 1528)\t1\n",
      "  (3682, 524)\t1\n",
      "  (3682, 3366)\t1\n",
      "  (3682, 3483)\t1\n",
      "  (3682, 680)\t1\n",
      "  (3682, 2143)\t1\n"
     ]
    }
   ],
   "metadata": {}
  },
  {
   "cell_type": "code",
   "execution_count": 12,
   "source": [
    "#Get the cosine similarity matrix from the count matrix\r\n",
    "cs = cosine_similarity(cm)\r\n",
    "#print the scores\r\n",
    "#print(cs)"
   ],
   "outputs": [],
   "metadata": {}
  },
  {
   "cell_type": "code",
   "execution_count": 13,
   "source": [
    "def search_term_not_found(term,df):\r\n",
    "    result_df = df[df['course_title'].str.contains(term,case=False)]\r\n",
    "    return result_df"
   ],
   "outputs": [],
   "metadata": {}
  },
  {
   "cell_type": "code",
   "execution_count": 14,
   "source": [
    "def np_encoder(object):\r\n",
    "    if isinstance(object, np.generic):\r\n",
    "        return object.item()"
   ],
   "outputs": [],
   "metadata": {}
  },
  {
   "cell_type": "code",
   "execution_count": 15,
   "source": [
    "def recommend_courses(title,cosine_similarity_matrix,df,num_of_rec=10):\r\n",
    "    result_df = search_term_not_found(title,df)\r\n",
    "    for row in result_df.iterrows():\r\n",
    "        title = row[1][1]\r\n",
    "        print(title)\r\n",
    "        break;\r\n",
    "                \r\n",
    "    # indices of the course\r\n",
    "    course_indices = pd.Series(df.index,index=df['course_title'])\r\n",
    "    index=course_indices[title]\r\n",
    "    print(index)        \r\n",
    "    #create a list of tuples in the form (book_id,similarity scores)\r\n",
    "    scores = list(enumerate(cs[index]))\r\n",
    "    #print(scores)\r\n",
    "    #sort the list of similar books in descending order\r\n",
    "    try:\r\n",
    "        sorted_scores = sorted(scores,key=lambda x:x[1],reverse= True)\r\n",
    "        #show the sorted scores\r\n",
    "        #sorted_scores\r\n",
    "        #create a loop to print the first 5 books from the sorted list\r\n",
    "        j=0\r\n",
    "        # print('The 5 most recommended books to '+title+' are:\\n')\r\n",
    "        result=[]\r\n",
    "        for item in sorted_scores:\r\n",
    "            data= {\r\n",
    "                        \"course_title\" : df[df.book_id==item[0]]['course_title'].values[0],\r\n",
    "                        \"url\" :df[df.book_id==item[0]]['url'].values[0],\r\n",
    "                        \"price\" :df[df.book_id==item[0]]['price'].values[0],\r\n",
    "                        \"num_subscribers\" : df[df.book_id==item[0]]['num_subscribers'].values[0],\r\n",
    "                        \"num_reviews\" : df[df.book_id==item[0]]['num_reviews'].values[0],\r\n",
    "                        \"num_lectures\" : df[df.book_id==item[0]]['num_lectures'].values[0],\r\n",
    "                        \"duration\" : df[df.book_id==item[0]]['content_duration'].values[0]\r\n",
    "                    }\r\n",
    "            print(data)\r\n",
    "            result.append(data)\r\n",
    "            j=j+1\r\n",
    "            if j>30:\r\n",
    "                break;\r\n",
    "    except:\r\n",
    "        result=[]\r\n",
    "    return  json.dumps(result, default=np_encoder)"
   ],
   "outputs": [],
   "metadata": {}
  },
  {
   "cell_type": "code",
   "execution_count": 16,
   "source": [
    "recommend_courses('python',cs,df,5)"
   ],
   "outputs": [
    {
     "output_type": "stream",
     "name": "stdout",
     "text": [
      "Python Algo Trading: Sentiment Trading with News\n",
      "14\n",
      "{'course_title': 'Python Algo Trading: Sentiment Trading with News', 'url': 'https://www.udemy.com/hedge-fund-strategy-trading-with-sentiment-analysis/', 'price': 200, 'num_subscribers': 294, 'num_reviews': 19, 'num_lectures': 42, 'duration': '7 hours'}\n",
      "{'course_title': 'Python Algo Trading: FX Trading with Oanda', 'url': 'https://www.udemy.com/python-algo-trading-fx-trading-with-oanda/', 'price': 200, 'num_subscribers': 453, 'num_reviews': 42, 'num_lectures': 33, 'duration': '3 hours'}\n",
      "{'course_title': 'Python Algo Stock Trading: Automate Your Trading!', 'url': 'https://www.udemy.com/algorithmic-stock-trading-bootcamp-automate-your-trading/', 'price': 95, 'num_subscribers': 1165, 'num_reviews': 21, 'num_lectures': 41, 'duration': '2.5 hours'}\n",
      "{'course_title': 'Quantitative Trading Analysis with Python', 'url': 'https://www.udemy.com/quantitative-trading-analysis-with-python/', 'price': 50, 'num_subscribers': 256, 'num_reviews': 17, 'num_lectures': 49, 'duration': '5.5 hours'}\n",
      "{'course_title': 'Black Algo Trading: Build Your Trading Robot', 'url': 'https://www.udemy.com/build-your-trading-robot/', 'price': 200, 'num_subscribers': 20195, 'num_reviews': 1113, 'num_lectures': 227, 'duration': '16 hours'}\n",
      "{'course_title': 'Trading: High-ROI Trading', 'url': 'https://www.udemy.com/the-high-roi-trading-video-course/', 'price': 190, 'num_subscribers': 126, 'num_reviews': 20, 'num_lectures': 47, 'duration': '12.5 hours'}\n",
      "{'course_title': 'Forex Trading with Fixed \\'Risk through Options Trading\"', 'url': 'https://www.udemy.com/forexoptions/', 'price': 200, 'num_subscribers': 611, 'num_reviews': 4, 'num_lectures': 26, 'duration': '1 hour'}\n",
      "{'course_title': 'TRADING PSYCHOLOGY: Trading Mindset Mastery', 'url': 'https://www.udemy.com/trading-psychology-trading-mindset-mastery/', 'price': 120, 'num_subscribers': 975, 'num_reviews': 23, 'num_lectures': 23, 'duration': '1 hour'}\n",
      "{'course_title': 'Forex Trading vs Option Trading', 'url': 'https://www.udemy.com/trading-excellence/', 'price': 95, 'num_subscribers': 1776, 'num_reviews': 14, 'num_lectures': 29, 'duration': '2.5 hours'}\n",
      "{'course_title': 'Volatility Trading Analysis with R', 'url': 'https://www.udemy.com/volatility-trading-analysis-with-r/', 'price': 50, 'num_subscribers': 190, 'num_reviews': 13, 'num_lectures': 45, 'duration': '6 hours'}\n",
      "{'course_title': 'Forex: Economic News Trading', 'url': 'https://www.udemy.com/forex-economic-news-trading/', 'price': 25, 'num_subscribers': 42, 'num_reviews': 14, 'num_lectures': 11, 'duration': '41 mins'}\n"
     ]
    },
    {
     "output_type": "execute_result",
     "data": {
      "text/plain": [
       "'[{\"course_title\": \"Python Algo Trading: Sentiment Trading with News\", \"url\": \"https://www.udemy.com/hedge-fund-strategy-trading-with-sentiment-analysis/\", \"price\": 200, \"num_subscribers\": 294, \"num_reviews\": 19, \"num_lectures\": 42, \"duration\": \"7 hours\"}, {\"course_title\": \"Python Algo Trading: FX Trading with Oanda\", \"url\": \"https://www.udemy.com/python-algo-trading-fx-trading-with-oanda/\", \"price\": 200, \"num_subscribers\": 453, \"num_reviews\": 42, \"num_lectures\": 33, \"duration\": \"3 hours\"}, {\"course_title\": \"Python Algo Stock Trading: Automate Your Trading!\", \"url\": \"https://www.udemy.com/algorithmic-stock-trading-bootcamp-automate-your-trading/\", \"price\": 95, \"num_subscribers\": 1165, \"num_reviews\": 21, \"num_lectures\": 41, \"duration\": \"2.5 hours\"}, {\"course_title\": \"Quantitative Trading Analysis with Python\", \"url\": \"https://www.udemy.com/quantitative-trading-analysis-with-python/\", \"price\": 50, \"num_subscribers\": 256, \"num_reviews\": 17, \"num_lectures\": 49, \"duration\": \"5.5 hours\"}, {\"course_title\": \"Black Algo Trading: Build Your Trading Robot\", \"url\": \"https://www.udemy.com/build-your-trading-robot/\", \"price\": 200, \"num_subscribers\": 20195, \"num_reviews\": 1113, \"num_lectures\": 227, \"duration\": \"16 hours\"}, {\"course_title\": \"Trading: High-ROI Trading\", \"url\": \"https://www.udemy.com/the-high-roi-trading-video-course/\", \"price\": 190, \"num_subscribers\": 126, \"num_reviews\": 20, \"num_lectures\": 47, \"duration\": \"12.5 hours\"}, {\"course_title\": \"Forex Trading with Fixed \\'Risk through Options Trading\\\\\"\", \"url\": \"https://www.udemy.com/forexoptions/\", \"price\": 200, \"num_subscribers\": 611, \"num_reviews\": 4, \"num_lectures\": 26, \"duration\": \"1 hour\"}, {\"course_title\": \"TRADING PSYCHOLOGY: Trading Mindset Mastery\", \"url\": \"https://www.udemy.com/trading-psychology-trading-mindset-mastery/\", \"price\": 120, \"num_subscribers\": 975, \"num_reviews\": 23, \"num_lectures\": 23, \"duration\": \"1 hour\"}, {\"course_title\": \"Forex Trading vs Option Trading\", \"url\": \"https://www.udemy.com/trading-excellence/\", \"price\": 95, \"num_subscribers\": 1776, \"num_reviews\": 14, \"num_lectures\": 29, \"duration\": \"2.5 hours\"}, {\"course_title\": \"Volatility Trading Analysis with R\", \"url\": \"https://www.udemy.com/volatility-trading-analysis-with-r/\", \"price\": 50, \"num_subscribers\": 190, \"num_reviews\": 13, \"num_lectures\": 45, \"duration\": \"6 hours\"}, {\"course_title\": \"Forex: Economic News Trading\", \"url\": \"https://www.udemy.com/forex-economic-news-trading/\", \"price\": 25, \"num_subscribers\": 42, \"num_reviews\": 14, \"num_lectures\": 11, \"duration\": \"41 mins\"}]'"
      ]
     },
     "metadata": {},
     "execution_count": 16
    }
   ],
   "metadata": {}
  },
  {
   "cell_type": "code",
   "execution_count": 17,
   "source": [
    "@app.route('/get/rcmd/<string:title>')\r\n",
    "def index(title):\r\n",
    "    return recommend_courses(title,cs,df,5)\r\n",
    "     \r\n",
    "\r\n",
    "@app.route('/')\r\n",
    "def home():\r\n",
    "    return ' call this --> /get/rcmd/<course> '\r\n",
    "\r\n",
    "if __name__==\"__main__\" :\r\n",
    "    app.run(port='4545')"
   ],
   "outputs": [
    {
     "output_type": "stream",
     "name": "stdout",
     "text": [
      " * Serving Flask app '__main__' (lazy loading)\n",
      " * Environment: production\n",
      "   WARNING: This is a development server. Do not use it in a production deployment.\n",
      "   Use a production WSGI server instead.\n",
      " * Debug mode: off\n"
     ]
    },
    {
     "output_type": "stream",
     "name": "stderr",
     "text": [
      " * Running on http://127.0.0.1:4545/ (Press CTRL+C to quit)\n",
      "127.0.0.1 - - [14/Jul/2021 04:44:47] \"GET /get/rcmd/python HTTP/1.1\" 200 -\n"
     ]
    },
    {
     "output_type": "stream",
     "name": "stdout",
     "text": [
      "Python Algo Trading: Sentiment Trading with News\n",
      "14\n",
      "{'course_title': 'Python Algo Trading: Sentiment Trading with News', 'url': 'https://www.udemy.com/hedge-fund-strategy-trading-with-sentiment-analysis/', 'price': 200, 'num_subscribers': 294, 'num_reviews': 19, 'num_lectures': 42, 'duration': '7 hours'}\n",
      "{'course_title': 'Python Algo Trading: FX Trading with Oanda', 'url': 'https://www.udemy.com/python-algo-trading-fx-trading-with-oanda/', 'price': 200, 'num_subscribers': 453, 'num_reviews': 42, 'num_lectures': 33, 'duration': '3 hours'}\n",
      "{'course_title': 'Python Algo Stock Trading: Automate Your Trading!', 'url': 'https://www.udemy.com/algorithmic-stock-trading-bootcamp-automate-your-trading/', 'price': 95, 'num_subscribers': 1165, 'num_reviews': 21, 'num_lectures': 41, 'duration': '2.5 hours'}\n",
      "{'course_title': 'Quantitative Trading Analysis with Python', 'url': 'https://www.udemy.com/quantitative-trading-analysis-with-python/', 'price': 50, 'num_subscribers': 256, 'num_reviews': 17, 'num_lectures': 49, 'duration': '5.5 hours'}\n",
      "{'course_title': 'Black Algo Trading: Build Your Trading Robot', 'url': 'https://www.udemy.com/build-your-trading-robot/', 'price': 200, 'num_subscribers': 20195, 'num_reviews': 1113, 'num_lectures': 227, 'duration': '16 hours'}\n",
      "{'course_title': 'Trading: High-ROI Trading', 'url': 'https://www.udemy.com/the-high-roi-trading-video-course/', 'price': 190, 'num_subscribers': 126, 'num_reviews': 20, 'num_lectures': 47, 'duration': '12.5 hours'}\n",
      "{'course_title': 'Forex Trading with Fixed \\'Risk through Options Trading\"', 'url': 'https://www.udemy.com/forexoptions/', 'price': 200, 'num_subscribers': 611, 'num_reviews': 4, 'num_lectures': 26, 'duration': '1 hour'}\n",
      "{'course_title': 'TRADING PSYCHOLOGY: Trading Mindset Mastery', 'url': 'https://www.udemy.com/trading-psychology-trading-mindset-mastery/', 'price': 120, 'num_subscribers': 975, 'num_reviews': 23, 'num_lectures': 23, 'duration': '1 hour'}\n",
      "{'course_title': 'Forex Trading vs Option Trading', 'url': 'https://www.udemy.com/trading-excellence/', 'price': 95, 'num_subscribers': 1776, 'num_reviews': 14, 'num_lectures': 29, 'duration': '2.5 hours'}\n",
      "{'course_title': 'Volatility Trading Analysis with R', 'url': 'https://www.udemy.com/volatility-trading-analysis-with-r/', 'price': 50, 'num_subscribers': 190, 'num_reviews': 13, 'num_lectures': 45, 'duration': '6 hours'}\n",
      "{'course_title': 'Forex: Economic News Trading', 'url': 'https://www.udemy.com/forex-economic-news-trading/', 'price': 25, 'num_subscribers': 42, 'num_reviews': 14, 'num_lectures': 11, 'duration': '41 mins'}\n"
     ]
    },
    {
     "output_type": "stream",
     "name": "stderr",
     "text": [
      "127.0.0.1 - - [14/Jul/2021 04:45:05] \"GET /get/rcmd/java HTTP/1.1\" 200 -\n"
     ]
    },
    {
     "output_type": "stream",
     "name": "stdout",
     "text": [
      "Learning Dynamic Website Design - PHP MySQL and JavaScript\n",
      "2484\n",
      "{'course_title': 'Learning Dynamic Website Design - PHP MySQL and JavaScript', 'url': 'https://www.udemy.com/learning-dynamic-website-design/', 'price': 50, 'num_subscribers': 47886, 'num_reviews': 285, 'num_lectures': 125, 'duration': '12.5 hours'}\n",
      "{'course_title': 'Projects in PHP and MySQL', 'url': 'https://www.udemy.com/the-complete-web-development-course-learn-by-building-apps/', 'price': 60, 'num_subscribers': 10606, 'num_reviews': 570, 'num_lectures': 88, 'duration': '23 hours'}\n",
      "{'course_title': 'Practical Understanding of PHP and MySQL', 'url': 'https://www.udemy.com/practical-understanding-of-php-and-myqsl-demo/', 'price': 0, 'num_subscribers': 12201, 'num_reviews': 217, 'num_lectures': 24, 'duration': '5.5 hours'}\n",
      "{'course_title': 'PHP MySQL: Learn PHP MySQL with Project', 'url': 'https://www.udemy.com/php-mysql-project-learning/', 'price': 20, 'num_subscribers': 2314, 'num_reviews': 77, 'num_lectures': 25, 'duration': '2 hours'}\n",
      "{'course_title': 'PHP: Complete Login and Registration System with PHP & MYSQL', 'url': 'https://www.udemy.com/user-authentication-code-a-simple-login-system-with-php/', 'price': 200, 'num_subscribers': 1448, 'num_reviews': 173, 'num_lectures': 48, 'duration': '7.5 hours'}\n",
      "{'course_title': 'Complete Login and Registration System in PHP and MYSQL', 'url': 'https://www.udemy.com/login-and-registration-system-in-php-and-mysql-step-by-step/', 'price': 200, 'num_subscribers': 4714, 'num_reviews': 149, 'num_lectures': 28, 'duration': '4 hours'}\n",
      "{'course_title': 'Login and Registration from Scratch with PHP and MySQL', 'url': 'https://www.udemy.com/authentication-from-scratch-with-php-and-mysql/', 'price': 20, 'num_subscribers': 1128, 'num_reviews': 77, 'num_lectures': 36, 'duration': '2 hours'}\n",
      "{'course_title': 'PHP & MySQL - Learn The Easy Way. Master PHP & MySQL Quickly', 'url': 'https://www.udemy.com/learning-php-and-mysql-development-the-easy-way/', 'price': 50, 'num_subscribers': 5549, 'num_reviews': 92, 'num_lectures': 143, 'duration': '15.5 hours'}\n",
      "{'course_title': 'Complete Website & CMS in PHP & MySQL From Scratch!', 'url': 'https://www.udemy.com/cms-admin-panel-in-php-mysql/', 'price': 20, 'num_subscribers': 3357, 'num_reviews': 82, 'num_lectures': 48, 'duration': '12.5 hours'}\n",
      "{'course_title': 'Learn E-Commerce Website in PHP & MySQL From Scratch!', 'url': 'https://www.udemy.com/ecommerce-website-in-php-mysqli/', 'price': 0, 'num_subscribers': 29990, 'num_reviews': 1342, 'num_lectures': 87, 'duration': '17.5 hours'}\n",
      "{'course_title': 'JavaScript Complete Guide to learning JavaScript', 'url': 'https://www.udemy.com/javascript-complete-guide-to-learning-javascript/', 'price': 200, 'num_subscribers': 1296, 'num_reviews': 22, 'num_lectures': 72, 'duration': '5.5 hours'}\n"
     ]
    },
    {
     "output_type": "stream",
     "name": "stderr",
     "text": [
      "127.0.0.1 - - [14/Jul/2021 04:46:23] \"GET /get/rcmd/java HTTP/1.1\" 200 -\n"
     ]
    },
    {
     "output_type": "stream",
     "name": "stdout",
     "text": [
      "Learning Dynamic Website Design - PHP MySQL and JavaScript\n",
      "2484\n",
      "{'course_title': 'Learning Dynamic Website Design - PHP MySQL and JavaScript', 'url': 'https://www.udemy.com/learning-dynamic-website-design/', 'price': 50, 'num_subscribers': 47886, 'num_reviews': 285, 'num_lectures': 125, 'duration': '12.5 hours'}\n",
      "{'course_title': 'Projects in PHP and MySQL', 'url': 'https://www.udemy.com/the-complete-web-development-course-learn-by-building-apps/', 'price': 60, 'num_subscribers': 10606, 'num_reviews': 570, 'num_lectures': 88, 'duration': '23 hours'}\n",
      "{'course_title': 'Practical Understanding of PHP and MySQL', 'url': 'https://www.udemy.com/practical-understanding-of-php-and-myqsl-demo/', 'price': 0, 'num_subscribers': 12201, 'num_reviews': 217, 'num_lectures': 24, 'duration': '5.5 hours'}\n",
      "{'course_title': 'PHP MySQL: Learn PHP MySQL with Project', 'url': 'https://www.udemy.com/php-mysql-project-learning/', 'price': 20, 'num_subscribers': 2314, 'num_reviews': 77, 'num_lectures': 25, 'duration': '2 hours'}\n",
      "{'course_title': 'PHP: Complete Login and Registration System with PHP & MYSQL', 'url': 'https://www.udemy.com/user-authentication-code-a-simple-login-system-with-php/', 'price': 200, 'num_subscribers': 1448, 'num_reviews': 173, 'num_lectures': 48, 'duration': '7.5 hours'}\n",
      "{'course_title': 'Complete Login and Registration System in PHP and MYSQL', 'url': 'https://www.udemy.com/login-and-registration-system-in-php-and-mysql-step-by-step/', 'price': 200, 'num_subscribers': 4714, 'num_reviews': 149, 'num_lectures': 28, 'duration': '4 hours'}\n",
      "{'course_title': 'Login and Registration from Scratch with PHP and MySQL', 'url': 'https://www.udemy.com/authentication-from-scratch-with-php-and-mysql/', 'price': 20, 'num_subscribers': 1128, 'num_reviews': 77, 'num_lectures': 36, 'duration': '2 hours'}\n",
      "{'course_title': 'PHP & MySQL - Learn The Easy Way. Master PHP & MySQL Quickly', 'url': 'https://www.udemy.com/learning-php-and-mysql-development-the-easy-way/', 'price': 50, 'num_subscribers': 5549, 'num_reviews': 92, 'num_lectures': 143, 'duration': '15.5 hours'}\n",
      "{'course_title': 'Complete Website & CMS in PHP & MySQL From Scratch!', 'url': 'https://www.udemy.com/cms-admin-panel-in-php-mysql/', 'price': 20, 'num_subscribers': 3357, 'num_reviews': 82, 'num_lectures': 48, 'duration': '12.5 hours'}\n",
      "{'course_title': 'Learn E-Commerce Website in PHP & MySQL From Scratch!', 'url': 'https://www.udemy.com/ecommerce-website-in-php-mysqli/', 'price': 0, 'num_subscribers': 29990, 'num_reviews': 1342, 'num_lectures': 87, 'duration': '17.5 hours'}\n",
      "{'course_title': 'JavaScript Complete Guide to learning JavaScript', 'url': 'https://www.udemy.com/javascript-complete-guide-to-learning-javascript/', 'price': 200, 'num_subscribers': 1296, 'num_reviews': 22, 'num_lectures': 72, 'duration': '5.5 hours'}\n"
     ]
    },
    {
     "output_type": "stream",
     "name": "stderr",
     "text": [
      "127.0.0.1 - - [14/Jul/2021 04:51:27] \"GET /get/rcmd/java HTTP/1.1\" 200 -\n"
     ]
    },
    {
     "output_type": "stream",
     "name": "stdout",
     "text": [
      "Learning Dynamic Website Design - PHP MySQL and JavaScript\n",
      "2484\n",
      "{'course_title': 'Learning Dynamic Website Design - PHP MySQL and JavaScript', 'url': 'https://www.udemy.com/learning-dynamic-website-design/', 'price': 50, 'num_subscribers': 47886, 'num_reviews': 285, 'num_lectures': 125, 'duration': '12.5 hours'}\n",
      "{'course_title': 'Projects in PHP and MySQL', 'url': 'https://www.udemy.com/the-complete-web-development-course-learn-by-building-apps/', 'price': 60, 'num_subscribers': 10606, 'num_reviews': 570, 'num_lectures': 88, 'duration': '23 hours'}\n",
      "{'course_title': 'Practical Understanding of PHP and MySQL', 'url': 'https://www.udemy.com/practical-understanding-of-php-and-myqsl-demo/', 'price': 0, 'num_subscribers': 12201, 'num_reviews': 217, 'num_lectures': 24, 'duration': '5.5 hours'}\n",
      "{'course_title': 'PHP MySQL: Learn PHP MySQL with Project', 'url': 'https://www.udemy.com/php-mysql-project-learning/', 'price': 20, 'num_subscribers': 2314, 'num_reviews': 77, 'num_lectures': 25, 'duration': '2 hours'}\n",
      "{'course_title': 'PHP: Complete Login and Registration System with PHP & MYSQL', 'url': 'https://www.udemy.com/user-authentication-code-a-simple-login-system-with-php/', 'price': 200, 'num_subscribers': 1448, 'num_reviews': 173, 'num_lectures': 48, 'duration': '7.5 hours'}\n",
      "{'course_title': 'Complete Login and Registration System in PHP and MYSQL', 'url': 'https://www.udemy.com/login-and-registration-system-in-php-and-mysql-step-by-step/', 'price': 200, 'num_subscribers': 4714, 'num_reviews': 149, 'num_lectures': 28, 'duration': '4 hours'}\n",
      "{'course_title': 'Login and Registration from Scratch with PHP and MySQL', 'url': 'https://www.udemy.com/authentication-from-scratch-with-php-and-mysql/', 'price': 20, 'num_subscribers': 1128, 'num_reviews': 77, 'num_lectures': 36, 'duration': '2 hours'}\n",
      "{'course_title': 'PHP & MySQL - Learn The Easy Way. Master PHP & MySQL Quickly', 'url': 'https://www.udemy.com/learning-php-and-mysql-development-the-easy-way/', 'price': 50, 'num_subscribers': 5549, 'num_reviews': 92, 'num_lectures': 143, 'duration': '15.5 hours'}\n",
      "{'course_title': 'Complete Website & CMS in PHP & MySQL From Scratch!', 'url': 'https://www.udemy.com/cms-admin-panel-in-php-mysql/', 'price': 20, 'num_subscribers': 3357, 'num_reviews': 82, 'num_lectures': 48, 'duration': '12.5 hours'}\n",
      "{'course_title': 'Learn E-Commerce Website in PHP & MySQL From Scratch!', 'url': 'https://www.udemy.com/ecommerce-website-in-php-mysqli/', 'price': 0, 'num_subscribers': 29990, 'num_reviews': 1342, 'num_lectures': 87, 'duration': '17.5 hours'}\n",
      "{'course_title': 'JavaScript Complete Guide to learning JavaScript', 'url': 'https://www.udemy.com/javascript-complete-guide-to-learning-javascript/', 'price': 200, 'num_subscribers': 1296, 'num_reviews': 22, 'num_lectures': 72, 'duration': '5.5 hours'}\n"
     ]
    },
    {
     "output_type": "stream",
     "name": "stderr",
     "text": [
      "127.0.0.1 - - [14/Jul/2021 04:52:12] \"GET /get/rcmd/java HTTP/1.1\" 200 -\n"
     ]
    },
    {
     "output_type": "stream",
     "name": "stdout",
     "text": [
      "Learning Dynamic Website Design - PHP MySQL and JavaScript\n",
      "2484\n",
      "{'course_title': 'Learning Dynamic Website Design - PHP MySQL and JavaScript', 'url': 'https://www.udemy.com/learning-dynamic-website-design/', 'price': 50, 'num_subscribers': 47886, 'num_reviews': 285, 'num_lectures': 125, 'duration': '12.5 hours'}\n",
      "{'course_title': 'Projects in PHP and MySQL', 'url': 'https://www.udemy.com/the-complete-web-development-course-learn-by-building-apps/', 'price': 60, 'num_subscribers': 10606, 'num_reviews': 570, 'num_lectures': 88, 'duration': '23 hours'}\n",
      "{'course_title': 'Practical Understanding of PHP and MySQL', 'url': 'https://www.udemy.com/practical-understanding-of-php-and-myqsl-demo/', 'price': 0, 'num_subscribers': 12201, 'num_reviews': 217, 'num_lectures': 24, 'duration': '5.5 hours'}\n",
      "{'course_title': 'PHP MySQL: Learn PHP MySQL with Project', 'url': 'https://www.udemy.com/php-mysql-project-learning/', 'price': 20, 'num_subscribers': 2314, 'num_reviews': 77, 'num_lectures': 25, 'duration': '2 hours'}\n",
      "{'course_title': 'PHP: Complete Login and Registration System with PHP & MYSQL', 'url': 'https://www.udemy.com/user-authentication-code-a-simple-login-system-with-php/', 'price': 200, 'num_subscribers': 1448, 'num_reviews': 173, 'num_lectures': 48, 'duration': '7.5 hours'}\n",
      "{'course_title': 'Complete Login and Registration System in PHP and MYSQL', 'url': 'https://www.udemy.com/login-and-registration-system-in-php-and-mysql-step-by-step/', 'price': 200, 'num_subscribers': 4714, 'num_reviews': 149, 'num_lectures': 28, 'duration': '4 hours'}\n",
      "{'course_title': 'Login and Registration from Scratch with PHP and MySQL', 'url': 'https://www.udemy.com/authentication-from-scratch-with-php-and-mysql/', 'price': 20, 'num_subscribers': 1128, 'num_reviews': 77, 'num_lectures': 36, 'duration': '2 hours'}\n",
      "{'course_title': 'PHP & MySQL - Learn The Easy Way. Master PHP & MySQL Quickly', 'url': 'https://www.udemy.com/learning-php-and-mysql-development-the-easy-way/', 'price': 50, 'num_subscribers': 5549, 'num_reviews': 92, 'num_lectures': 143, 'duration': '15.5 hours'}\n",
      "{'course_title': 'Complete Website & CMS in PHP & MySQL From Scratch!', 'url': 'https://www.udemy.com/cms-admin-panel-in-php-mysql/', 'price': 20, 'num_subscribers': 3357, 'num_reviews': 82, 'num_lectures': 48, 'duration': '12.5 hours'}\n",
      "{'course_title': 'Learn E-Commerce Website in PHP & MySQL From Scratch!', 'url': 'https://www.udemy.com/ecommerce-website-in-php-mysqli/', 'price': 0, 'num_subscribers': 29990, 'num_reviews': 1342, 'num_lectures': 87, 'duration': '17.5 hours'}\n",
      "{'course_title': 'JavaScript Complete Guide to learning JavaScript', 'url': 'https://www.udemy.com/javascript-complete-guide-to-learning-javascript/', 'price': 200, 'num_subscribers': 1296, 'num_reviews': 22, 'num_lectures': 72, 'duration': '5.5 hours'}\n"
     ]
    },
    {
     "output_type": "stream",
     "name": "stderr",
     "text": [
      "127.0.0.1 - - [14/Jul/2021 04:52:33] \"GET /get/rcmd/python HTTP/1.1\" 200 -\n"
     ]
    },
    {
     "output_type": "stream",
     "name": "stdout",
     "text": [
      "Python Algo Trading: Sentiment Trading with News\n",
      "14\n",
      "{'course_title': 'Python Algo Trading: Sentiment Trading with News', 'url': 'https://www.udemy.com/hedge-fund-strategy-trading-with-sentiment-analysis/', 'price': 200, 'num_subscribers': 294, 'num_reviews': 19, 'num_lectures': 42, 'duration': '7 hours'}\n",
      "{'course_title': 'Python Algo Trading: FX Trading with Oanda', 'url': 'https://www.udemy.com/python-algo-trading-fx-trading-with-oanda/', 'price': 200, 'num_subscribers': 453, 'num_reviews': 42, 'num_lectures': 33, 'duration': '3 hours'}\n",
      "{'course_title': 'Python Algo Stock Trading: Automate Your Trading!', 'url': 'https://www.udemy.com/algorithmic-stock-trading-bootcamp-automate-your-trading/', 'price': 95, 'num_subscribers': 1165, 'num_reviews': 21, 'num_lectures': 41, 'duration': '2.5 hours'}\n",
      "{'course_title': 'Quantitative Trading Analysis with Python', 'url': 'https://www.udemy.com/quantitative-trading-analysis-with-python/', 'price': 50, 'num_subscribers': 256, 'num_reviews': 17, 'num_lectures': 49, 'duration': '5.5 hours'}\n",
      "{'course_title': 'Black Algo Trading: Build Your Trading Robot', 'url': 'https://www.udemy.com/build-your-trading-robot/', 'price': 200, 'num_subscribers': 20195, 'num_reviews': 1113, 'num_lectures': 227, 'duration': '16 hours'}\n",
      "{'course_title': 'Trading: High-ROI Trading', 'url': 'https://www.udemy.com/the-high-roi-trading-video-course/', 'price': 190, 'num_subscribers': 126, 'num_reviews': 20, 'num_lectures': 47, 'duration': '12.5 hours'}\n",
      "{'course_title': 'Forex Trading with Fixed \\'Risk through Options Trading\"', 'url': 'https://www.udemy.com/forexoptions/', 'price': 200, 'num_subscribers': 611, 'num_reviews': 4, 'num_lectures': 26, 'duration': '1 hour'}\n",
      "{'course_title': 'TRADING PSYCHOLOGY: Trading Mindset Mastery', 'url': 'https://www.udemy.com/trading-psychology-trading-mindset-mastery/', 'price': 120, 'num_subscribers': 975, 'num_reviews': 23, 'num_lectures': 23, 'duration': '1 hour'}\n",
      "{'course_title': 'Forex Trading vs Option Trading', 'url': 'https://www.udemy.com/trading-excellence/', 'price': 95, 'num_subscribers': 1776, 'num_reviews': 14, 'num_lectures': 29, 'duration': '2.5 hours'}\n",
      "{'course_title': 'Volatility Trading Analysis with R', 'url': 'https://www.udemy.com/volatility-trading-analysis-with-r/', 'price': 50, 'num_subscribers': 190, 'num_reviews': 13, 'num_lectures': 45, 'duration': '6 hours'}\n",
      "{'course_title': 'Forex: Economic News Trading', 'url': 'https://www.udemy.com/forex-economic-news-trading/', 'price': 25, 'num_subscribers': 42, 'num_reviews': 14, 'num_lectures': 11, 'duration': '41 mins'}\n"
     ]
    },
    {
     "output_type": "stream",
     "name": "stderr",
     "text": [
      "127.0.0.1 - - [14/Jul/2021 04:53:48] \"GET /get/rcmd/java HTTP/1.1\" 200 -\n"
     ]
    },
    {
     "output_type": "stream",
     "name": "stdout",
     "text": [
      "Learning Dynamic Website Design - PHP MySQL and JavaScript\n",
      "2484\n",
      "{'course_title': 'Learning Dynamic Website Design - PHP MySQL and JavaScript', 'url': 'https://www.udemy.com/learning-dynamic-website-design/', 'price': 50, 'num_subscribers': 47886, 'num_reviews': 285, 'num_lectures': 125, 'duration': '12.5 hours'}\n",
      "{'course_title': 'Projects in PHP and MySQL', 'url': 'https://www.udemy.com/the-complete-web-development-course-learn-by-building-apps/', 'price': 60, 'num_subscribers': 10606, 'num_reviews': 570, 'num_lectures': 88, 'duration': '23 hours'}\n",
      "{'course_title': 'Practical Understanding of PHP and MySQL', 'url': 'https://www.udemy.com/practical-understanding-of-php-and-myqsl-demo/', 'price': 0, 'num_subscribers': 12201, 'num_reviews': 217, 'num_lectures': 24, 'duration': '5.5 hours'}\n",
      "{'course_title': 'PHP MySQL: Learn PHP MySQL with Project', 'url': 'https://www.udemy.com/php-mysql-project-learning/', 'price': 20, 'num_subscribers': 2314, 'num_reviews': 77, 'num_lectures': 25, 'duration': '2 hours'}\n",
      "{'course_title': 'PHP: Complete Login and Registration System with PHP & MYSQL', 'url': 'https://www.udemy.com/user-authentication-code-a-simple-login-system-with-php/', 'price': 200, 'num_subscribers': 1448, 'num_reviews': 173, 'num_lectures': 48, 'duration': '7.5 hours'}\n",
      "{'course_title': 'Complete Login and Registration System in PHP and MYSQL', 'url': 'https://www.udemy.com/login-and-registration-system-in-php-and-mysql-step-by-step/', 'price': 200, 'num_subscribers': 4714, 'num_reviews': 149, 'num_lectures': 28, 'duration': '4 hours'}\n",
      "{'course_title': 'Login and Registration from Scratch with PHP and MySQL', 'url': 'https://www.udemy.com/authentication-from-scratch-with-php-and-mysql/', 'price': 20, 'num_subscribers': 1128, 'num_reviews': 77, 'num_lectures': 36, 'duration': '2 hours'}\n",
      "{'course_title': 'PHP & MySQL - Learn The Easy Way. Master PHP & MySQL Quickly', 'url': 'https://www.udemy.com/learning-php-and-mysql-development-the-easy-way/', 'price': 50, 'num_subscribers': 5549, 'num_reviews': 92, 'num_lectures': 143, 'duration': '15.5 hours'}\n",
      "{'course_title': 'Complete Website & CMS in PHP & MySQL From Scratch!', 'url': 'https://www.udemy.com/cms-admin-panel-in-php-mysql/', 'price': 20, 'num_subscribers': 3357, 'num_reviews': 82, 'num_lectures': 48, 'duration': '12.5 hours'}\n",
      "{'course_title': 'Learn E-Commerce Website in PHP & MySQL From Scratch!', 'url': 'https://www.udemy.com/ecommerce-website-in-php-mysqli/', 'price': 0, 'num_subscribers': 29990, 'num_reviews': 1342, 'num_lectures': 87, 'duration': '17.5 hours'}\n",
      "{'course_title': 'JavaScript Complete Guide to learning JavaScript', 'url': 'https://www.udemy.com/javascript-complete-guide-to-learning-javascript/', 'price': 200, 'num_subscribers': 1296, 'num_reviews': 22, 'num_lectures': 72, 'duration': '5.5 hours'}\n"
     ]
    },
    {
     "output_type": "stream",
     "name": "stderr",
     "text": [
      "127.0.0.1 - - [14/Jul/2021 04:55:23] \"GET /get/rcmd/java HTTP/1.1\" 200 -\n"
     ]
    },
    {
     "output_type": "stream",
     "name": "stdout",
     "text": [
      "Learning Dynamic Website Design - PHP MySQL and JavaScript\n",
      "2484\n",
      "{'course_title': 'Learning Dynamic Website Design - PHP MySQL and JavaScript', 'url': 'https://www.udemy.com/learning-dynamic-website-design/', 'price': 50, 'num_subscribers': 47886, 'num_reviews': 285, 'num_lectures': 125, 'duration': '12.5 hours'}\n",
      "{'course_title': 'Projects in PHP and MySQL', 'url': 'https://www.udemy.com/the-complete-web-development-course-learn-by-building-apps/', 'price': 60, 'num_subscribers': 10606, 'num_reviews': 570, 'num_lectures': 88, 'duration': '23 hours'}\n",
      "{'course_title': 'Practical Understanding of PHP and MySQL', 'url': 'https://www.udemy.com/practical-understanding-of-php-and-myqsl-demo/', 'price': 0, 'num_subscribers': 12201, 'num_reviews': 217, 'num_lectures': 24, 'duration': '5.5 hours'}\n",
      "{'course_title': 'PHP MySQL: Learn PHP MySQL with Project', 'url': 'https://www.udemy.com/php-mysql-project-learning/', 'price': 20, 'num_subscribers': 2314, 'num_reviews': 77, 'num_lectures': 25, 'duration': '2 hours'}\n",
      "{'course_title': 'PHP: Complete Login and Registration System with PHP & MYSQL', 'url': 'https://www.udemy.com/user-authentication-code-a-simple-login-system-with-php/', 'price': 200, 'num_subscribers': 1448, 'num_reviews': 173, 'num_lectures': 48, 'duration': '7.5 hours'}\n",
      "{'course_title': 'Complete Login and Registration System in PHP and MYSQL', 'url': 'https://www.udemy.com/login-and-registration-system-in-php-and-mysql-step-by-step/', 'price': 200, 'num_subscribers': 4714, 'num_reviews': 149, 'num_lectures': 28, 'duration': '4 hours'}\n",
      "{'course_title': 'Login and Registration from Scratch with PHP and MySQL', 'url': 'https://www.udemy.com/authentication-from-scratch-with-php-and-mysql/', 'price': 20, 'num_subscribers': 1128, 'num_reviews': 77, 'num_lectures': 36, 'duration': '2 hours'}\n",
      "{'course_title': 'PHP & MySQL - Learn The Easy Way. Master PHP & MySQL Quickly', 'url': 'https://www.udemy.com/learning-php-and-mysql-development-the-easy-way/', 'price': 50, 'num_subscribers': 5549, 'num_reviews': 92, 'num_lectures': 143, 'duration': '15.5 hours'}\n",
      "{'course_title': 'Complete Website & CMS in PHP & MySQL From Scratch!', 'url': 'https://www.udemy.com/cms-admin-panel-in-php-mysql/', 'price': 20, 'num_subscribers': 3357, 'num_reviews': 82, 'num_lectures': 48, 'duration': '12.5 hours'}\n",
      "{'course_title': 'Learn E-Commerce Website in PHP & MySQL From Scratch!', 'url': 'https://www.udemy.com/ecommerce-website-in-php-mysqli/', 'price': 0, 'num_subscribers': 29990, 'num_reviews': 1342, 'num_lectures': 87, 'duration': '17.5 hours'}\n",
      "{'course_title': 'JavaScript Complete Guide to learning JavaScript', 'url': 'https://www.udemy.com/javascript-complete-guide-to-learning-javascript/', 'price': 200, 'num_subscribers': 1296, 'num_reviews': 22, 'num_lectures': 72, 'duration': '5.5 hours'}\n"
     ]
    },
    {
     "output_type": "stream",
     "name": "stderr",
     "text": [
      "127.0.0.1 - - [14/Jul/2021 05:01:56] \"GET /get/rcmd/java HTTP/1.1\" 200 -\n"
     ]
    },
    {
     "output_type": "stream",
     "name": "stdout",
     "text": [
      "Learning Dynamic Website Design - PHP MySQL and JavaScript\n",
      "2484\n",
      "{'course_title': 'Learning Dynamic Website Design - PHP MySQL and JavaScript', 'url': 'https://www.udemy.com/learning-dynamic-website-design/', 'price': 50, 'num_subscribers': 47886, 'num_reviews': 285, 'num_lectures': 125, 'duration': '12.5 hours'}\n",
      "{'course_title': 'Projects in PHP and MySQL', 'url': 'https://www.udemy.com/the-complete-web-development-course-learn-by-building-apps/', 'price': 60, 'num_subscribers': 10606, 'num_reviews': 570, 'num_lectures': 88, 'duration': '23 hours'}\n",
      "{'course_title': 'Practical Understanding of PHP and MySQL', 'url': 'https://www.udemy.com/practical-understanding-of-php-and-myqsl-demo/', 'price': 0, 'num_subscribers': 12201, 'num_reviews': 217, 'num_lectures': 24, 'duration': '5.5 hours'}\n",
      "{'course_title': 'PHP MySQL: Learn PHP MySQL with Project', 'url': 'https://www.udemy.com/php-mysql-project-learning/', 'price': 20, 'num_subscribers': 2314, 'num_reviews': 77, 'num_lectures': 25, 'duration': '2 hours'}\n",
      "{'course_title': 'PHP: Complete Login and Registration System with PHP & MYSQL', 'url': 'https://www.udemy.com/user-authentication-code-a-simple-login-system-with-php/', 'price': 200, 'num_subscribers': 1448, 'num_reviews': 173, 'num_lectures': 48, 'duration': '7.5 hours'}\n",
      "{'course_title': 'Complete Login and Registration System in PHP and MYSQL', 'url': 'https://www.udemy.com/login-and-registration-system-in-php-and-mysql-step-by-step/', 'price': 200, 'num_subscribers': 4714, 'num_reviews': 149, 'num_lectures': 28, 'duration': '4 hours'}\n",
      "{'course_title': 'Login and Registration from Scratch with PHP and MySQL', 'url': 'https://www.udemy.com/authentication-from-scratch-with-php-and-mysql/', 'price': 20, 'num_subscribers': 1128, 'num_reviews': 77, 'num_lectures': 36, 'duration': '2 hours'}\n",
      "{'course_title': 'PHP & MySQL - Learn The Easy Way. Master PHP & MySQL Quickly', 'url': 'https://www.udemy.com/learning-php-and-mysql-development-the-easy-way/', 'price': 50, 'num_subscribers': 5549, 'num_reviews': 92, 'num_lectures': 143, 'duration': '15.5 hours'}\n",
      "{'course_title': 'Complete Website & CMS in PHP & MySQL From Scratch!', 'url': 'https://www.udemy.com/cms-admin-panel-in-php-mysql/', 'price': 20, 'num_subscribers': 3357, 'num_reviews': 82, 'num_lectures': 48, 'duration': '12.5 hours'}\n",
      "{'course_title': 'Learn E-Commerce Website in PHP & MySQL From Scratch!', 'url': 'https://www.udemy.com/ecommerce-website-in-php-mysqli/', 'price': 0, 'num_subscribers': 29990, 'num_reviews': 1342, 'num_lectures': 87, 'duration': '17.5 hours'}\n",
      "{'course_title': 'JavaScript Complete Guide to learning JavaScript', 'url': 'https://www.udemy.com/javascript-complete-guide-to-learning-javascript/', 'price': 200, 'num_subscribers': 1296, 'num_reviews': 22, 'num_lectures': 72, 'duration': '5.5 hours'}\n"
     ]
    },
    {
     "output_type": "stream",
     "name": "stderr",
     "text": [
      "127.0.0.1 - - [14/Jul/2021 05:02:32] \"GET /get/rcmd/java HTTP/1.1\" 200 -\n"
     ]
    },
    {
     "output_type": "stream",
     "name": "stdout",
     "text": [
      "Learning Dynamic Website Design - PHP MySQL and JavaScript\n",
      "2484\n",
      "{'course_title': 'Learning Dynamic Website Design - PHP MySQL and JavaScript', 'url': 'https://www.udemy.com/learning-dynamic-website-design/', 'price': 50, 'num_subscribers': 47886, 'num_reviews': 285, 'num_lectures': 125, 'duration': '12.5 hours'}\n",
      "{'course_title': 'Projects in PHP and MySQL', 'url': 'https://www.udemy.com/the-complete-web-development-course-learn-by-building-apps/', 'price': 60, 'num_subscribers': 10606, 'num_reviews': 570, 'num_lectures': 88, 'duration': '23 hours'}\n",
      "{'course_title': 'Practical Understanding of PHP and MySQL', 'url': 'https://www.udemy.com/practical-understanding-of-php-and-myqsl-demo/', 'price': 0, 'num_subscribers': 12201, 'num_reviews': 217, 'num_lectures': 24, 'duration': '5.5 hours'}\n",
      "{'course_title': 'PHP MySQL: Learn PHP MySQL with Project', 'url': 'https://www.udemy.com/php-mysql-project-learning/', 'price': 20, 'num_subscribers': 2314, 'num_reviews': 77, 'num_lectures': 25, 'duration': '2 hours'}\n",
      "{'course_title': 'PHP: Complete Login and Registration System with PHP & MYSQL', 'url': 'https://www.udemy.com/user-authentication-code-a-simple-login-system-with-php/', 'price': 200, 'num_subscribers': 1448, 'num_reviews': 173, 'num_lectures': 48, 'duration': '7.5 hours'}\n",
      "{'course_title': 'Complete Login and Registration System in PHP and MYSQL', 'url': 'https://www.udemy.com/login-and-registration-system-in-php-and-mysql-step-by-step/', 'price': 200, 'num_subscribers': 4714, 'num_reviews': 149, 'num_lectures': 28, 'duration': '4 hours'}\n",
      "{'course_title': 'Login and Registration from Scratch with PHP and MySQL', 'url': 'https://www.udemy.com/authentication-from-scratch-with-php-and-mysql/', 'price': 20, 'num_subscribers': 1128, 'num_reviews': 77, 'num_lectures': 36, 'duration': '2 hours'}\n",
      "{'course_title': 'PHP & MySQL - Learn The Easy Way. Master PHP & MySQL Quickly', 'url': 'https://www.udemy.com/learning-php-and-mysql-development-the-easy-way/', 'price': 50, 'num_subscribers': 5549, 'num_reviews': 92, 'num_lectures': 143, 'duration': '15.5 hours'}\n",
      "{'course_title': 'Complete Website & CMS in PHP & MySQL From Scratch!', 'url': 'https://www.udemy.com/cms-admin-panel-in-php-mysql/', 'price': 20, 'num_subscribers': 3357, 'num_reviews': 82, 'num_lectures': 48, 'duration': '12.5 hours'}\n",
      "{'course_title': 'Learn E-Commerce Website in PHP & MySQL From Scratch!', 'url': 'https://www.udemy.com/ecommerce-website-in-php-mysqli/', 'price': 0, 'num_subscribers': 29990, 'num_reviews': 1342, 'num_lectures': 87, 'duration': '17.5 hours'}\n",
      "{'course_title': 'JavaScript Complete Guide to learning JavaScript', 'url': 'https://www.udemy.com/javascript-complete-guide-to-learning-javascript/', 'price': 200, 'num_subscribers': 1296, 'num_reviews': 22, 'num_lectures': 72, 'duration': '5.5 hours'}\n"
     ]
    },
    {
     "output_type": "stream",
     "name": "stderr",
     "text": [
      "127.0.0.1 - - [14/Jul/2021 05:02:33] \"GET /get/rcmd/java HTTP/1.1\" 200 -\n"
     ]
    },
    {
     "output_type": "stream",
     "name": "stdout",
     "text": [
      "Learning Dynamic Website Design - PHP MySQL and JavaScript\n",
      "2484\n",
      "{'course_title': 'Learning Dynamic Website Design - PHP MySQL and JavaScript', 'url': 'https://www.udemy.com/learning-dynamic-website-design/', 'price': 50, 'num_subscribers': 47886, 'num_reviews': 285, 'num_lectures': 125, 'duration': '12.5 hours'}\n",
      "{'course_title': 'Projects in PHP and MySQL', 'url': 'https://www.udemy.com/the-complete-web-development-course-learn-by-building-apps/', 'price': 60, 'num_subscribers': 10606, 'num_reviews': 570, 'num_lectures': 88, 'duration': '23 hours'}\n",
      "{'course_title': 'Practical Understanding of PHP and MySQL', 'url': 'https://www.udemy.com/practical-understanding-of-php-and-myqsl-demo/', 'price': 0, 'num_subscribers': 12201, 'num_reviews': 217, 'num_lectures': 24, 'duration': '5.5 hours'}\n",
      "{'course_title': 'PHP MySQL: Learn PHP MySQL with Project', 'url': 'https://www.udemy.com/php-mysql-project-learning/', 'price': 20, 'num_subscribers': 2314, 'num_reviews': 77, 'num_lectures': 25, 'duration': '2 hours'}\n",
      "{'course_title': 'PHP: Complete Login and Registration System with PHP & MYSQL', 'url': 'https://www.udemy.com/user-authentication-code-a-simple-login-system-with-php/', 'price': 200, 'num_subscribers': 1448, 'num_reviews': 173, 'num_lectures': 48, 'duration': '7.5 hours'}\n",
      "{'course_title': 'Complete Login and Registration System in PHP and MYSQL', 'url': 'https://www.udemy.com/login-and-registration-system-in-php-and-mysql-step-by-step/', 'price': 200, 'num_subscribers': 4714, 'num_reviews': 149, 'num_lectures': 28, 'duration': '4 hours'}\n",
      "{'course_title': 'Login and Registration from Scratch with PHP and MySQL', 'url': 'https://www.udemy.com/authentication-from-scratch-with-php-and-mysql/', 'price': 20, 'num_subscribers': 1128, 'num_reviews': 77, 'num_lectures': 36, 'duration': '2 hours'}\n",
      "{'course_title': 'PHP & MySQL - Learn The Easy Way. Master PHP & MySQL Quickly', 'url': 'https://www.udemy.com/learning-php-and-mysql-development-the-easy-way/', 'price': 50, 'num_subscribers': 5549, 'num_reviews': 92, 'num_lectures': 143, 'duration': '15.5 hours'}\n",
      "{'course_title': 'Complete Website & CMS in PHP & MySQL From Scratch!', 'url': 'https://www.udemy.com/cms-admin-panel-in-php-mysql/', 'price': 20, 'num_subscribers': 3357, 'num_reviews': 82, 'num_lectures': 48, 'duration': '12.5 hours'}\n",
      "{'course_title': 'Learn E-Commerce Website in PHP & MySQL From Scratch!', 'url': 'https://www.udemy.com/ecommerce-website-in-php-mysqli/', 'price': 0, 'num_subscribers': 29990, 'num_reviews': 1342, 'num_lectures': 87, 'duration': '17.5 hours'}\n",
      "{'course_title': 'JavaScript Complete Guide to learning JavaScript', 'url': 'https://www.udemy.com/javascript-complete-guide-to-learning-javascript/', 'price': 200, 'num_subscribers': 1296, 'num_reviews': 22, 'num_lectures': 72, 'duration': '5.5 hours'}\n"
     ]
    },
    {
     "output_type": "stream",
     "name": "stderr",
     "text": [
      "127.0.0.1 - - [14/Jul/2021 05:02:57] \"GET /get/rcmd/java HTTP/1.1\" 200 -\n"
     ]
    },
    {
     "output_type": "stream",
     "name": "stdout",
     "text": [
      "Learning Dynamic Website Design - PHP MySQL and JavaScript\n",
      "2484\n",
      "{'course_title': 'Learning Dynamic Website Design - PHP MySQL and JavaScript', 'url': 'https://www.udemy.com/learning-dynamic-website-design/', 'price': 50, 'num_subscribers': 47886, 'num_reviews': 285, 'num_lectures': 125, 'duration': '12.5 hours'}\n",
      "{'course_title': 'Projects in PHP and MySQL', 'url': 'https://www.udemy.com/the-complete-web-development-course-learn-by-building-apps/', 'price': 60, 'num_subscribers': 10606, 'num_reviews': 570, 'num_lectures': 88, 'duration': '23 hours'}\n",
      "{'course_title': 'Practical Understanding of PHP and MySQL', 'url': 'https://www.udemy.com/practical-understanding-of-php-and-myqsl-demo/', 'price': 0, 'num_subscribers': 12201, 'num_reviews': 217, 'num_lectures': 24, 'duration': '5.5 hours'}\n",
      "{'course_title': 'PHP MySQL: Learn PHP MySQL with Project', 'url': 'https://www.udemy.com/php-mysql-project-learning/', 'price': 20, 'num_subscribers': 2314, 'num_reviews': 77, 'num_lectures': 25, 'duration': '2 hours'}\n",
      "{'course_title': 'PHP: Complete Login and Registration System with PHP & MYSQL', 'url': 'https://www.udemy.com/user-authentication-code-a-simple-login-system-with-php/', 'price': 200, 'num_subscribers': 1448, 'num_reviews': 173, 'num_lectures': 48, 'duration': '7.5 hours'}\n",
      "{'course_title': 'Complete Login and Registration System in PHP and MYSQL', 'url': 'https://www.udemy.com/login-and-registration-system-in-php-and-mysql-step-by-step/', 'price': 200, 'num_subscribers': 4714, 'num_reviews': 149, 'num_lectures': 28, 'duration': '4 hours'}\n",
      "{'course_title': 'Login and Registration from Scratch with PHP and MySQL', 'url': 'https://www.udemy.com/authentication-from-scratch-with-php-and-mysql/', 'price': 20, 'num_subscribers': 1128, 'num_reviews': 77, 'num_lectures': 36, 'duration': '2 hours'}\n",
      "{'course_title': 'PHP & MySQL - Learn The Easy Way. Master PHP & MySQL Quickly', 'url': 'https://www.udemy.com/learning-php-and-mysql-development-the-easy-way/', 'price': 50, 'num_subscribers': 5549, 'num_reviews': 92, 'num_lectures': 143, 'duration': '15.5 hours'}\n",
      "{'course_title': 'Complete Website & CMS in PHP & MySQL From Scratch!', 'url': 'https://www.udemy.com/cms-admin-panel-in-php-mysql/', 'price': 20, 'num_subscribers': 3357, 'num_reviews': 82, 'num_lectures': 48, 'duration': '12.5 hours'}\n",
      "{'course_title': 'Learn E-Commerce Website in PHP & MySQL From Scratch!', 'url': 'https://www.udemy.com/ecommerce-website-in-php-mysqli/', 'price': 0, 'num_subscribers': 29990, 'num_reviews': 1342, 'num_lectures': 87, 'duration': '17.5 hours'}\n",
      "{'course_title': 'JavaScript Complete Guide to learning JavaScript', 'url': 'https://www.udemy.com/javascript-complete-guide-to-learning-javascript/', 'price': 200, 'num_subscribers': 1296, 'num_reviews': 22, 'num_lectures': 72, 'duration': '5.5 hours'}\n"
     ]
    },
    {
     "output_type": "stream",
     "name": "stderr",
     "text": [
      "127.0.0.1 - - [14/Jul/2021 05:03:34] \"GET /get/rcmd/java HTTP/1.1\" 200 -\n"
     ]
    },
    {
     "output_type": "stream",
     "name": "stdout",
     "text": [
      "Learning Dynamic Website Design - PHP MySQL and JavaScript\n",
      "2484\n",
      "{'course_title': 'Learning Dynamic Website Design - PHP MySQL and JavaScript', 'url': 'https://www.udemy.com/learning-dynamic-website-design/', 'price': 50, 'num_subscribers': 47886, 'num_reviews': 285, 'num_lectures': 125, 'duration': '12.5 hours'}\n",
      "{'course_title': 'Projects in PHP and MySQL', 'url': 'https://www.udemy.com/the-complete-web-development-course-learn-by-building-apps/', 'price': 60, 'num_subscribers': 10606, 'num_reviews': 570, 'num_lectures': 88, 'duration': '23 hours'}\n",
      "{'course_title': 'Practical Understanding of PHP and MySQL', 'url': 'https://www.udemy.com/practical-understanding-of-php-and-myqsl-demo/', 'price': 0, 'num_subscribers': 12201, 'num_reviews': 217, 'num_lectures': 24, 'duration': '5.5 hours'}\n",
      "{'course_title': 'PHP MySQL: Learn PHP MySQL with Project', 'url': 'https://www.udemy.com/php-mysql-project-learning/', 'price': 20, 'num_subscribers': 2314, 'num_reviews': 77, 'num_lectures': 25, 'duration': '2 hours'}\n",
      "{'course_title': 'PHP: Complete Login and Registration System with PHP & MYSQL', 'url': 'https://www.udemy.com/user-authentication-code-a-simple-login-system-with-php/', 'price': 200, 'num_subscribers': 1448, 'num_reviews': 173, 'num_lectures': 48, 'duration': '7.5 hours'}\n",
      "{'course_title': 'Complete Login and Registration System in PHP and MYSQL', 'url': 'https://www.udemy.com/login-and-registration-system-in-php-and-mysql-step-by-step/', 'price': 200, 'num_subscribers': 4714, 'num_reviews': 149, 'num_lectures': 28, 'duration': '4 hours'}\n",
      "{'course_title': 'Login and Registration from Scratch with PHP and MySQL', 'url': 'https://www.udemy.com/authentication-from-scratch-with-php-and-mysql/', 'price': 20, 'num_subscribers': 1128, 'num_reviews': 77, 'num_lectures': 36, 'duration': '2 hours'}\n",
      "{'course_title': 'PHP & MySQL - Learn The Easy Way. Master PHP & MySQL Quickly', 'url': 'https://www.udemy.com/learning-php-and-mysql-development-the-easy-way/', 'price': 50, 'num_subscribers': 5549, 'num_reviews': 92, 'num_lectures': 143, 'duration': '15.5 hours'}\n",
      "{'course_title': 'Complete Website & CMS in PHP & MySQL From Scratch!', 'url': 'https://www.udemy.com/cms-admin-panel-in-php-mysql/', 'price': 20, 'num_subscribers': 3357, 'num_reviews': 82, 'num_lectures': 48, 'duration': '12.5 hours'}\n",
      "{'course_title': 'Learn E-Commerce Website in PHP & MySQL From Scratch!', 'url': 'https://www.udemy.com/ecommerce-website-in-php-mysqli/', 'price': 0, 'num_subscribers': 29990, 'num_reviews': 1342, 'num_lectures': 87, 'duration': '17.5 hours'}\n",
      "{'course_title': 'JavaScript Complete Guide to learning JavaScript', 'url': 'https://www.udemy.com/javascript-complete-guide-to-learning-javascript/', 'price': 200, 'num_subscribers': 1296, 'num_reviews': 22, 'num_lectures': 72, 'duration': '5.5 hours'}\n"
     ]
    },
    {
     "output_type": "stream",
     "name": "stderr",
     "text": [
      "127.0.0.1 - - [14/Jul/2021 05:03:48] \"GET /get/rcmd/python HTTP/1.1\" 200 -\n"
     ]
    },
    {
     "output_type": "stream",
     "name": "stdout",
     "text": [
      "Python Algo Trading: Sentiment Trading with News\n",
      "14\n",
      "{'course_title': 'Python Algo Trading: Sentiment Trading with News', 'url': 'https://www.udemy.com/hedge-fund-strategy-trading-with-sentiment-analysis/', 'price': 200, 'num_subscribers': 294, 'num_reviews': 19, 'num_lectures': 42, 'duration': '7 hours'}\n",
      "{'course_title': 'Python Algo Trading: FX Trading with Oanda', 'url': 'https://www.udemy.com/python-algo-trading-fx-trading-with-oanda/', 'price': 200, 'num_subscribers': 453, 'num_reviews': 42, 'num_lectures': 33, 'duration': '3 hours'}\n",
      "{'course_title': 'Python Algo Stock Trading: Automate Your Trading!', 'url': 'https://www.udemy.com/algorithmic-stock-trading-bootcamp-automate-your-trading/', 'price': 95, 'num_subscribers': 1165, 'num_reviews': 21, 'num_lectures': 41, 'duration': '2.5 hours'}\n",
      "{'course_title': 'Quantitative Trading Analysis with Python', 'url': 'https://www.udemy.com/quantitative-trading-analysis-with-python/', 'price': 50, 'num_subscribers': 256, 'num_reviews': 17, 'num_lectures': 49, 'duration': '5.5 hours'}\n",
      "{'course_title': 'Black Algo Trading: Build Your Trading Robot', 'url': 'https://www.udemy.com/build-your-trading-robot/', 'price': 200, 'num_subscribers': 20195, 'num_reviews': 1113, 'num_lectures': 227, 'duration': '16 hours'}\n",
      "{'course_title': 'Trading: High-ROI Trading', 'url': 'https://www.udemy.com/the-high-roi-trading-video-course/', 'price': 190, 'num_subscribers': 126, 'num_reviews': 20, 'num_lectures': 47, 'duration': '12.5 hours'}\n",
      "{'course_title': 'Forex Trading with Fixed \\'Risk through Options Trading\"', 'url': 'https://www.udemy.com/forexoptions/', 'price': 200, 'num_subscribers': 611, 'num_reviews': 4, 'num_lectures': 26, 'duration': '1 hour'}\n",
      "{'course_title': 'TRADING PSYCHOLOGY: Trading Mindset Mastery', 'url': 'https://www.udemy.com/trading-psychology-trading-mindset-mastery/', 'price': 120, 'num_subscribers': 975, 'num_reviews': 23, 'num_lectures': 23, 'duration': '1 hour'}\n",
      "{'course_title': 'Forex Trading vs Option Trading', 'url': 'https://www.udemy.com/trading-excellence/', 'price': 95, 'num_subscribers': 1776, 'num_reviews': 14, 'num_lectures': 29, 'duration': '2.5 hours'}\n",
      "{'course_title': 'Volatility Trading Analysis with R', 'url': 'https://www.udemy.com/volatility-trading-analysis-with-r/', 'price': 50, 'num_subscribers': 190, 'num_reviews': 13, 'num_lectures': 45, 'duration': '6 hours'}\n",
      "{'course_title': 'Forex: Economic News Trading', 'url': 'https://www.udemy.com/forex-economic-news-trading/', 'price': 25, 'num_subscribers': 42, 'num_reviews': 14, 'num_lectures': 11, 'duration': '41 mins'}\n",
      "Python Algo Trading: Sentiment Trading with News\n",
      "14\n",
      "{'course_title': 'Python Algo Trading: Sentiment Trading with News', 'url': 'https://www.udemy.com/hedge-fund-strategy-trading-with-sentiment-analysis/', 'price': 200, 'num_subscribers': 294, 'num_reviews': 19, 'num_lectures': 42, 'duration': '7 hours'}\n",
      "{'course_title': 'Python Algo Trading: FX Trading with Oanda', 'url': 'https://www.udemy.com/python-algo-trading-fx-trading-with-oanda/', 'price': 200, 'num_subscribers': 453, 'num_reviews': 42, 'num_lectures': 33, 'duration': '3 hours'}\n",
      "{'course_title': 'Python Algo Stock Trading: Automate Your Trading!', 'url': 'https://www.udemy.com/algorithmic-stock-trading-bootcamp-automate-your-trading/', 'price': 95, 'num_subscribers': 1165, 'num_reviews': 21, 'num_lectures': 41, 'duration': '2.5 hours'}\n",
      "{'course_title': 'Quantitative Trading Analysis with Python', 'url': 'https://www.udemy.com/quantitative-trading-analysis-with-python/', 'price': 50, 'num_subscribers': 256, 'num_reviews': 17, 'num_lectures': 49, 'duration': '5.5 hours'}\n",
      "{'course_title': 'Black Algo Trading: Build Your Trading Robot', 'url': 'https://www.udemy.com/build-your-trading-robot/', 'price': 200, 'num_subscribers': 20195, 'num_reviews': 1113, 'num_lectures': 227, 'duration': '16 hours'}\n",
      "{'course_title': 'Trading: High-ROI Trading', 'url': 'https://www.udemy.com/the-high-roi-trading-video-course/', 'price': 190, 'num_subscribers': 126, 'num_reviews': 20, 'num_lectures': 47, 'duration': '12.5 hours'}\n",
      "{'course_title': 'Forex Trading with Fixed \\'Risk through Options Trading\"', 'url': 'https://www.udemy.com/forexoptions/', 'price': 200, 'num_subscribers': 611, 'num_reviews': 4, 'num_lectures': 26, 'duration': '1 hour'}\n",
      "{'course_title': 'TRADING PSYCHOLOGY: Trading Mindset Mastery', 'url': 'https://www.udemy.com/trading-psychology-trading-mindset-mastery/', 'price': 120, 'num_subscribers': 975, 'num_reviews': 23, 'num_lectures': 23, 'duration': '1 hour'}\n",
      "{'course_title': 'Forex Trading vs Option Trading', 'url': 'https://www.udemy.com/trading-excellence/', 'price': 95, 'num_subscribers': 1776, 'num_reviews': 14, 'num_lectures': 29, 'duration': '2.5 hours'}\n",
      "{'course_title': 'Volatility Trading Analysis with R', 'url': 'https://www.udemy.com/volatility-trading-analysis-with-r/', 'price': 50, 'num_subscribers': 190, 'num_reviews': 13, 'num_lectures': 45, 'duration': '6 hours'}\n",
      "{'course_title': 'Forex: Economic News Trading', 'url': 'https://www.udemy.com/forex-economic-news-trading/', 'price': 25, 'num_subscribers': 42, 'num_reviews': 14, 'num_lectures': 11, 'duration': '41 mins'}"
     ]
    },
    {
     "output_type": "stream",
     "name": "stderr",
     "text": [
      "127.0.0.1 - - [14/Jul/2021 05:03:48] \"GET /get/rcmd/python HTTP/1.1\" 200 -\n"
     ]
    },
    {
     "output_type": "stream",
     "name": "stdout",
     "text": [
      "\n"
     ]
    },
    {
     "output_type": "stream",
     "name": "stderr",
     "text": [
      "127.0.0.1 - - [14/Jul/2021 05:03:55] \"GET /get/rcmd/java HTTP/1.1\" 200 -\n"
     ]
    },
    {
     "output_type": "stream",
     "name": "stdout",
     "text": [
      "Learning Dynamic Website Design - PHP MySQL and JavaScript\n",
      "2484\n",
      "{'course_title': 'Learning Dynamic Website Design - PHP MySQL and JavaScript', 'url': 'https://www.udemy.com/learning-dynamic-website-design/', 'price': 50, 'num_subscribers': 47886, 'num_reviews': 285, 'num_lectures': 125, 'duration': '12.5 hours'}\n",
      "{'course_title': 'Projects in PHP and MySQL', 'url': 'https://www.udemy.com/the-complete-web-development-course-learn-by-building-apps/', 'price': 60, 'num_subscribers': 10606, 'num_reviews': 570, 'num_lectures': 88, 'duration': '23 hours'}\n",
      "{'course_title': 'Practical Understanding of PHP and MySQL', 'url': 'https://www.udemy.com/practical-understanding-of-php-and-myqsl-demo/', 'price': 0, 'num_subscribers': 12201, 'num_reviews': 217, 'num_lectures': 24, 'duration': '5.5 hours'}\n",
      "{'course_title': 'PHP MySQL: Learn PHP MySQL with Project', 'url': 'https://www.udemy.com/php-mysql-project-learning/', 'price': 20, 'num_subscribers': 2314, 'num_reviews': 77, 'num_lectures': 25, 'duration': '2 hours'}\n",
      "{'course_title': 'PHP: Complete Login and Registration System with PHP & MYSQL', 'url': 'https://www.udemy.com/user-authentication-code-a-simple-login-system-with-php/', 'price': 200, 'num_subscribers': 1448, 'num_reviews': 173, 'num_lectures': 48, 'duration': '7.5 hours'}\n",
      "{'course_title': 'Complete Login and Registration System in PHP and MYSQL', 'url': 'https://www.udemy.com/login-and-registration-system-in-php-and-mysql-step-by-step/', 'price': 200, 'num_subscribers': 4714, 'num_reviews': 149, 'num_lectures': 28, 'duration': '4 hours'}\n",
      "{'course_title': 'Login and Registration from Scratch with PHP and MySQL', 'url': 'https://www.udemy.com/authentication-from-scratch-with-php-and-mysql/', 'price': 20, 'num_subscribers': 1128, 'num_reviews': 77, 'num_lectures': 36, 'duration': '2 hours'}\n",
      "{'course_title': 'PHP & MySQL - Learn The Easy Way. Master PHP & MySQL Quickly', 'url': 'https://www.udemy.com/learning-php-and-mysql-development-the-easy-way/', 'price': 50, 'num_subscribers': 5549, 'num_reviews': 92, 'num_lectures': 143, 'duration': '15.5 hours'}\n",
      "{'course_title': 'Complete Website & CMS in PHP & MySQL From Scratch!', 'url': 'https://www.udemy.com/cms-admin-panel-in-php-mysql/', 'price': 20, 'num_subscribers': 3357, 'num_reviews': 82, 'num_lectures': 48, 'duration': '12.5 hours'}\n",
      "{'course_title': 'Learn E-Commerce Website in PHP & MySQL From Scratch!', 'url': 'https://www.udemy.com/ecommerce-website-in-php-mysqli/', 'price': 0, 'num_subscribers': 29990, 'num_reviews': 1342, 'num_lectures': 87, 'duration': '17.5 hours'}\n",
      "{'course_title': 'JavaScript Complete Guide to learning JavaScript', 'url': 'https://www.udemy.com/javascript-complete-guide-to-learning-javascript/', 'price': 200, 'num_subscribers': 1296, 'num_reviews': 22, 'num_lectures': 72, 'duration': '5.5 hours'}\n"
     ]
    },
    {
     "output_type": "stream",
     "name": "stderr",
     "text": [
      "127.0.0.1 - - [14/Jul/2021 05:04:33] \"GET /get/rcmd/java HTTP/1.1\" 200 -\n"
     ]
    },
    {
     "output_type": "stream",
     "name": "stdout",
     "text": [
      "Learning Dynamic Website Design - PHP MySQL and JavaScript\n",
      "2484\n",
      "{'course_title': 'Learning Dynamic Website Design - PHP MySQL and JavaScript', 'url': 'https://www.udemy.com/learning-dynamic-website-design/', 'price': 50, 'num_subscribers': 47886, 'num_reviews': 285, 'num_lectures': 125, 'duration': '12.5 hours'}\n",
      "{'course_title': 'Projects in PHP and MySQL', 'url': 'https://www.udemy.com/the-complete-web-development-course-learn-by-building-apps/', 'price': 60, 'num_subscribers': 10606, 'num_reviews': 570, 'num_lectures': 88, 'duration': '23 hours'}\n",
      "{'course_title': 'Practical Understanding of PHP and MySQL', 'url': 'https://www.udemy.com/practical-understanding-of-php-and-myqsl-demo/', 'price': 0, 'num_subscribers': 12201, 'num_reviews': 217, 'num_lectures': 24, 'duration': '5.5 hours'}\n",
      "{'course_title': 'PHP MySQL: Learn PHP MySQL with Project', 'url': 'https://www.udemy.com/php-mysql-project-learning/', 'price': 20, 'num_subscribers': 2314, 'num_reviews': 77, 'num_lectures': 25, 'duration': '2 hours'}\n",
      "{'course_title': 'PHP: Complete Login and Registration System with PHP & MYSQL', 'url': 'https://www.udemy.com/user-authentication-code-a-simple-login-system-with-php/', 'price': 200, 'num_subscribers': 1448, 'num_reviews': 173, 'num_lectures': 48, 'duration': '7.5 hours'}\n",
      "{'course_title': 'Complete Login and Registration System in PHP and MYSQL', 'url': 'https://www.udemy.com/login-and-registration-system-in-php-and-mysql-step-by-step/', 'price': 200, 'num_subscribers': 4714, 'num_reviews': 149, 'num_lectures': 28, 'duration': '4 hours'}\n",
      "{'course_title': 'Login and Registration from Scratch with PHP and MySQL', 'url': 'https://www.udemy.com/authentication-from-scratch-with-php-and-mysql/', 'price': 20, 'num_subscribers': 1128, 'num_reviews': 77, 'num_lectures': 36, 'duration': '2 hours'}\n",
      "{'course_title': 'PHP & MySQL - Learn The Easy Way. Master PHP & MySQL Quickly', 'url': 'https://www.udemy.com/learning-php-and-mysql-development-the-easy-way/', 'price': 50, 'num_subscribers': 5549, 'num_reviews': 92, 'num_lectures': 143, 'duration': '15.5 hours'}\n",
      "{'course_title': 'Complete Website & CMS in PHP & MySQL From Scratch!', 'url': 'https://www.udemy.com/cms-admin-panel-in-php-mysql/', 'price': 20, 'num_subscribers': 3357, 'num_reviews': 82, 'num_lectures': 48, 'duration': '12.5 hours'}\n",
      "{'course_title': 'Learn E-Commerce Website in PHP & MySQL From Scratch!', 'url': 'https://www.udemy.com/ecommerce-website-in-php-mysqli/', 'price': 0, 'num_subscribers': 29990, 'num_reviews': 1342, 'num_lectures': 87, 'duration': '17.5 hours'}\n",
      "{'course_title': 'JavaScript Complete Guide to learning JavaScript', 'url': 'https://www.udemy.com/javascript-complete-guide-to-learning-javascript/', 'price': 200, 'num_subscribers': 1296, 'num_reviews': 22, 'num_lectures': 72, 'duration': '5.5 hours'}\n"
     ]
    },
    {
     "output_type": "stream",
     "name": "stderr",
     "text": [
      "127.0.0.1 - - [14/Jul/2021 05:04:52] \"GET /get/rcmd/java HTTP/1.1\" 200 -\n"
     ]
    },
    {
     "output_type": "stream",
     "name": "stdout",
     "text": [
      "Learning Dynamic Website Design - PHP MySQL and JavaScript\n",
      "2484\n",
      "{'course_title': 'Learning Dynamic Website Design - PHP MySQL and JavaScript', 'url': 'https://www.udemy.com/learning-dynamic-website-design/', 'price': 50, 'num_subscribers': 47886, 'num_reviews': 285, 'num_lectures': 125, 'duration': '12.5 hours'}\n",
      "{'course_title': 'Projects in PHP and MySQL', 'url': 'https://www.udemy.com/the-complete-web-development-course-learn-by-building-apps/', 'price': 60, 'num_subscribers': 10606, 'num_reviews': 570, 'num_lectures': 88, 'duration': '23 hours'}\n",
      "{'course_title': 'Practical Understanding of PHP and MySQL', 'url': 'https://www.udemy.com/practical-understanding-of-php-and-myqsl-demo/', 'price': 0, 'num_subscribers': 12201, 'num_reviews': 217, 'num_lectures': 24, 'duration': '5.5 hours'}\n",
      "{'course_title': 'PHP MySQL: Learn PHP MySQL with Project', 'url': 'https://www.udemy.com/php-mysql-project-learning/', 'price': 20, 'num_subscribers': 2314, 'num_reviews': 77, 'num_lectures': 25, 'duration': '2 hours'}\n",
      "{'course_title': 'PHP: Complete Login and Registration System with PHP & MYSQL', 'url': 'https://www.udemy.com/user-authentication-code-a-simple-login-system-with-php/', 'price': 200, 'num_subscribers': 1448, 'num_reviews': 173, 'num_lectures': 48, 'duration': '7.5 hours'}\n",
      "{'course_title': 'Complete Login and Registration System in PHP and MYSQL', 'url': 'https://www.udemy.com/login-and-registration-system-in-php-and-mysql-step-by-step/', 'price': 200, 'num_subscribers': 4714, 'num_reviews': 149, 'num_lectures': 28, 'duration': '4 hours'}\n",
      "{'course_title': 'Login and Registration from Scratch with PHP and MySQL', 'url': 'https://www.udemy.com/authentication-from-scratch-with-php-and-mysql/', 'price': 20, 'num_subscribers': 1128, 'num_reviews': 77, 'num_lectures': 36, 'duration': '2 hours'}\n",
      "{'course_title': 'PHP & MySQL - Learn The Easy Way. Master PHP & MySQL Quickly', 'url': 'https://www.udemy.com/learning-php-and-mysql-development-the-easy-way/', 'price': 50, 'num_subscribers': 5549, 'num_reviews': 92, 'num_lectures': 143, 'duration': '15.5 hours'}\n",
      "{'course_title': 'Complete Website & CMS in PHP & MySQL From Scratch!', 'url': 'https://www.udemy.com/cms-admin-panel-in-php-mysql/', 'price': 20, 'num_subscribers': 3357, 'num_reviews': 82, 'num_lectures': 48, 'duration': '12.5 hours'}\n",
      "{'course_title': 'Learn E-Commerce Website in PHP & MySQL From Scratch!', 'url': 'https://www.udemy.com/ecommerce-website-in-php-mysqli/', 'price': 0, 'num_subscribers': 29990, 'num_reviews': 1342, 'num_lectures': 87, 'duration': '17.5 hours'}\n",
      "{'course_title': 'JavaScript Complete Guide to learning JavaScript', 'url': 'https://www.udemy.com/javascript-complete-guide-to-learning-javascript/', 'price': 200, 'num_subscribers': 1296, 'num_reviews': 22, 'num_lectures': 72, 'duration': '5.5 hours'}\n"
     ]
    },
    {
     "output_type": "stream",
     "name": "stderr",
     "text": [
      "127.0.0.1 - - [14/Jul/2021 05:05:23] \"GET /get/rcmd/java HTTP/1.1\" 200 -\n"
     ]
    },
    {
     "output_type": "stream",
     "name": "stdout",
     "text": [
      "Learning Dynamic Website Design - PHP MySQL and JavaScript\n",
      "2484\n",
      "{'course_title': 'Learning Dynamic Website Design - PHP MySQL and JavaScript', 'url': 'https://www.udemy.com/learning-dynamic-website-design/', 'price': 50, 'num_subscribers': 47886, 'num_reviews': 285, 'num_lectures': 125, 'duration': '12.5 hours'}\n",
      "{'course_title': 'Projects in PHP and MySQL', 'url': 'https://www.udemy.com/the-complete-web-development-course-learn-by-building-apps/', 'price': 60, 'num_subscribers': 10606, 'num_reviews': 570, 'num_lectures': 88, 'duration': '23 hours'}\n",
      "{'course_title': 'Practical Understanding of PHP and MySQL', 'url': 'https://www.udemy.com/practical-understanding-of-php-and-myqsl-demo/', 'price': 0, 'num_subscribers': 12201, 'num_reviews': 217, 'num_lectures': 24, 'duration': '5.5 hours'}\n",
      "{'course_title': 'PHP MySQL: Learn PHP MySQL with Project', 'url': 'https://www.udemy.com/php-mysql-project-learning/', 'price': 20, 'num_subscribers': 2314, 'num_reviews': 77, 'num_lectures': 25, 'duration': '2 hours'}\n",
      "{'course_title': 'PHP: Complete Login and Registration System with PHP & MYSQL', 'url': 'https://www.udemy.com/user-authentication-code-a-simple-login-system-with-php/', 'price': 200, 'num_subscribers': 1448, 'num_reviews': 173, 'num_lectures': 48, 'duration': '7.5 hours'}\n",
      "{'course_title': 'Complete Login and Registration System in PHP and MYSQL', 'url': 'https://www.udemy.com/login-and-registration-system-in-php-and-mysql-step-by-step/', 'price': 200, 'num_subscribers': 4714, 'num_reviews': 149, 'num_lectures': 28, 'duration': '4 hours'}\n",
      "{'course_title': 'Login and Registration from Scratch with PHP and MySQL', 'url': 'https://www.udemy.com/authentication-from-scratch-with-php-and-mysql/', 'price': 20, 'num_subscribers': 1128, 'num_reviews': 77, 'num_lectures': 36, 'duration': '2 hours'}\n",
      "{'course_title': 'PHP & MySQL - Learn The Easy Way. Master PHP & MySQL Quickly', 'url': 'https://www.udemy.com/learning-php-and-mysql-development-the-easy-way/', 'price': 50, 'num_subscribers': 5549, 'num_reviews': 92, 'num_lectures': 143, 'duration': '15.5 hours'}\n",
      "{'course_title': 'Complete Website & CMS in PHP & MySQL From Scratch!', 'url': 'https://www.udemy.com/cms-admin-panel-in-php-mysql/', 'price': 20, 'num_subscribers': 3357, 'num_reviews': 82, 'num_lectures': 48, 'duration': '12.5 hours'}\n",
      "{'course_title': 'Learn E-Commerce Website in PHP & MySQL From Scratch!', 'url': 'https://www.udemy.com/ecommerce-website-in-php-mysqli/', 'price': 0, 'num_subscribers': 29990, 'num_reviews': 1342, 'num_lectures': 87, 'duration': '17.5 hours'}\n",
      "{'course_title': 'JavaScript Complete Guide to learning JavaScript', 'url': 'https://www.udemy.com/javascript-complete-guide-to-learning-javascript/', 'price': 200, 'num_subscribers': 1296, 'num_reviews': 22, 'num_lectures': 72, 'duration': '5.5 hours'}\n"
     ]
    },
    {
     "output_type": "stream",
     "name": "stderr",
     "text": [
      "127.0.0.1 - - [14/Jul/2021 05:06:13] \"GET /get/rcmd/java HTTP/1.1\" 200 -\n"
     ]
    },
    {
     "output_type": "stream",
     "name": "stdout",
     "text": [
      "Learning Dynamic Website Design - PHP MySQL and JavaScript\n",
      "2484\n",
      "{'course_title': 'Learning Dynamic Website Design - PHP MySQL and JavaScript', 'url': 'https://www.udemy.com/learning-dynamic-website-design/', 'price': 50, 'num_subscribers': 47886, 'num_reviews': 285, 'num_lectures': 125, 'duration': '12.5 hours'}\n",
      "{'course_title': 'Projects in PHP and MySQL', 'url': 'https://www.udemy.com/the-complete-web-development-course-learn-by-building-apps/', 'price': 60, 'num_subscribers': 10606, 'num_reviews': 570, 'num_lectures': 88, 'duration': '23 hours'}\n",
      "{'course_title': 'Practical Understanding of PHP and MySQL', 'url': 'https://www.udemy.com/practical-understanding-of-php-and-myqsl-demo/', 'price': 0, 'num_subscribers': 12201, 'num_reviews': 217, 'num_lectures': 24, 'duration': '5.5 hours'}\n",
      "{'course_title': 'PHP MySQL: Learn PHP MySQL with Project', 'url': 'https://www.udemy.com/php-mysql-project-learning/', 'price': 20, 'num_subscribers': 2314, 'num_reviews': 77, 'num_lectures': 25, 'duration': '2 hours'}\n",
      "{'course_title': 'PHP: Complete Login and Registration System with PHP & MYSQL', 'url': 'https://www.udemy.com/user-authentication-code-a-simple-login-system-with-php/', 'price': 200, 'num_subscribers': 1448, 'num_reviews': 173, 'num_lectures': 48, 'duration': '7.5 hours'}\n",
      "{'course_title': 'Complete Login and Registration System in PHP and MYSQL', 'url': 'https://www.udemy.com/login-and-registration-system-in-php-and-mysql-step-by-step/', 'price': 200, 'num_subscribers': 4714, 'num_reviews': 149, 'num_lectures': 28, 'duration': '4 hours'}\n",
      "{'course_title': 'Login and Registration from Scratch with PHP and MySQL', 'url': 'https://www.udemy.com/authentication-from-scratch-with-php-and-mysql/', 'price': 20, 'num_subscribers': 1128, 'num_reviews': 77, 'num_lectures': 36, 'duration': '2 hours'}\n",
      "{'course_title': 'PHP & MySQL - Learn The Easy Way. Master PHP & MySQL Quickly', 'url': 'https://www.udemy.com/learning-php-and-mysql-development-the-easy-way/', 'price': 50, 'num_subscribers': 5549, 'num_reviews': 92, 'num_lectures': 143, 'duration': '15.5 hours'}\n",
      "{'course_title': 'Complete Website & CMS in PHP & MySQL From Scratch!', 'url': 'https://www.udemy.com/cms-admin-panel-in-php-mysql/', 'price': 20, 'num_subscribers': 3357, 'num_reviews': 82, 'num_lectures': 48, 'duration': '12.5 hours'}\n",
      "{'course_title': 'Learn E-Commerce Website in PHP & MySQL From Scratch!', 'url': 'https://www.udemy.com/ecommerce-website-in-php-mysqli/', 'price': 0, 'num_subscribers': 29990, 'num_reviews': 1342, 'num_lectures': 87, 'duration': '17.5 hours'}\n",
      "{'course_title': 'JavaScript Complete Guide to learning JavaScript', 'url': 'https://www.udemy.com/javascript-complete-guide-to-learning-javascript/', 'price': 200, 'num_subscribers': 1296, 'num_reviews': 22, 'num_lectures': 72, 'duration': '5.5 hours'}\n"
     ]
    },
    {
     "output_type": "stream",
     "name": "stderr",
     "text": [
      "127.0.0.1 - - [14/Jul/2021 05:06:37] \"GET /get/rcmd/java HTTP/1.1\" 200 -\n"
     ]
    },
    {
     "output_type": "stream",
     "name": "stdout",
     "text": [
      "Learning Dynamic Website Design - PHP MySQL and JavaScript\n",
      "2484\n",
      "{'course_title': 'Learning Dynamic Website Design - PHP MySQL and JavaScript', 'url': 'https://www.udemy.com/learning-dynamic-website-design/', 'price': 50, 'num_subscribers': 47886, 'num_reviews': 285, 'num_lectures': 125, 'duration': '12.5 hours'}\n",
      "{'course_title': 'Projects in PHP and MySQL', 'url': 'https://www.udemy.com/the-complete-web-development-course-learn-by-building-apps/', 'price': 60, 'num_subscribers': 10606, 'num_reviews': 570, 'num_lectures': 88, 'duration': '23 hours'}\n",
      "{'course_title': 'Practical Understanding of PHP and MySQL', 'url': 'https://www.udemy.com/practical-understanding-of-php-and-myqsl-demo/', 'price': 0, 'num_subscribers': 12201, 'num_reviews': 217, 'num_lectures': 24, 'duration': '5.5 hours'}\n",
      "{'course_title': 'PHP MySQL: Learn PHP MySQL with Project', 'url': 'https://www.udemy.com/php-mysql-project-learning/', 'price': 20, 'num_subscribers': 2314, 'num_reviews': 77, 'num_lectures': 25, 'duration': '2 hours'}\n",
      "{'course_title': 'PHP: Complete Login and Registration System with PHP & MYSQL', 'url': 'https://www.udemy.com/user-authentication-code-a-simple-login-system-with-php/', 'price': 200, 'num_subscribers': 1448, 'num_reviews': 173, 'num_lectures': 48, 'duration': '7.5 hours'}\n",
      "{'course_title': 'Complete Login and Registration System in PHP and MYSQL', 'url': 'https://www.udemy.com/login-and-registration-system-in-php-and-mysql-step-by-step/', 'price': 200, 'num_subscribers': 4714, 'num_reviews': 149, 'num_lectures': 28, 'duration': '4 hours'}\n",
      "{'course_title': 'Login and Registration from Scratch with PHP and MySQL', 'url': 'https://www.udemy.com/authentication-from-scratch-with-php-and-mysql/', 'price': 20, 'num_subscribers': 1128, 'num_reviews': 77, 'num_lectures': 36, 'duration': '2 hours'}\n",
      "{'course_title': 'PHP & MySQL - Learn The Easy Way. Master PHP & MySQL Quickly', 'url': 'https://www.udemy.com/learning-php-and-mysql-development-the-easy-way/', 'price': 50, 'num_subscribers': 5549, 'num_reviews': 92, 'num_lectures': 143, 'duration': '15.5 hours'}\n",
      "{'course_title': 'Complete Website & CMS in PHP & MySQL From Scratch!', 'url': 'https://www.udemy.com/cms-admin-panel-in-php-mysql/', 'price': 20, 'num_subscribers': 3357, 'num_reviews': 82, 'num_lectures': 48, 'duration': '12.5 hours'}\n",
      "{'course_title': 'Learn E-Commerce Website in PHP & MySQL From Scratch!', 'url': 'https://www.udemy.com/ecommerce-website-in-php-mysqli/', 'price': 0, 'num_subscribers': 29990, 'num_reviews': 1342, 'num_lectures': 87, 'duration': '17.5 hours'}\n",
      "{'course_title': 'JavaScript Complete Guide to learning JavaScript', 'url': 'https://www.udemy.com/javascript-complete-guide-to-learning-javascript/', 'price': 200, 'num_subscribers': 1296, 'num_reviews': 22, 'num_lectures': 72, 'duration': '5.5 hours'}\n"
     ]
    },
    {
     "output_type": "stream",
     "name": "stderr",
     "text": [
      "127.0.0.1 - - [14/Jul/2021 05:07:10] \"GET /get/rcmd/java HTTP/1.1\" 200 -\n"
     ]
    },
    {
     "output_type": "stream",
     "name": "stdout",
     "text": [
      "Learning Dynamic Website Design - PHP MySQL and JavaScript\n",
      "2484\n",
      "{'course_title': 'Learning Dynamic Website Design - PHP MySQL and JavaScript', 'url': 'https://www.udemy.com/learning-dynamic-website-design/', 'price': 50, 'num_subscribers': 47886, 'num_reviews': 285, 'num_lectures': 125, 'duration': '12.5 hours'}\n",
      "{'course_title': 'Projects in PHP and MySQL', 'url': 'https://www.udemy.com/the-complete-web-development-course-learn-by-building-apps/', 'price': 60, 'num_subscribers': 10606, 'num_reviews': 570, 'num_lectures': 88, 'duration': '23 hours'}\n",
      "{'course_title': 'Practical Understanding of PHP and MySQL', 'url': 'https://www.udemy.com/practical-understanding-of-php-and-myqsl-demo/', 'price': 0, 'num_subscribers': 12201, 'num_reviews': 217, 'num_lectures': 24, 'duration': '5.5 hours'}\n",
      "{'course_title': 'PHP MySQL: Learn PHP MySQL with Project', 'url': 'https://www.udemy.com/php-mysql-project-learning/', 'price': 20, 'num_subscribers': 2314, 'num_reviews': 77, 'num_lectures': 25, 'duration': '2 hours'}\n",
      "{'course_title': 'PHP: Complete Login and Registration System with PHP & MYSQL', 'url': 'https://www.udemy.com/user-authentication-code-a-simple-login-system-with-php/', 'price': 200, 'num_subscribers': 1448, 'num_reviews': 173, 'num_lectures': 48, 'duration': '7.5 hours'}\n",
      "{'course_title': 'Complete Login and Registration System in PHP and MYSQL', 'url': 'https://www.udemy.com/login-and-registration-system-in-php-and-mysql-step-by-step/', 'price': 200, 'num_subscribers': 4714, 'num_reviews': 149, 'num_lectures': 28, 'duration': '4 hours'}\n",
      "{'course_title': 'Login and Registration from Scratch with PHP and MySQL', 'url': 'https://www.udemy.com/authentication-from-scratch-with-php-and-mysql/', 'price': 20, 'num_subscribers': 1128, 'num_reviews': 77, 'num_lectures': 36, 'duration': '2 hours'}\n",
      "{'course_title': 'PHP & MySQL - Learn The Easy Way. Master PHP & MySQL Quickly', 'url': 'https://www.udemy.com/learning-php-and-mysql-development-the-easy-way/', 'price': 50, 'num_subscribers': 5549, 'num_reviews': 92, 'num_lectures': 143, 'duration': '15.5 hours'}\n",
      "{'course_title': 'Complete Website & CMS in PHP & MySQL From Scratch!', 'url': 'https://www.udemy.com/cms-admin-panel-in-php-mysql/', 'price': 20, 'num_subscribers': 3357, 'num_reviews': 82, 'num_lectures': 48, 'duration': '12.5 hours'}\n",
      "{'course_title': 'Learn E-Commerce Website in PHP & MySQL From Scratch!', 'url': 'https://www.udemy.com/ecommerce-website-in-php-mysqli/', 'price': 0, 'num_subscribers': 29990, 'num_reviews': 1342, 'num_lectures': 87, 'duration': '17.5 hours'}\n",
      "{'course_title': 'JavaScript Complete Guide to learning JavaScript', 'url': 'https://www.udemy.com/javascript-complete-guide-to-learning-javascript/', 'price': 200, 'num_subscribers': 1296, 'num_reviews': 22, 'num_lectures': 72, 'duration': '5.5 hours'}\n"
     ]
    },
    {
     "output_type": "stream",
     "name": "stderr",
     "text": [
      "127.0.0.1 - - [14/Jul/2021 05:07:31] \"GET /get/rcmd/java HTTP/1.1\" 200 -\n"
     ]
    },
    {
     "output_type": "stream",
     "name": "stdout",
     "text": [
      "Learning Dynamic Website Design - PHP MySQL and JavaScript\n",
      "2484\n",
      "{'course_title': 'Learning Dynamic Website Design - PHP MySQL and JavaScript', 'url': 'https://www.udemy.com/learning-dynamic-website-design/', 'price': 50, 'num_subscribers': 47886, 'num_reviews': 285, 'num_lectures': 125, 'duration': '12.5 hours'}\n",
      "{'course_title': 'Projects in PHP and MySQL', 'url': 'https://www.udemy.com/the-complete-web-development-course-learn-by-building-apps/', 'price': 60, 'num_subscribers': 10606, 'num_reviews': 570, 'num_lectures': 88, 'duration': '23 hours'}\n",
      "{'course_title': 'Practical Understanding of PHP and MySQL', 'url': 'https://www.udemy.com/practical-understanding-of-php-and-myqsl-demo/', 'price': 0, 'num_subscribers': 12201, 'num_reviews': 217, 'num_lectures': 24, 'duration': '5.5 hours'}\n",
      "{'course_title': 'PHP MySQL: Learn PHP MySQL with Project', 'url': 'https://www.udemy.com/php-mysql-project-learning/', 'price': 20, 'num_subscribers': 2314, 'num_reviews': 77, 'num_lectures': 25, 'duration': '2 hours'}\n",
      "{'course_title': 'PHP: Complete Login and Registration System with PHP & MYSQL', 'url': 'https://www.udemy.com/user-authentication-code-a-simple-login-system-with-php/', 'price': 200, 'num_subscribers': 1448, 'num_reviews': 173, 'num_lectures': 48, 'duration': '7.5 hours'}\n",
      "{'course_title': 'Complete Login and Registration System in PHP and MYSQL', 'url': 'https://www.udemy.com/login-and-registration-system-in-php-and-mysql-step-by-step/', 'price': 200, 'num_subscribers': 4714, 'num_reviews': 149, 'num_lectures': 28, 'duration': '4 hours'}\n",
      "{'course_title': 'Login and Registration from Scratch with PHP and MySQL', 'url': 'https://www.udemy.com/authentication-from-scratch-with-php-and-mysql/', 'price': 20, 'num_subscribers': 1128, 'num_reviews': 77, 'num_lectures': 36, 'duration': '2 hours'}\n",
      "{'course_title': 'PHP & MySQL - Learn The Easy Way. Master PHP & MySQL Quickly', 'url': 'https://www.udemy.com/learning-php-and-mysql-development-the-easy-way/', 'price': 50, 'num_subscribers': 5549, 'num_reviews': 92, 'num_lectures': 143, 'duration': '15.5 hours'}\n",
      "{'course_title': 'Complete Website & CMS in PHP & MySQL From Scratch!', 'url': 'https://www.udemy.com/cms-admin-panel-in-php-mysql/', 'price': 20, 'num_subscribers': 3357, 'num_reviews': 82, 'num_lectures': 48, 'duration': '12.5 hours'}\n",
      "{'course_title': 'Learn E-Commerce Website in PHP & MySQL From Scratch!', 'url': 'https://www.udemy.com/ecommerce-website-in-php-mysqli/', 'price': 0, 'num_subscribers': 29990, 'num_reviews': 1342, 'num_lectures': 87, 'duration': '17.5 hours'}\n",
      "{'course_title': 'JavaScript Complete Guide to learning JavaScript', 'url': 'https://www.udemy.com/javascript-complete-guide-to-learning-javascript/', 'price': 200, 'num_subscribers': 1296, 'num_reviews': 22, 'num_lectures': 72, 'duration': '5.5 hours'}\n"
     ]
    },
    {
     "output_type": "stream",
     "name": "stderr",
     "text": [
      "127.0.0.1 - - [14/Jul/2021 05:07:51] \"GET /get/rcmd/java HTTP/1.1\" 200 -\n"
     ]
    },
    {
     "output_type": "stream",
     "name": "stdout",
     "text": [
      "Learning Dynamic Website Design - PHP MySQL and JavaScript\n",
      "2484\n",
      "{'course_title': 'Learning Dynamic Website Design - PHP MySQL and JavaScript', 'url': 'https://www.udemy.com/learning-dynamic-website-design/', 'price': 50, 'num_subscribers': 47886, 'num_reviews': 285, 'num_lectures': 125, 'duration': '12.5 hours'}\n",
      "{'course_title': 'Projects in PHP and MySQL', 'url': 'https://www.udemy.com/the-complete-web-development-course-learn-by-building-apps/', 'price': 60, 'num_subscribers': 10606, 'num_reviews': 570, 'num_lectures': 88, 'duration': '23 hours'}\n",
      "{'course_title': 'Practical Understanding of PHP and MySQL', 'url': 'https://www.udemy.com/practical-understanding-of-php-and-myqsl-demo/', 'price': 0, 'num_subscribers': 12201, 'num_reviews': 217, 'num_lectures': 24, 'duration': '5.5 hours'}\n",
      "{'course_title': 'PHP MySQL: Learn PHP MySQL with Project', 'url': 'https://www.udemy.com/php-mysql-project-learning/', 'price': 20, 'num_subscribers': 2314, 'num_reviews': 77, 'num_lectures': 25, 'duration': '2 hours'}\n",
      "{'course_title': 'PHP: Complete Login and Registration System with PHP & MYSQL', 'url': 'https://www.udemy.com/user-authentication-code-a-simple-login-system-with-php/', 'price': 200, 'num_subscribers': 1448, 'num_reviews': 173, 'num_lectures': 48, 'duration': '7.5 hours'}\n",
      "{'course_title': 'Complete Login and Registration System in PHP and MYSQL', 'url': 'https://www.udemy.com/login-and-registration-system-in-php-and-mysql-step-by-step/', 'price': 200, 'num_subscribers': 4714, 'num_reviews': 149, 'num_lectures': 28, 'duration': '4 hours'}\n",
      "{'course_title': 'Login and Registration from Scratch with PHP and MySQL', 'url': 'https://www.udemy.com/authentication-from-scratch-with-php-and-mysql/', 'price': 20, 'num_subscribers': 1128, 'num_reviews': 77, 'num_lectures': 36, 'duration': '2 hours'}\n",
      "{'course_title': 'PHP & MySQL - Learn The Easy Way. Master PHP & MySQL Quickly', 'url': 'https://www.udemy.com/learning-php-and-mysql-development-the-easy-way/', 'price': 50, 'num_subscribers': 5549, 'num_reviews': 92, 'num_lectures': 143, 'duration': '15.5 hours'}\n",
      "{'course_title': 'Complete Website & CMS in PHP & MySQL From Scratch!', 'url': 'https://www.udemy.com/cms-admin-panel-in-php-mysql/', 'price': 20, 'num_subscribers': 3357, 'num_reviews': 82, 'num_lectures': 48, 'duration': '12.5 hours'}\n",
      "{'course_title': 'Learn E-Commerce Website in PHP & MySQL From Scratch!', 'url': 'https://www.udemy.com/ecommerce-website-in-php-mysqli/', 'price': 0, 'num_subscribers': 29990, 'num_reviews': 1342, 'num_lectures': 87, 'duration': '17.5 hours'}\n",
      "{'course_title': 'JavaScript Complete Guide to learning JavaScript', 'url': 'https://www.udemy.com/javascript-complete-guide-to-learning-javascript/', 'price': 200, 'num_subscribers': 1296, 'num_reviews': 22, 'num_lectures': 72, 'duration': '5.5 hours'}\n"
     ]
    },
    {
     "output_type": "stream",
     "name": "stderr",
     "text": [
      "127.0.0.1 - - [14/Jul/2021 05:09:21] \"GET /get/rcmd/java HTTP/1.1\" 200 -\n"
     ]
    },
    {
     "output_type": "stream",
     "name": "stdout",
     "text": [
      "Learning Dynamic Website Design - PHP MySQL and JavaScript\n",
      "2484\n",
      "{'course_title': 'Learning Dynamic Website Design - PHP MySQL and JavaScript', 'url': 'https://www.udemy.com/learning-dynamic-website-design/', 'price': 50, 'num_subscribers': 47886, 'num_reviews': 285, 'num_lectures': 125, 'duration': '12.5 hours'}\n",
      "{'course_title': 'Projects in PHP and MySQL', 'url': 'https://www.udemy.com/the-complete-web-development-course-learn-by-building-apps/', 'price': 60, 'num_subscribers': 10606, 'num_reviews': 570, 'num_lectures': 88, 'duration': '23 hours'}\n",
      "{'course_title': 'Practical Understanding of PHP and MySQL', 'url': 'https://www.udemy.com/practical-understanding-of-php-and-myqsl-demo/', 'price': 0, 'num_subscribers': 12201, 'num_reviews': 217, 'num_lectures': 24, 'duration': '5.5 hours'}\n",
      "{'course_title': 'PHP MySQL: Learn PHP MySQL with Project', 'url': 'https://www.udemy.com/php-mysql-project-learning/', 'price': 20, 'num_subscribers': 2314, 'num_reviews': 77, 'num_lectures': 25, 'duration': '2 hours'}\n",
      "{'course_title': 'PHP: Complete Login and Registration System with PHP & MYSQL', 'url': 'https://www.udemy.com/user-authentication-code-a-simple-login-system-with-php/', 'price': 200, 'num_subscribers': 1448, 'num_reviews': 173, 'num_lectures': 48, 'duration': '7.5 hours'}\n",
      "{'course_title': 'Complete Login and Registration System in PHP and MYSQL', 'url': 'https://www.udemy.com/login-and-registration-system-in-php-and-mysql-step-by-step/', 'price': 200, 'num_subscribers': 4714, 'num_reviews': 149, 'num_lectures': 28, 'duration': '4 hours'}\n",
      "{'course_title': 'Login and Registration from Scratch with PHP and MySQL', 'url': 'https://www.udemy.com/authentication-from-scratch-with-php-and-mysql/', 'price': 20, 'num_subscribers': 1128, 'num_reviews': 77, 'num_lectures': 36, 'duration': '2 hours'}\n",
      "{'course_title': 'PHP & MySQL - Learn The Easy Way. Master PHP & MySQL Quickly', 'url': 'https://www.udemy.com/learning-php-and-mysql-development-the-easy-way/', 'price': 50, 'num_subscribers': 5549, 'num_reviews': 92, 'num_lectures': 143, 'duration': '15.5 hours'}\n",
      "{'course_title': 'Complete Website & CMS in PHP & MySQL From Scratch!', 'url': 'https://www.udemy.com/cms-admin-panel-in-php-mysql/', 'price': 20, 'num_subscribers': 3357, 'num_reviews': 82, 'num_lectures': 48, 'duration': '12.5 hours'}\n",
      "{'course_title': 'Learn E-Commerce Website in PHP & MySQL From Scratch!', 'url': 'https://www.udemy.com/ecommerce-website-in-php-mysqli/', 'price': 0, 'num_subscribers': 29990, 'num_reviews': 1342, 'num_lectures': 87, 'duration': '17.5 hours'}\n",
      "{'course_title': 'JavaScript Complete Guide to learning JavaScript', 'url': 'https://www.udemy.com/javascript-complete-guide-to-learning-javascript/', 'price': 200, 'num_subscribers': 1296, 'num_reviews': 22, 'num_lectures': 72, 'duration': '5.5 hours'}\n"
     ]
    },
    {
     "output_type": "stream",
     "name": "stderr",
     "text": [
      "127.0.0.1 - - [14/Jul/2021 05:09:43] \"GET /get/rcmd/java HTTP/1.1\" 200 -\n"
     ]
    },
    {
     "output_type": "stream",
     "name": "stdout",
     "text": [
      "Learning Dynamic Website Design - PHP MySQL and JavaScript\n",
      "2484\n",
      "{'course_title': 'Learning Dynamic Website Design - PHP MySQL and JavaScript', 'url': 'https://www.udemy.com/learning-dynamic-website-design/', 'price': 50, 'num_subscribers': 47886, 'num_reviews': 285, 'num_lectures': 125, 'duration': '12.5 hours'}\n",
      "{'course_title': 'Projects in PHP and MySQL', 'url': 'https://www.udemy.com/the-complete-web-development-course-learn-by-building-apps/', 'price': 60, 'num_subscribers': 10606, 'num_reviews': 570, 'num_lectures': 88, 'duration': '23 hours'}\n",
      "{'course_title': 'Practical Understanding of PHP and MySQL', 'url': 'https://www.udemy.com/practical-understanding-of-php-and-myqsl-demo/', 'price': 0, 'num_subscribers': 12201, 'num_reviews': 217, 'num_lectures': 24, 'duration': '5.5 hours'}\n",
      "{'course_title': 'PHP MySQL: Learn PHP MySQL with Project', 'url': 'https://www.udemy.com/php-mysql-project-learning/', 'price': 20, 'num_subscribers': 2314, 'num_reviews': 77, 'num_lectures': 25, 'duration': '2 hours'}\n",
      "{'course_title': 'PHP: Complete Login and Registration System with PHP & MYSQL', 'url': 'https://www.udemy.com/user-authentication-code-a-simple-login-system-with-php/', 'price': 200, 'num_subscribers': 1448, 'num_reviews': 173, 'num_lectures': 48, 'duration': '7.5 hours'}\n",
      "{'course_title': 'Complete Login and Registration System in PHP and MYSQL', 'url': 'https://www.udemy.com/login-and-registration-system-in-php-and-mysql-step-by-step/', 'price': 200, 'num_subscribers': 4714, 'num_reviews': 149, 'num_lectures': 28, 'duration': '4 hours'}\n",
      "{'course_title': 'Login and Registration from Scratch with PHP and MySQL', 'url': 'https://www.udemy.com/authentication-from-scratch-with-php-and-mysql/', 'price': 20, 'num_subscribers': 1128, 'num_reviews': 77, 'num_lectures': 36, 'duration': '2 hours'}\n",
      "{'course_title': 'PHP & MySQL - Learn The Easy Way. Master PHP & MySQL Quickly', 'url': 'https://www.udemy.com/learning-php-and-mysql-development-the-easy-way/', 'price': 50, 'num_subscribers': 5549, 'num_reviews': 92, 'num_lectures': 143, 'duration': '15.5 hours'}\n",
      "{'course_title': 'Complete Website & CMS in PHP & MySQL From Scratch!', 'url': 'https://www.udemy.com/cms-admin-panel-in-php-mysql/', 'price': 20, 'num_subscribers': 3357, 'num_reviews': 82, 'num_lectures': 48, 'duration': '12.5 hours'}\n",
      "{'course_title': 'Learn E-Commerce Website in PHP & MySQL From Scratch!', 'url': 'https://www.udemy.com/ecommerce-website-in-php-mysqli/', 'price': 0, 'num_subscribers': 29990, 'num_reviews': 1342, 'num_lectures': 87, 'duration': '17.5 hours'}\n",
      "{'course_title': 'JavaScript Complete Guide to learning JavaScript', 'url': 'https://www.udemy.com/javascript-complete-guide-to-learning-javascript/', 'price': 200, 'num_subscribers': 1296, 'num_reviews': 22, 'num_lectures': 72, 'duration': '5.5 hours'}\n"
     ]
    },
    {
     "output_type": "stream",
     "name": "stderr",
     "text": [
      "127.0.0.1 - - [14/Jul/2021 05:10:03] \"GET /get/rcmd/java HTTP/1.1\" 200 -\n"
     ]
    },
    {
     "output_type": "stream",
     "name": "stdout",
     "text": [
      "Learning Dynamic Website Design - PHP MySQL and JavaScript\n",
      "2484\n",
      "{'course_title': 'Learning Dynamic Website Design - PHP MySQL and JavaScript', 'url': 'https://www.udemy.com/learning-dynamic-website-design/', 'price': 50, 'num_subscribers': 47886, 'num_reviews': 285, 'num_lectures': 125, 'duration': '12.5 hours'}\n",
      "{'course_title': 'Projects in PHP and MySQL', 'url': 'https://www.udemy.com/the-complete-web-development-course-learn-by-building-apps/', 'price': 60, 'num_subscribers': 10606, 'num_reviews': 570, 'num_lectures': 88, 'duration': '23 hours'}\n",
      "{'course_title': 'Practical Understanding of PHP and MySQL', 'url': 'https://www.udemy.com/practical-understanding-of-php-and-myqsl-demo/', 'price': 0, 'num_subscribers': 12201, 'num_reviews': 217, 'num_lectures': 24, 'duration': '5.5 hours'}\n",
      "{'course_title': 'PHP MySQL: Learn PHP MySQL with Project', 'url': 'https://www.udemy.com/php-mysql-project-learning/', 'price': 20, 'num_subscribers': 2314, 'num_reviews': 77, 'num_lectures': 25, 'duration': '2 hours'}\n",
      "{'course_title': 'PHP: Complete Login and Registration System with PHP & MYSQL', 'url': 'https://www.udemy.com/user-authentication-code-a-simple-login-system-with-php/', 'price': 200, 'num_subscribers': 1448, 'num_reviews': 173, 'num_lectures': 48, 'duration': '7.5 hours'}\n",
      "{'course_title': 'Complete Login and Registration System in PHP and MYSQL', 'url': 'https://www.udemy.com/login-and-registration-system-in-php-and-mysql-step-by-step/', 'price': 200, 'num_subscribers': 4714, 'num_reviews': 149, 'num_lectures': 28, 'duration': '4 hours'}\n",
      "{'course_title': 'Login and Registration from Scratch with PHP and MySQL', 'url': 'https://www.udemy.com/authentication-from-scratch-with-php-and-mysql/', 'price': 20, 'num_subscribers': 1128, 'num_reviews': 77, 'num_lectures': 36, 'duration': '2 hours'}\n",
      "{'course_title': 'PHP & MySQL - Learn The Easy Way. Master PHP & MySQL Quickly', 'url': 'https://www.udemy.com/learning-php-and-mysql-development-the-easy-way/', 'price': 50, 'num_subscribers': 5549, 'num_reviews': 92, 'num_lectures': 143, 'duration': '15.5 hours'}\n",
      "{'course_title': 'Complete Website & CMS in PHP & MySQL From Scratch!', 'url': 'https://www.udemy.com/cms-admin-panel-in-php-mysql/', 'price': 20, 'num_subscribers': 3357, 'num_reviews': 82, 'num_lectures': 48, 'duration': '12.5 hours'}\n",
      "{'course_title': 'Learn E-Commerce Website in PHP & MySQL From Scratch!', 'url': 'https://www.udemy.com/ecommerce-website-in-php-mysqli/', 'price': 0, 'num_subscribers': 29990, 'num_reviews': 1342, 'num_lectures': 87, 'duration': '17.5 hours'}\n",
      "{'course_title': 'JavaScript Complete Guide to learning JavaScript', 'url': 'https://www.udemy.com/javascript-complete-guide-to-learning-javascript/', 'price': 200, 'num_subscribers': 1296, 'num_reviews': 22, 'num_lectures': 72, 'duration': '5.5 hours'}\n"
     ]
    },
    {
     "output_type": "stream",
     "name": "stderr",
     "text": [
      "127.0.0.1 - - [14/Jul/2021 05:10:36] \"GET /get/rcmd/java HTTP/1.1\" 200 -\n"
     ]
    },
    {
     "output_type": "stream",
     "name": "stdout",
     "text": [
      "Learning Dynamic Website Design - PHP MySQL and JavaScript\n",
      "2484\n",
      "{'course_title': 'Learning Dynamic Website Design - PHP MySQL and JavaScript', 'url': 'https://www.udemy.com/learning-dynamic-website-design/', 'price': 50, 'num_subscribers': 47886, 'num_reviews': 285, 'num_lectures': 125, 'duration': '12.5 hours'}\n",
      "{'course_title': 'Projects in PHP and MySQL', 'url': 'https://www.udemy.com/the-complete-web-development-course-learn-by-building-apps/', 'price': 60, 'num_subscribers': 10606, 'num_reviews': 570, 'num_lectures': 88, 'duration': '23 hours'}\n",
      "{'course_title': 'Practical Understanding of PHP and MySQL', 'url': 'https://www.udemy.com/practical-understanding-of-php-and-myqsl-demo/', 'price': 0, 'num_subscribers': 12201, 'num_reviews': 217, 'num_lectures': 24, 'duration': '5.5 hours'}\n",
      "{'course_title': 'PHP MySQL: Learn PHP MySQL with Project', 'url': 'https://www.udemy.com/php-mysql-project-learning/', 'price': 20, 'num_subscribers': 2314, 'num_reviews': 77, 'num_lectures': 25, 'duration': '2 hours'}\n",
      "{'course_title': 'PHP: Complete Login and Registration System with PHP & MYSQL', 'url': 'https://www.udemy.com/user-authentication-code-a-simple-login-system-with-php/', 'price': 200, 'num_subscribers': 1448, 'num_reviews': 173, 'num_lectures': 48, 'duration': '7.5 hours'}\n",
      "{'course_title': 'Complete Login and Registration System in PHP and MYSQL', 'url': 'https://www.udemy.com/login-and-registration-system-in-php-and-mysql-step-by-step/', 'price': 200, 'num_subscribers': 4714, 'num_reviews': 149, 'num_lectures': 28, 'duration': '4 hours'}\n",
      "{'course_title': 'Login and Registration from Scratch with PHP and MySQL', 'url': 'https://www.udemy.com/authentication-from-scratch-with-php-and-mysql/', 'price': 20, 'num_subscribers': 1128, 'num_reviews': 77, 'num_lectures': 36, 'duration': '2 hours'}\n",
      "{'course_title': 'PHP & MySQL - Learn The Easy Way. Master PHP & MySQL Quickly', 'url': 'https://www.udemy.com/learning-php-and-mysql-development-the-easy-way/', 'price': 50, 'num_subscribers': 5549, 'num_reviews': 92, 'num_lectures': 143, 'duration': '15.5 hours'}\n",
      "{'course_title': 'Complete Website & CMS in PHP & MySQL From Scratch!', 'url': 'https://www.udemy.com/cms-admin-panel-in-php-mysql/', 'price': 20, 'num_subscribers': 3357, 'num_reviews': 82, 'num_lectures': 48, 'duration': '12.5 hours'}\n",
      "{'course_title': 'Learn E-Commerce Website in PHP & MySQL From Scratch!', 'url': 'https://www.udemy.com/ecommerce-website-in-php-mysqli/', 'price': 0, 'num_subscribers': 29990, 'num_reviews': 1342, 'num_lectures': 87, 'duration': '17.5 hours'}\n",
      "{'course_title': 'JavaScript Complete Guide to learning JavaScript', 'url': 'https://www.udemy.com/javascript-complete-guide-to-learning-javascript/', 'price': 200, 'num_subscribers': 1296, 'num_reviews': 22, 'num_lectures': 72, 'duration': '5.5 hours'}\n"
     ]
    },
    {
     "output_type": "stream",
     "name": "stderr",
     "text": [
      "127.0.0.1 - - [14/Jul/2021 05:10:43] \"GET /get/rcmd/java HTTP/1.1\" 200 -\n"
     ]
    },
    {
     "output_type": "stream",
     "name": "stdout",
     "text": [
      "Learning Dynamic Website Design - PHP MySQL and JavaScript\n",
      "2484\n",
      "{'course_title': 'Learning Dynamic Website Design - PHP MySQL and JavaScript', 'url': 'https://www.udemy.com/learning-dynamic-website-design/', 'price': 50, 'num_subscribers': 47886, 'num_reviews': 285, 'num_lectures': 125, 'duration': '12.5 hours'}\n",
      "{'course_title': 'Projects in PHP and MySQL', 'url': 'https://www.udemy.com/the-complete-web-development-course-learn-by-building-apps/', 'price': 60, 'num_subscribers': 10606, 'num_reviews': 570, 'num_lectures': 88, 'duration': '23 hours'}\n",
      "{'course_title': 'Practical Understanding of PHP and MySQL', 'url': 'https://www.udemy.com/practical-understanding-of-php-and-myqsl-demo/', 'price': 0, 'num_subscribers': 12201, 'num_reviews': 217, 'num_lectures': 24, 'duration': '5.5 hours'}\n",
      "{'course_title': 'PHP MySQL: Learn PHP MySQL with Project', 'url': 'https://www.udemy.com/php-mysql-project-learning/', 'price': 20, 'num_subscribers': 2314, 'num_reviews': 77, 'num_lectures': 25, 'duration': '2 hours'}\n",
      "{'course_title': 'PHP: Complete Login and Registration System with PHP & MYSQL', 'url': 'https://www.udemy.com/user-authentication-code-a-simple-login-system-with-php/', 'price': 200, 'num_subscribers': 1448, 'num_reviews': 173, 'num_lectures': 48, 'duration': '7.5 hours'}\n",
      "{'course_title': 'Complete Login and Registration System in PHP and MYSQL', 'url': 'https://www.udemy.com/login-and-registration-system-in-php-and-mysql-step-by-step/', 'price': 200, 'num_subscribers': 4714, 'num_reviews': 149, 'num_lectures': 28, 'duration': '4 hours'}\n",
      "{'course_title': 'Login and Registration from Scratch with PHP and MySQL', 'url': 'https://www.udemy.com/authentication-from-scratch-with-php-and-mysql/', 'price': 20, 'num_subscribers': 1128, 'num_reviews': 77, 'num_lectures': 36, 'duration': '2 hours'}\n",
      "{'course_title': 'PHP & MySQL - Learn The Easy Way. Master PHP & MySQL Quickly', 'url': 'https://www.udemy.com/learning-php-and-mysql-development-the-easy-way/', 'price': 50, 'num_subscribers': 5549, 'num_reviews': 92, 'num_lectures': 143, 'duration': '15.5 hours'}\n",
      "{'course_title': 'Complete Website & CMS in PHP & MySQL From Scratch!', 'url': 'https://www.udemy.com/cms-admin-panel-in-php-mysql/', 'price': 20, 'num_subscribers': 3357, 'num_reviews': 82, 'num_lectures': 48, 'duration': '12.5 hours'}\n",
      "{'course_title': 'Learn E-Commerce Website in PHP & MySQL From Scratch!', 'url': 'https://www.udemy.com/ecommerce-website-in-php-mysqli/', 'price': 0, 'num_subscribers': 29990, 'num_reviews': 1342, 'num_lectures': 87, 'duration': '17.5 hours'}\n",
      "{'course_title': 'JavaScript Complete Guide to learning JavaScript', 'url': 'https://www.udemy.com/javascript-complete-guide-to-learning-javascript/', 'price': 200, 'num_subscribers': 1296, 'num_reviews': 22, 'num_lectures': 72, 'duration': '5.5 hours'}\n"
     ]
    },
    {
     "output_type": "stream",
     "name": "stderr",
     "text": [
      "127.0.0.1 - - [14/Jul/2021 05:10:53] \"GET /get/rcmd/java HTTP/1.1\" 200 -\n"
     ]
    },
    {
     "output_type": "stream",
     "name": "stdout",
     "text": [
      "Learning Dynamic Website Design - PHP MySQL and JavaScript\n",
      "2484\n",
      "{'course_title': 'Learning Dynamic Website Design - PHP MySQL and JavaScript', 'url': 'https://www.udemy.com/learning-dynamic-website-design/', 'price': 50, 'num_subscribers': 47886, 'num_reviews': 285, 'num_lectures': 125, 'duration': '12.5 hours'}\n",
      "{'course_title': 'Projects in PHP and MySQL', 'url': 'https://www.udemy.com/the-complete-web-development-course-learn-by-building-apps/', 'price': 60, 'num_subscribers': 10606, 'num_reviews': 570, 'num_lectures': 88, 'duration': '23 hours'}\n",
      "{'course_title': 'Practical Understanding of PHP and MySQL', 'url': 'https://www.udemy.com/practical-understanding-of-php-and-myqsl-demo/', 'price': 0, 'num_subscribers': 12201, 'num_reviews': 217, 'num_lectures': 24, 'duration': '5.5 hours'}\n",
      "{'course_title': 'PHP MySQL: Learn PHP MySQL with Project', 'url': 'https://www.udemy.com/php-mysql-project-learning/', 'price': 20, 'num_subscribers': 2314, 'num_reviews': 77, 'num_lectures': 25, 'duration': '2 hours'}\n",
      "{'course_title': 'PHP: Complete Login and Registration System with PHP & MYSQL', 'url': 'https://www.udemy.com/user-authentication-code-a-simple-login-system-with-php/', 'price': 200, 'num_subscribers': 1448, 'num_reviews': 173, 'num_lectures': 48, 'duration': '7.5 hours'}\n",
      "{'course_title': 'Complete Login and Registration System in PHP and MYSQL', 'url': 'https://www.udemy.com/login-and-registration-system-in-php-and-mysql-step-by-step/', 'price': 200, 'num_subscribers': 4714, 'num_reviews': 149, 'num_lectures': 28, 'duration': '4 hours'}\n",
      "{'course_title': 'Login and Registration from Scratch with PHP and MySQL', 'url': 'https://www.udemy.com/authentication-from-scratch-with-php-and-mysql/', 'price': 20, 'num_subscribers': 1128, 'num_reviews': 77, 'num_lectures': 36, 'duration': '2 hours'}\n",
      "{'course_title': 'PHP & MySQL - Learn The Easy Way. Master PHP & MySQL Quickly', 'url': 'https://www.udemy.com/learning-php-and-mysql-development-the-easy-way/', 'price': 50, 'num_subscribers': 5549, 'num_reviews': 92, 'num_lectures': 143, 'duration': '15.5 hours'}\n",
      "{'course_title': 'Complete Website & CMS in PHP & MySQL From Scratch!', 'url': 'https://www.udemy.com/cms-admin-panel-in-php-mysql/', 'price': 20, 'num_subscribers': 3357, 'num_reviews': 82, 'num_lectures': 48, 'duration': '12.5 hours'}\n",
      "{'course_title': 'Learn E-Commerce Website in PHP & MySQL From Scratch!', 'url': 'https://www.udemy.com/ecommerce-website-in-php-mysqli/', 'price': 0, 'num_subscribers': 29990, 'num_reviews': 1342, 'num_lectures': 87, 'duration': '17.5 hours'}\n",
      "{'course_title': 'JavaScript Complete Guide to learning JavaScript', 'url': 'https://www.udemy.com/javascript-complete-guide-to-learning-javascript/', 'price': 200, 'num_subscribers': 1296, 'num_reviews': 22, 'num_lectures': 72, 'duration': '5.5 hours'}\n"
     ]
    },
    {
     "output_type": "stream",
     "name": "stderr",
     "text": [
      "127.0.0.1 - - [14/Jul/2021 05:11:06] \"GET /get/rcmd/java HTTP/1.1\" 200 -\n"
     ]
    },
    {
     "output_type": "stream",
     "name": "stdout",
     "text": [
      "Learning Dynamic Website Design - PHP MySQL and JavaScript\n",
      "2484\n",
      "{'course_title': 'Learning Dynamic Website Design - PHP MySQL and JavaScript', 'url': 'https://www.udemy.com/learning-dynamic-website-design/', 'price': 50, 'num_subscribers': 47886, 'num_reviews': 285, 'num_lectures': 125, 'duration': '12.5 hours'}\n",
      "{'course_title': 'Projects in PHP and MySQL', 'url': 'https://www.udemy.com/the-complete-web-development-course-learn-by-building-apps/', 'price': 60, 'num_subscribers': 10606, 'num_reviews': 570, 'num_lectures': 88, 'duration': '23 hours'}\n",
      "{'course_title': 'Practical Understanding of PHP and MySQL', 'url': 'https://www.udemy.com/practical-understanding-of-php-and-myqsl-demo/', 'price': 0, 'num_subscribers': 12201, 'num_reviews': 217, 'num_lectures': 24, 'duration': '5.5 hours'}\n",
      "{'course_title': 'PHP MySQL: Learn PHP MySQL with Project', 'url': 'https://www.udemy.com/php-mysql-project-learning/', 'price': 20, 'num_subscribers': 2314, 'num_reviews': 77, 'num_lectures': 25, 'duration': '2 hours'}\n",
      "{'course_title': 'PHP: Complete Login and Registration System with PHP & MYSQL', 'url': 'https://www.udemy.com/user-authentication-code-a-simple-login-system-with-php/', 'price': 200, 'num_subscribers': 1448, 'num_reviews': 173, 'num_lectures': 48, 'duration': '7.5 hours'}\n",
      "{'course_title': 'Complete Login and Registration System in PHP and MYSQL', 'url': 'https://www.udemy.com/login-and-registration-system-in-php-and-mysql-step-by-step/', 'price': 200, 'num_subscribers': 4714, 'num_reviews': 149, 'num_lectures': 28, 'duration': '4 hours'}\n",
      "{'course_title': 'Login and Registration from Scratch with PHP and MySQL', 'url': 'https://www.udemy.com/authentication-from-scratch-with-php-and-mysql/', 'price': 20, 'num_subscribers': 1128, 'num_reviews': 77, 'num_lectures': 36, 'duration': '2 hours'}\n",
      "{'course_title': 'PHP & MySQL - Learn The Easy Way. Master PHP & MySQL Quickly', 'url': 'https://www.udemy.com/learning-php-and-mysql-development-the-easy-way/', 'price': 50, 'num_subscribers': 5549, 'num_reviews': 92, 'num_lectures': 143, 'duration': '15.5 hours'}\n",
      "{'course_title': 'Complete Website & CMS in PHP & MySQL From Scratch!', 'url': 'https://www.udemy.com/cms-admin-panel-in-php-mysql/', 'price': 20, 'num_subscribers': 3357, 'num_reviews': 82, 'num_lectures': 48, 'duration': '12.5 hours'}\n",
      "{'course_title': 'Learn E-Commerce Website in PHP & MySQL From Scratch!', 'url': 'https://www.udemy.com/ecommerce-website-in-php-mysqli/', 'price': 0, 'num_subscribers': 29990, 'num_reviews': 1342, 'num_lectures': 87, 'duration': '17.5 hours'}\n",
      "{'course_title': 'JavaScript Complete Guide to learning JavaScript', 'url': 'https://www.udemy.com/javascript-complete-guide-to-learning-javascript/', 'price': 200, 'num_subscribers': 1296, 'num_reviews': 22, 'num_lectures': 72, 'duration': '5.5 hours'}\n"
     ]
    },
    {
     "output_type": "stream",
     "name": "stderr",
     "text": [
      "127.0.0.1 - - [14/Jul/2021 05:11:07] \"GET /get/rcmd/java HTTP/1.1\" 200 -\n"
     ]
    },
    {
     "output_type": "stream",
     "name": "stdout",
     "text": [
      "Learning Dynamic Website Design - PHP MySQL and JavaScript\n",
      "2484\n",
      "{'course_title': 'Learning Dynamic Website Design - PHP MySQL and JavaScript', 'url': 'https://www.udemy.com/learning-dynamic-website-design/', 'price': 50, 'num_subscribers': 47886, 'num_reviews': 285, 'num_lectures': 125, 'duration': '12.5 hours'}\n",
      "{'course_title': 'Projects in PHP and MySQL', 'url': 'https://www.udemy.com/the-complete-web-development-course-learn-by-building-apps/', 'price': 60, 'num_subscribers': 10606, 'num_reviews': 570, 'num_lectures': 88, 'duration': '23 hours'}\n",
      "{'course_title': 'Practical Understanding of PHP and MySQL', 'url': 'https://www.udemy.com/practical-understanding-of-php-and-myqsl-demo/', 'price': 0, 'num_subscribers': 12201, 'num_reviews': 217, 'num_lectures': 24, 'duration': '5.5 hours'}\n",
      "{'course_title': 'PHP MySQL: Learn PHP MySQL with Project', 'url': 'https://www.udemy.com/php-mysql-project-learning/', 'price': 20, 'num_subscribers': 2314, 'num_reviews': 77, 'num_lectures': 25, 'duration': '2 hours'}\n",
      "{'course_title': 'PHP: Complete Login and Registration System with PHP & MYSQL', 'url': 'https://www.udemy.com/user-authentication-code-a-simple-login-system-with-php/', 'price': 200, 'num_subscribers': 1448, 'num_reviews': 173, 'num_lectures': 48, 'duration': '7.5 hours'}\n",
      "{'course_title': 'Complete Login and Registration System in PHP and MYSQL', 'url': 'https://www.udemy.com/login-and-registration-system-in-php-and-mysql-step-by-step/', 'price': 200, 'num_subscribers': 4714, 'num_reviews': 149, 'num_lectures': 28, 'duration': '4 hours'}\n",
      "{'course_title': 'Login and Registration from Scratch with PHP and MySQL', 'url': 'https://www.udemy.com/authentication-from-scratch-with-php-and-mysql/', 'price': 20, 'num_subscribers': 1128, 'num_reviews': 77, 'num_lectures': 36, 'duration': '2 hours'}\n",
      "{'course_title': 'PHP & MySQL - Learn The Easy Way. Master PHP & MySQL Quickly', 'url': 'https://www.udemy.com/learning-php-and-mysql-development-the-easy-way/', 'price': 50, 'num_subscribers': 5549, 'num_reviews': 92, 'num_lectures': 143, 'duration': '15.5 hours'}\n",
      "{'course_title': 'Complete Website & CMS in PHP & MySQL From Scratch!', 'url': 'https://www.udemy.com/cms-admin-panel-in-php-mysql/', 'price': 20, 'num_subscribers': 3357, 'num_reviews': 82, 'num_lectures': 48, 'duration': '12.5 hours'}\n",
      "{'course_title': 'Learn E-Commerce Website in PHP & MySQL From Scratch!', 'url': 'https://www.udemy.com/ecommerce-website-in-php-mysqli/', 'price': 0, 'num_subscribers': 29990, 'num_reviews': 1342, 'num_lectures': 87, 'duration': '17.5 hours'}\n",
      "{'course_title': 'JavaScript Complete Guide to learning JavaScript', 'url': 'https://www.udemy.com/javascript-complete-guide-to-learning-javascript/', 'price': 200, 'num_subscribers': 1296, 'num_reviews': 22, 'num_lectures': 72, 'duration': '5.5 hours'}\n"
     ]
    },
    {
     "output_type": "stream",
     "name": "stderr",
     "text": [
      "127.0.0.1 - - [14/Jul/2021 05:11:09] \"GET /get/rcmd/java HTTP/1.1\" 200 -\n"
     ]
    },
    {
     "output_type": "stream",
     "name": "stdout",
     "text": [
      "Learning Dynamic Website Design - PHP MySQL and JavaScript\n",
      "2484\n",
      "{'course_title': 'Learning Dynamic Website Design - PHP MySQL and JavaScript', 'url': 'https://www.udemy.com/learning-dynamic-website-design/', 'price': 50, 'num_subscribers': 47886, 'num_reviews': 285, 'num_lectures': 125, 'duration': '12.5 hours'}\n",
      "{'course_title': 'Projects in PHP and MySQL', 'url': 'https://www.udemy.com/the-complete-web-development-course-learn-by-building-apps/', 'price': 60, 'num_subscribers': 10606, 'num_reviews': 570, 'num_lectures': 88, 'duration': '23 hours'}\n",
      "{'course_title': 'Practical Understanding of PHP and MySQL', 'url': 'https://www.udemy.com/practical-understanding-of-php-and-myqsl-demo/', 'price': 0, 'num_subscribers': 12201, 'num_reviews': 217, 'num_lectures': 24, 'duration': '5.5 hours'}\n",
      "{'course_title': 'PHP MySQL: Learn PHP MySQL with Project', 'url': 'https://www.udemy.com/php-mysql-project-learning/', 'price': 20, 'num_subscribers': 2314, 'num_reviews': 77, 'num_lectures': 25, 'duration': '2 hours'}\n",
      "{'course_title': 'PHP: Complete Login and Registration System with PHP & MYSQL', 'url': 'https://www.udemy.com/user-authentication-code-a-simple-login-system-with-php/', 'price': 200, 'num_subscribers': 1448, 'num_reviews': 173, 'num_lectures': 48, 'duration': '7.5 hours'}\n",
      "{'course_title': 'Complete Login and Registration System in PHP and MYSQL', 'url': 'https://www.udemy.com/login-and-registration-system-in-php-and-mysql-step-by-step/', 'price': 200, 'num_subscribers': 4714, 'num_reviews': 149, 'num_lectures': 28, 'duration': '4 hours'}\n",
      "{'course_title': 'Login and Registration from Scratch with PHP and MySQL', 'url': 'https://www.udemy.com/authentication-from-scratch-with-php-and-mysql/', 'price': 20, 'num_subscribers': 1128, 'num_reviews': 77, 'num_lectures': 36, 'duration': '2 hours'}\n",
      "{'course_title': 'PHP & MySQL - Learn The Easy Way. Master PHP & MySQL Quickly', 'url': 'https://www.udemy.com/learning-php-and-mysql-development-the-easy-way/', 'price': 50, 'num_subscribers': 5549, 'num_reviews': 92, 'num_lectures': 143, 'duration': '15.5 hours'}\n",
      "{'course_title': 'Complete Website & CMS in PHP & MySQL From Scratch!', 'url': 'https://www.udemy.com/cms-admin-panel-in-php-mysql/', 'price': 20, 'num_subscribers': 3357, 'num_reviews': 82, 'num_lectures': 48, 'duration': '12.5 hours'}\n",
      "{'course_title': 'Learn E-Commerce Website in PHP & MySQL From Scratch!', 'url': 'https://www.udemy.com/ecommerce-website-in-php-mysqli/', 'price': 0, 'num_subscribers': 29990, 'num_reviews': 1342, 'num_lectures': 87, 'duration': '17.5 hours'}\n",
      "{'course_title': 'JavaScript Complete Guide to learning JavaScript', 'url': 'https://www.udemy.com/javascript-complete-guide-to-learning-javascript/', 'price': 200, 'num_subscribers': 1296, 'num_reviews': 22, 'num_lectures': 72, 'duration': '5.5 hours'}\n"
     ]
    },
    {
     "output_type": "stream",
     "name": "stderr",
     "text": [
      "127.0.0.1 - - [14/Jul/2021 05:11:10] \"GET /get/rcmd/java HTTP/1.1\" 200 -\n"
     ]
    },
    {
     "output_type": "stream",
     "name": "stdout",
     "text": [
      "Learning Dynamic Website Design - PHP MySQL and JavaScript\n",
      "2484\n",
      "{'course_title': 'Learning Dynamic Website Design - PHP MySQL and JavaScript', 'url': 'https://www.udemy.com/learning-dynamic-website-design/', 'price': 50, 'num_subscribers': 47886, 'num_reviews': 285, 'num_lectures': 125, 'duration': '12.5 hours'}\n",
      "{'course_title': 'Projects in PHP and MySQL', 'url': 'https://www.udemy.com/the-complete-web-development-course-learn-by-building-apps/', 'price': 60, 'num_subscribers': 10606, 'num_reviews': 570, 'num_lectures': 88, 'duration': '23 hours'}\n",
      "{'course_title': 'Practical Understanding of PHP and MySQL', 'url': 'https://www.udemy.com/practical-understanding-of-php-and-myqsl-demo/', 'price': 0, 'num_subscribers': 12201, 'num_reviews': 217, 'num_lectures': 24, 'duration': '5.5 hours'}\n",
      "{'course_title': 'PHP MySQL: Learn PHP MySQL with Project', 'url': 'https://www.udemy.com/php-mysql-project-learning/', 'price': 20, 'num_subscribers': 2314, 'num_reviews': 77, 'num_lectures': 25, 'duration': '2 hours'}\n",
      "{'course_title': 'PHP: Complete Login and Registration System with PHP & MYSQL', 'url': 'https://www.udemy.com/user-authentication-code-a-simple-login-system-with-php/', 'price': 200, 'num_subscribers': 1448, 'num_reviews': 173, 'num_lectures': 48, 'duration': '7.5 hours'}\n",
      "{'course_title': 'Complete Login and Registration System in PHP and MYSQL', 'url': 'https://www.udemy.com/login-and-registration-system-in-php-and-mysql-step-by-step/', 'price': 200, 'num_subscribers': 4714, 'num_reviews': 149, 'num_lectures': 28, 'duration': '4 hours'}\n",
      "{'course_title': 'Login and Registration from Scratch with PHP and MySQL', 'url': 'https://www.udemy.com/authentication-from-scratch-with-php-and-mysql/', 'price': 20, 'num_subscribers': 1128, 'num_reviews': 77, 'num_lectures': 36, 'duration': '2 hours'}\n",
      "{'course_title': 'PHP & MySQL - Learn The Easy Way. Master PHP & MySQL Quickly', 'url': 'https://www.udemy.com/learning-php-and-mysql-development-the-easy-way/', 'price': 50, 'num_subscribers': 5549, 'num_reviews': 92, 'num_lectures': 143, 'duration': '15.5 hours'}\n",
      "{'course_title': 'Complete Website & CMS in PHP & MySQL From Scratch!', 'url': 'https://www.udemy.com/cms-admin-panel-in-php-mysql/', 'price': 20, 'num_subscribers': 3357, 'num_reviews': 82, 'num_lectures': 48, 'duration': '12.5 hours'}\n",
      "{'course_title': 'Learn E-Commerce Website in PHP & MySQL From Scratch!', 'url': 'https://www.udemy.com/ecommerce-website-in-php-mysqli/', 'price': 0, 'num_subscribers': 29990, 'num_reviews': 1342, 'num_lectures': 87, 'duration': '17.5 hours'}\n",
      "{'course_title': 'JavaScript Complete Guide to learning JavaScript', 'url': 'https://www.udemy.com/javascript-complete-guide-to-learning-javascript/', 'price': 200, 'num_subscribers': 1296, 'num_reviews': 22, 'num_lectures': 72, 'duration': '5.5 hours'}\n"
     ]
    },
    {
     "output_type": "stream",
     "name": "stderr",
     "text": [
      "127.0.0.1 - - [14/Jul/2021 05:11:11] \"GET /get/rcmd/java HTTP/1.1\" 200 -\n"
     ]
    },
    {
     "output_type": "stream",
     "name": "stdout",
     "text": [
      "Learning Dynamic Website Design - PHP MySQL and JavaScript\n",
      "2484\n",
      "{'course_title': 'Learning Dynamic Website Design - PHP MySQL and JavaScript', 'url': 'https://www.udemy.com/learning-dynamic-website-design/', 'price': 50, 'num_subscribers': 47886, 'num_reviews': 285, 'num_lectures': 125, 'duration': '12.5 hours'}\n",
      "{'course_title': 'Projects in PHP and MySQL', 'url': 'https://www.udemy.com/the-complete-web-development-course-learn-by-building-apps/', 'price': 60, 'num_subscribers': 10606, 'num_reviews': 570, 'num_lectures': 88, 'duration': '23 hours'}\n",
      "{'course_title': 'Practical Understanding of PHP and MySQL', 'url': 'https://www.udemy.com/practical-understanding-of-php-and-myqsl-demo/', 'price': 0, 'num_subscribers': 12201, 'num_reviews': 217, 'num_lectures': 24, 'duration': '5.5 hours'}\n",
      "{'course_title': 'PHP MySQL: Learn PHP MySQL with Project', 'url': 'https://www.udemy.com/php-mysql-project-learning/', 'price': 20, 'num_subscribers': 2314, 'num_reviews': 77, 'num_lectures': 25, 'duration': '2 hours'}\n",
      "{'course_title': 'PHP: Complete Login and Registration System with PHP & MYSQL', 'url': 'https://www.udemy.com/user-authentication-code-a-simple-login-system-with-php/', 'price': 200, 'num_subscribers': 1448, 'num_reviews': 173, 'num_lectures': 48, 'duration': '7.5 hours'}\n",
      "{'course_title': 'Complete Login and Registration System in PHP and MYSQL', 'url': 'https://www.udemy.com/login-and-registration-system-in-php-and-mysql-step-by-step/', 'price': 200, 'num_subscribers': 4714, 'num_reviews': 149, 'num_lectures': 28, 'duration': '4 hours'}\n",
      "{'course_title': 'Login and Registration from Scratch with PHP and MySQL', 'url': 'https://www.udemy.com/authentication-from-scratch-with-php-and-mysql/', 'price': 20, 'num_subscribers': 1128, 'num_reviews': 77, 'num_lectures': 36, 'duration': '2 hours'}\n",
      "{'course_title': 'PHP & MySQL - Learn The Easy Way. Master PHP & MySQL Quickly', 'url': 'https://www.udemy.com/learning-php-and-mysql-development-the-easy-way/', 'price': 50, 'num_subscribers': 5549, 'num_reviews': 92, 'num_lectures': 143, 'duration': '15.5 hours'}\n",
      "{'course_title': 'Complete Website & CMS in PHP & MySQL From Scratch!', 'url': 'https://www.udemy.com/cms-admin-panel-in-php-mysql/', 'price': 20, 'num_subscribers': 3357, 'num_reviews': 82, 'num_lectures': 48, 'duration': '12.5 hours'}\n",
      "{'course_title': 'Learn E-Commerce Website in PHP & MySQL From Scratch!', 'url': 'https://www.udemy.com/ecommerce-website-in-php-mysqli/', 'price': 0, 'num_subscribers': 29990, 'num_reviews': 1342, 'num_lectures': 87, 'duration': '17.5 hours'}\n",
      "{'course_title': 'JavaScript Complete Guide to learning JavaScript', 'url': 'https://www.udemy.com/javascript-complete-guide-to-learning-javascript/', 'price': 200, 'num_subscribers': 1296, 'num_reviews': 22, 'num_lectures': 72, 'duration': '5.5 hours'}\n"
     ]
    },
    {
     "output_type": "stream",
     "name": "stderr",
     "text": [
      "127.0.0.1 - - [14/Jul/2021 05:11:12] \"GET /get/rcmd/java HTTP/1.1\" 200 -\n"
     ]
    },
    {
     "output_type": "stream",
     "name": "stdout",
     "text": [
      "Learning Dynamic Website Design - PHP MySQL and JavaScript\n",
      "2484\n",
      "{'course_title': 'Learning Dynamic Website Design - PHP MySQL and JavaScript', 'url': 'https://www.udemy.com/learning-dynamic-website-design/', 'price': 50, 'num_subscribers': 47886, 'num_reviews': 285, 'num_lectures': 125, 'duration': '12.5 hours'}\n",
      "{'course_title': 'Projects in PHP and MySQL', 'url': 'https://www.udemy.com/the-complete-web-development-course-learn-by-building-apps/', 'price': 60, 'num_subscribers': 10606, 'num_reviews': 570, 'num_lectures': 88, 'duration': '23 hours'}\n",
      "{'course_title': 'Practical Understanding of PHP and MySQL', 'url': 'https://www.udemy.com/practical-understanding-of-php-and-myqsl-demo/', 'price': 0, 'num_subscribers': 12201, 'num_reviews': 217, 'num_lectures': 24, 'duration': '5.5 hours'}\n",
      "{'course_title': 'PHP MySQL: Learn PHP MySQL with Project', 'url': 'https://www.udemy.com/php-mysql-project-learning/', 'price': 20, 'num_subscribers': 2314, 'num_reviews': 77, 'num_lectures': 25, 'duration': '2 hours'}\n",
      "{'course_title': 'PHP: Complete Login and Registration System with PHP & MYSQL', 'url': 'https://www.udemy.com/user-authentication-code-a-simple-login-system-with-php/', 'price': 200, 'num_subscribers': 1448, 'num_reviews': 173, 'num_lectures': 48, 'duration': '7.5 hours'}\n",
      "{'course_title': 'Complete Login and Registration System in PHP and MYSQL', 'url': 'https://www.udemy.com/login-and-registration-system-in-php-and-mysql-step-by-step/', 'price': 200, 'num_subscribers': 4714, 'num_reviews': 149, 'num_lectures': 28, 'duration': '4 hours'}\n",
      "{'course_title': 'Login and Registration from Scratch with PHP and MySQL', 'url': 'https://www.udemy.com/authentication-from-scratch-with-php-and-mysql/', 'price': 20, 'num_subscribers': 1128, 'num_reviews': 77, 'num_lectures': 36, 'duration': '2 hours'}\n",
      "{'course_title': 'PHP & MySQL - Learn The Easy Way. Master PHP & MySQL Quickly', 'url': 'https://www.udemy.com/learning-php-and-mysql-development-the-easy-way/', 'price': 50, 'num_subscribers': 5549, 'num_reviews': 92, 'num_lectures': 143, 'duration': '15.5 hours'}\n",
      "{'course_title': 'Complete Website & CMS in PHP & MySQL From Scratch!', 'url': 'https://www.udemy.com/cms-admin-panel-in-php-mysql/', 'price': 20, 'num_subscribers': 3357, 'num_reviews': 82, 'num_lectures': 48, 'duration': '12.5 hours'}\n",
      "{'course_title': 'Learn E-Commerce Website in PHP & MySQL From Scratch!', 'url': 'https://www.udemy.com/ecommerce-website-in-php-mysqli/', 'price': 0, 'num_subscribers': 29990, 'num_reviews': 1342, 'num_lectures': 87, 'duration': '17.5 hours'}\n",
      "{'course_title': 'JavaScript Complete Guide to learning JavaScript', 'url': 'https://www.udemy.com/javascript-complete-guide-to-learning-javascript/', 'price': 200, 'num_subscribers': 1296, 'num_reviews': 22, 'num_lectures': 72, 'duration': '5.5 hours'}\n"
     ]
    },
    {
     "output_type": "stream",
     "name": "stderr",
     "text": [
      "127.0.0.1 - - [14/Jul/2021 05:11:14] \"GET /get/rcmd/java HTTP/1.1\" 200 -\n"
     ]
    },
    {
     "output_type": "stream",
     "name": "stdout",
     "text": [
      "Learning Dynamic Website Design - PHP MySQL and JavaScript\n",
      "2484\n",
      "{'course_title': 'Learning Dynamic Website Design - PHP MySQL and JavaScript', 'url': 'https://www.udemy.com/learning-dynamic-website-design/', 'price': 50, 'num_subscribers': 47886, 'num_reviews': 285, 'num_lectures': 125, 'duration': '12.5 hours'}\n",
      "{'course_title': 'Projects in PHP and MySQL', 'url': 'https://www.udemy.com/the-complete-web-development-course-learn-by-building-apps/', 'price': 60, 'num_subscribers': 10606, 'num_reviews': 570, 'num_lectures': 88, 'duration': '23 hours'}\n",
      "{'course_title': 'Practical Understanding of PHP and MySQL', 'url': 'https://www.udemy.com/practical-understanding-of-php-and-myqsl-demo/', 'price': 0, 'num_subscribers': 12201, 'num_reviews': 217, 'num_lectures': 24, 'duration': '5.5 hours'}\n",
      "{'course_title': 'PHP MySQL: Learn PHP MySQL with Project', 'url': 'https://www.udemy.com/php-mysql-project-learning/', 'price': 20, 'num_subscribers': 2314, 'num_reviews': 77, 'num_lectures': 25, 'duration': '2 hours'}\n",
      "{'course_title': 'PHP: Complete Login and Registration System with PHP & MYSQL', 'url': 'https://www.udemy.com/user-authentication-code-a-simple-login-system-with-php/', 'price': 200, 'num_subscribers': 1448, 'num_reviews': 173, 'num_lectures': 48, 'duration': '7.5 hours'}\n",
      "{'course_title': 'Complete Login and Registration System in PHP and MYSQL', 'url': 'https://www.udemy.com/login-and-registration-system-in-php-and-mysql-step-by-step/', 'price': 200, 'num_subscribers': 4714, 'num_reviews': 149, 'num_lectures': 28, 'duration': '4 hours'}\n",
      "{'course_title': 'Login and Registration from Scratch with PHP and MySQL', 'url': 'https://www.udemy.com/authentication-from-scratch-with-php-and-mysql/', 'price': 20, 'num_subscribers': 1128, 'num_reviews': 77, 'num_lectures': 36, 'duration': '2 hours'}\n",
      "{'course_title': 'PHP & MySQL - Learn The Easy Way. Master PHP & MySQL Quickly', 'url': 'https://www.udemy.com/learning-php-and-mysql-development-the-easy-way/', 'price': 50, 'num_subscribers': 5549, 'num_reviews': 92, 'num_lectures': 143, 'duration': '15.5 hours'}\n",
      "{'course_title': 'Complete Website & CMS in PHP & MySQL From Scratch!', 'url': 'https://www.udemy.com/cms-admin-panel-in-php-mysql/', 'price': 20, 'num_subscribers': 3357, 'num_reviews': 82, 'num_lectures': 48, 'duration': '12.5 hours'}\n",
      "{'course_title': 'Learn E-Commerce Website in PHP & MySQL From Scratch!', 'url': 'https://www.udemy.com/ecommerce-website-in-php-mysqli/', 'price': 0, 'num_subscribers': 29990, 'num_reviews': 1342, 'num_lectures': 87, 'duration': '17.5 hours'}\n",
      "{'course_title': 'JavaScript Complete Guide to learning JavaScript', 'url': 'https://www.udemy.com/javascript-complete-guide-to-learning-javascript/', 'price': 200, 'num_subscribers': 1296, 'num_reviews': 22, 'num_lectures': 72, 'duration': '5.5 hours'}\n"
     ]
    },
    {
     "output_type": "stream",
     "name": "stderr",
     "text": [
      "127.0.0.1 - - [14/Jul/2021 05:11:47] \"GET /get/rcmd/java HTTP/1.1\" 200 -\n"
     ]
    },
    {
     "output_type": "stream",
     "name": "stdout",
     "text": [
      "Learning Dynamic Website Design - PHP MySQL and JavaScript\n",
      "2484\n",
      "{'course_title': 'Learning Dynamic Website Design - PHP MySQL and JavaScript', 'url': 'https://www.udemy.com/learning-dynamic-website-design/', 'price': 50, 'num_subscribers': 47886, 'num_reviews': 285, 'num_lectures': 125, 'duration': '12.5 hours'}\n",
      "{'course_title': 'Projects in PHP and MySQL', 'url': 'https://www.udemy.com/the-complete-web-development-course-learn-by-building-apps/', 'price': 60, 'num_subscribers': 10606, 'num_reviews': 570, 'num_lectures': 88, 'duration': '23 hours'}\n",
      "{'course_title': 'Practical Understanding of PHP and MySQL', 'url': 'https://www.udemy.com/practical-understanding-of-php-and-myqsl-demo/', 'price': 0, 'num_subscribers': 12201, 'num_reviews': 217, 'num_lectures': 24, 'duration': '5.5 hours'}\n",
      "{'course_title': 'PHP MySQL: Learn PHP MySQL with Project', 'url': 'https://www.udemy.com/php-mysql-project-learning/', 'price': 20, 'num_subscribers': 2314, 'num_reviews': 77, 'num_lectures': 25, 'duration': '2 hours'}\n",
      "{'course_title': 'PHP: Complete Login and Registration System with PHP & MYSQL', 'url': 'https://www.udemy.com/user-authentication-code-a-simple-login-system-with-php/', 'price': 200, 'num_subscribers': 1448, 'num_reviews': 173, 'num_lectures': 48, 'duration': '7.5 hours'}\n",
      "{'course_title': 'Complete Login and Registration System in PHP and MYSQL', 'url': 'https://www.udemy.com/login-and-registration-system-in-php-and-mysql-step-by-step/', 'price': 200, 'num_subscribers': 4714, 'num_reviews': 149, 'num_lectures': 28, 'duration': '4 hours'}\n",
      "{'course_title': 'Login and Registration from Scratch with PHP and MySQL', 'url': 'https://www.udemy.com/authentication-from-scratch-with-php-and-mysql/', 'price': 20, 'num_subscribers': 1128, 'num_reviews': 77, 'num_lectures': 36, 'duration': '2 hours'}\n",
      "{'course_title': 'PHP & MySQL - Learn The Easy Way. Master PHP & MySQL Quickly', 'url': 'https://www.udemy.com/learning-php-and-mysql-development-the-easy-way/', 'price': 50, 'num_subscribers': 5549, 'num_reviews': 92, 'num_lectures': 143, 'duration': '15.5 hours'}\n",
      "{'course_title': 'Complete Website & CMS in PHP & MySQL From Scratch!', 'url': 'https://www.udemy.com/cms-admin-panel-in-php-mysql/', 'price': 20, 'num_subscribers': 3357, 'num_reviews': 82, 'num_lectures': 48, 'duration': '12.5 hours'}\n",
      "{'course_title': 'Learn E-Commerce Website in PHP & MySQL From Scratch!', 'url': 'https://www.udemy.com/ecommerce-website-in-php-mysqli/', 'price': 0, 'num_subscribers': 29990, 'num_reviews': 1342, 'num_lectures': 87, 'duration': '17.5 hours'}\n",
      "{'course_title': 'JavaScript Complete Guide to learning JavaScript', 'url': 'https://www.udemy.com/javascript-complete-guide-to-learning-javascript/', 'price': 200, 'num_subscribers': 1296, 'num_reviews': 22, 'num_lectures': 72, 'duration': '5.5 hours'}\n"
     ]
    },
    {
     "output_type": "stream",
     "name": "stderr",
     "text": [
      "127.0.0.1 - - [14/Jul/2021 05:11:48] \"GET /get/rcmd/java HTTP/1.1\" 200 -\n"
     ]
    },
    {
     "output_type": "stream",
     "name": "stdout",
     "text": [
      "Learning Dynamic Website Design - PHP MySQL and JavaScript\n",
      "2484\n",
      "{'course_title': 'Learning Dynamic Website Design - PHP MySQL and JavaScript', 'url': 'https://www.udemy.com/learning-dynamic-website-design/', 'price': 50, 'num_subscribers': 47886, 'num_reviews': 285, 'num_lectures': 125, 'duration': '12.5 hours'}\n",
      "{'course_title': 'Projects in PHP and MySQL', 'url': 'https://www.udemy.com/the-complete-web-development-course-learn-by-building-apps/', 'price': 60, 'num_subscribers': 10606, 'num_reviews': 570, 'num_lectures': 88, 'duration': '23 hours'}\n",
      "{'course_title': 'Practical Understanding of PHP and MySQL', 'url': 'https://www.udemy.com/practical-understanding-of-php-and-myqsl-demo/', 'price': 0, 'num_subscribers': 12201, 'num_reviews': 217, 'num_lectures': 24, 'duration': '5.5 hours'}\n",
      "{'course_title': 'PHP MySQL: Learn PHP MySQL with Project', 'url': 'https://www.udemy.com/php-mysql-project-learning/', 'price': 20, 'num_subscribers': 2314, 'num_reviews': 77, 'num_lectures': 25, 'duration': '2 hours'}\n",
      "{'course_title': 'PHP: Complete Login and Registration System with PHP & MYSQL', 'url': 'https://www.udemy.com/user-authentication-code-a-simple-login-system-with-php/', 'price': 200, 'num_subscribers': 1448, 'num_reviews': 173, 'num_lectures': 48, 'duration': '7.5 hours'}\n",
      "{'course_title': 'Complete Login and Registration System in PHP and MYSQL', 'url': 'https://www.udemy.com/login-and-registration-system-in-php-and-mysql-step-by-step/', 'price': 200, 'num_subscribers': 4714, 'num_reviews': 149, 'num_lectures': 28, 'duration': '4 hours'}\n",
      "{'course_title': 'Login and Registration from Scratch with PHP and MySQL', 'url': 'https://www.udemy.com/authentication-from-scratch-with-php-and-mysql/', 'price': 20, 'num_subscribers': 1128, 'num_reviews': 77, 'num_lectures': 36, 'duration': '2 hours'}\n",
      "{'course_title': 'PHP & MySQL - Learn The Easy Way. Master PHP & MySQL Quickly', 'url': 'https://www.udemy.com/learning-php-and-mysql-development-the-easy-way/', 'price': 50, 'num_subscribers': 5549, 'num_reviews': 92, 'num_lectures': 143, 'duration': '15.5 hours'}\n",
      "{'course_title': 'Complete Website & CMS in PHP & MySQL From Scratch!', 'url': 'https://www.udemy.com/cms-admin-panel-in-php-mysql/', 'price': 20, 'num_subscribers': 3357, 'num_reviews': 82, 'num_lectures': 48, 'duration': '12.5 hours'}\n",
      "{'course_title': 'Learn E-Commerce Website in PHP & MySQL From Scratch!', 'url': 'https://www.udemy.com/ecommerce-website-in-php-mysqli/', 'price': 0, 'num_subscribers': 29990, 'num_reviews': 1342, 'num_lectures': 87, 'duration': '17.5 hours'}\n",
      "{'course_title': 'JavaScript Complete Guide to learning JavaScript', 'url': 'https://www.udemy.com/javascript-complete-guide-to-learning-javascript/', 'price': 200, 'num_subscribers': 1296, 'num_reviews': 22, 'num_lectures': 72, 'duration': '5.5 hours'}\n"
     ]
    },
    {
     "output_type": "stream",
     "name": "stderr",
     "text": [
      "127.0.0.1 - - [14/Jul/2021 05:11:48] \"GET /get/rcmd/java HTTP/1.1\" 200 -\n"
     ]
    },
    {
     "output_type": "stream",
     "name": "stdout",
     "text": [
      "Learning Dynamic Website Design - PHP MySQL and JavaScript\n",
      "2484\n",
      "{'course_title': 'Learning Dynamic Website Design - PHP MySQL and JavaScript', 'url': 'https://www.udemy.com/learning-dynamic-website-design/', 'price': 50, 'num_subscribers': 47886, 'num_reviews': 285, 'num_lectures': 125, 'duration': '12.5 hours'}\n",
      "{'course_title': 'Projects in PHP and MySQL', 'url': 'https://www.udemy.com/the-complete-web-development-course-learn-by-building-apps/', 'price': 60, 'num_subscribers': 10606, 'num_reviews': 570, 'num_lectures': 88, 'duration': '23 hours'}\n",
      "{'course_title': 'Practical Understanding of PHP and MySQL', 'url': 'https://www.udemy.com/practical-understanding-of-php-and-myqsl-demo/', 'price': 0, 'num_subscribers': 12201, 'num_reviews': 217, 'num_lectures': 24, 'duration': '5.5 hours'}\n",
      "{'course_title': 'PHP MySQL: Learn PHP MySQL with Project', 'url': 'https://www.udemy.com/php-mysql-project-learning/', 'price': 20, 'num_subscribers': 2314, 'num_reviews': 77, 'num_lectures': 25, 'duration': '2 hours'}\n",
      "{'course_title': 'PHP: Complete Login and Registration System with PHP & MYSQL', 'url': 'https://www.udemy.com/user-authentication-code-a-simple-login-system-with-php/', 'price': 200, 'num_subscribers': 1448, 'num_reviews': 173, 'num_lectures': 48, 'duration': '7.5 hours'}\n",
      "{'course_title': 'Complete Login and Registration System in PHP and MYSQL', 'url': 'https://www.udemy.com/login-and-registration-system-in-php-and-mysql-step-by-step/', 'price': 200, 'num_subscribers': 4714, 'num_reviews': 149, 'num_lectures': 28, 'duration': '4 hours'}\n",
      "{'course_title': 'Login and Registration from Scratch with PHP and MySQL', 'url': 'https://www.udemy.com/authentication-from-scratch-with-php-and-mysql/', 'price': 20, 'num_subscribers': 1128, 'num_reviews': 77, 'num_lectures': 36, 'duration': '2 hours'}\n",
      "{'course_title': 'PHP & MySQL - Learn The Easy Way. Master PHP & MySQL Quickly', 'url': 'https://www.udemy.com/learning-php-and-mysql-development-the-easy-way/', 'price': 50, 'num_subscribers': 5549, 'num_reviews': 92, 'num_lectures': 143, 'duration': '15.5 hours'}\n",
      "{'course_title': 'Complete Website & CMS in PHP & MySQL From Scratch!', 'url': 'https://www.udemy.com/cms-admin-panel-in-php-mysql/', 'price': 20, 'num_subscribers': 3357, 'num_reviews': 82, 'num_lectures': 48, 'duration': '12.5 hours'}\n",
      "{'course_title': 'Learn E-Commerce Website in PHP & MySQL From Scratch!', 'url': 'https://www.udemy.com/ecommerce-website-in-php-mysqli/', 'price': 0, 'num_subscribers': 29990, 'num_reviews': 1342, 'num_lectures': 87, 'duration': '17.5 hours'}\n",
      "{'course_title': 'JavaScript Complete Guide to learning JavaScript', 'url': 'https://www.udemy.com/javascript-complete-guide-to-learning-javascript/', 'price': 200, 'num_subscribers': 1296, 'num_reviews': 22, 'num_lectures': 72, 'duration': '5.5 hours'}\n"
     ]
    },
    {
     "output_type": "stream",
     "name": "stderr",
     "text": [
      "127.0.0.1 - - [14/Jul/2021 05:11:48] \"GET /get/rcmd/java HTTP/1.1\" 200 -\n"
     ]
    },
    {
     "output_type": "stream",
     "name": "stdout",
     "text": [
      "Learning Dynamic Website Design - PHP MySQL and JavaScript\n",
      "2484\n",
      "{'course_title': 'Learning Dynamic Website Design - PHP MySQL and JavaScript', 'url': 'https://www.udemy.com/learning-dynamic-website-design/', 'price': 50, 'num_subscribers': 47886, 'num_reviews': 285, 'num_lectures': 125, 'duration': '12.5 hours'}\n",
      "{'course_title': 'Projects in PHP and MySQL', 'url': 'https://www.udemy.com/the-complete-web-development-course-learn-by-building-apps/', 'price': 60, 'num_subscribers': 10606, 'num_reviews': 570, 'num_lectures': 88, 'duration': '23 hours'}\n",
      "{'course_title': 'Practical Understanding of PHP and MySQL', 'url': 'https://www.udemy.com/practical-understanding-of-php-and-myqsl-demo/', 'price': 0, 'num_subscribers': 12201, 'num_reviews': 217, 'num_lectures': 24, 'duration': '5.5 hours'}\n",
      "{'course_title': 'PHP MySQL: Learn PHP MySQL with Project', 'url': 'https://www.udemy.com/php-mysql-project-learning/', 'price': 20, 'num_subscribers': 2314, 'num_reviews': 77, 'num_lectures': 25, 'duration': '2 hours'}\n",
      "{'course_title': 'PHP: Complete Login and Registration System with PHP & MYSQL', 'url': 'https://www.udemy.com/user-authentication-code-a-simple-login-system-with-php/', 'price': 200, 'num_subscribers': 1448, 'num_reviews': 173, 'num_lectures': 48, 'duration': '7.5 hours'}\n",
      "{'course_title': 'Complete Login and Registration System in PHP and MYSQL', 'url': 'https://www.udemy.com/login-and-registration-system-in-php-and-mysql-step-by-step/', 'price': 200, 'num_subscribers': 4714, 'num_reviews': 149, 'num_lectures': 28, 'duration': '4 hours'}\n",
      "{'course_title': 'Login and Registration from Scratch with PHP and MySQL', 'url': 'https://www.udemy.com/authentication-from-scratch-with-php-and-mysql/', 'price': 20, 'num_subscribers': 1128, 'num_reviews': 77, 'num_lectures': 36, 'duration': '2 hours'}\n",
      "{'course_title': 'PHP & MySQL - Learn The Easy Way. Master PHP & MySQL Quickly', 'url': 'https://www.udemy.com/learning-php-and-mysql-development-the-easy-way/', 'price': 50, 'num_subscribers': 5549, 'num_reviews': 92, 'num_lectures': 143, 'duration': '15.5 hours'}\n",
      "{'course_title': 'Complete Website & CMS in PHP & MySQL From Scratch!', 'url': 'https://www.udemy.com/cms-admin-panel-in-php-mysql/', 'price': 20, 'num_subscribers': 3357, 'num_reviews': 82, 'num_lectures': 48, 'duration': '12.5 hours'}\n",
      "{'course_title': 'Learn E-Commerce Website in PHP & MySQL From Scratch!', 'url': 'https://www.udemy.com/ecommerce-website-in-php-mysqli/', 'price': 0, 'num_subscribers': 29990, 'num_reviews': 1342, 'num_lectures': 87, 'duration': '17.5 hours'}\n",
      "{'course_title': 'JavaScript Complete Guide to learning JavaScript', 'url': 'https://www.udemy.com/javascript-complete-guide-to-learning-javascript/', 'price': 200, 'num_subscribers': 1296, 'num_reviews': 22, 'num_lectures': 72, 'duration': '5.5 hours'}\n"
     ]
    },
    {
     "output_type": "stream",
     "name": "stderr",
     "text": [
      "127.0.0.1 - - [14/Jul/2021 05:11:49] \"GET /get/rcmd/java HTTP/1.1\" 200 -\n"
     ]
    },
    {
     "output_type": "stream",
     "name": "stdout",
     "text": [
      "Learning Dynamic Website Design - PHP MySQL and JavaScript\n",
      "2484\n",
      "{'course_title': 'Learning Dynamic Website Design - PHP MySQL and JavaScript', 'url': 'https://www.udemy.com/learning-dynamic-website-design/', 'price': 50, 'num_subscribers': 47886, 'num_reviews': 285, 'num_lectures': 125, 'duration': '12.5 hours'}\n",
      "{'course_title': 'Projects in PHP and MySQL', 'url': 'https://www.udemy.com/the-complete-web-development-course-learn-by-building-apps/', 'price': 60, 'num_subscribers': 10606, 'num_reviews': 570, 'num_lectures': 88, 'duration': '23 hours'}\n",
      "{'course_title': 'Practical Understanding of PHP and MySQL', 'url': 'https://www.udemy.com/practical-understanding-of-php-and-myqsl-demo/', 'price': 0, 'num_subscribers': 12201, 'num_reviews': 217, 'num_lectures': 24, 'duration': '5.5 hours'}\n",
      "{'course_title': 'PHP MySQL: Learn PHP MySQL with Project', 'url': 'https://www.udemy.com/php-mysql-project-learning/', 'price': 20, 'num_subscribers': 2314, 'num_reviews': 77, 'num_lectures': 25, 'duration': '2 hours'}\n",
      "{'course_title': 'PHP: Complete Login and Registration System with PHP & MYSQL', 'url': 'https://www.udemy.com/user-authentication-code-a-simple-login-system-with-php/', 'price': 200, 'num_subscribers': 1448, 'num_reviews': 173, 'num_lectures': 48, 'duration': '7.5 hours'}\n",
      "{'course_title': 'Complete Login and Registration System in PHP and MYSQL', 'url': 'https://www.udemy.com/login-and-registration-system-in-php-and-mysql-step-by-step/', 'price': 200, 'num_subscribers': 4714, 'num_reviews': 149, 'num_lectures': 28, 'duration': '4 hours'}\n",
      "{'course_title': 'Login and Registration from Scratch with PHP and MySQL', 'url': 'https://www.udemy.com/authentication-from-scratch-with-php-and-mysql/', 'price': 20, 'num_subscribers': 1128, 'num_reviews': 77, 'num_lectures': 36, 'duration': '2 hours'}\n",
      "{'course_title': 'PHP & MySQL - Learn The Easy Way. Master PHP & MySQL Quickly', 'url': 'https://www.udemy.com/learning-php-and-mysql-development-the-easy-way/', 'price': 50, 'num_subscribers': 5549, 'num_reviews': 92, 'num_lectures': 143, 'duration': '15.5 hours'}\n",
      "{'course_title': 'Complete Website & CMS in PHP & MySQL From Scratch!', 'url': 'https://www.udemy.com/cms-admin-panel-in-php-mysql/', 'price': 20, 'num_subscribers': 3357, 'num_reviews': 82, 'num_lectures': 48, 'duration': '12.5 hours'}\n",
      "{'course_title': 'Learn E-Commerce Website in PHP & MySQL From Scratch!', 'url': 'https://www.udemy.com/ecommerce-website-in-php-mysqli/', 'price': 0, 'num_subscribers': 29990, 'num_reviews': 1342, 'num_lectures': 87, 'duration': '17.5 hours'}\n",
      "{'course_title': 'JavaScript Complete Guide to learning JavaScript', 'url': 'https://www.udemy.com/javascript-complete-guide-to-learning-javascript/', 'price': 200, 'num_subscribers': 1296, 'num_reviews': 22, 'num_lectures': 72, 'duration': '5.5 hours'}\n"
     ]
    },
    {
     "output_type": "stream",
     "name": "stderr",
     "text": [
      "127.0.0.1 - - [14/Jul/2021 05:11:49] \"GET /get/rcmd/java HTTP/1.1\" 200 -\n"
     ]
    },
    {
     "output_type": "stream",
     "name": "stdout",
     "text": [
      "Learning Dynamic Website Design - PHP MySQL and JavaScript\n",
      "2484\n",
      "{'course_title': 'Learning Dynamic Website Design - PHP MySQL and JavaScript', 'url': 'https://www.udemy.com/learning-dynamic-website-design/', 'price': 50, 'num_subscribers': 47886, 'num_reviews': 285, 'num_lectures': 125, 'duration': '12.5 hours'}\n",
      "{'course_title': 'Projects in PHP and MySQL', 'url': 'https://www.udemy.com/the-complete-web-development-course-learn-by-building-apps/', 'price': 60, 'num_subscribers': 10606, 'num_reviews': 570, 'num_lectures': 88, 'duration': '23 hours'}\n",
      "{'course_title': 'Practical Understanding of PHP and MySQL', 'url': 'https://www.udemy.com/practical-understanding-of-php-and-myqsl-demo/', 'price': 0, 'num_subscribers': 12201, 'num_reviews': 217, 'num_lectures': 24, 'duration': '5.5 hours'}\n",
      "{'course_title': 'PHP MySQL: Learn PHP MySQL with Project', 'url': 'https://www.udemy.com/php-mysql-project-learning/', 'price': 20, 'num_subscribers': 2314, 'num_reviews': 77, 'num_lectures': 25, 'duration': '2 hours'}\n",
      "{'course_title': 'PHP: Complete Login and Registration System with PHP & MYSQL', 'url': 'https://www.udemy.com/user-authentication-code-a-simple-login-system-with-php/', 'price': 200, 'num_subscribers': 1448, 'num_reviews': 173, 'num_lectures': 48, 'duration': '7.5 hours'}\n",
      "{'course_title': 'Complete Login and Registration System in PHP and MYSQL', 'url': 'https://www.udemy.com/login-and-registration-system-in-php-and-mysql-step-by-step/', 'price': 200, 'num_subscribers': 4714, 'num_reviews': 149, 'num_lectures': 28, 'duration': '4 hours'}\n",
      "{'course_title': 'Login and Registration from Scratch with PHP and MySQL', 'url': 'https://www.udemy.com/authentication-from-scratch-with-php-and-mysql/', 'price': 20, 'num_subscribers': 1128, 'num_reviews': 77, 'num_lectures': 36, 'duration': '2 hours'}\n",
      "{'course_title': 'PHP & MySQL - Learn The Easy Way. Master PHP & MySQL Quickly', 'url': 'https://www.udemy.com/learning-php-and-mysql-development-the-easy-way/', 'price': 50, 'num_subscribers': 5549, 'num_reviews': 92, 'num_lectures': 143, 'duration': '15.5 hours'}\n",
      "{'course_title': 'Complete Website & CMS in PHP & MySQL From Scratch!', 'url': 'https://www.udemy.com/cms-admin-panel-in-php-mysql/', 'price': 20, 'num_subscribers': 3357, 'num_reviews': 82, 'num_lectures': 48, 'duration': '12.5 hours'}\n",
      "{'course_title': 'Learn E-Commerce Website in PHP & MySQL From Scratch!', 'url': 'https://www.udemy.com/ecommerce-website-in-php-mysqli/', 'price': 0, 'num_subscribers': 29990, 'num_reviews': 1342, 'num_lectures': 87, 'duration': '17.5 hours'}\n",
      "{'course_title': 'JavaScript Complete Guide to learning JavaScript', 'url': 'https://www.udemy.com/javascript-complete-guide-to-learning-javascript/', 'price': 200, 'num_subscribers': 1296, 'num_reviews': 22, 'num_lectures': 72, 'duration': '5.5 hours'}\n"
     ]
    },
    {
     "output_type": "stream",
     "name": "stderr",
     "text": [
      "127.0.0.1 - - [14/Jul/2021 05:12:07] \"GET /get/rcmd/java HTTP/1.1\" 200 -\n"
     ]
    },
    {
     "output_type": "stream",
     "name": "stdout",
     "text": [
      "Learning Dynamic Website Design - PHP MySQL and JavaScript\n",
      "2484\n",
      "{'course_title': 'Learning Dynamic Website Design - PHP MySQL and JavaScript', 'url': 'https://www.udemy.com/learning-dynamic-website-design/', 'price': 50, 'num_subscribers': 47886, 'num_reviews': 285, 'num_lectures': 125, 'duration': '12.5 hours'}\n",
      "{'course_title': 'Projects in PHP and MySQL', 'url': 'https://www.udemy.com/the-complete-web-development-course-learn-by-building-apps/', 'price': 60, 'num_subscribers': 10606, 'num_reviews': 570, 'num_lectures': 88, 'duration': '23 hours'}\n",
      "{'course_title': 'Practical Understanding of PHP and MySQL', 'url': 'https://www.udemy.com/practical-understanding-of-php-and-myqsl-demo/', 'price': 0, 'num_subscribers': 12201, 'num_reviews': 217, 'num_lectures': 24, 'duration': '5.5 hours'}\n",
      "{'course_title': 'PHP MySQL: Learn PHP MySQL with Project', 'url': 'https://www.udemy.com/php-mysql-project-learning/', 'price': 20, 'num_subscribers': 2314, 'num_reviews': 77, 'num_lectures': 25, 'duration': '2 hours'}\n",
      "{'course_title': 'PHP: Complete Login and Registration System with PHP & MYSQL', 'url': 'https://www.udemy.com/user-authentication-code-a-simple-login-system-with-php/', 'price': 200, 'num_subscribers': 1448, 'num_reviews': 173, 'num_lectures': 48, 'duration': '7.5 hours'}\n",
      "{'course_title': 'Complete Login and Registration System in PHP and MYSQL', 'url': 'https://www.udemy.com/login-and-registration-system-in-php-and-mysql-step-by-step/', 'price': 200, 'num_subscribers': 4714, 'num_reviews': 149, 'num_lectures': 28, 'duration': '4 hours'}\n",
      "{'course_title': 'Login and Registration from Scratch with PHP and MySQL', 'url': 'https://www.udemy.com/authentication-from-scratch-with-php-and-mysql/', 'price': 20, 'num_subscribers': 1128, 'num_reviews': 77, 'num_lectures': 36, 'duration': '2 hours'}\n",
      "{'course_title': 'PHP & MySQL - Learn The Easy Way. Master PHP & MySQL Quickly', 'url': 'https://www.udemy.com/learning-php-and-mysql-development-the-easy-way/', 'price': 50, 'num_subscribers': 5549, 'num_reviews': 92, 'num_lectures': 143, 'duration': '15.5 hours'}\n",
      "{'course_title': 'Complete Website & CMS in PHP & MySQL From Scratch!', 'url': 'https://www.udemy.com/cms-admin-panel-in-php-mysql/', 'price': 20, 'num_subscribers': 3357, 'num_reviews': 82, 'num_lectures': 48, 'duration': '12.5 hours'}\n",
      "{'course_title': 'Learn E-Commerce Website in PHP & MySQL From Scratch!', 'url': 'https://www.udemy.com/ecommerce-website-in-php-mysqli/', 'price': 0, 'num_subscribers': 29990, 'num_reviews': 1342, 'num_lectures': 87, 'duration': '17.5 hours'}\n",
      "{'course_title': 'JavaScript Complete Guide to learning JavaScript', 'url': 'https://www.udemy.com/javascript-complete-guide-to-learning-javascript/', 'price': 200, 'num_subscribers': 1296, 'num_reviews': 22, 'num_lectures': 72, 'duration': '5.5 hours'}\n"
     ]
    },
    {
     "output_type": "stream",
     "name": "stderr",
     "text": [
      "127.0.0.1 - - [14/Jul/2021 05:12:43] \"GET /get/rcmd/java HTTP/1.1\" 200 -\n"
     ]
    },
    {
     "output_type": "stream",
     "name": "stdout",
     "text": [
      "Learning Dynamic Website Design - PHP MySQL and JavaScript\n",
      "2484\n",
      "{'course_title': 'Learning Dynamic Website Design - PHP MySQL and JavaScript', 'url': 'https://www.udemy.com/learning-dynamic-website-design/', 'price': 50, 'num_subscribers': 47886, 'num_reviews': 285, 'num_lectures': 125, 'duration': '12.5 hours'}\n",
      "{'course_title': 'Projects in PHP and MySQL', 'url': 'https://www.udemy.com/the-complete-web-development-course-learn-by-building-apps/', 'price': 60, 'num_subscribers': 10606, 'num_reviews': 570, 'num_lectures': 88, 'duration': '23 hours'}\n",
      "{'course_title': 'Practical Understanding of PHP and MySQL', 'url': 'https://www.udemy.com/practical-understanding-of-php-and-myqsl-demo/', 'price': 0, 'num_subscribers': 12201, 'num_reviews': 217, 'num_lectures': 24, 'duration': '5.5 hours'}\n",
      "{'course_title': 'PHP MySQL: Learn PHP MySQL with Project', 'url': 'https://www.udemy.com/php-mysql-project-learning/', 'price': 20, 'num_subscribers': 2314, 'num_reviews': 77, 'num_lectures': 25, 'duration': '2 hours'}\n",
      "{'course_title': 'PHP: Complete Login and Registration System with PHP & MYSQL', 'url': 'https://www.udemy.com/user-authentication-code-a-simple-login-system-with-php/', 'price': 200, 'num_subscribers': 1448, 'num_reviews': 173, 'num_lectures': 48, 'duration': '7.5 hours'}\n",
      "{'course_title': 'Complete Login and Registration System in PHP and MYSQL', 'url': 'https://www.udemy.com/login-and-registration-system-in-php-and-mysql-step-by-step/', 'price': 200, 'num_subscribers': 4714, 'num_reviews': 149, 'num_lectures': 28, 'duration': '4 hours'}\n",
      "{'course_title': 'Login and Registration from Scratch with PHP and MySQL', 'url': 'https://www.udemy.com/authentication-from-scratch-with-php-and-mysql/', 'price': 20, 'num_subscribers': 1128, 'num_reviews': 77, 'num_lectures': 36, 'duration': '2 hours'}\n",
      "{'course_title': 'PHP & MySQL - Learn The Easy Way. Master PHP & MySQL Quickly', 'url': 'https://www.udemy.com/learning-php-and-mysql-development-the-easy-way/', 'price': 50, 'num_subscribers': 5549, 'num_reviews': 92, 'num_lectures': 143, 'duration': '15.5 hours'}\n",
      "{'course_title': 'Complete Website & CMS in PHP & MySQL From Scratch!', 'url': 'https://www.udemy.com/cms-admin-panel-in-php-mysql/', 'price': 20, 'num_subscribers': 3357, 'num_reviews': 82, 'num_lectures': 48, 'duration': '12.5 hours'}\n",
      "{'course_title': 'Learn E-Commerce Website in PHP & MySQL From Scratch!', 'url': 'https://www.udemy.com/ecommerce-website-in-php-mysqli/', 'price': 0, 'num_subscribers': 29990, 'num_reviews': 1342, 'num_lectures': 87, 'duration': '17.5 hours'}\n",
      "{'course_title': 'JavaScript Complete Guide to learning JavaScript', 'url': 'https://www.udemy.com/javascript-complete-guide-to-learning-javascript/', 'price': 200, 'num_subscribers': 1296, 'num_reviews': 22, 'num_lectures': 72, 'duration': '5.5 hours'}\n"
     ]
    },
    {
     "output_type": "stream",
     "name": "stderr",
     "text": [
      "127.0.0.1 - - [14/Jul/2021 05:13:14] \"GET /get/rcmd/java HTTP/1.1\" 200 -\n"
     ]
    },
    {
     "output_type": "stream",
     "name": "stdout",
     "text": [
      "Learning Dynamic Website Design - PHP MySQL and JavaScript\n",
      "2484\n",
      "{'course_title': 'Learning Dynamic Website Design - PHP MySQL and JavaScript', 'url': 'https://www.udemy.com/learning-dynamic-website-design/', 'price': 50, 'num_subscribers': 47886, 'num_reviews': 285, 'num_lectures': 125, 'duration': '12.5 hours'}\n",
      "{'course_title': 'Projects in PHP and MySQL', 'url': 'https://www.udemy.com/the-complete-web-development-course-learn-by-building-apps/', 'price': 60, 'num_subscribers': 10606, 'num_reviews': 570, 'num_lectures': 88, 'duration': '23 hours'}\n",
      "{'course_title': 'Practical Understanding of PHP and MySQL', 'url': 'https://www.udemy.com/practical-understanding-of-php-and-myqsl-demo/', 'price': 0, 'num_subscribers': 12201, 'num_reviews': 217, 'num_lectures': 24, 'duration': '5.5 hours'}\n",
      "{'course_title': 'PHP MySQL: Learn PHP MySQL with Project', 'url': 'https://www.udemy.com/php-mysql-project-learning/', 'price': 20, 'num_subscribers': 2314, 'num_reviews': 77, 'num_lectures': 25, 'duration': '2 hours'}\n",
      "{'course_title': 'PHP: Complete Login and Registration System with PHP & MYSQL', 'url': 'https://www.udemy.com/user-authentication-code-a-simple-login-system-with-php/', 'price': 200, 'num_subscribers': 1448, 'num_reviews': 173, 'num_lectures': 48, 'duration': '7.5 hours'}\n",
      "{'course_title': 'Complete Login and Registration System in PHP and MYSQL', 'url': 'https://www.udemy.com/login-and-registration-system-in-php-and-mysql-step-by-step/', 'price': 200, 'num_subscribers': 4714, 'num_reviews': 149, 'num_lectures': 28, 'duration': '4 hours'}\n",
      "{'course_title': 'Login and Registration from Scratch with PHP and MySQL', 'url': 'https://www.udemy.com/authentication-from-scratch-with-php-and-mysql/', 'price': 20, 'num_subscribers': 1128, 'num_reviews': 77, 'num_lectures': 36, 'duration': '2 hours'}\n",
      "{'course_title': 'PHP & MySQL - Learn The Easy Way. Master PHP & MySQL Quickly', 'url': 'https://www.udemy.com/learning-php-and-mysql-development-the-easy-way/', 'price': 50, 'num_subscribers': 5549, 'num_reviews': 92, 'num_lectures': 143, 'duration': '15.5 hours'}\n",
      "{'course_title': 'Complete Website & CMS in PHP & MySQL From Scratch!', 'url': 'https://www.udemy.com/cms-admin-panel-in-php-mysql/', 'price': 20, 'num_subscribers': 3357, 'num_reviews': 82, 'num_lectures': 48, 'duration': '12.5 hours'}\n",
      "{'course_title': 'Learn E-Commerce Website in PHP & MySQL From Scratch!', 'url': 'https://www.udemy.com/ecommerce-website-in-php-mysqli/', 'price': 0, 'num_subscribers': 29990, 'num_reviews': 1342, 'num_lectures': 87, 'duration': '17.5 hours'}\n",
      "{'course_title': 'JavaScript Complete Guide to learning JavaScript', 'url': 'https://www.udemy.com/javascript-complete-guide-to-learning-javascript/', 'price': 200, 'num_subscribers': 1296, 'num_reviews': 22, 'num_lectures': 72, 'duration': '5.5 hours'}\n"
     ]
    },
    {
     "output_type": "stream",
     "name": "stderr",
     "text": [
      "127.0.0.1 - - [14/Jul/2021 05:28:46] \"GET /get/rcmd/java HTTP/1.1\" 200 -\n"
     ]
    },
    {
     "output_type": "stream",
     "name": "stdout",
     "text": [
      "Learning Dynamic Website Design - PHP MySQL and JavaScript\n",
      "2484\n",
      "{'course_title': 'Learning Dynamic Website Design - PHP MySQL and JavaScript', 'url': 'https://www.udemy.com/learning-dynamic-website-design/', 'price': 50, 'num_subscribers': 47886, 'num_reviews': 285, 'num_lectures': 125, 'duration': '12.5 hours'}\n",
      "{'course_title': 'Projects in PHP and MySQL', 'url': 'https://www.udemy.com/the-complete-web-development-course-learn-by-building-apps/', 'price': 60, 'num_subscribers': 10606, 'num_reviews': 570, 'num_lectures': 88, 'duration': '23 hours'}\n",
      "{'course_title': 'Practical Understanding of PHP and MySQL', 'url': 'https://www.udemy.com/practical-understanding-of-php-and-myqsl-demo/', 'price': 0, 'num_subscribers': 12201, 'num_reviews': 217, 'num_lectures': 24, 'duration': '5.5 hours'}\n",
      "{'course_title': 'PHP MySQL: Learn PHP MySQL with Project', 'url': 'https://www.udemy.com/php-mysql-project-learning/', 'price': 20, 'num_subscribers': 2314, 'num_reviews': 77, 'num_lectures': 25, 'duration': '2 hours'}\n",
      "{'course_title': 'PHP: Complete Login and Registration System with PHP & MYSQL', 'url': 'https://www.udemy.com/user-authentication-code-a-simple-login-system-with-php/', 'price': 200, 'num_subscribers': 1448, 'num_reviews': 173, 'num_lectures': 48, 'duration': '7.5 hours'}\n",
      "{'course_title': 'Complete Login and Registration System in PHP and MYSQL', 'url': 'https://www.udemy.com/login-and-registration-system-in-php-and-mysql-step-by-step/', 'price': 200, 'num_subscribers': 4714, 'num_reviews': 149, 'num_lectures': 28, 'duration': '4 hours'}\n",
      "{'course_title': 'Login and Registration from Scratch with PHP and MySQL', 'url': 'https://www.udemy.com/authentication-from-scratch-with-php-and-mysql/', 'price': 20, 'num_subscribers': 1128, 'num_reviews': 77, 'num_lectures': 36, 'duration': '2 hours'}\n",
      "{'course_title': 'PHP & MySQL - Learn The Easy Way. Master PHP & MySQL Quickly', 'url': 'https://www.udemy.com/learning-php-and-mysql-development-the-easy-way/', 'price': 50, 'num_subscribers': 5549, 'num_reviews': 92, 'num_lectures': 143, 'duration': '15.5 hours'}\n",
      "{'course_title': 'Complete Website & CMS in PHP & MySQL From Scratch!', 'url': 'https://www.udemy.com/cms-admin-panel-in-php-mysql/', 'price': 20, 'num_subscribers': 3357, 'num_reviews': 82, 'num_lectures': 48, 'duration': '12.5 hours'}\n",
      "{'course_title': 'Learn E-Commerce Website in PHP & MySQL From Scratch!', 'url': 'https://www.udemy.com/ecommerce-website-in-php-mysqli/', 'price': 0, 'num_subscribers': 29990, 'num_reviews': 1342, 'num_lectures': 87, 'duration': '17.5 hours'}\n",
      "{'course_title': 'JavaScript Complete Guide to learning JavaScript', 'url': 'https://www.udemy.com/javascript-complete-guide-to-learning-javascript/', 'price': 200, 'num_subscribers': 1296, 'num_reviews': 22, 'num_lectures': 72, 'duration': '5.5 hours'}\n"
     ]
    },
    {
     "output_type": "stream",
     "name": "stderr",
     "text": [
      "127.0.0.1 - - [14/Jul/2021 05:29:55] \"GET /get/rcmd/java HTTP/1.1\" 200 -\n"
     ]
    },
    {
     "output_type": "stream",
     "name": "stdout",
     "text": [
      "Learning Dynamic Website Design - PHP MySQL and JavaScript\n",
      "2484\n",
      "{'course_title': 'Learning Dynamic Website Design - PHP MySQL and JavaScript', 'url': 'https://www.udemy.com/learning-dynamic-website-design/', 'price': 50, 'num_subscribers': 47886, 'num_reviews': 285, 'num_lectures': 125, 'duration': '12.5 hours'}\n",
      "{'course_title': 'Projects in PHP and MySQL', 'url': 'https://www.udemy.com/the-complete-web-development-course-learn-by-building-apps/', 'price': 60, 'num_subscribers': 10606, 'num_reviews': 570, 'num_lectures': 88, 'duration': '23 hours'}\n",
      "{'course_title': 'Practical Understanding of PHP and MySQL', 'url': 'https://www.udemy.com/practical-understanding-of-php-and-myqsl-demo/', 'price': 0, 'num_subscribers': 12201, 'num_reviews': 217, 'num_lectures': 24, 'duration': '5.5 hours'}\n",
      "{'course_title': 'PHP MySQL: Learn PHP MySQL with Project', 'url': 'https://www.udemy.com/php-mysql-project-learning/', 'price': 20, 'num_subscribers': 2314, 'num_reviews': 77, 'num_lectures': 25, 'duration': '2 hours'}\n",
      "{'course_title': 'PHP: Complete Login and Registration System with PHP & MYSQL', 'url': 'https://www.udemy.com/user-authentication-code-a-simple-login-system-with-php/', 'price': 200, 'num_subscribers': 1448, 'num_reviews': 173, 'num_lectures': 48, 'duration': '7.5 hours'}\n",
      "{'course_title': 'Complete Login and Registration System in PHP and MYSQL', 'url': 'https://www.udemy.com/login-and-registration-system-in-php-and-mysql-step-by-step/', 'price': 200, 'num_subscribers': 4714, 'num_reviews': 149, 'num_lectures': 28, 'duration': '4 hours'}\n",
      "{'course_title': 'Login and Registration from Scratch with PHP and MySQL', 'url': 'https://www.udemy.com/authentication-from-scratch-with-php-and-mysql/', 'price': 20, 'num_subscribers': 1128, 'num_reviews': 77, 'num_lectures': 36, 'duration': '2 hours'}\n",
      "{'course_title': 'PHP & MySQL - Learn The Easy Way. Master PHP & MySQL Quickly', 'url': 'https://www.udemy.com/learning-php-and-mysql-development-the-easy-way/', 'price': 50, 'num_subscribers': 5549, 'num_reviews': 92, 'num_lectures': 143, 'duration': '15.5 hours'}\n",
      "{'course_title': 'Complete Website & CMS in PHP & MySQL From Scratch!', 'url': 'https://www.udemy.com/cms-admin-panel-in-php-mysql/', 'price': 20, 'num_subscribers': 3357, 'num_reviews': 82, 'num_lectures': 48, 'duration': '12.5 hours'}\n",
      "{'course_title': 'Learn E-Commerce Website in PHP & MySQL From Scratch!', 'url': 'https://www.udemy.com/ecommerce-website-in-php-mysqli/', 'price': 0, 'num_subscribers': 29990, 'num_reviews': 1342, 'num_lectures': 87, 'duration': '17.5 hours'}\n",
      "{'course_title': 'JavaScript Complete Guide to learning JavaScript', 'url': 'https://www.udemy.com/javascript-complete-guide-to-learning-javascript/', 'price': 200, 'num_subscribers': 1296, 'num_reviews': 22, 'num_lectures': 72, 'duration': '5.5 hours'}\n"
     ]
    },
    {
     "output_type": "stream",
     "name": "stderr",
     "text": [
      "127.0.0.1 - - [14/Jul/2021 05:31:28] \"GET /get/rcmd/java HTTP/1.1\" 200 -\n"
     ]
    },
    {
     "output_type": "stream",
     "name": "stdout",
     "text": [
      "Learning Dynamic Website Design - PHP MySQL and JavaScript\n",
      "2484\n",
      "{'course_title': 'Learning Dynamic Website Design - PHP MySQL and JavaScript', 'url': 'https://www.udemy.com/learning-dynamic-website-design/', 'price': 50, 'num_subscribers': 47886, 'num_reviews': 285, 'num_lectures': 125, 'duration': '12.5 hours'}\n",
      "{'course_title': 'Projects in PHP and MySQL', 'url': 'https://www.udemy.com/the-complete-web-development-course-learn-by-building-apps/', 'price': 60, 'num_subscribers': 10606, 'num_reviews': 570, 'num_lectures': 88, 'duration': '23 hours'}\n",
      "{'course_title': 'Practical Understanding of PHP and MySQL', 'url': 'https://www.udemy.com/practical-understanding-of-php-and-myqsl-demo/', 'price': 0, 'num_subscribers': 12201, 'num_reviews': 217, 'num_lectures': 24, 'duration': '5.5 hours'}\n",
      "{'course_title': 'PHP MySQL: Learn PHP MySQL with Project', 'url': 'https://www.udemy.com/php-mysql-project-learning/', 'price': 20, 'num_subscribers': 2314, 'num_reviews': 77, 'num_lectures': 25, 'duration': '2 hours'}\n",
      "{'course_title': 'PHP: Complete Login and Registration System with PHP & MYSQL', 'url': 'https://www.udemy.com/user-authentication-code-a-simple-login-system-with-php/', 'price': 200, 'num_subscribers': 1448, 'num_reviews': 173, 'num_lectures': 48, 'duration': '7.5 hours'}\n",
      "{'course_title': 'Complete Login and Registration System in PHP and MYSQL', 'url': 'https://www.udemy.com/login-and-registration-system-in-php-and-mysql-step-by-step/', 'price': 200, 'num_subscribers': 4714, 'num_reviews': 149, 'num_lectures': 28, 'duration': '4 hours'}\n",
      "{'course_title': 'Login and Registration from Scratch with PHP and MySQL', 'url': 'https://www.udemy.com/authentication-from-scratch-with-php-and-mysql/', 'price': 20, 'num_subscribers': 1128, 'num_reviews': 77, 'num_lectures': 36, 'duration': '2 hours'}\n",
      "{'course_title': 'PHP & MySQL - Learn The Easy Way. Master PHP & MySQL Quickly', 'url': 'https://www.udemy.com/learning-php-and-mysql-development-the-easy-way/', 'price': 50, 'num_subscribers': 5549, 'num_reviews': 92, 'num_lectures': 143, 'duration': '15.5 hours'}\n",
      "{'course_title': 'Complete Website & CMS in PHP & MySQL From Scratch!', 'url': 'https://www.udemy.com/cms-admin-panel-in-php-mysql/', 'price': 20, 'num_subscribers': 3357, 'num_reviews': 82, 'num_lectures': 48, 'duration': '12.5 hours'}\n",
      "{'course_title': 'Learn E-Commerce Website in PHP & MySQL From Scratch!', 'url': 'https://www.udemy.com/ecommerce-website-in-php-mysqli/', 'price': 0, 'num_subscribers': 29990, 'num_reviews': 1342, 'num_lectures': 87, 'duration': '17.5 hours'}\n",
      "{'course_title': 'JavaScript Complete Guide to learning JavaScript', 'url': 'https://www.udemy.com/javascript-complete-guide-to-learning-javascript/', 'price': 200, 'num_subscribers': 1296, 'num_reviews': 22, 'num_lectures': 72, 'duration': '5.5 hours'}\n"
     ]
    },
    {
     "output_type": "stream",
     "name": "stderr",
     "text": [
      "127.0.0.1 - - [14/Jul/2021 05:31:54] \"GET /get/rcmd/java HTTP/1.1\" 200 -\n"
     ]
    },
    {
     "output_type": "stream",
     "name": "stdout",
     "text": [
      "Learning Dynamic Website Design - PHP MySQL and JavaScript\n",
      "2484\n",
      "{'course_title': 'Learning Dynamic Website Design - PHP MySQL and JavaScript', 'url': 'https://www.udemy.com/learning-dynamic-website-design/', 'price': 50, 'num_subscribers': 47886, 'num_reviews': 285, 'num_lectures': 125, 'duration': '12.5 hours'}\n",
      "{'course_title': 'Projects in PHP and MySQL', 'url': 'https://www.udemy.com/the-complete-web-development-course-learn-by-building-apps/', 'price': 60, 'num_subscribers': 10606, 'num_reviews': 570, 'num_lectures': 88, 'duration': '23 hours'}\n",
      "{'course_title': 'Practical Understanding of PHP and MySQL', 'url': 'https://www.udemy.com/practical-understanding-of-php-and-myqsl-demo/', 'price': 0, 'num_subscribers': 12201, 'num_reviews': 217, 'num_lectures': 24, 'duration': '5.5 hours'}\n",
      "{'course_title': 'PHP MySQL: Learn PHP MySQL with Project', 'url': 'https://www.udemy.com/php-mysql-project-learning/', 'price': 20, 'num_subscribers': 2314, 'num_reviews': 77, 'num_lectures': 25, 'duration': '2 hours'}\n",
      "{'course_title': 'PHP: Complete Login and Registration System with PHP & MYSQL', 'url': 'https://www.udemy.com/user-authentication-code-a-simple-login-system-with-php/', 'price': 200, 'num_subscribers': 1448, 'num_reviews': 173, 'num_lectures': 48, 'duration': '7.5 hours'}\n",
      "{'course_title': 'Complete Login and Registration System in PHP and MYSQL', 'url': 'https://www.udemy.com/login-and-registration-system-in-php-and-mysql-step-by-step/', 'price': 200, 'num_subscribers': 4714, 'num_reviews': 149, 'num_lectures': 28, 'duration': '4 hours'}\n",
      "{'course_title': 'Login and Registration from Scratch with PHP and MySQL', 'url': 'https://www.udemy.com/authentication-from-scratch-with-php-and-mysql/', 'price': 20, 'num_subscribers': 1128, 'num_reviews': 77, 'num_lectures': 36, 'duration': '2 hours'}\n",
      "{'course_title': 'PHP & MySQL - Learn The Easy Way. Master PHP & MySQL Quickly', 'url': 'https://www.udemy.com/learning-php-and-mysql-development-the-easy-way/', 'price': 50, 'num_subscribers': 5549, 'num_reviews': 92, 'num_lectures': 143, 'duration': '15.5 hours'}\n",
      "{'course_title': 'Complete Website & CMS in PHP & MySQL From Scratch!', 'url': 'https://www.udemy.com/cms-admin-panel-in-php-mysql/', 'price': 20, 'num_subscribers': 3357, 'num_reviews': 82, 'num_lectures': 48, 'duration': '12.5 hours'}\n",
      "{'course_title': 'Learn E-Commerce Website in PHP & MySQL From Scratch!', 'url': 'https://www.udemy.com/ecommerce-website-in-php-mysqli/', 'price': 0, 'num_subscribers': 29990, 'num_reviews': 1342, 'num_lectures': 87, 'duration': '17.5 hours'}\n",
      "{'course_title': 'JavaScript Complete Guide to learning JavaScript', 'url': 'https://www.udemy.com/javascript-complete-guide-to-learning-javascript/', 'price': 200, 'num_subscribers': 1296, 'num_reviews': 22, 'num_lectures': 72, 'duration': '5.5 hours'}\n"
     ]
    },
    {
     "output_type": "stream",
     "name": "stderr",
     "text": [
      "127.0.0.1 - - [14/Jul/2021 05:33:37] \"GET /get/rcmd/java HTTP/1.1\" 200 -\n"
     ]
    },
    {
     "output_type": "stream",
     "name": "stdout",
     "text": [
      "Learning Dynamic Website Design - PHP MySQL and JavaScript\n",
      "2484\n",
      "{'course_title': 'Learning Dynamic Website Design - PHP MySQL and JavaScript', 'url': 'https://www.udemy.com/learning-dynamic-website-design/', 'price': 50, 'num_subscribers': 47886, 'num_reviews': 285, 'num_lectures': 125, 'duration': '12.5 hours'}\n",
      "{'course_title': 'Projects in PHP and MySQL', 'url': 'https://www.udemy.com/the-complete-web-development-course-learn-by-building-apps/', 'price': 60, 'num_subscribers': 10606, 'num_reviews': 570, 'num_lectures': 88, 'duration': '23 hours'}\n",
      "{'course_title': 'Practical Understanding of PHP and MySQL', 'url': 'https://www.udemy.com/practical-understanding-of-php-and-myqsl-demo/', 'price': 0, 'num_subscribers': 12201, 'num_reviews': 217, 'num_lectures': 24, 'duration': '5.5 hours'}\n",
      "{'course_title': 'PHP MySQL: Learn PHP MySQL with Project', 'url': 'https://www.udemy.com/php-mysql-project-learning/', 'price': 20, 'num_subscribers': 2314, 'num_reviews': 77, 'num_lectures': 25, 'duration': '2 hours'}\n",
      "{'course_title': 'PHP: Complete Login and Registration System with PHP & MYSQL', 'url': 'https://www.udemy.com/user-authentication-code-a-simple-login-system-with-php/', 'price': 200, 'num_subscribers': 1448, 'num_reviews': 173, 'num_lectures': 48, 'duration': '7.5 hours'}\n",
      "{'course_title': 'Complete Login and Registration System in PHP and MYSQL', 'url': 'https://www.udemy.com/login-and-registration-system-in-php-and-mysql-step-by-step/', 'price': 200, 'num_subscribers': 4714, 'num_reviews': 149, 'num_lectures': 28, 'duration': '4 hours'}\n",
      "{'course_title': 'Login and Registration from Scratch with PHP and MySQL', 'url': 'https://www.udemy.com/authentication-from-scratch-with-php-and-mysql/', 'price': 20, 'num_subscribers': 1128, 'num_reviews': 77, 'num_lectures': 36, 'duration': '2 hours'}\n",
      "{'course_title': 'PHP & MySQL - Learn The Easy Way. Master PHP & MySQL Quickly', 'url': 'https://www.udemy.com/learning-php-and-mysql-development-the-easy-way/', 'price': 50, 'num_subscribers': 5549, 'num_reviews': 92, 'num_lectures': 143, 'duration': '15.5 hours'}\n",
      "{'course_title': 'Complete Website & CMS in PHP & MySQL From Scratch!', 'url': 'https://www.udemy.com/cms-admin-panel-in-php-mysql/', 'price': 20, 'num_subscribers': 3357, 'num_reviews': 82, 'num_lectures': 48, 'duration': '12.5 hours'}\n",
      "{'course_title': 'Learn E-Commerce Website in PHP & MySQL From Scratch!', 'url': 'https://www.udemy.com/ecommerce-website-in-php-mysqli/', 'price': 0, 'num_subscribers': 29990, 'num_reviews': 1342, 'num_lectures': 87, 'duration': '17.5 hours'}\n",
      "{'course_title': 'JavaScript Complete Guide to learning JavaScript', 'url': 'https://www.udemy.com/javascript-complete-guide-to-learning-javascript/', 'price': 200, 'num_subscribers': 1296, 'num_reviews': 22, 'num_lectures': 72, 'duration': '5.5 hours'}\n"
     ]
    },
    {
     "output_type": "stream",
     "name": "stderr",
     "text": [
      "127.0.0.1 - - [14/Jul/2021 05:33:57] \"GET /get/rcmd/java HTTP/1.1\" 200 -\n"
     ]
    },
    {
     "output_type": "stream",
     "name": "stdout",
     "text": [
      "Learning Dynamic Website Design - PHP MySQL and JavaScript\n",
      "2484\n",
      "{'course_title': 'Learning Dynamic Website Design - PHP MySQL and JavaScript', 'url': 'https://www.udemy.com/learning-dynamic-website-design/', 'price': 50, 'num_subscribers': 47886, 'num_reviews': 285, 'num_lectures': 125, 'duration': '12.5 hours'}\n",
      "{'course_title': 'Projects in PHP and MySQL', 'url': 'https://www.udemy.com/the-complete-web-development-course-learn-by-building-apps/', 'price': 60, 'num_subscribers': 10606, 'num_reviews': 570, 'num_lectures': 88, 'duration': '23 hours'}\n",
      "{'course_title': 'Practical Understanding of PHP and MySQL', 'url': 'https://www.udemy.com/practical-understanding-of-php-and-myqsl-demo/', 'price': 0, 'num_subscribers': 12201, 'num_reviews': 217, 'num_lectures': 24, 'duration': '5.5 hours'}\n",
      "{'course_title': 'PHP MySQL: Learn PHP MySQL with Project', 'url': 'https://www.udemy.com/php-mysql-project-learning/', 'price': 20, 'num_subscribers': 2314, 'num_reviews': 77, 'num_lectures': 25, 'duration': '2 hours'}\n",
      "{'course_title': 'PHP: Complete Login and Registration System with PHP & MYSQL', 'url': 'https://www.udemy.com/user-authentication-code-a-simple-login-system-with-php/', 'price': 200, 'num_subscribers': 1448, 'num_reviews': 173, 'num_lectures': 48, 'duration': '7.5 hours'}\n",
      "{'course_title': 'Complete Login and Registration System in PHP and MYSQL', 'url': 'https://www.udemy.com/login-and-registration-system-in-php-and-mysql-step-by-step/', 'price': 200, 'num_subscribers': 4714, 'num_reviews': 149, 'num_lectures': 28, 'duration': '4 hours'}\n",
      "{'course_title': 'Login and Registration from Scratch with PHP and MySQL', 'url': 'https://www.udemy.com/authentication-from-scratch-with-php-and-mysql/', 'price': 20, 'num_subscribers': 1128, 'num_reviews': 77, 'num_lectures': 36, 'duration': '2 hours'}\n",
      "{'course_title': 'PHP & MySQL - Learn The Easy Way. Master PHP & MySQL Quickly', 'url': 'https://www.udemy.com/learning-php-and-mysql-development-the-easy-way/', 'price': 50, 'num_subscribers': 5549, 'num_reviews': 92, 'num_lectures': 143, 'duration': '15.5 hours'}\n",
      "{'course_title': 'Complete Website & CMS in PHP & MySQL From Scratch!', 'url': 'https://www.udemy.com/cms-admin-panel-in-php-mysql/', 'price': 20, 'num_subscribers': 3357, 'num_reviews': 82, 'num_lectures': 48, 'duration': '12.5 hours'}\n",
      "{'course_title': 'Learn E-Commerce Website in PHP & MySQL From Scratch!', 'url': 'https://www.udemy.com/ecommerce-website-in-php-mysqli/', 'price': 0, 'num_subscribers': 29990, 'num_reviews': 1342, 'num_lectures': 87, 'duration': '17.5 hours'}\n",
      "{'course_title': 'JavaScript Complete Guide to learning JavaScript', 'url': 'https://www.udemy.com/javascript-complete-guide-to-learning-javascript/', 'price': 200, 'num_subscribers': 1296, 'num_reviews': 22, 'num_lectures': 72, 'duration': '5.5 hours'}\n"
     ]
    },
    {
     "output_type": "stream",
     "name": "stderr",
     "text": [
      "127.0.0.1 - - [14/Jul/2021 05:33:59] \"GET /get/rcmd/java HTTP/1.1\" 200 -\n"
     ]
    },
    {
     "output_type": "stream",
     "name": "stdout",
     "text": [
      "Learning Dynamic Website Design - PHP MySQL and JavaScript\n",
      "2484\n",
      "{'course_title': 'Learning Dynamic Website Design - PHP MySQL and JavaScript', 'url': 'https://www.udemy.com/learning-dynamic-website-design/', 'price': 50, 'num_subscribers': 47886, 'num_reviews': 285, 'num_lectures': 125, 'duration': '12.5 hours'}\n",
      "{'course_title': 'Projects in PHP and MySQL', 'url': 'https://www.udemy.com/the-complete-web-development-course-learn-by-building-apps/', 'price': 60, 'num_subscribers': 10606, 'num_reviews': 570, 'num_lectures': 88, 'duration': '23 hours'}\n",
      "{'course_title': 'Practical Understanding of PHP and MySQL', 'url': 'https://www.udemy.com/practical-understanding-of-php-and-myqsl-demo/', 'price': 0, 'num_subscribers': 12201, 'num_reviews': 217, 'num_lectures': 24, 'duration': '5.5 hours'}\n",
      "{'course_title': 'PHP MySQL: Learn PHP MySQL with Project', 'url': 'https://www.udemy.com/php-mysql-project-learning/', 'price': 20, 'num_subscribers': 2314, 'num_reviews': 77, 'num_lectures': 25, 'duration': '2 hours'}\n",
      "{'course_title': 'PHP: Complete Login and Registration System with PHP & MYSQL', 'url': 'https://www.udemy.com/user-authentication-code-a-simple-login-system-with-php/', 'price': 200, 'num_subscribers': 1448, 'num_reviews': 173, 'num_lectures': 48, 'duration': '7.5 hours'}\n",
      "{'course_title': 'Complete Login and Registration System in PHP and MYSQL', 'url': 'https://www.udemy.com/login-and-registration-system-in-php-and-mysql-step-by-step/', 'price': 200, 'num_subscribers': 4714, 'num_reviews': 149, 'num_lectures': 28, 'duration': '4 hours'}\n",
      "{'course_title': 'Login and Registration from Scratch with PHP and MySQL', 'url': 'https://www.udemy.com/authentication-from-scratch-with-php-and-mysql/', 'price': 20, 'num_subscribers': 1128, 'num_reviews': 77, 'num_lectures': 36, 'duration': '2 hours'}\n",
      "{'course_title': 'PHP & MySQL - Learn The Easy Way. Master PHP & MySQL Quickly', 'url': 'https://www.udemy.com/learning-php-and-mysql-development-the-easy-way/', 'price': 50, 'num_subscribers': 5549, 'num_reviews': 92, 'num_lectures': 143, 'duration': '15.5 hours'}\n",
      "{'course_title': 'Complete Website & CMS in PHP & MySQL From Scratch!', 'url': 'https://www.udemy.com/cms-admin-panel-in-php-mysql/', 'price': 20, 'num_subscribers': 3357, 'num_reviews': 82, 'num_lectures': 48, 'duration': '12.5 hours'}\n",
      "{'course_title': 'Learn E-Commerce Website in PHP & MySQL From Scratch!', 'url': 'https://www.udemy.com/ecommerce-website-in-php-mysqli/', 'price': 0, 'num_subscribers': 29990, 'num_reviews': 1342, 'num_lectures': 87, 'duration': '17.5 hours'}\n",
      "{'course_title': 'JavaScript Complete Guide to learning JavaScript', 'url': 'https://www.udemy.com/javascript-complete-guide-to-learning-javascript/', 'price': 200, 'num_subscribers': 1296, 'num_reviews': 22, 'num_lectures': 72, 'duration': '5.5 hours'}\n"
     ]
    },
    {
     "output_type": "stream",
     "name": "stderr",
     "text": [
      "127.0.0.1 - - [14/Jul/2021 05:34:01] \"GET /get/rcmd/java HTTP/1.1\" 200 -\n"
     ]
    },
    {
     "output_type": "stream",
     "name": "stdout",
     "text": [
      "Learning Dynamic Website Design - PHP MySQL and JavaScript\n",
      "2484\n",
      "{'course_title': 'Learning Dynamic Website Design - PHP MySQL and JavaScript', 'url': 'https://www.udemy.com/learning-dynamic-website-design/', 'price': 50, 'num_subscribers': 47886, 'num_reviews': 285, 'num_lectures': 125, 'duration': '12.5 hours'}\n",
      "{'course_title': 'Projects in PHP and MySQL', 'url': 'https://www.udemy.com/the-complete-web-development-course-learn-by-building-apps/', 'price': 60, 'num_subscribers': 10606, 'num_reviews': 570, 'num_lectures': 88, 'duration': '23 hours'}\n",
      "{'course_title': 'Practical Understanding of PHP and MySQL', 'url': 'https://www.udemy.com/practical-understanding-of-php-and-myqsl-demo/', 'price': 0, 'num_subscribers': 12201, 'num_reviews': 217, 'num_lectures': 24, 'duration': '5.5 hours'}\n",
      "{'course_title': 'PHP MySQL: Learn PHP MySQL with Project', 'url': 'https://www.udemy.com/php-mysql-project-learning/', 'price': 20, 'num_subscribers': 2314, 'num_reviews': 77, 'num_lectures': 25, 'duration': '2 hours'}\n",
      "{'course_title': 'PHP: Complete Login and Registration System with PHP & MYSQL', 'url': 'https://www.udemy.com/user-authentication-code-a-simple-login-system-with-php/', 'price': 200, 'num_subscribers': 1448, 'num_reviews': 173, 'num_lectures': 48, 'duration': '7.5 hours'}\n",
      "{'course_title': 'Complete Login and Registration System in PHP and MYSQL', 'url': 'https://www.udemy.com/login-and-registration-system-in-php-and-mysql-step-by-step/', 'price': 200, 'num_subscribers': 4714, 'num_reviews': 149, 'num_lectures': 28, 'duration': '4 hours'}\n",
      "{'course_title': 'Login and Registration from Scratch with PHP and MySQL', 'url': 'https://www.udemy.com/authentication-from-scratch-with-php-and-mysql/', 'price': 20, 'num_subscribers': 1128, 'num_reviews': 77, 'num_lectures': 36, 'duration': '2 hours'}\n",
      "{'course_title': 'PHP & MySQL - Learn The Easy Way. Master PHP & MySQL Quickly', 'url': 'https://www.udemy.com/learning-php-and-mysql-development-the-easy-way/', 'price': 50, 'num_subscribers': 5549, 'num_reviews': 92, 'num_lectures': 143, 'duration': '15.5 hours'}\n",
      "{'course_title': 'Complete Website & CMS in PHP & MySQL From Scratch!', 'url': 'https://www.udemy.com/cms-admin-panel-in-php-mysql/', 'price': 20, 'num_subscribers': 3357, 'num_reviews': 82, 'num_lectures': 48, 'duration': '12.5 hours'}\n",
      "{'course_title': 'Learn E-Commerce Website in PHP & MySQL From Scratch!', 'url': 'https://www.udemy.com/ecommerce-website-in-php-mysqli/', 'price': 0, 'num_subscribers': 29990, 'num_reviews': 1342, 'num_lectures': 87, 'duration': '17.5 hours'}\n",
      "{'course_title': 'JavaScript Complete Guide to learning JavaScript', 'url': 'https://www.udemy.com/javascript-complete-guide-to-learning-javascript/', 'price': 200, 'num_subscribers': 1296, 'num_reviews': 22, 'num_lectures': 72, 'duration': '5.5 hours'}\n"
     ]
    },
    {
     "output_type": "stream",
     "name": "stderr",
     "text": [
      "127.0.0.1 - - [14/Jul/2021 05:34:02] \"GET /get/rcmd/java HTTP/1.1\" 200 -\n"
     ]
    },
    {
     "output_type": "stream",
     "name": "stdout",
     "text": [
      "Learning Dynamic Website Design - PHP MySQL and JavaScript\n",
      "2484\n",
      "{'course_title': 'Learning Dynamic Website Design - PHP MySQL and JavaScript', 'url': 'https://www.udemy.com/learning-dynamic-website-design/', 'price': 50, 'num_subscribers': 47886, 'num_reviews': 285, 'num_lectures': 125, 'duration': '12.5 hours'}\n",
      "{'course_title': 'Projects in PHP and MySQL', 'url': 'https://www.udemy.com/the-complete-web-development-course-learn-by-building-apps/', 'price': 60, 'num_subscribers': 10606, 'num_reviews': 570, 'num_lectures': 88, 'duration': '23 hours'}\n",
      "{'course_title': 'Practical Understanding of PHP and MySQL', 'url': 'https://www.udemy.com/practical-understanding-of-php-and-myqsl-demo/', 'price': 0, 'num_subscribers': 12201, 'num_reviews': 217, 'num_lectures': 24, 'duration': '5.5 hours'}\n",
      "{'course_title': 'PHP MySQL: Learn PHP MySQL with Project', 'url': 'https://www.udemy.com/php-mysql-project-learning/', 'price': 20, 'num_subscribers': 2314, 'num_reviews': 77, 'num_lectures': 25, 'duration': '2 hours'}\n",
      "{'course_title': 'PHP: Complete Login and Registration System with PHP & MYSQL', 'url': 'https://www.udemy.com/user-authentication-code-a-simple-login-system-with-php/', 'price': 200, 'num_subscribers': 1448, 'num_reviews': 173, 'num_lectures': 48, 'duration': '7.5 hours'}\n",
      "{'course_title': 'Complete Login and Registration System in PHP and MYSQL', 'url': 'https://www.udemy.com/login-and-registration-system-in-php-and-mysql-step-by-step/', 'price': 200, 'num_subscribers': 4714, 'num_reviews': 149, 'num_lectures': 28, 'duration': '4 hours'}\n",
      "{'course_title': 'Login and Registration from Scratch with PHP and MySQL', 'url': 'https://www.udemy.com/authentication-from-scratch-with-php-and-mysql/', 'price': 20, 'num_subscribers': 1128, 'num_reviews': 77, 'num_lectures': 36, 'duration': '2 hours'}\n",
      "{'course_title': 'PHP & MySQL - Learn The Easy Way. Master PHP & MySQL Quickly', 'url': 'https://www.udemy.com/learning-php-and-mysql-development-the-easy-way/', 'price': 50, 'num_subscribers': 5549, 'num_reviews': 92, 'num_lectures': 143, 'duration': '15.5 hours'}\n",
      "{'course_title': 'Complete Website & CMS in PHP & MySQL From Scratch!', 'url': 'https://www.udemy.com/cms-admin-panel-in-php-mysql/', 'price': 20, 'num_subscribers': 3357, 'num_reviews': 82, 'num_lectures': 48, 'duration': '12.5 hours'}\n",
      "{'course_title': 'Learn E-Commerce Website in PHP & MySQL From Scratch!', 'url': 'https://www.udemy.com/ecommerce-website-in-php-mysqli/', 'price': 0, 'num_subscribers': 29990, 'num_reviews': 1342, 'num_lectures': 87, 'duration': '17.5 hours'}\n",
      "{'course_title': 'JavaScript Complete Guide to learning JavaScript', 'url': 'https://www.udemy.com/javascript-complete-guide-to-learning-javascript/', 'price': 200, 'num_subscribers': 1296, 'num_reviews': 22, 'num_lectures': 72, 'duration': '5.5 hours'}\n"
     ]
    },
    {
     "output_type": "stream",
     "name": "stderr",
     "text": [
      "127.0.0.1 - - [14/Jul/2021 05:34:25] \"GET /get/rcmd/java HTTP/1.1\" 200 -\n"
     ]
    },
    {
     "output_type": "stream",
     "name": "stdout",
     "text": [
      "Learning Dynamic Website Design - PHP MySQL and JavaScript\n",
      "2484\n",
      "{'course_title': 'Learning Dynamic Website Design - PHP MySQL and JavaScript', 'url': 'https://www.udemy.com/learning-dynamic-website-design/', 'price': 50, 'num_subscribers': 47886, 'num_reviews': 285, 'num_lectures': 125, 'duration': '12.5 hours'}\n",
      "{'course_title': 'Projects in PHP and MySQL', 'url': 'https://www.udemy.com/the-complete-web-development-course-learn-by-building-apps/', 'price': 60, 'num_subscribers': 10606, 'num_reviews': 570, 'num_lectures': 88, 'duration': '23 hours'}\n",
      "{'course_title': 'Practical Understanding of PHP and MySQL', 'url': 'https://www.udemy.com/practical-understanding-of-php-and-myqsl-demo/', 'price': 0, 'num_subscribers': 12201, 'num_reviews': 217, 'num_lectures': 24, 'duration': '5.5 hours'}\n",
      "{'course_title': 'PHP MySQL: Learn PHP MySQL with Project', 'url': 'https://www.udemy.com/php-mysql-project-learning/', 'price': 20, 'num_subscribers': 2314, 'num_reviews': 77, 'num_lectures': 25, 'duration': '2 hours'}\n",
      "{'course_title': 'PHP: Complete Login and Registration System with PHP & MYSQL', 'url': 'https://www.udemy.com/user-authentication-code-a-simple-login-system-with-php/', 'price': 200, 'num_subscribers': 1448, 'num_reviews': 173, 'num_lectures': 48, 'duration': '7.5 hours'}\n",
      "{'course_title': 'Complete Login and Registration System in PHP and MYSQL', 'url': 'https://www.udemy.com/login-and-registration-system-in-php-and-mysql-step-by-step/', 'price': 200, 'num_subscribers': 4714, 'num_reviews': 149, 'num_lectures': 28, 'duration': '4 hours'}\n",
      "{'course_title': 'Login and Registration from Scratch with PHP and MySQL', 'url': 'https://www.udemy.com/authentication-from-scratch-with-php-and-mysql/', 'price': 20, 'num_subscribers': 1128, 'num_reviews': 77, 'num_lectures': 36, 'duration': '2 hours'}\n",
      "{'course_title': 'PHP & MySQL - Learn The Easy Way. Master PHP & MySQL Quickly', 'url': 'https://www.udemy.com/learning-php-and-mysql-development-the-easy-way/', 'price': 50, 'num_subscribers': 5549, 'num_reviews': 92, 'num_lectures': 143, 'duration': '15.5 hours'}\n",
      "{'course_title': 'Complete Website & CMS in PHP & MySQL From Scratch!', 'url': 'https://www.udemy.com/cms-admin-panel-in-php-mysql/', 'price': 20, 'num_subscribers': 3357, 'num_reviews': 82, 'num_lectures': 48, 'duration': '12.5 hours'}\n",
      "{'course_title': 'Learn E-Commerce Website in PHP & MySQL From Scratch!', 'url': 'https://www.udemy.com/ecommerce-website-in-php-mysqli/', 'price': 0, 'num_subscribers': 29990, 'num_reviews': 1342, 'num_lectures': 87, 'duration': '17.5 hours'}\n",
      "{'course_title': 'JavaScript Complete Guide to learning JavaScript', 'url': 'https://www.udemy.com/javascript-complete-guide-to-learning-javascript/', 'price': 200, 'num_subscribers': 1296, 'num_reviews': 22, 'num_lectures': 72, 'duration': '5.5 hours'}\n"
     ]
    },
    {
     "output_type": "stream",
     "name": "stderr",
     "text": [
      "127.0.0.1 - - [14/Jul/2021 05:34:38] \"GET /get/rcmd/java HTTP/1.1\" 200 -\n"
     ]
    },
    {
     "output_type": "stream",
     "name": "stdout",
     "text": [
      "Learning Dynamic Website Design - PHP MySQL and JavaScript\n",
      "2484\n",
      "{'course_title': 'Learning Dynamic Website Design - PHP MySQL and JavaScript', 'url': 'https://www.udemy.com/learning-dynamic-website-design/', 'price': 50, 'num_subscribers': 47886, 'num_reviews': 285, 'num_lectures': 125, 'duration': '12.5 hours'}\n",
      "{'course_title': 'Projects in PHP and MySQL', 'url': 'https://www.udemy.com/the-complete-web-development-course-learn-by-building-apps/', 'price': 60, 'num_subscribers': 10606, 'num_reviews': 570, 'num_lectures': 88, 'duration': '23 hours'}\n",
      "{'course_title': 'Practical Understanding of PHP and MySQL', 'url': 'https://www.udemy.com/practical-understanding-of-php-and-myqsl-demo/', 'price': 0, 'num_subscribers': 12201, 'num_reviews': 217, 'num_lectures': 24, 'duration': '5.5 hours'}\n",
      "{'course_title': 'PHP MySQL: Learn PHP MySQL with Project', 'url': 'https://www.udemy.com/php-mysql-project-learning/', 'price': 20, 'num_subscribers': 2314, 'num_reviews': 77, 'num_lectures': 25, 'duration': '2 hours'}\n",
      "{'course_title': 'PHP: Complete Login and Registration System with PHP & MYSQL', 'url': 'https://www.udemy.com/user-authentication-code-a-simple-login-system-with-php/', 'price': 200, 'num_subscribers': 1448, 'num_reviews': 173, 'num_lectures': 48, 'duration': '7.5 hours'}\n",
      "{'course_title': 'Complete Login and Registration System in PHP and MYSQL', 'url': 'https://www.udemy.com/login-and-registration-system-in-php-and-mysql-step-by-step/', 'price': 200, 'num_subscribers': 4714, 'num_reviews': 149, 'num_lectures': 28, 'duration': '4 hours'}\n",
      "{'course_title': 'Login and Registration from Scratch with PHP and MySQL', 'url': 'https://www.udemy.com/authentication-from-scratch-with-php-and-mysql/', 'price': 20, 'num_subscribers': 1128, 'num_reviews': 77, 'num_lectures': 36, 'duration': '2 hours'}\n",
      "{'course_title': 'PHP & MySQL - Learn The Easy Way. Master PHP & MySQL Quickly', 'url': 'https://www.udemy.com/learning-php-and-mysql-development-the-easy-way/', 'price': 50, 'num_subscribers': 5549, 'num_reviews': 92, 'num_lectures': 143, 'duration': '15.5 hours'}\n",
      "{'course_title': 'Complete Website & CMS in PHP & MySQL From Scratch!', 'url': 'https://www.udemy.com/cms-admin-panel-in-php-mysql/', 'price': 20, 'num_subscribers': 3357, 'num_reviews': 82, 'num_lectures': 48, 'duration': '12.5 hours'}\n",
      "{'course_title': 'Learn E-Commerce Website in PHP & MySQL From Scratch!', 'url': 'https://www.udemy.com/ecommerce-website-in-php-mysqli/', 'price': 0, 'num_subscribers': 29990, 'num_reviews': 1342, 'num_lectures': 87, 'duration': '17.5 hours'}\n",
      "{'course_title': 'JavaScript Complete Guide to learning JavaScript', 'url': 'https://www.udemy.com/javascript-complete-guide-to-learning-javascript/', 'price': 200, 'num_subscribers': 1296, 'num_reviews': 22, 'num_lectures': 72, 'duration': '5.5 hours'}\n"
     ]
    },
    {
     "output_type": "stream",
     "name": "stderr",
     "text": [
      "127.0.0.1 - - [14/Jul/2021 05:35:05] \"GET /get/rcmd/java HTTP/1.1\" 200 -\n"
     ]
    },
    {
     "output_type": "stream",
     "name": "stdout",
     "text": [
      "Learning Dynamic Website Design - PHP MySQL and JavaScript\n",
      "2484\n",
      "{'course_title': 'Learning Dynamic Website Design - PHP MySQL and JavaScript', 'url': 'https://www.udemy.com/learning-dynamic-website-design/', 'price': 50, 'num_subscribers': 47886, 'num_reviews': 285, 'num_lectures': 125, 'duration': '12.5 hours'}\n",
      "{'course_title': 'Projects in PHP and MySQL', 'url': 'https://www.udemy.com/the-complete-web-development-course-learn-by-building-apps/', 'price': 60, 'num_subscribers': 10606, 'num_reviews': 570, 'num_lectures': 88, 'duration': '23 hours'}\n",
      "{'course_title': 'Practical Understanding of PHP and MySQL', 'url': 'https://www.udemy.com/practical-understanding-of-php-and-myqsl-demo/', 'price': 0, 'num_subscribers': 12201, 'num_reviews': 217, 'num_lectures': 24, 'duration': '5.5 hours'}\n",
      "{'course_title': 'PHP MySQL: Learn PHP MySQL with Project', 'url': 'https://www.udemy.com/php-mysql-project-learning/', 'price': 20, 'num_subscribers': 2314, 'num_reviews': 77, 'num_lectures': 25, 'duration': '2 hours'}\n",
      "{'course_title': 'PHP: Complete Login and Registration System with PHP & MYSQL', 'url': 'https://www.udemy.com/user-authentication-code-a-simple-login-system-with-php/', 'price': 200, 'num_subscribers': 1448, 'num_reviews': 173, 'num_lectures': 48, 'duration': '7.5 hours'}\n",
      "{'course_title': 'Complete Login and Registration System in PHP and MYSQL', 'url': 'https://www.udemy.com/login-and-registration-system-in-php-and-mysql-step-by-step/', 'price': 200, 'num_subscribers': 4714, 'num_reviews': 149, 'num_lectures': 28, 'duration': '4 hours'}\n",
      "{'course_title': 'Login and Registration from Scratch with PHP and MySQL', 'url': 'https://www.udemy.com/authentication-from-scratch-with-php-and-mysql/', 'price': 20, 'num_subscribers': 1128, 'num_reviews': 77, 'num_lectures': 36, 'duration': '2 hours'}\n",
      "{'course_title': 'PHP & MySQL - Learn The Easy Way. Master PHP & MySQL Quickly', 'url': 'https://www.udemy.com/learning-php-and-mysql-development-the-easy-way/', 'price': 50, 'num_subscribers': 5549, 'num_reviews': 92, 'num_lectures': 143, 'duration': '15.5 hours'}\n",
      "{'course_title': 'Complete Website & CMS in PHP & MySQL From Scratch!', 'url': 'https://www.udemy.com/cms-admin-panel-in-php-mysql/', 'price': 20, 'num_subscribers': 3357, 'num_reviews': 82, 'num_lectures': 48, 'duration': '12.5 hours'}\n",
      "{'course_title': 'Learn E-Commerce Website in PHP & MySQL From Scratch!', 'url': 'https://www.udemy.com/ecommerce-website-in-php-mysqli/', 'price': 0, 'num_subscribers': 29990, 'num_reviews': 1342, 'num_lectures': 87, 'duration': '17.5 hours'}\n",
      "{'course_title': 'JavaScript Complete Guide to learning JavaScript', 'url': 'https://www.udemy.com/javascript-complete-guide-to-learning-javascript/', 'price': 200, 'num_subscribers': 1296, 'num_reviews': 22, 'num_lectures': 72, 'duration': '5.5 hours'}\n"
     ]
    },
    {
     "output_type": "stream",
     "name": "stderr",
     "text": [
      "127.0.0.1 - - [14/Jul/2021 05:35:06] \"GET /get/rcmd/java HTTP/1.1\" 200 -\n"
     ]
    },
    {
     "output_type": "stream",
     "name": "stdout",
     "text": [
      "Learning Dynamic Website Design - PHP MySQL and JavaScript\n",
      "2484\n",
      "{'course_title': 'Learning Dynamic Website Design - PHP MySQL and JavaScript', 'url': 'https://www.udemy.com/learning-dynamic-website-design/', 'price': 50, 'num_subscribers': 47886, 'num_reviews': 285, 'num_lectures': 125, 'duration': '12.5 hours'}\n",
      "{'course_title': 'Projects in PHP and MySQL', 'url': 'https://www.udemy.com/the-complete-web-development-course-learn-by-building-apps/', 'price': 60, 'num_subscribers': 10606, 'num_reviews': 570, 'num_lectures': 88, 'duration': '23 hours'}\n",
      "{'course_title': 'Practical Understanding of PHP and MySQL', 'url': 'https://www.udemy.com/practical-understanding-of-php-and-myqsl-demo/', 'price': 0, 'num_subscribers': 12201, 'num_reviews': 217, 'num_lectures': 24, 'duration': '5.5 hours'}\n",
      "{'course_title': 'PHP MySQL: Learn PHP MySQL with Project', 'url': 'https://www.udemy.com/php-mysql-project-learning/', 'price': 20, 'num_subscribers': 2314, 'num_reviews': 77, 'num_lectures': 25, 'duration': '2 hours'}\n",
      "{'course_title': 'PHP: Complete Login and Registration System with PHP & MYSQL', 'url': 'https://www.udemy.com/user-authentication-code-a-simple-login-system-with-php/', 'price': 200, 'num_subscribers': 1448, 'num_reviews': 173, 'num_lectures': 48, 'duration': '7.5 hours'}\n",
      "{'course_title': 'Complete Login and Registration System in PHP and MYSQL', 'url': 'https://www.udemy.com/login-and-registration-system-in-php-and-mysql-step-by-step/', 'price': 200, 'num_subscribers': 4714, 'num_reviews': 149, 'num_lectures': 28, 'duration': '4 hours'}\n",
      "{'course_title': 'Login and Registration from Scratch with PHP and MySQL', 'url': 'https://www.udemy.com/authentication-from-scratch-with-php-and-mysql/', 'price': 20, 'num_subscribers': 1128, 'num_reviews': 77, 'num_lectures': 36, 'duration': '2 hours'}\n",
      "{'course_title': 'PHP & MySQL - Learn The Easy Way. Master PHP & MySQL Quickly', 'url': 'https://www.udemy.com/learning-php-and-mysql-development-the-easy-way/', 'price': 50, 'num_subscribers': 5549, 'num_reviews': 92, 'num_lectures': 143, 'duration': '15.5 hours'}\n",
      "{'course_title': 'Complete Website & CMS in PHP & MySQL From Scratch!', 'url': 'https://www.udemy.com/cms-admin-panel-in-php-mysql/', 'price': 20, 'num_subscribers': 3357, 'num_reviews': 82, 'num_lectures': 48, 'duration': '12.5 hours'}\n",
      "{'course_title': 'Learn E-Commerce Website in PHP & MySQL From Scratch!', 'url': 'https://www.udemy.com/ecommerce-website-in-php-mysqli/', 'price': 0, 'num_subscribers': 29990, 'num_reviews': 1342, 'num_lectures': 87, 'duration': '17.5 hours'}\n",
      "{'course_title': 'JavaScript Complete Guide to learning JavaScript', 'url': 'https://www.udemy.com/javascript-complete-guide-to-learning-javascript/', 'price': 200, 'num_subscribers': 1296, 'num_reviews': 22, 'num_lectures': 72, 'duration': '5.5 hours'}\n"
     ]
    },
    {
     "output_type": "stream",
     "name": "stderr",
     "text": [
      "127.0.0.1 - - [14/Jul/2021 05:35:07] \"GET /get/rcmd/java HTTP/1.1\" 200 -\n"
     ]
    },
    {
     "output_type": "stream",
     "name": "stdout",
     "text": [
      "Learning Dynamic Website Design - PHP MySQL and JavaScript\n",
      "2484\n",
      "{'course_title': 'Learning Dynamic Website Design - PHP MySQL and JavaScript', 'url': 'https://www.udemy.com/learning-dynamic-website-design/', 'price': 50, 'num_subscribers': 47886, 'num_reviews': 285, 'num_lectures': 125, 'duration': '12.5 hours'}\n",
      "{'course_title': 'Projects in PHP and MySQL', 'url': 'https://www.udemy.com/the-complete-web-development-course-learn-by-building-apps/', 'price': 60, 'num_subscribers': 10606, 'num_reviews': 570, 'num_lectures': 88, 'duration': '23 hours'}\n",
      "{'course_title': 'Practical Understanding of PHP and MySQL', 'url': 'https://www.udemy.com/practical-understanding-of-php-and-myqsl-demo/', 'price': 0, 'num_subscribers': 12201, 'num_reviews': 217, 'num_lectures': 24, 'duration': '5.5 hours'}\n",
      "{'course_title': 'PHP MySQL: Learn PHP MySQL with Project', 'url': 'https://www.udemy.com/php-mysql-project-learning/', 'price': 20, 'num_subscribers': 2314, 'num_reviews': 77, 'num_lectures': 25, 'duration': '2 hours'}\n",
      "{'course_title': 'PHP: Complete Login and Registration System with PHP & MYSQL', 'url': 'https://www.udemy.com/user-authentication-code-a-simple-login-system-with-php/', 'price': 200, 'num_subscribers': 1448, 'num_reviews': 173, 'num_lectures': 48, 'duration': '7.5 hours'}\n",
      "{'course_title': 'Complete Login and Registration System in PHP and MYSQL', 'url': 'https://www.udemy.com/login-and-registration-system-in-php-and-mysql-step-by-step/', 'price': 200, 'num_subscribers': 4714, 'num_reviews': 149, 'num_lectures': 28, 'duration': '4 hours'}\n",
      "{'course_title': 'Login and Registration from Scratch with PHP and MySQL', 'url': 'https://www.udemy.com/authentication-from-scratch-with-php-and-mysql/', 'price': 20, 'num_subscribers': 1128, 'num_reviews': 77, 'num_lectures': 36, 'duration': '2 hours'}\n",
      "{'course_title': 'PHP & MySQL - Learn The Easy Way. Master PHP & MySQL Quickly', 'url': 'https://www.udemy.com/learning-php-and-mysql-development-the-easy-way/', 'price': 50, 'num_subscribers': 5549, 'num_reviews': 92, 'num_lectures': 143, 'duration': '15.5 hours'}\n",
      "{'course_title': 'Complete Website & CMS in PHP & MySQL From Scratch!', 'url': 'https://www.udemy.com/cms-admin-panel-in-php-mysql/', 'price': 20, 'num_subscribers': 3357, 'num_reviews': 82, 'num_lectures': 48, 'duration': '12.5 hours'}\n",
      "{'course_title': 'Learn E-Commerce Website in PHP & MySQL From Scratch!', 'url': 'https://www.udemy.com/ecommerce-website-in-php-mysqli/', 'price': 0, 'num_subscribers': 29990, 'num_reviews': 1342, 'num_lectures': 87, 'duration': '17.5 hours'}\n",
      "{'course_title': 'JavaScript Complete Guide to learning JavaScript', 'url': 'https://www.udemy.com/javascript-complete-guide-to-learning-javascript/', 'price': 200, 'num_subscribers': 1296, 'num_reviews': 22, 'num_lectures': 72, 'duration': '5.5 hours'}\n"
     ]
    },
    {
     "output_type": "stream",
     "name": "stderr",
     "text": [
      "127.0.0.1 - - [14/Jul/2021 05:35:08] \"GET /get/rcmd/java HTTP/1.1\" 200 -\n"
     ]
    },
    {
     "output_type": "stream",
     "name": "stdout",
     "text": [
      "Learning Dynamic Website Design - PHP MySQL and JavaScript\n",
      "2484\n",
      "{'course_title': 'Learning Dynamic Website Design - PHP MySQL and JavaScript', 'url': 'https://www.udemy.com/learning-dynamic-website-design/', 'price': 50, 'num_subscribers': 47886, 'num_reviews': 285, 'num_lectures': 125, 'duration': '12.5 hours'}\n",
      "{'course_title': 'Projects in PHP and MySQL', 'url': 'https://www.udemy.com/the-complete-web-development-course-learn-by-building-apps/', 'price': 60, 'num_subscribers': 10606, 'num_reviews': 570, 'num_lectures': 88, 'duration': '23 hours'}\n",
      "{'course_title': 'Practical Understanding of PHP and MySQL', 'url': 'https://www.udemy.com/practical-understanding-of-php-and-myqsl-demo/', 'price': 0, 'num_subscribers': 12201, 'num_reviews': 217, 'num_lectures': 24, 'duration': '5.5 hours'}\n",
      "{'course_title': 'PHP MySQL: Learn PHP MySQL with Project', 'url': 'https://www.udemy.com/php-mysql-project-learning/', 'price': 20, 'num_subscribers': 2314, 'num_reviews': 77, 'num_lectures': 25, 'duration': '2 hours'}\n",
      "{'course_title': 'PHP: Complete Login and Registration System with PHP & MYSQL', 'url': 'https://www.udemy.com/user-authentication-code-a-simple-login-system-with-php/', 'price': 200, 'num_subscribers': 1448, 'num_reviews': 173, 'num_lectures': 48, 'duration': '7.5 hours'}\n",
      "{'course_title': 'Complete Login and Registration System in PHP and MYSQL', 'url': 'https://www.udemy.com/login-and-registration-system-in-php-and-mysql-step-by-step/', 'price': 200, 'num_subscribers': 4714, 'num_reviews': 149, 'num_lectures': 28, 'duration': '4 hours'}\n",
      "{'course_title': 'Login and Registration from Scratch with PHP and MySQL', 'url': 'https://www.udemy.com/authentication-from-scratch-with-php-and-mysql/', 'price': 20, 'num_subscribers': 1128, 'num_reviews': 77, 'num_lectures': 36, 'duration': '2 hours'}\n",
      "{'course_title': 'PHP & MySQL - Learn The Easy Way. Master PHP & MySQL Quickly', 'url': 'https://www.udemy.com/learning-php-and-mysql-development-the-easy-way/', 'price': 50, 'num_subscribers': 5549, 'num_reviews': 92, 'num_lectures': 143, 'duration': '15.5 hours'}\n",
      "{'course_title': 'Complete Website & CMS in PHP & MySQL From Scratch!', 'url': 'https://www.udemy.com/cms-admin-panel-in-php-mysql/', 'price': 20, 'num_subscribers': 3357, 'num_reviews': 82, 'num_lectures': 48, 'duration': '12.5 hours'}\n",
      "{'course_title': 'Learn E-Commerce Website in PHP & MySQL From Scratch!', 'url': 'https://www.udemy.com/ecommerce-website-in-php-mysqli/', 'price': 0, 'num_subscribers': 29990, 'num_reviews': 1342, 'num_lectures': 87, 'duration': '17.5 hours'}\n",
      "{'course_title': 'JavaScript Complete Guide to learning JavaScript', 'url': 'https://www.udemy.com/javascript-complete-guide-to-learning-javascript/', 'price': 200, 'num_subscribers': 1296, 'num_reviews': 22, 'num_lectures': 72, 'duration': '5.5 hours'}\n"
     ]
    },
    {
     "output_type": "stream",
     "name": "stderr",
     "text": [
      "127.0.0.1 - - [14/Jul/2021 05:35:14] \"GET /get/rcmd/java HTTP/1.1\" 200 -\n"
     ]
    },
    {
     "output_type": "stream",
     "name": "stdout",
     "text": [
      "Learning Dynamic Website Design - PHP MySQL and JavaScript\n",
      "2484\n",
      "{'course_title': 'Learning Dynamic Website Design - PHP MySQL and JavaScript', 'url': 'https://www.udemy.com/learning-dynamic-website-design/', 'price': 50, 'num_subscribers': 47886, 'num_reviews': 285, 'num_lectures': 125, 'duration': '12.5 hours'}\n",
      "{'course_title': 'Projects in PHP and MySQL', 'url': 'https://www.udemy.com/the-complete-web-development-course-learn-by-building-apps/', 'price': 60, 'num_subscribers': 10606, 'num_reviews': 570, 'num_lectures': 88, 'duration': '23 hours'}\n",
      "{'course_title': 'Practical Understanding of PHP and MySQL', 'url': 'https://www.udemy.com/practical-understanding-of-php-and-myqsl-demo/', 'price': 0, 'num_subscribers': 12201, 'num_reviews': 217, 'num_lectures': 24, 'duration': '5.5 hours'}\n",
      "{'course_title': 'PHP MySQL: Learn PHP MySQL with Project', 'url': 'https://www.udemy.com/php-mysql-project-learning/', 'price': 20, 'num_subscribers': 2314, 'num_reviews': 77, 'num_lectures': 25, 'duration': '2 hours'}\n",
      "{'course_title': 'PHP: Complete Login and Registration System with PHP & MYSQL', 'url': 'https://www.udemy.com/user-authentication-code-a-simple-login-system-with-php/', 'price': 200, 'num_subscribers': 1448, 'num_reviews': 173, 'num_lectures': 48, 'duration': '7.5 hours'}\n",
      "{'course_title': 'Complete Login and Registration System in PHP and MYSQL', 'url': 'https://www.udemy.com/login-and-registration-system-in-php-and-mysql-step-by-step/', 'price': 200, 'num_subscribers': 4714, 'num_reviews': 149, 'num_lectures': 28, 'duration': '4 hours'}\n",
      "{'course_title': 'Login and Registration from Scratch with PHP and MySQL', 'url': 'https://www.udemy.com/authentication-from-scratch-with-php-and-mysql/', 'price': 20, 'num_subscribers': 1128, 'num_reviews': 77, 'num_lectures': 36, 'duration': '2 hours'}\n",
      "{'course_title': 'PHP & MySQL - Learn The Easy Way. Master PHP & MySQL Quickly', 'url': 'https://www.udemy.com/learning-php-and-mysql-development-the-easy-way/', 'price': 50, 'num_subscribers': 5549, 'num_reviews': 92, 'num_lectures': 143, 'duration': '15.5 hours'}\n",
      "{'course_title': 'Complete Website & CMS in PHP & MySQL From Scratch!', 'url': 'https://www.udemy.com/cms-admin-panel-in-php-mysql/', 'price': 20, 'num_subscribers': 3357, 'num_reviews': 82, 'num_lectures': 48, 'duration': '12.5 hours'}\n",
      "{'course_title': 'Learn E-Commerce Website in PHP & MySQL From Scratch!', 'url': 'https://www.udemy.com/ecommerce-website-in-php-mysqli/', 'price': 0, 'num_subscribers': 29990, 'num_reviews': 1342, 'num_lectures': 87, 'duration': '17.5 hours'}\n",
      "{'course_title': 'JavaScript Complete Guide to learning JavaScript', 'url': 'https://www.udemy.com/javascript-complete-guide-to-learning-javascript/', 'price': 200, 'num_subscribers': 1296, 'num_reviews': 22, 'num_lectures': 72, 'duration': '5.5 hours'}\n"
     ]
    },
    {
     "output_type": "stream",
     "name": "stderr",
     "text": [
      "127.0.0.1 - - [14/Jul/2021 05:35:18] \"GET /get/rcmd/java HTTP/1.1\" 200 -\n"
     ]
    },
    {
     "output_type": "stream",
     "name": "stdout",
     "text": [
      "Learning Dynamic Website Design - PHP MySQL and JavaScript\n",
      "2484\n",
      "{'course_title': 'Learning Dynamic Website Design - PHP MySQL and JavaScript', 'url': 'https://www.udemy.com/learning-dynamic-website-design/', 'price': 50, 'num_subscribers': 47886, 'num_reviews': 285, 'num_lectures': 125, 'duration': '12.5 hours'}\n",
      "{'course_title': 'Projects in PHP and MySQL', 'url': 'https://www.udemy.com/the-complete-web-development-course-learn-by-building-apps/', 'price': 60, 'num_subscribers': 10606, 'num_reviews': 570, 'num_lectures': 88, 'duration': '23 hours'}\n",
      "{'course_title': 'Practical Understanding of PHP and MySQL', 'url': 'https://www.udemy.com/practical-understanding-of-php-and-myqsl-demo/', 'price': 0, 'num_subscribers': 12201, 'num_reviews': 217, 'num_lectures': 24, 'duration': '5.5 hours'}\n",
      "{'course_title': 'PHP MySQL: Learn PHP MySQL with Project', 'url': 'https://www.udemy.com/php-mysql-project-learning/', 'price': 20, 'num_subscribers': 2314, 'num_reviews': 77, 'num_lectures': 25, 'duration': '2 hours'}\n",
      "{'course_title': 'PHP: Complete Login and Registration System with PHP & MYSQL', 'url': 'https://www.udemy.com/user-authentication-code-a-simple-login-system-with-php/', 'price': 200, 'num_subscribers': 1448, 'num_reviews': 173, 'num_lectures': 48, 'duration': '7.5 hours'}\n",
      "{'course_title': 'Complete Login and Registration System in PHP and MYSQL', 'url': 'https://www.udemy.com/login-and-registration-system-in-php-and-mysql-step-by-step/', 'price': 200, 'num_subscribers': 4714, 'num_reviews': 149, 'num_lectures': 28, 'duration': '4 hours'}\n",
      "{'course_title': 'Login and Registration from Scratch with PHP and MySQL', 'url': 'https://www.udemy.com/authentication-from-scratch-with-php-and-mysql/', 'price': 20, 'num_subscribers': 1128, 'num_reviews': 77, 'num_lectures': 36, 'duration': '2 hours'}\n",
      "{'course_title': 'PHP & MySQL - Learn The Easy Way. Master PHP & MySQL Quickly', 'url': 'https://www.udemy.com/learning-php-and-mysql-development-the-easy-way/', 'price': 50, 'num_subscribers': 5549, 'num_reviews': 92, 'num_lectures': 143, 'duration': '15.5 hours'}\n",
      "{'course_title': 'Complete Website & CMS in PHP & MySQL From Scratch!', 'url': 'https://www.udemy.com/cms-admin-panel-in-php-mysql/', 'price': 20, 'num_subscribers': 3357, 'num_reviews': 82, 'num_lectures': 48, 'duration': '12.5 hours'}\n",
      "{'course_title': 'Learn E-Commerce Website in PHP & MySQL From Scratch!', 'url': 'https://www.udemy.com/ecommerce-website-in-php-mysqli/', 'price': 0, 'num_subscribers': 29990, 'num_reviews': 1342, 'num_lectures': 87, 'duration': '17.5 hours'}\n",
      "{'course_title': 'JavaScript Complete Guide to learning JavaScript', 'url': 'https://www.udemy.com/javascript-complete-guide-to-learning-javascript/', 'price': 200, 'num_subscribers': 1296, 'num_reviews': 22, 'num_lectures': 72, 'duration': '5.5 hours'}\n"
     ]
    },
    {
     "output_type": "stream",
     "name": "stderr",
     "text": [
      "127.0.0.1 - - [14/Jul/2021 05:35:19] \"GET /get/rcmd/java HTTP/1.1\" 200 -\n"
     ]
    },
    {
     "output_type": "stream",
     "name": "stdout",
     "text": [
      "Learning Dynamic Website Design - PHP MySQL and JavaScript\n",
      "2484\n",
      "{'course_title': 'Learning Dynamic Website Design - PHP MySQL and JavaScript', 'url': 'https://www.udemy.com/learning-dynamic-website-design/', 'price': 50, 'num_subscribers': 47886, 'num_reviews': 285, 'num_lectures': 125, 'duration': '12.5 hours'}\n",
      "{'course_title': 'Projects in PHP and MySQL', 'url': 'https://www.udemy.com/the-complete-web-development-course-learn-by-building-apps/', 'price': 60, 'num_subscribers': 10606, 'num_reviews': 570, 'num_lectures': 88, 'duration': '23 hours'}\n",
      "{'course_title': 'Practical Understanding of PHP and MySQL', 'url': 'https://www.udemy.com/practical-understanding-of-php-and-myqsl-demo/', 'price': 0, 'num_subscribers': 12201, 'num_reviews': 217, 'num_lectures': 24, 'duration': '5.5 hours'}\n",
      "{'course_title': 'PHP MySQL: Learn PHP MySQL with Project', 'url': 'https://www.udemy.com/php-mysql-project-learning/', 'price': 20, 'num_subscribers': 2314, 'num_reviews': 77, 'num_lectures': 25, 'duration': '2 hours'}\n",
      "{'course_title': 'PHP: Complete Login and Registration System with PHP & MYSQL', 'url': 'https://www.udemy.com/user-authentication-code-a-simple-login-system-with-php/', 'price': 200, 'num_subscribers': 1448, 'num_reviews': 173, 'num_lectures': 48, 'duration': '7.5 hours'}\n",
      "{'course_title': 'Complete Login and Registration System in PHP and MYSQL', 'url': 'https://www.udemy.com/login-and-registration-system-in-php-and-mysql-step-by-step/', 'price': 200, 'num_subscribers': 4714, 'num_reviews': 149, 'num_lectures': 28, 'duration': '4 hours'}\n",
      "{'course_title': 'Login and Registration from Scratch with PHP and MySQL', 'url': 'https://www.udemy.com/authentication-from-scratch-with-php-and-mysql/', 'price': 20, 'num_subscribers': 1128, 'num_reviews': 77, 'num_lectures': 36, 'duration': '2 hours'}\n",
      "{'course_title': 'PHP & MySQL - Learn The Easy Way. Master PHP & MySQL Quickly', 'url': 'https://www.udemy.com/learning-php-and-mysql-development-the-easy-way/', 'price': 50, 'num_subscribers': 5549, 'num_reviews': 92, 'num_lectures': 143, 'duration': '15.5 hours'}\n",
      "{'course_title': 'Complete Website & CMS in PHP & MySQL From Scratch!', 'url': 'https://www.udemy.com/cms-admin-panel-in-php-mysql/', 'price': 20, 'num_subscribers': 3357, 'num_reviews': 82, 'num_lectures': 48, 'duration': '12.5 hours'}\n",
      "{'course_title': 'Learn E-Commerce Website in PHP & MySQL From Scratch!', 'url': 'https://www.udemy.com/ecommerce-website-in-php-mysqli/', 'price': 0, 'num_subscribers': 29990, 'num_reviews': 1342, 'num_lectures': 87, 'duration': '17.5 hours'}\n",
      "{'course_title': 'JavaScript Complete Guide to learning JavaScript', 'url': 'https://www.udemy.com/javascript-complete-guide-to-learning-javascript/', 'price': 200, 'num_subscribers': 1296, 'num_reviews': 22, 'num_lectures': 72, 'duration': '5.5 hours'}\n"
     ]
    },
    {
     "output_type": "stream",
     "name": "stderr",
     "text": [
      "127.0.0.1 - - [14/Jul/2021 05:36:06] \"GET /get/rcmd/java HTTP/1.1\" 200 -\n"
     ]
    },
    {
     "output_type": "stream",
     "name": "stdout",
     "text": [
      "Learning Dynamic Website Design - PHP MySQL and JavaScript\n",
      "2484\n",
      "{'course_title': 'Learning Dynamic Website Design - PHP MySQL and JavaScript', 'url': 'https://www.udemy.com/learning-dynamic-website-design/', 'price': 50, 'num_subscribers': 47886, 'num_reviews': 285, 'num_lectures': 125, 'duration': '12.5 hours'}\n",
      "{'course_title': 'Projects in PHP and MySQL', 'url': 'https://www.udemy.com/the-complete-web-development-course-learn-by-building-apps/', 'price': 60, 'num_subscribers': 10606, 'num_reviews': 570, 'num_lectures': 88, 'duration': '23 hours'}\n",
      "{'course_title': 'Practical Understanding of PHP and MySQL', 'url': 'https://www.udemy.com/practical-understanding-of-php-and-myqsl-demo/', 'price': 0, 'num_subscribers': 12201, 'num_reviews': 217, 'num_lectures': 24, 'duration': '5.5 hours'}\n",
      "{'course_title': 'PHP MySQL: Learn PHP MySQL with Project', 'url': 'https://www.udemy.com/php-mysql-project-learning/', 'price': 20, 'num_subscribers': 2314, 'num_reviews': 77, 'num_lectures': 25, 'duration': '2 hours'}\n",
      "{'course_title': 'PHP: Complete Login and Registration System with PHP & MYSQL', 'url': 'https://www.udemy.com/user-authentication-code-a-simple-login-system-with-php/', 'price': 200, 'num_subscribers': 1448, 'num_reviews': 173, 'num_lectures': 48, 'duration': '7.5 hours'}\n",
      "{'course_title': 'Complete Login and Registration System in PHP and MYSQL', 'url': 'https://www.udemy.com/login-and-registration-system-in-php-and-mysql-step-by-step/', 'price': 200, 'num_subscribers': 4714, 'num_reviews': 149, 'num_lectures': 28, 'duration': '4 hours'}\n",
      "{'course_title': 'Login and Registration from Scratch with PHP and MySQL', 'url': 'https://www.udemy.com/authentication-from-scratch-with-php-and-mysql/', 'price': 20, 'num_subscribers': 1128, 'num_reviews': 77, 'num_lectures': 36, 'duration': '2 hours'}\n",
      "{'course_title': 'PHP & MySQL - Learn The Easy Way. Master PHP & MySQL Quickly', 'url': 'https://www.udemy.com/learning-php-and-mysql-development-the-easy-way/', 'price': 50, 'num_subscribers': 5549, 'num_reviews': 92, 'num_lectures': 143, 'duration': '15.5 hours'}\n",
      "{'course_title': 'Complete Website & CMS in PHP & MySQL From Scratch!', 'url': 'https://www.udemy.com/cms-admin-panel-in-php-mysql/', 'price': 20, 'num_subscribers': 3357, 'num_reviews': 82, 'num_lectures': 48, 'duration': '12.5 hours'}\n",
      "{'course_title': 'Learn E-Commerce Website in PHP & MySQL From Scratch!', 'url': 'https://www.udemy.com/ecommerce-website-in-php-mysqli/', 'price': 0, 'num_subscribers': 29990, 'num_reviews': 1342, 'num_lectures': 87, 'duration': '17.5 hours'}\n",
      "{'course_title': 'JavaScript Complete Guide to learning JavaScript', 'url': 'https://www.udemy.com/javascript-complete-guide-to-learning-javascript/', 'price': 200, 'num_subscribers': 1296, 'num_reviews': 22, 'num_lectures': 72, 'duration': '5.5 hours'}\n"
     ]
    },
    {
     "output_type": "stream",
     "name": "stderr",
     "text": [
      "127.0.0.1 - - [14/Jul/2021 05:36:13] \"GET /get/rcmd/java HTTP/1.1\" 200 -\n"
     ]
    },
    {
     "output_type": "stream",
     "name": "stdout",
     "text": [
      "Learning Dynamic Website Design - PHP MySQL and JavaScript\n",
      "2484\n",
      "{'course_title': 'Learning Dynamic Website Design - PHP MySQL and JavaScript', 'url': 'https://www.udemy.com/learning-dynamic-website-design/', 'price': 50, 'num_subscribers': 47886, 'num_reviews': 285, 'num_lectures': 125, 'duration': '12.5 hours'}\n",
      "{'course_title': 'Projects in PHP and MySQL', 'url': 'https://www.udemy.com/the-complete-web-development-course-learn-by-building-apps/', 'price': 60, 'num_subscribers': 10606, 'num_reviews': 570, 'num_lectures': 88, 'duration': '23 hours'}\n",
      "{'course_title': 'Practical Understanding of PHP and MySQL', 'url': 'https://www.udemy.com/practical-understanding-of-php-and-myqsl-demo/', 'price': 0, 'num_subscribers': 12201, 'num_reviews': 217, 'num_lectures': 24, 'duration': '5.5 hours'}\n",
      "{'course_title': 'PHP MySQL: Learn PHP MySQL with Project', 'url': 'https://www.udemy.com/php-mysql-project-learning/', 'price': 20, 'num_subscribers': 2314, 'num_reviews': 77, 'num_lectures': 25, 'duration': '2 hours'}\n",
      "{'course_title': 'PHP: Complete Login and Registration System with PHP & MYSQL', 'url': 'https://www.udemy.com/user-authentication-code-a-simple-login-system-with-php/', 'price': 200, 'num_subscribers': 1448, 'num_reviews': 173, 'num_lectures': 48, 'duration': '7.5 hours'}\n",
      "{'course_title': 'Complete Login and Registration System in PHP and MYSQL', 'url': 'https://www.udemy.com/login-and-registration-system-in-php-and-mysql-step-by-step/', 'price': 200, 'num_subscribers': 4714, 'num_reviews': 149, 'num_lectures': 28, 'duration': '4 hours'}\n",
      "{'course_title': 'Login and Registration from Scratch with PHP and MySQL', 'url': 'https://www.udemy.com/authentication-from-scratch-with-php-and-mysql/', 'price': 20, 'num_subscribers': 1128, 'num_reviews': 77, 'num_lectures': 36, 'duration': '2 hours'}\n",
      "{'course_title': 'PHP & MySQL - Learn The Easy Way. Master PHP & MySQL Quickly', 'url': 'https://www.udemy.com/learning-php-and-mysql-development-the-easy-way/', 'price': 50, 'num_subscribers': 5549, 'num_reviews': 92, 'num_lectures': 143, 'duration': '15.5 hours'}\n",
      "{'course_title': 'Complete Website & CMS in PHP & MySQL From Scratch!', 'url': 'https://www.udemy.com/cms-admin-panel-in-php-mysql/', 'price': 20, 'num_subscribers': 3357, 'num_reviews': 82, 'num_lectures': 48, 'duration': '12.5 hours'}\n",
      "{'course_title': 'Learn E-Commerce Website in PHP & MySQL From Scratch!', 'url': 'https://www.udemy.com/ecommerce-website-in-php-mysqli/', 'price': 0, 'num_subscribers': 29990, 'num_reviews': 1342, 'num_lectures': 87, 'duration': '17.5 hours'}\n",
      "{'course_title': 'JavaScript Complete Guide to learning JavaScript', 'url': 'https://www.udemy.com/javascript-complete-guide-to-learning-javascript/', 'price': 200, 'num_subscribers': 1296, 'num_reviews': 22, 'num_lectures': 72, 'duration': '5.5 hours'}\n"
     ]
    },
    {
     "output_type": "stream",
     "name": "stderr",
     "text": [
      "127.0.0.1 - - [14/Jul/2021 05:36:36] \"GET /get/rcmd/java HTTP/1.1\" 200 -\n"
     ]
    },
    {
     "output_type": "stream",
     "name": "stdout",
     "text": [
      "Learning Dynamic Website Design - PHP MySQL and JavaScript\n",
      "2484\n",
      "{'course_title': 'Learning Dynamic Website Design - PHP MySQL and JavaScript', 'url': 'https://www.udemy.com/learning-dynamic-website-design/', 'price': 50, 'num_subscribers': 47886, 'num_reviews': 285, 'num_lectures': 125, 'duration': '12.5 hours'}\n",
      "{'course_title': 'Projects in PHP and MySQL', 'url': 'https://www.udemy.com/the-complete-web-development-course-learn-by-building-apps/', 'price': 60, 'num_subscribers': 10606, 'num_reviews': 570, 'num_lectures': 88, 'duration': '23 hours'}\n",
      "{'course_title': 'Practical Understanding of PHP and MySQL', 'url': 'https://www.udemy.com/practical-understanding-of-php-and-myqsl-demo/', 'price': 0, 'num_subscribers': 12201, 'num_reviews': 217, 'num_lectures': 24, 'duration': '5.5 hours'}\n",
      "{'course_title': 'PHP MySQL: Learn PHP MySQL with Project', 'url': 'https://www.udemy.com/php-mysql-project-learning/', 'price': 20, 'num_subscribers': 2314, 'num_reviews': 77, 'num_lectures': 25, 'duration': '2 hours'}\n",
      "{'course_title': 'PHP: Complete Login and Registration System with PHP & MYSQL', 'url': 'https://www.udemy.com/user-authentication-code-a-simple-login-system-with-php/', 'price': 200, 'num_subscribers': 1448, 'num_reviews': 173, 'num_lectures': 48, 'duration': '7.5 hours'}\n",
      "{'course_title': 'Complete Login and Registration System in PHP and MYSQL', 'url': 'https://www.udemy.com/login-and-registration-system-in-php-and-mysql-step-by-step/', 'price': 200, 'num_subscribers': 4714, 'num_reviews': 149, 'num_lectures': 28, 'duration': '4 hours'}\n",
      "{'course_title': 'Login and Registration from Scratch with PHP and MySQL', 'url': 'https://www.udemy.com/authentication-from-scratch-with-php-and-mysql/', 'price': 20, 'num_subscribers': 1128, 'num_reviews': 77, 'num_lectures': 36, 'duration': '2 hours'}\n",
      "{'course_title': 'PHP & MySQL - Learn The Easy Way. Master PHP & MySQL Quickly', 'url': 'https://www.udemy.com/learning-php-and-mysql-development-the-easy-way/', 'price': 50, 'num_subscribers': 5549, 'num_reviews': 92, 'num_lectures': 143, 'duration': '15.5 hours'}\n",
      "{'course_title': 'Complete Website & CMS in PHP & MySQL From Scratch!', 'url': 'https://www.udemy.com/cms-admin-panel-in-php-mysql/', 'price': 20, 'num_subscribers': 3357, 'num_reviews': 82, 'num_lectures': 48, 'duration': '12.5 hours'}\n",
      "{'course_title': 'Learn E-Commerce Website in PHP & MySQL From Scratch!', 'url': 'https://www.udemy.com/ecommerce-website-in-php-mysqli/', 'price': 0, 'num_subscribers': 29990, 'num_reviews': 1342, 'num_lectures': 87, 'duration': '17.5 hours'}\n",
      "{'course_title': 'JavaScript Complete Guide to learning JavaScript', 'url': 'https://www.udemy.com/javascript-complete-guide-to-learning-javascript/', 'price': 200, 'num_subscribers': 1296, 'num_reviews': 22, 'num_lectures': 72, 'duration': '5.5 hours'}\n"
     ]
    },
    {
     "output_type": "stream",
     "name": "stderr",
     "text": [
      "127.0.0.1 - - [14/Jul/2021 05:36:46] \"GET /get/rcmd/java HTTP/1.1\" 200 -\n"
     ]
    },
    {
     "output_type": "stream",
     "name": "stdout",
     "text": [
      "Learning Dynamic Website Design - PHP MySQL and JavaScript\n",
      "2484\n",
      "{'course_title': 'Learning Dynamic Website Design - PHP MySQL and JavaScript', 'url': 'https://www.udemy.com/learning-dynamic-website-design/', 'price': 50, 'num_subscribers': 47886, 'num_reviews': 285, 'num_lectures': 125, 'duration': '12.5 hours'}\n",
      "{'course_title': 'Projects in PHP and MySQL', 'url': 'https://www.udemy.com/the-complete-web-development-course-learn-by-building-apps/', 'price': 60, 'num_subscribers': 10606, 'num_reviews': 570, 'num_lectures': 88, 'duration': '23 hours'}\n",
      "{'course_title': 'Practical Understanding of PHP and MySQL', 'url': 'https://www.udemy.com/practical-understanding-of-php-and-myqsl-demo/', 'price': 0, 'num_subscribers': 12201, 'num_reviews': 217, 'num_lectures': 24, 'duration': '5.5 hours'}\n",
      "{'course_title': 'PHP MySQL: Learn PHP MySQL with Project', 'url': 'https://www.udemy.com/php-mysql-project-learning/', 'price': 20, 'num_subscribers': 2314, 'num_reviews': 77, 'num_lectures': 25, 'duration': '2 hours'}\n",
      "{'course_title': 'PHP: Complete Login and Registration System with PHP & MYSQL', 'url': 'https://www.udemy.com/user-authentication-code-a-simple-login-system-with-php/', 'price': 200, 'num_subscribers': 1448, 'num_reviews': 173, 'num_lectures': 48, 'duration': '7.5 hours'}\n",
      "{'course_title': 'Complete Login and Registration System in PHP and MYSQL', 'url': 'https://www.udemy.com/login-and-registration-system-in-php-and-mysql-step-by-step/', 'price': 200, 'num_subscribers': 4714, 'num_reviews': 149, 'num_lectures': 28, 'duration': '4 hours'}\n",
      "{'course_title': 'Login and Registration from Scratch with PHP and MySQL', 'url': 'https://www.udemy.com/authentication-from-scratch-with-php-and-mysql/', 'price': 20, 'num_subscribers': 1128, 'num_reviews': 77, 'num_lectures': 36, 'duration': '2 hours'}\n",
      "{'course_title': 'PHP & MySQL - Learn The Easy Way. Master PHP & MySQL Quickly', 'url': 'https://www.udemy.com/learning-php-and-mysql-development-the-easy-way/', 'price': 50, 'num_subscribers': 5549, 'num_reviews': 92, 'num_lectures': 143, 'duration': '15.5 hours'}\n",
      "{'course_title': 'Complete Website & CMS in PHP & MySQL From Scratch!', 'url': 'https://www.udemy.com/cms-admin-panel-in-php-mysql/', 'price': 20, 'num_subscribers': 3357, 'num_reviews': 82, 'num_lectures': 48, 'duration': '12.5 hours'}\n",
      "{'course_title': 'Learn E-Commerce Website in PHP & MySQL From Scratch!', 'url': 'https://www.udemy.com/ecommerce-website-in-php-mysqli/', 'price': 0, 'num_subscribers': 29990, 'num_reviews': 1342, 'num_lectures': 87, 'duration': '17.5 hours'}\n",
      "{'course_title': 'JavaScript Complete Guide to learning JavaScript', 'url': 'https://www.udemy.com/javascript-complete-guide-to-learning-javascript/', 'price': 200, 'num_subscribers': 1296, 'num_reviews': 22, 'num_lectures': 72, 'duration': '5.5 hours'}\n"
     ]
    },
    {
     "output_type": "stream",
     "name": "stderr",
     "text": [
      "127.0.0.1 - - [14/Jul/2021 05:37:13] \"GET /get/rcmd/java HTTP/1.1\" 200 -\n"
     ]
    },
    {
     "output_type": "stream",
     "name": "stdout",
     "text": [
      "Learning Dynamic Website Design - PHP MySQL and JavaScript\n",
      "2484\n",
      "{'course_title': 'Learning Dynamic Website Design - PHP MySQL and JavaScript', 'url': 'https://www.udemy.com/learning-dynamic-website-design/', 'price': 50, 'num_subscribers': 47886, 'num_reviews': 285, 'num_lectures': 125, 'duration': '12.5 hours'}\n",
      "{'course_title': 'Projects in PHP and MySQL', 'url': 'https://www.udemy.com/the-complete-web-development-course-learn-by-building-apps/', 'price': 60, 'num_subscribers': 10606, 'num_reviews': 570, 'num_lectures': 88, 'duration': '23 hours'}\n",
      "{'course_title': 'Practical Understanding of PHP and MySQL', 'url': 'https://www.udemy.com/practical-understanding-of-php-and-myqsl-demo/', 'price': 0, 'num_subscribers': 12201, 'num_reviews': 217, 'num_lectures': 24, 'duration': '5.5 hours'}\n",
      "{'course_title': 'PHP MySQL: Learn PHP MySQL with Project', 'url': 'https://www.udemy.com/php-mysql-project-learning/', 'price': 20, 'num_subscribers': 2314, 'num_reviews': 77, 'num_lectures': 25, 'duration': '2 hours'}\n",
      "{'course_title': 'PHP: Complete Login and Registration System with PHP & MYSQL', 'url': 'https://www.udemy.com/user-authentication-code-a-simple-login-system-with-php/', 'price': 200, 'num_subscribers': 1448, 'num_reviews': 173, 'num_lectures': 48, 'duration': '7.5 hours'}\n",
      "{'course_title': 'Complete Login and Registration System in PHP and MYSQL', 'url': 'https://www.udemy.com/login-and-registration-system-in-php-and-mysql-step-by-step/', 'price': 200, 'num_subscribers': 4714, 'num_reviews': 149, 'num_lectures': 28, 'duration': '4 hours'}\n",
      "{'course_title': 'Login and Registration from Scratch with PHP and MySQL', 'url': 'https://www.udemy.com/authentication-from-scratch-with-php-and-mysql/', 'price': 20, 'num_subscribers': 1128, 'num_reviews': 77, 'num_lectures': 36, 'duration': '2 hours'}\n",
      "{'course_title': 'PHP & MySQL - Learn The Easy Way. Master PHP & MySQL Quickly', 'url': 'https://www.udemy.com/learning-php-and-mysql-development-the-easy-way/', 'price': 50, 'num_subscribers': 5549, 'num_reviews': 92, 'num_lectures': 143, 'duration': '15.5 hours'}\n",
      "{'course_title': 'Complete Website & CMS in PHP & MySQL From Scratch!', 'url': 'https://www.udemy.com/cms-admin-panel-in-php-mysql/', 'price': 20, 'num_subscribers': 3357, 'num_reviews': 82, 'num_lectures': 48, 'duration': '12.5 hours'}\n",
      "{'course_title': 'Learn E-Commerce Website in PHP & MySQL From Scratch!', 'url': 'https://www.udemy.com/ecommerce-website-in-php-mysqli/', 'price': 0, 'num_subscribers': 29990, 'num_reviews': 1342, 'num_lectures': 87, 'duration': '17.5 hours'}\n",
      "{'course_title': 'JavaScript Complete Guide to learning JavaScript', 'url': 'https://www.udemy.com/javascript-complete-guide-to-learning-javascript/', 'price': 200, 'num_subscribers': 1296, 'num_reviews': 22, 'num_lectures': 72, 'duration': '5.5 hours'}\n"
     ]
    },
    {
     "output_type": "stream",
     "name": "stderr",
     "text": [
      "127.0.0.1 - - [14/Jul/2021 05:37:26] \"GET /get/rcmd/java HTTP/1.1\" 200 -\n"
     ]
    },
    {
     "output_type": "stream",
     "name": "stdout",
     "text": [
      "Learning Dynamic Website Design - PHP MySQL and JavaScript\n",
      "2484\n",
      "{'course_title': 'Learning Dynamic Website Design - PHP MySQL and JavaScript', 'url': 'https://www.udemy.com/learning-dynamic-website-design/', 'price': 50, 'num_subscribers': 47886, 'num_reviews': 285, 'num_lectures': 125, 'duration': '12.5 hours'}\n",
      "{'course_title': 'Projects in PHP and MySQL', 'url': 'https://www.udemy.com/the-complete-web-development-course-learn-by-building-apps/', 'price': 60, 'num_subscribers': 10606, 'num_reviews': 570, 'num_lectures': 88, 'duration': '23 hours'}\n",
      "{'course_title': 'Practical Understanding of PHP and MySQL', 'url': 'https://www.udemy.com/practical-understanding-of-php-and-myqsl-demo/', 'price': 0, 'num_subscribers': 12201, 'num_reviews': 217, 'num_lectures': 24, 'duration': '5.5 hours'}\n",
      "{'course_title': 'PHP MySQL: Learn PHP MySQL with Project', 'url': 'https://www.udemy.com/php-mysql-project-learning/', 'price': 20, 'num_subscribers': 2314, 'num_reviews': 77, 'num_lectures': 25, 'duration': '2 hours'}\n",
      "{'course_title': 'PHP: Complete Login and Registration System with PHP & MYSQL', 'url': 'https://www.udemy.com/user-authentication-code-a-simple-login-system-with-php/', 'price': 200, 'num_subscribers': 1448, 'num_reviews': 173, 'num_lectures': 48, 'duration': '7.5 hours'}\n",
      "{'course_title': 'Complete Login and Registration System in PHP and MYSQL', 'url': 'https://www.udemy.com/login-and-registration-system-in-php-and-mysql-step-by-step/', 'price': 200, 'num_subscribers': 4714, 'num_reviews': 149, 'num_lectures': 28, 'duration': '4 hours'}\n",
      "{'course_title': 'Login and Registration from Scratch with PHP and MySQL', 'url': 'https://www.udemy.com/authentication-from-scratch-with-php-and-mysql/', 'price': 20, 'num_subscribers': 1128, 'num_reviews': 77, 'num_lectures': 36, 'duration': '2 hours'}\n",
      "{'course_title': 'PHP & MySQL - Learn The Easy Way. Master PHP & MySQL Quickly', 'url': 'https://www.udemy.com/learning-php-and-mysql-development-the-easy-way/', 'price': 50, 'num_subscribers': 5549, 'num_reviews': 92, 'num_lectures': 143, 'duration': '15.5 hours'}\n",
      "{'course_title': 'Complete Website & CMS in PHP & MySQL From Scratch!', 'url': 'https://www.udemy.com/cms-admin-panel-in-php-mysql/', 'price': 20, 'num_subscribers': 3357, 'num_reviews': 82, 'num_lectures': 48, 'duration': '12.5 hours'}\n",
      "{'course_title': 'Learn E-Commerce Website in PHP & MySQL From Scratch!', 'url': 'https://www.udemy.com/ecommerce-website-in-php-mysqli/', 'price': 0, 'num_subscribers': 29990, 'num_reviews': 1342, 'num_lectures': 87, 'duration': '17.5 hours'}\n",
      "{'course_title': 'JavaScript Complete Guide to learning JavaScript', 'url': 'https://www.udemy.com/javascript-complete-guide-to-learning-javascript/', 'price': 200, 'num_subscribers': 1296, 'num_reviews': 22, 'num_lectures': 72, 'duration': '5.5 hours'}\n"
     ]
    },
    {
     "output_type": "stream",
     "name": "stderr",
     "text": [
      "127.0.0.1 - - [14/Jul/2021 05:38:05] \"GET /get/rcmd/ HTTP/1.1\" 404 -\n",
      "127.0.0.1 - - [14/Jul/2021 05:38:09] \"GET /get/rcmd/j HTTP/1.1\" 200 -\n",
      "127.0.0.1 - - [14/Jul/2021 05:38:09] \"GET /get/rcmd/ja HTTP/1.1\" 200 -\n"
     ]
    },
    {
     "output_type": "stream",
     "name": "stdout",
     "text": [
      "Stock Trading Ninja: Complete System For Trading Success\n",
      "62\n",
      "{'course_title': 'Stock Trading Ninja: Complete System For Trading Success', 'url': 'https://www.udemy.com/stock-trading-ninja-learn-how-to-make-money-trading-stocks/', 'price': 155, 'num_subscribers': 9445, 'num_reviews': 497, 'num_lectures': 38, 'duration': '4.5 hours'}\n",
      "{'course_title': 'Trading Economic Indicators - Complete Trading System', 'url': 'https://www.udemy.com/hacking-trading-through-economic-indicators/', 'price': 50, 'num_subscribers': 2692, 'num_reviews': 25, 'num_lectures': 25, 'duration': '1.5 hours'}\n",
      "{'course_title': 'Stock Options Day Trading Mindset for Success', 'url': 'https://www.udemy.com/stock-options-day-trading-success-mindset/', 'price': 200, 'num_subscribers': 2988, 'num_reviews': 21, 'num_lectures': 43, 'duration': '4.5 hours'}\n",
      "{'course_title': 'Forex Trading For Beginners: Technical Trading', 'url': 'https://www.udemy.com/forex-trading-for-beginners-technical-trading/', 'price': 0, 'num_subscribers': 1685, 'num_reviews': 29, 'num_lectures': 16, 'duration': '2 hours'}\n",
      "{'course_title': 'Trading: Basics of Trading for Beginners', 'url': 'https://www.udemy.com/money-basics-of-trading-for-beginners/', 'price': 140, 'num_subscribers': 1309, 'num_reviews': 4, 'num_lectures': 20, 'duration': '1.5 hours'}\n",
      "{'course_title': 'The Complete Position Trading Course: Position Trading Stock', 'url': 'https://www.udemy.com/position-trading-course/', 'price': 45, 'num_subscribers': 1311, 'num_reviews': 36, 'num_lectures': 5, 'duration': '1 hour'}\n",
      "{'course_title': 'Trading for winning', 'url': 'https://www.udemy.com/charting-for-beginners-for-dummies-newbies-technical-analysis/', 'price': 200, 'num_subscribers': 168, 'num_reviews': 7, 'num_lectures': 27, 'duration': '2 hours'}\n",
      "{'course_title': 'Python Algo Stock Trading: Automate Your Trading!', 'url': 'https://www.udemy.com/algorithmic-stock-trading-bootcamp-automate-your-trading/', 'price': 95, 'num_subscribers': 1165, 'num_reviews': 21, 'num_lectures': 41, 'duration': '2.5 hours'}\n",
      "{'course_title': 'Cryptocurrency Trading: Complete Guide To Trading Altcoins', 'url': 'https://www.udemy.com/cryptocurrency-trading/', 'price': 95, 'num_subscribers': 367, 'num_reviews': 42, 'num_lectures': 35, 'duration': '5 hours'}\n",
      "{'course_title': 'EFT for Stock Options Trading Success & Making Better Trades', 'url': 'https://www.udemy.com/eft-for-stock-option-trading-success/', 'price': 95, 'num_subscribers': 4530, 'num_reviews': 13, 'num_lectures': 31, 'duration': '1.5 hours'}\n",
      "{'course_title': 'Samuel and Co Trading - Stock & Forex Trading', 'url': 'https://www.udemy.com/samuel-co-forex-and-stock-trading/', 'price': 50, 'num_subscribers': 592, 'num_reviews': 109, 'num_lectures': 24, 'duration': '5.5 hours'}\n",
      "Stock Trading Ninja: Complete System For Trading Success\n",
      "62\n",
      "{'course_title': 'Stock Trading Ninja: Complete System For Trading Success', 'url': 'https://www.udemy.com/stock-trading-ninja-learn-how-to-make-money-trading-stocks/', 'price': 155, 'num_subscribers': 9445, 'num_reviews': 497, 'num_lectures': 38, 'duration': '4.5 hours'}\n",
      "{'course_title': 'Trading Economic Indicators - Complete Trading System', 'url': 'https://www.udemy.com/hacking-trading-through-economic-indicators/', 'price': 50, 'num_subscribers': 2692, 'num_reviews': 25, 'num_lectures': 25, 'duration': '1.5 hours'}\n",
      "{'course_title': 'Stock Options Day Trading Mindset for Success', 'url': 'https://www.udemy.com/stock-options-day-trading-success-mindset/', 'price': 200, 'num_subscribers': 2988, 'num_reviews': 21, 'num_lectures': 43, 'duration': '4.5 hours'}\n",
      "{'course_title': 'Forex Trading For Beginners: Technical Trading', 'url': 'https://www.udemy.com/forex-trading-for-beginners-technical-trading/', 'price': 0, 'num_subscribers': 1685, 'num_reviews': 29, 'num_lectures': 16, 'duration': '2 hours'}\n",
      "{'course_title': 'Trading: Basics of Trading for Beginners', 'url': 'https://www.udemy.com/money-basics-of-trading-for-beginners/', 'price': 140, 'num_subscribers': 1309, 'num_reviews': 4, 'num_lectures': 20, 'duration': '1.5 hours'}\n",
      "{'course_title': 'The Complete Position Trading Course: Position Trading Stock', 'url': 'https://www.udemy.com/position-trading-course/', 'price': 45, 'num_subscribers': 1311, 'num_reviews': 36, 'num_lectures': 5, 'duration': '1 hour'}\n",
      "{'course_title': 'Trading for winning', 'url': 'https://www.udemy.com/charting-for-beginners-for-dummies-newbies-technical-analysis/', 'price': 200, 'num_subscribers': 168, 'num_reviews': 7, 'num_lectures': 27, 'duration': '2 hours'}\n",
      "{'course_title': 'Python Algo Stock Trading: Automate Your Trading!', 'url': 'https://www.udemy.com/algorithmic-stock-trading-bootcamp-automate-your-trading/', 'price': 95, 'num_subscribers': 1165, 'num_reviews': 21, 'num_lectures': 41, 'duration': '2.5 hours'}\n",
      "{'course_title': 'Cryptocurrency Trading: Complete Guide To Trading Altcoins', 'url': 'https://www.udemy.com/cryptocurrency-trading/', 'price': 95, 'num_subscribers': 367, 'num_reviews': 42, 'num_lectures': 35, 'duration': '5 hours'}\n",
      "{'course_title': 'EFT for Stock Options Trading Success & Making Better Trades', 'url': 'https://www.udemy.com/eft-for-stock-option-trading-success/', 'price': 95, 'num_subscribers': 4530, 'num_reviews': 13, 'num_lectures': 31, 'duration': '1.5 hours'}\n",
      "{'course_title': 'Samuel and Co Trading - Stock & Forex Trading', 'url': 'https://www.udemy.com/samuel-co-forex-and-stock-trading/', 'price': 50, 'num_subscribers': 592, 'num_reviews': 109, 'num_lectures': 24, 'duration': '5.5 hours'}\n"
     ]
    },
    {
     "output_type": "stream",
     "name": "stderr",
     "text": [
      "127.0.0.1 - - [14/Jul/2021 05:38:09] \"GET /get/rcmd/jav HTTP/1.1\" 200 -\n",
      "127.0.0.1 - - [14/Jul/2021 05:38:09] \"GET /get/rcmd/java HTTP/1.1\" 200 -\n"
     ]
    },
    {
     "output_type": "stream",
     "name": "stdout",
     "text": [
      "Learning Dynamic Website Design - PHP MySQL and JavaScript\n",
      "2484\n",
      "{'course_title': 'Learning Dynamic Website Design - PHP MySQL and JavaScript', 'url': 'https://www.udemy.com/learning-dynamic-website-design/', 'price': 50, 'num_subscribers': 47886, 'num_reviews': 285, 'num_lectures': 125, 'duration': '12.5 hours'}\n",
      "{'course_title': 'Projects in PHP and MySQL', 'url': 'https://www.udemy.com/the-complete-web-development-course-learn-by-building-apps/', 'price': 60, 'num_subscribers': 10606, 'num_reviews': 570, 'num_lectures': 88, 'duration': '23 hours'}\n",
      "{'course_title': 'Practical Understanding of PHP and MySQL', 'url': 'https://www.udemy.com/practical-understanding-of-php-and-myqsl-demo/', 'price': 0, 'num_subscribers': 12201, 'num_reviews': 217, 'num_lectures': 24, 'duration': '5.5 hours'}\n",
      "{'course_title': 'PHP MySQL: Learn PHP MySQL with Project', 'url': 'https://www.udemy.com/php-mysql-project-learning/', 'price': 20, 'num_subscribers': 2314, 'num_reviews': 77, 'num_lectures': 25, 'duration': '2 hours'}\n",
      "{'course_title': 'PHP: Complete Login and Registration System with PHP & MYSQL', 'url': 'https://www.udemy.com/user-authentication-code-a-simple-login-system-with-php/', 'price': 200, 'num_subscribers': 1448, 'num_reviews': 173, 'num_lectures': 48, 'duration': '7.5 hours'}\n",
      "{'course_title': 'Complete Login and Registration System in PHP and MYSQL', 'url': 'https://www.udemy.com/login-and-registration-system-in-php-and-mysql-step-by-step/', 'price': 200, 'num_subscribers': 4714, 'num_reviews': 149, 'num_lectures': 28, 'duration': '4 hours'}\n",
      "{'course_title': 'Login and Registration from Scratch with PHP and MySQL', 'url': 'https://www.udemy.com/authentication-from-scratch-with-php-and-mysql/', 'price': 20, 'num_subscribers': 1128, 'num_reviews': 77, 'num_lectures': 36, 'duration': '2 hours'}\n",
      "{'course_title': 'PHP & MySQL - Learn The Easy Way. Master PHP & MySQL Quickly', 'url': 'https://www.udemy.com/learning-php-and-mysql-development-the-easy-way/', 'price': 50, 'num_subscribers': 5549, 'num_reviews': 92, 'num_lectures': 143, 'duration': '15.5 hours'}\n",
      "{'course_title': 'Complete Website & CMS in PHP & MySQL From Scratch!', 'url': 'https://www.udemy.com/cms-admin-panel-in-php-mysql/', 'price': 20, 'num_subscribers': 3357, 'num_reviews': 82, 'num_lectures': 48, 'duration': '12.5 hours'}\n",
      "{'course_title': 'Learn E-Commerce Website in PHP & MySQL From Scratch!', 'url': 'https://www.udemy.com/ecommerce-website-in-php-mysqli/', 'price': 0, 'num_subscribers': 29990, 'num_reviews': 1342, 'num_lectures': 87, 'duration': '17.5 hours'}\n",
      "{'course_title': 'JavaScript Complete Guide to learning JavaScript', 'url': 'https://www.udemy.com/javascript-complete-guide-to-learning-javascript/', 'price': 200, 'num_subscribers': 1296, 'num_reviews': 22, 'num_lectures': 72, 'duration': '5.5 hours'}\n",
      "Learning Dynamic Website Design - PHP MySQL and JavaScript\n",
      "2484\n",
      "{'course_title': 'Learning Dynamic Website Design - PHP MySQL and JavaScript', 'url': 'https://www.udemy.com/learning-dynamic-website-design/', 'price': 50, 'num_subscribers': 47886, 'num_reviews': 285, 'num_lectures': 125, 'duration': '12.5 hours'}\n",
      "{'course_title': 'Projects in PHP and MySQL', 'url': 'https://www.udemy.com/the-complete-web-development-course-learn-by-building-apps/', 'price': 60, 'num_subscribers': 10606, 'num_reviews': 570, 'num_lectures': 88, 'duration': '23 hours'}\n",
      "{'course_title': 'Practical Understanding of PHP and MySQL', 'url': 'https://www.udemy.com/practical-understanding-of-php-and-myqsl-demo/', 'price': 0, 'num_subscribers': 12201, 'num_reviews': 217, 'num_lectures': 24, 'duration': '5.5 hours'}\n",
      "{'course_title': 'PHP MySQL: Learn PHP MySQL with Project', 'url': 'https://www.udemy.com/php-mysql-project-learning/', 'price': 20, 'num_subscribers': 2314, 'num_reviews': 77, 'num_lectures': 25, 'duration': '2 hours'}\n",
      "{'course_title': 'PHP: Complete Login and Registration System with PHP & MYSQL', 'url': 'https://www.udemy.com/user-authentication-code-a-simple-login-system-with-php/', 'price': 200, 'num_subscribers': 1448, 'num_reviews': 173, 'num_lectures': 48, 'duration': '7.5 hours'}\n",
      "{'course_title': 'Complete Login and Registration System in PHP and MYSQL', 'url': 'https://www.udemy.com/login-and-registration-system-in-php-and-mysql-step-by-step/', 'price': 200, 'num_subscribers': 4714, 'num_reviews': 149, 'num_lectures': 28, 'duration': '4 hours'}\n",
      "{'course_title': 'Login and Registration from Scratch with PHP and MySQL', 'url': 'https://www.udemy.com/authentication-from-scratch-with-php-and-mysql/', 'price': 20, 'num_subscribers': 1128, 'num_reviews': 77, 'num_lectures': 36, 'duration': '2 hours'}\n",
      "{'course_title': 'PHP & MySQL - Learn The Easy Way. Master PHP & MySQL Quickly', 'url': 'https://www.udemy.com/learning-php-and-mysql-development-the-easy-way/', 'price': 50, 'num_subscribers': 5549, 'num_reviews': 92, 'num_lectures': 143, 'duration': '15.5 hours'}\n",
      "{'course_title': 'Complete Website & CMS in PHP & MySQL From Scratch!', 'url': 'https://www.udemy.com/cms-admin-panel-in-php-mysql/', 'price': 20, 'num_subscribers': 3357, 'num_reviews': 82, 'num_lectures': 48, 'duration': '12.5 hours'}\n",
      "{'course_title': 'Learn E-Commerce Website in PHP & MySQL From Scratch!', 'url': 'https://www.udemy.com/ecommerce-website-in-php-mysqli/', 'price': 0, 'num_subscribers': 29990, 'num_reviews': 1342, 'num_lectures': 87, 'duration': '17.5 hours'}\n",
      "{'course_title': 'JavaScript Complete Guide to learning JavaScript', 'url': 'https://www.udemy.com/javascript-complete-guide-to-learning-javascript/', 'price': 200, 'num_subscribers': 1296, 'num_reviews': 22, 'num_lectures': 72, 'duration': '5.5 hours'}\n"
     ]
    },
    {
     "output_type": "stream",
     "name": "stderr",
     "text": [
      "127.0.0.1 - - [14/Jul/2021 05:38:14] \"GET /get/rcmd/java HTTP/1.1\" 200 -\n"
     ]
    },
    {
     "output_type": "stream",
     "name": "stdout",
     "text": [
      "Learning Dynamic Website Design - PHP MySQL and JavaScript\n",
      "2484\n",
      "{'course_title': 'Learning Dynamic Website Design - PHP MySQL and JavaScript', 'url': 'https://www.udemy.com/learning-dynamic-website-design/', 'price': 50, 'num_subscribers': 47886, 'num_reviews': 285, 'num_lectures': 125, 'duration': '12.5 hours'}\n",
      "{'course_title': 'Projects in PHP and MySQL', 'url': 'https://www.udemy.com/the-complete-web-development-course-learn-by-building-apps/', 'price': 60, 'num_subscribers': 10606, 'num_reviews': 570, 'num_lectures': 88, 'duration': '23 hours'}\n",
      "{'course_title': 'Practical Understanding of PHP and MySQL', 'url': 'https://www.udemy.com/practical-understanding-of-php-and-myqsl-demo/', 'price': 0, 'num_subscribers': 12201, 'num_reviews': 217, 'num_lectures': 24, 'duration': '5.5 hours'}\n",
      "{'course_title': 'PHP MySQL: Learn PHP MySQL with Project', 'url': 'https://www.udemy.com/php-mysql-project-learning/', 'price': 20, 'num_subscribers': 2314, 'num_reviews': 77, 'num_lectures': 25, 'duration': '2 hours'}\n",
      "{'course_title': 'PHP: Complete Login and Registration System with PHP & MYSQL', 'url': 'https://www.udemy.com/user-authentication-code-a-simple-login-system-with-php/', 'price': 200, 'num_subscribers': 1448, 'num_reviews': 173, 'num_lectures': 48, 'duration': '7.5 hours'}\n",
      "{'course_title': 'Complete Login and Registration System in PHP and MYSQL', 'url': 'https://www.udemy.com/login-and-registration-system-in-php-and-mysql-step-by-step/', 'price': 200, 'num_subscribers': 4714, 'num_reviews': 149, 'num_lectures': 28, 'duration': '4 hours'}\n",
      "{'course_title': 'Login and Registration from Scratch with PHP and MySQL', 'url': 'https://www.udemy.com/authentication-from-scratch-with-php-and-mysql/', 'price': 20, 'num_subscribers': 1128, 'num_reviews': 77, 'num_lectures': 36, 'duration': '2 hours'}\n",
      "{'course_title': 'PHP & MySQL - Learn The Easy Way. Master PHP & MySQL Quickly', 'url': 'https://www.udemy.com/learning-php-and-mysql-development-the-easy-way/', 'price': 50, 'num_subscribers': 5549, 'num_reviews': 92, 'num_lectures': 143, 'duration': '15.5 hours'}\n",
      "{'course_title': 'Complete Website & CMS in PHP & MySQL From Scratch!', 'url': 'https://www.udemy.com/cms-admin-panel-in-php-mysql/', 'price': 20, 'num_subscribers': 3357, 'num_reviews': 82, 'num_lectures': 48, 'duration': '12.5 hours'}\n",
      "{'course_title': 'Learn E-Commerce Website in PHP & MySQL From Scratch!', 'url': 'https://www.udemy.com/ecommerce-website-in-php-mysqli/', 'price': 0, 'num_subscribers': 29990, 'num_reviews': 1342, 'num_lectures': 87, 'duration': '17.5 hours'}\n",
      "{'course_title': 'JavaScript Complete Guide to learning JavaScript', 'url': 'https://www.udemy.com/javascript-complete-guide-to-learning-javascript/', 'price': 200, 'num_subscribers': 1296, 'num_reviews': 22, 'num_lectures': 72, 'duration': '5.5 hours'}\n"
     ]
    },
    {
     "output_type": "stream",
     "name": "stderr",
     "text": [
      "127.0.0.1 - - [14/Jul/2021 05:38:17] \"GET /get/rcmd/p HTTP/1.1\" 200 -\n"
     ]
    },
    {
     "output_type": "stream",
     "name": "stdout",
     "text": [
      "Complete GST Course & Certification - Grow Your CA Practice\n",
      "1\n",
      "{'course_title': 'Complete GST Course & Certification - Grow Your CA Practice', 'url': 'https://www.udemy.com/goods-and-services-tax/', 'price': 75, 'num_subscribers': 2792, 'num_reviews': 923, 'num_lectures': 274, 'duration': '39 hours'}\n",
      "{'course_title': 'Beginner Guitar Lessons - Your Complete Foundation Course', 'url': 'https://www.udemy.com/beginner-guitar-lessons-your-complete-foundation-course/', 'price': 60, 'num_subscribers': 293, 'num_reviews': 30, 'num_lectures': 162, 'duration': '18.5 hours'}\n",
      "{'course_title': 'Complete GST Course For Small and Medium Enterprises', 'url': 'https://www.udemy.com/complete-gst-course-for-small-and-medium-enterprises/', 'price': 75, 'num_subscribers': 8, 'num_reviews': 0, 'num_lectures': 45, 'duration': '6 hours'}\n",
      "{'course_title': 'The Complete Canva Course', 'url': 'https://www.udemy.com/the-complete-canva-course-for-beginners/', 'price': 200, 'num_subscribers': 68, 'num_reviews': 11, 'num_lectures': 48, 'duration': '4.5 hours'}\n",
      "{'course_title': 'The Complete Wordpress Course - Build Your Own Website Today', 'url': 'https://www.udemy.com/wordpresscourse/', 'price': 195, 'num_subscribers': 9421, 'num_reviews': 73, 'num_lectures': 36, 'duration': '3.5 hours'}\n",
      "{'course_title': 'The complete HTML5 course', 'url': 'https://www.udemy.com/learn-html-by-building-websites/', 'price': 20, 'num_subscribers': 3461, 'num_reviews': 11, 'num_lectures': 23, 'duration': '1.5 hours'}\n",
      "{'course_title': 'The Complete Ethereum Course: Get .01 Ether In Your Wallet', 'url': 'https://www.udemy.com/ethereum/', 'price': 45, 'num_subscribers': 2507, 'num_reviews': 333, 'num_lectures': 40, 'duration': '2 hours'}\n",
      "{'course_title': 'Your Own Site in 45 Min: The Complete Wordpress Course', 'url': 'https://www.udemy.com/wordpress-sites/', 'price': 120, 'num_subscribers': 1566, 'num_reviews': 29, 'num_lectures': 36, 'duration': '4 hours'}\n",
      "{'course_title': 'TopTrader Academy - Complete Options Course', 'url': 'https://www.udemy.com/toptraderacademy-complete-options-course/', 'price': 150, 'num_subscribers': 42, 'num_reviews': 1, 'num_lectures': 11, 'duration': '3 hours'}\n",
      "{'course_title': 'The Complete Adobe Spark Course', 'url': 'https://www.udemy.com/the-complete-adobe-spark-course/', 'price': 150, 'num_subscribers': 0, 'num_reviews': 0, 'num_lectures': 29, 'duration': '2 hours'}\n",
      "{'course_title': 'The Complete Motion Graphic Course', 'url': 'https://www.udemy.com/complete-motion-graphic-course/', 'price': 65, 'num_subscribers': 50, 'num_reviews': 6, 'num_lectures': 115, 'duration': '9.5 hours'}\n"
     ]
    },
    {
     "output_type": "stream",
     "name": "stderr",
     "text": [
      "127.0.0.1 - - [14/Jul/2021 05:38:18] \"GET /get/rcmd/py HTTP/1.1\" 200 -\n"
     ]
    },
    {
     "output_type": "stream",
     "name": "stdout",
     "text": [
      "Python Algo Trading: Sentiment Trading with News\n",
      "14\n",
      "{'course_title': 'Python Algo Trading: Sentiment Trading with News', 'url': 'https://www.udemy.com/hedge-fund-strategy-trading-with-sentiment-analysis/', 'price': 200, 'num_subscribers': 294, 'num_reviews': 19, 'num_lectures': 42, 'duration': '7 hours'}\n",
      "{'course_title': 'Python Algo Trading: FX Trading with Oanda', 'url': 'https://www.udemy.com/python-algo-trading-fx-trading-with-oanda/', 'price': 200, 'num_subscribers': 453, 'num_reviews': 42, 'num_lectures': 33, 'duration': '3 hours'}\n",
      "{'course_title': 'Python Algo Stock Trading: Automate Your Trading!', 'url': 'https://www.udemy.com/algorithmic-stock-trading-bootcamp-automate-your-trading/', 'price': 95, 'num_subscribers': 1165, 'num_reviews': 21, 'num_lectures': 41, 'duration': '2.5 hours'}\n",
      "{'course_title': 'Quantitative Trading Analysis with Python', 'url': 'https://www.udemy.com/quantitative-trading-analysis-with-python/', 'price': 50, 'num_subscribers': 256, 'num_reviews': 17, 'num_lectures': 49, 'duration': '5.5 hours'}\n",
      "{'course_title': 'Black Algo Trading: Build Your Trading Robot', 'url': 'https://www.udemy.com/build-your-trading-robot/', 'price': 200, 'num_subscribers': 20195, 'num_reviews': 1113, 'num_lectures': 227, 'duration': '16 hours'}\n",
      "{'course_title': 'Trading: High-ROI Trading', 'url': 'https://www.udemy.com/the-high-roi-trading-video-course/', 'price': 190, 'num_subscribers': 126, 'num_reviews': 20, 'num_lectures': 47, 'duration': '12.5 hours'}\n",
      "{'course_title': 'Forex Trading with Fixed \\'Risk through Options Trading\"', 'url': 'https://www.udemy.com/forexoptions/', 'price': 200, 'num_subscribers': 611, 'num_reviews': 4, 'num_lectures': 26, 'duration': '1 hour'}\n",
      "{'course_title': 'TRADING PSYCHOLOGY: Trading Mindset Mastery', 'url': 'https://www.udemy.com/trading-psychology-trading-mindset-mastery/', 'price': 120, 'num_subscribers': 975, 'num_reviews': 23, 'num_lectures': 23, 'duration': '1 hour'}\n",
      "{'course_title': 'Forex Trading vs Option Trading', 'url': 'https://www.udemy.com/trading-excellence/', 'price': 95, 'num_subscribers': 1776, 'num_reviews': 14, 'num_lectures': 29, 'duration': '2.5 hours'}\n",
      "{'course_title': 'Volatility Trading Analysis with R', 'url': 'https://www.udemy.com/volatility-trading-analysis-with-r/', 'price': 50, 'num_subscribers': 190, 'num_reviews': 13, 'num_lectures': 45, 'duration': '6 hours'}\n",
      "{'course_title': 'Forex: Economic News Trading', 'url': 'https://www.udemy.com/forex-economic-news-trading/', 'price': 25, 'num_subscribers': 42, 'num_reviews': 14, 'num_lectures': 11, 'duration': '41 mins'}\n"
     ]
    },
    {
     "output_type": "stream",
     "name": "stderr",
     "text": [
      "127.0.0.1 - - [14/Jul/2021 05:38:19] \"GET /get/rcmd/pyt HTTP/1.1\" 200 -\n",
      "127.0.0.1 - - [14/Jul/2021 05:38:19] \"GET /get/rcmd/pyth HTTP/1.1\" 200 -\n"
     ]
    },
    {
     "output_type": "stream",
     "name": "stdout",
     "text": [
      "Python Algo Trading: Sentiment Trading with News\n",
      "14\n",
      "{'course_title': 'Python Algo Trading: Sentiment Trading with News', 'url': 'https://www.udemy.com/hedge-fund-strategy-trading-with-sentiment-analysis/', 'price': 200, 'num_subscribers': 294, 'num_reviews': 19, 'num_lectures': 42, 'duration': '7 hours'}\n",
      "{'course_title': 'Python Algo Trading: FX Trading with Oanda', 'url': 'https://www.udemy.com/python-algo-trading-fx-trading-with-oanda/', 'price': 200, 'num_subscribers': 453, 'num_reviews': 42, 'num_lectures': 33, 'duration': '3 hours'}\n",
      "{'course_title': 'Python Algo Stock Trading: Automate Your Trading!', 'url': 'https://www.udemy.com/algorithmic-stock-trading-bootcamp-automate-your-trading/', 'price': 95, 'num_subscribers': 1165, 'num_reviews': 21, 'num_lectures': 41, 'duration': '2.5 hours'}\n",
      "{'course_title': 'Quantitative Trading Analysis with Python', 'url': 'https://www.udemy.com/quantitative-trading-analysis-with-python/', 'price': 50, 'num_subscribers': 256, 'num_reviews': 17, 'num_lectures': 49, 'duration': '5.5 hours'}\n",
      "{'course_title': 'Black Algo Trading: Build Your Trading Robot', 'url': 'https://www.udemy.com/build-your-trading-robot/', 'price': 200, 'num_subscribers': 20195, 'num_reviews': 1113, 'num_lectures': 227, 'duration': '16 hours'}\n",
      "{'course_title': 'Trading: High-ROI Trading', 'url': 'https://www.udemy.com/the-high-roi-trading-video-course/', 'price': 190, 'num_subscribers': 126, 'num_reviews': 20, 'num_lectures': 47, 'duration': '12.5 hours'}\n",
      "{'course_title': 'Forex Trading with Fixed \\'Risk through Options Trading\"', 'url': 'https://www.udemy.com/forexoptions/', 'price': 200, 'num_subscribers': 611, 'num_reviews': 4, 'num_lectures': 26, 'duration': '1 hour'}\n",
      "{'course_title': 'TRADING PSYCHOLOGY: Trading Mindset Mastery', 'url': 'https://www.udemy.com/trading-psychology-trading-mindset-mastery/', 'price': 120, 'num_subscribers': 975, 'num_reviews': 23, 'num_lectures': 23, 'duration': '1 hour'}\n",
      "{'course_title': 'Forex Trading vs Option Trading', 'url': 'https://www.udemy.com/trading-excellence/', 'price': 95, 'num_subscribers': 1776, 'num_reviews': 14, 'num_lectures': 29, 'duration': '2.5 hours'}\n",
      "{'course_title': 'Volatility Trading Analysis with R', 'url': 'https://www.udemy.com/volatility-trading-analysis-with-r/', 'price': 50, 'num_subscribers': 190, 'num_reviews': 13, 'num_lectures': 45, 'duration': '6 hours'}\n",
      "{'course_title': 'Forex: Economic News Trading', 'url': 'https://www.udemy.com/forex-economic-news-trading/', 'price': 25, 'num_subscribers': 42, 'num_reviews': 14, 'num_lectures': 11, 'duration': '41 mins'}\n",
      "Python Algo Trading: Sentiment Trading with News\n",
      "14\n",
      "{'course_title': 'Python Algo Trading: Sentiment Trading with News', 'url': 'https://www.udemy.com/hedge-fund-strategy-trading-with-sentiment-analysis/', 'price': 200, 'num_subscribers': 294, 'num_reviews': 19, 'num_lectures': 42, 'duration': '7 hours'}\n",
      "{'course_title': 'Python Algo Trading: FX Trading with Oanda', 'url': 'https://www.udemy.com/python-algo-trading-fx-trading-with-oanda/', 'price': 200, 'num_subscribers': 453, 'num_reviews': 42, 'num_lectures': 33, 'duration': '3 hours'}\n",
      "{'course_title': 'Python Algo Stock Trading: Automate Your Trading!', 'url': 'https://www.udemy.com/algorithmic-stock-trading-bootcamp-automate-your-trading/', 'price': 95, 'num_subscribers': 1165, 'num_reviews': 21, 'num_lectures': 41, 'duration': '2.5 hours'}\n",
      "{'course_title': 'Quantitative Trading Analysis with Python', 'url': 'https://www.udemy.com/quantitative-trading-analysis-with-python/', 'price': 50, 'num_subscribers': 256, 'num_reviews': 17, 'num_lectures': 49, 'duration': '5.5 hours'}\n",
      "{'course_title': 'Black Algo Trading: Build Your Trading Robot', 'url': 'https://www.udemy.com/build-your-trading-robot/', 'price': 200, 'num_subscribers': 20195, 'num_reviews': 1113, 'num_lectures': 227, 'duration': '16 hours'}\n",
      "{'course_title': 'Trading: High-ROI Trading', 'url': 'https://www.udemy.com/the-high-roi-trading-video-course/', 'price': 190, 'num_subscribers': 126, 'num_reviews': 20, 'num_lectures': 47, 'duration': '12.5 hours'}\n",
      "{'course_title': 'Forex Trading with Fixed \\'Risk through Options Trading\"', 'url': 'https://www.udemy.com/forexoptions/', 'price': 200, 'num_subscribers': 611, 'num_reviews': 4, 'num_lectures': 26, 'duration': '1 hour'}\n",
      "{'course_title': 'TRADING PSYCHOLOGY: Trading Mindset Mastery', 'url': 'https://www.udemy.com/trading-psychology-trading-mindset-mastery/', 'price': 120, 'num_subscribers': 975, 'num_reviews': 23, 'num_lectures': 23, 'duration': '1 hour'}\n",
      "{'course_title': 'Forex Trading vs Option Trading', 'url': 'https://www.udemy.com/trading-excellence/', 'price': 95, 'num_subscribers': 1776, 'num_reviews': 14, 'num_lectures': 29, 'duration': '2.5 hours'}\n",
      "{'course_title': 'Volatility Trading Analysis with R', 'url': 'https://www.udemy.com/volatility-trading-analysis-with-r/', 'price': 50, 'num_subscribers': 190, 'num_reviews': 13, 'num_lectures': 45, 'duration': '6 hours'}\n",
      "{'course_title': 'Forex: Economic News Trading', 'url': 'https://www.udemy.com/forex-economic-news-trading/', 'price': 25, 'num_subscribers': 42, 'num_reviews': 14, 'num_lectures': 11, 'duration': '41 mins'}\n"
     ]
    },
    {
     "output_type": "stream",
     "name": "stderr",
     "text": [
      "127.0.0.1 - - [14/Jul/2021 05:38:19] \"GET /get/rcmd/pytho HTTP/1.1\" 200 -\n"
     ]
    },
    {
     "output_type": "stream",
     "name": "stdout",
     "text": [
      "Python Algo Trading: Sentiment Trading with News\n",
      "14\n",
      "{'course_title': 'Python Algo Trading: Sentiment Trading with News', 'url': 'https://www.udemy.com/hedge-fund-strategy-trading-with-sentiment-analysis/', 'price': 200, 'num_subscribers': 294, 'num_reviews': 19, 'num_lectures': 42, 'duration': '7 hours'}\n",
      "{'course_title': 'Python Algo Trading: FX Trading with Oanda', 'url': 'https://www.udemy.com/python-algo-trading-fx-trading-with-oanda/', 'price': 200, 'num_subscribers': 453, 'num_reviews': 42, 'num_lectures': 33, 'duration': '3 hours'}\n",
      "{'course_title': 'Python Algo Stock Trading: Automate Your Trading!', 'url': 'https://www.udemy.com/algorithmic-stock-trading-bootcamp-automate-your-trading/', 'price': 95, 'num_subscribers': 1165, 'num_reviews': 21, 'num_lectures': 41, 'duration': '2.5 hours'}\n",
      "{'course_title': 'Quantitative Trading Analysis with Python', 'url': 'https://www.udemy.com/quantitative-trading-analysis-with-python/', 'price': 50, 'num_subscribers': 256, 'num_reviews': 17, 'num_lectures': 49, 'duration': '5.5 hours'}\n",
      "{'course_title': 'Black Algo Trading: Build Your Trading Robot', 'url': 'https://www.udemy.com/build-your-trading-robot/', 'price': 200, 'num_subscribers': 20195, 'num_reviews': 1113, 'num_lectures': 227, 'duration': '16 hours'}\n",
      "{'course_title': 'Trading: High-ROI Trading', 'url': 'https://www.udemy.com/the-high-roi-trading-video-course/', 'price': 190, 'num_subscribers': 126, 'num_reviews': 20, 'num_lectures': 47, 'duration': '12.5 hours'}\n",
      "{'course_title': 'Forex Trading with Fixed \\'Risk through Options Trading\"', 'url': 'https://www.udemy.com/forexoptions/', 'price': 200, 'num_subscribers': 611, 'num_reviews': 4, 'num_lectures': 26, 'duration': '1 hour'}\n",
      "{'course_title': 'TRADING PSYCHOLOGY: Trading Mindset Mastery', 'url': 'https://www.udemy.com/trading-psychology-trading-mindset-mastery/', 'price': 120, 'num_subscribers': 975, 'num_reviews': 23, 'num_lectures': 23, 'duration': '1 hour'}\n",
      "{'course_title': 'Forex Trading vs Option Trading', 'url': 'https://www.udemy.com/trading-excellence/', 'price': 95, 'num_subscribers': 1776, 'num_reviews': 14, 'num_lectures': 29, 'duration': '2.5 hours'}\n",
      "{'course_title': 'Volatility Trading Analysis with R', 'url': 'https://www.udemy.com/volatility-trading-analysis-with-r/', 'price': 50, 'num_subscribers': 190, 'num_reviews': 13, 'num_lectures': 45, 'duration': '6 hours'}\n",
      "{'course_title': 'Forex: Economic News Trading', 'url': 'https://www.udemy.com/forex-economic-news-trading/', 'price': 25, 'num_subscribers': 42, 'num_reviews': 14, 'num_lectures': 11, 'duration': '41 mins'}\n"
     ]
    },
    {
     "output_type": "stream",
     "name": "stderr",
     "text": [
      "127.0.0.1 - - [14/Jul/2021 05:38:19] \"GET /get/rcmd/python HTTP/1.1\" 200 -\n"
     ]
    },
    {
     "output_type": "stream",
     "name": "stdout",
     "text": [
      "Python Algo Trading: Sentiment Trading with News\n",
      "14\n",
      "{'course_title': 'Python Algo Trading: Sentiment Trading with News', 'url': 'https://www.udemy.com/hedge-fund-strategy-trading-with-sentiment-analysis/', 'price': 200, 'num_subscribers': 294, 'num_reviews': 19, 'num_lectures': 42, 'duration': '7 hours'}\n",
      "{'course_title': 'Python Algo Trading: FX Trading with Oanda', 'url': 'https://www.udemy.com/python-algo-trading-fx-trading-with-oanda/', 'price': 200, 'num_subscribers': 453, 'num_reviews': 42, 'num_lectures': 33, 'duration': '3 hours'}\n",
      "{'course_title': 'Python Algo Stock Trading: Automate Your Trading!', 'url': 'https://www.udemy.com/algorithmic-stock-trading-bootcamp-automate-your-trading/', 'price': 95, 'num_subscribers': 1165, 'num_reviews': 21, 'num_lectures': 41, 'duration': '2.5 hours'}\n",
      "{'course_title': 'Quantitative Trading Analysis with Python', 'url': 'https://www.udemy.com/quantitative-trading-analysis-with-python/', 'price': 50, 'num_subscribers': 256, 'num_reviews': 17, 'num_lectures': 49, 'duration': '5.5 hours'}\n",
      "{'course_title': 'Black Algo Trading: Build Your Trading Robot', 'url': 'https://www.udemy.com/build-your-trading-robot/', 'price': 200, 'num_subscribers': 20195, 'num_reviews': 1113, 'num_lectures': 227, 'duration': '16 hours'}\n",
      "{'course_title': 'Trading: High-ROI Trading', 'url': 'https://www.udemy.com/the-high-roi-trading-video-course/', 'price': 190, 'num_subscribers': 126, 'num_reviews': 20, 'num_lectures': 47, 'duration': '12.5 hours'}\n",
      "{'course_title': 'Forex Trading with Fixed \\'Risk through Options Trading\"', 'url': 'https://www.udemy.com/forexoptions/', 'price': 200, 'num_subscribers': 611, 'num_reviews': 4, 'num_lectures': 26, 'duration': '1 hour'}\n",
      "{'course_title': 'TRADING PSYCHOLOGY: Trading Mindset Mastery', 'url': 'https://www.udemy.com/trading-psychology-trading-mindset-mastery/', 'price': 120, 'num_subscribers': 975, 'num_reviews': 23, 'num_lectures': 23, 'duration': '1 hour'}\n",
      "{'course_title': 'Forex Trading vs Option Trading', 'url': 'https://www.udemy.com/trading-excellence/', 'price': 95, 'num_subscribers': 1776, 'num_reviews': 14, 'num_lectures': 29, 'duration': '2.5 hours'}\n",
      "{'course_title': 'Volatility Trading Analysis with R', 'url': 'https://www.udemy.com/volatility-trading-analysis-with-r/', 'price': 50, 'num_subscribers': 190, 'num_reviews': 13, 'num_lectures': 45, 'duration': '6 hours'}\n",
      "{'course_title': 'Forex: Economic News Trading', 'url': 'https://www.udemy.com/forex-economic-news-trading/', 'price': 25, 'num_subscribers': 42, 'num_reviews': 14, 'num_lectures': 11, 'duration': '41 mins'}\n"
     ]
    },
    {
     "output_type": "stream",
     "name": "stderr",
     "text": [
      "127.0.0.1 - - [14/Jul/2021 05:38:23] \"GET /get/rcmd/python HTTP/1.1\" 200 -\n"
     ]
    },
    {
     "output_type": "stream",
     "name": "stdout",
     "text": [
      "Python Algo Trading: Sentiment Trading with News\n",
      "14\n",
      "{'course_title': 'Python Algo Trading: Sentiment Trading with News', 'url': 'https://www.udemy.com/hedge-fund-strategy-trading-with-sentiment-analysis/', 'price': 200, 'num_subscribers': 294, 'num_reviews': 19, 'num_lectures': 42, 'duration': '7 hours'}\n",
      "{'course_title': 'Python Algo Trading: FX Trading with Oanda', 'url': 'https://www.udemy.com/python-algo-trading-fx-trading-with-oanda/', 'price': 200, 'num_subscribers': 453, 'num_reviews': 42, 'num_lectures': 33, 'duration': '3 hours'}\n",
      "{'course_title': 'Python Algo Stock Trading: Automate Your Trading!', 'url': 'https://www.udemy.com/algorithmic-stock-trading-bootcamp-automate-your-trading/', 'price': 95, 'num_subscribers': 1165, 'num_reviews': 21, 'num_lectures': 41, 'duration': '2.5 hours'}\n",
      "{'course_title': 'Quantitative Trading Analysis with Python', 'url': 'https://www.udemy.com/quantitative-trading-analysis-with-python/', 'price': 50, 'num_subscribers': 256, 'num_reviews': 17, 'num_lectures': 49, 'duration': '5.5 hours'}\n",
      "{'course_title': 'Black Algo Trading: Build Your Trading Robot', 'url': 'https://www.udemy.com/build-your-trading-robot/', 'price': 200, 'num_subscribers': 20195, 'num_reviews': 1113, 'num_lectures': 227, 'duration': '16 hours'}\n",
      "{'course_title': 'Trading: High-ROI Trading', 'url': 'https://www.udemy.com/the-high-roi-trading-video-course/', 'price': 190, 'num_subscribers': 126, 'num_reviews': 20, 'num_lectures': 47, 'duration': '12.5 hours'}\n",
      "{'course_title': 'Forex Trading with Fixed \\'Risk through Options Trading\"', 'url': 'https://www.udemy.com/forexoptions/', 'price': 200, 'num_subscribers': 611, 'num_reviews': 4, 'num_lectures': 26, 'duration': '1 hour'}\n",
      "{'course_title': 'TRADING PSYCHOLOGY: Trading Mindset Mastery', 'url': 'https://www.udemy.com/trading-psychology-trading-mindset-mastery/', 'price': 120, 'num_subscribers': 975, 'num_reviews': 23, 'num_lectures': 23, 'duration': '1 hour'}\n",
      "{'course_title': 'Forex Trading vs Option Trading', 'url': 'https://www.udemy.com/trading-excellence/', 'price': 95, 'num_subscribers': 1776, 'num_reviews': 14, 'num_lectures': 29, 'duration': '2.5 hours'}\n",
      "{'course_title': 'Volatility Trading Analysis with R', 'url': 'https://www.udemy.com/volatility-trading-analysis-with-r/', 'price': 50, 'num_subscribers': 190, 'num_reviews': 13, 'num_lectures': 45, 'duration': '6 hours'}\n",
      "{'course_title': 'Forex: Economic News Trading', 'url': 'https://www.udemy.com/forex-economic-news-trading/', 'price': 25, 'num_subscribers': 42, 'num_reviews': 14, 'num_lectures': 11, 'duration': '41 mins'}\n"
     ]
    },
    {
     "output_type": "stream",
     "name": "stderr",
     "text": [
      "127.0.0.1 - - [14/Jul/2021 05:38:29] \"GET /get/rcmd/j HTTP/1.1\" 200 -\n"
     ]
    },
    {
     "output_type": "stream",
     "name": "stdout",
     "text": [
      "Stock Trading Ninja: Complete System For Trading Success\n",
      "62\n",
      "{'course_title': 'Stock Trading Ninja: Complete System For Trading Success', 'url': 'https://www.udemy.com/stock-trading-ninja-learn-how-to-make-money-trading-stocks/', 'price': 155, 'num_subscribers': 9445, 'num_reviews': 497, 'num_lectures': 38, 'duration': '4.5 hours'}\n",
      "{'course_title': 'Trading Economic Indicators - Complete Trading System', 'url': 'https://www.udemy.com/hacking-trading-through-economic-indicators/', 'price': 50, 'num_subscribers': 2692, 'num_reviews': 25, 'num_lectures': 25, 'duration': '1.5 hours'}\n",
      "{'course_title': 'Stock Options Day Trading Mindset for Success', 'url': 'https://www.udemy.com/stock-options-day-trading-success-mindset/', 'price': 200, 'num_subscribers': 2988, 'num_reviews': 21, 'num_lectures': 43, 'duration': '4.5 hours'}\n",
      "{'course_title': 'Forex Trading For Beginners: Technical Trading', 'url': 'https://www.udemy.com/forex-trading-for-beginners-technical-trading/', 'price': 0, 'num_subscribers': 1685, 'num_reviews': 29, 'num_lectures': 16, 'duration': '2 hours'}\n",
      "{'course_title': 'Trading: Basics of Trading for Beginners', 'url': 'https://www.udemy.com/money-basics-of-trading-for-beginners/', 'price': 140, 'num_subscribers': 1309, 'num_reviews': 4, 'num_lectures': 20, 'duration': '1.5 hours'}\n",
      "{'course_title': 'The Complete Position Trading Course: Position Trading Stock', 'url': 'https://www.udemy.com/position-trading-course/', 'price': 45, 'num_subscribers': 1311, 'num_reviews': 36, 'num_lectures': 5, 'duration': '1 hour'}\n",
      "{'course_title': 'Trading for winning', 'url': 'https://www.udemy.com/charting-for-beginners-for-dummies-newbies-technical-analysis/', 'price': 200, 'num_subscribers': 168, 'num_reviews': 7, 'num_lectures': 27, 'duration': '2 hours'}\n",
      "{'course_title': 'Python Algo Stock Trading: Automate Your Trading!', 'url': 'https://www.udemy.com/algorithmic-stock-trading-bootcamp-automate-your-trading/', 'price': 95, 'num_subscribers': 1165, 'num_reviews': 21, 'num_lectures': 41, 'duration': '2.5 hours'}\n",
      "{'course_title': 'Cryptocurrency Trading: Complete Guide To Trading Altcoins', 'url': 'https://www.udemy.com/cryptocurrency-trading/', 'price': 95, 'num_subscribers': 367, 'num_reviews': 42, 'num_lectures': 35, 'duration': '5 hours'}\n",
      "{'course_title': 'EFT for Stock Options Trading Success & Making Better Trades', 'url': 'https://www.udemy.com/eft-for-stock-option-trading-success/', 'price': 95, 'num_subscribers': 4530, 'num_reviews': 13, 'num_lectures': 31, 'duration': '1.5 hours'}\n",
      "{'course_title': 'Samuel and Co Trading - Stock & Forex Trading', 'url': 'https://www.udemy.com/samuel-co-forex-and-stock-trading/', 'price': 50, 'num_subscribers': 592, 'num_reviews': 109, 'num_lectures': 24, 'duration': '5.5 hours'}\n"
     ]
    },
    {
     "output_type": "stream",
     "name": "stderr",
     "text": [
      "127.0.0.1 - - [14/Jul/2021 05:38:30] \"GET /get/rcmd/ja HTTP/1.1\" 200 -\n"
     ]
    },
    {
     "output_type": "stream",
     "name": "stdout",
     "text": [
      "Stock Trading Ninja: Complete System For Trading Success\n",
      "62\n",
      "{'course_title': 'Stock Trading Ninja: Complete System For Trading Success', 'url': 'https://www.udemy.com/stock-trading-ninja-learn-how-to-make-money-trading-stocks/', 'price': 155, 'num_subscribers': 9445, 'num_reviews': 497, 'num_lectures': 38, 'duration': '4.5 hours'}\n",
      "{'course_title': 'Trading Economic Indicators - Complete Trading System', 'url': 'https://www.udemy.com/hacking-trading-through-economic-indicators/', 'price': 50, 'num_subscribers': 2692, 'num_reviews': 25, 'num_lectures': 25, 'duration': '1.5 hours'}\n",
      "{'course_title': 'Stock Options Day Trading Mindset for Success', 'url': 'https://www.udemy.com/stock-options-day-trading-success-mindset/', 'price': 200, 'num_subscribers': 2988, 'num_reviews': 21, 'num_lectures': 43, 'duration': '4.5 hours'}\n",
      "{'course_title': 'Forex Trading For Beginners: Technical Trading', 'url': 'https://www.udemy.com/forex-trading-for-beginners-technical-trading/', 'price': 0, 'num_subscribers': 1685, 'num_reviews': 29, 'num_lectures': 16, 'duration': '2 hours'}\n",
      "{'course_title': 'Trading: Basics of Trading for Beginners', 'url': 'https://www.udemy.com/money-basics-of-trading-for-beginners/', 'price': 140, 'num_subscribers': 1309, 'num_reviews': 4, 'num_lectures': 20, 'duration': '1.5 hours'}\n",
      "{'course_title': 'The Complete Position Trading Course: Position Trading Stock', 'url': 'https://www.udemy.com/position-trading-course/', 'price': 45, 'num_subscribers': 1311, 'num_reviews': 36, 'num_lectures': 5, 'duration': '1 hour'}\n",
      "{'course_title': 'Trading for winning', 'url': 'https://www.udemy.com/charting-for-beginners-for-dummies-newbies-technical-analysis/', 'price': 200, 'num_subscribers': 168, 'num_reviews': 7, 'num_lectures': 27, 'duration': '2 hours'}\n",
      "{'course_title': 'Python Algo Stock Trading: Automate Your Trading!', 'url': 'https://www.udemy.com/algorithmic-stock-trading-bootcamp-automate-your-trading/', 'price': 95, 'num_subscribers': 1165, 'num_reviews': 21, 'num_lectures': 41, 'duration': '2.5 hours'}\n",
      "{'course_title': 'Cryptocurrency Trading: Complete Guide To Trading Altcoins', 'url': 'https://www.udemy.com/cryptocurrency-trading/', 'price': 95, 'num_subscribers': 367, 'num_reviews': 42, 'num_lectures': 35, 'duration': '5 hours'}\n",
      "{'course_title': 'EFT for Stock Options Trading Success & Making Better Trades', 'url': 'https://www.udemy.com/eft-for-stock-option-trading-success/', 'price': 95, 'num_subscribers': 4530, 'num_reviews': 13, 'num_lectures': 31, 'duration': '1.5 hours'}\n",
      "{'course_title': 'Samuel and Co Trading - Stock & Forex Trading', 'url': 'https://www.udemy.com/samuel-co-forex-and-stock-trading/', 'price': 50, 'num_subscribers': 592, 'num_reviews': 109, 'num_lectures': 24, 'duration': '5.5 hours'}\n"
     ]
    },
    {
     "output_type": "stream",
     "name": "stderr",
     "text": [
      "127.0.0.1 - - [14/Jul/2021 05:38:31] \"GET /get/rcmd/jav HTTP/1.1\" 200 -\n"
     ]
    },
    {
     "output_type": "stream",
     "name": "stdout",
     "text": [
      "Learning Dynamic Website Design - PHP MySQL and JavaScript\n",
      "2484\n",
      "{'course_title': 'Learning Dynamic Website Design - PHP MySQL and JavaScript', 'url': 'https://www.udemy.com/learning-dynamic-website-design/', 'price': 50, 'num_subscribers': 47886, 'num_reviews': 285, 'num_lectures': 125, 'duration': '12.5 hours'}\n",
      "{'course_title': 'Projects in PHP and MySQL', 'url': 'https://www.udemy.com/the-complete-web-development-course-learn-by-building-apps/', 'price': 60, 'num_subscribers': 10606, 'num_reviews': 570, 'num_lectures': 88, 'duration': '23 hours'}\n",
      "{'course_title': 'Practical Understanding of PHP and MySQL', 'url': 'https://www.udemy.com/practical-understanding-of-php-and-myqsl-demo/', 'price': 0, 'num_subscribers': 12201, 'num_reviews': 217, 'num_lectures': 24, 'duration': '5.5 hours'}\n",
      "{'course_title': 'PHP MySQL: Learn PHP MySQL with Project', 'url': 'https://www.udemy.com/php-mysql-project-learning/', 'price': 20, 'num_subscribers': 2314, 'num_reviews': 77, 'num_lectures': 25, 'duration': '2 hours'}\n",
      "{'course_title': 'PHP: Complete Login and Registration System with PHP & MYSQL', 'url': 'https://www.udemy.com/user-authentication-code-a-simple-login-system-with-php/', 'price': 200, 'num_subscribers': 1448, 'num_reviews': 173, 'num_lectures': 48, 'duration': '7.5 hours'}\n",
      "{'course_title': 'Complete Login and Registration System in PHP and MYSQL', 'url': 'https://www.udemy.com/login-and-registration-system-in-php-and-mysql-step-by-step/', 'price': 200, 'num_subscribers': 4714, 'num_reviews': 149, 'num_lectures': 28, 'duration': '4 hours'}\n",
      "{'course_title': 'Login and Registration from Scratch with PHP and MySQL', 'url': 'https://www.udemy.com/authentication-from-scratch-with-php-and-mysql/', 'price': 20, 'num_subscribers': 1128, 'num_reviews': 77, 'num_lectures': 36, 'duration': '2 hours'}\n",
      "{'course_title': 'PHP & MySQL - Learn The Easy Way. Master PHP & MySQL Quickly', 'url': 'https://www.udemy.com/learning-php-and-mysql-development-the-easy-way/', 'price': 50, 'num_subscribers': 5549, 'num_reviews': 92, 'num_lectures': 143, 'duration': '15.5 hours'}\n",
      "{'course_title': 'Complete Website & CMS in PHP & MySQL From Scratch!', 'url': 'https://www.udemy.com/cms-admin-panel-in-php-mysql/', 'price': 20, 'num_subscribers': 3357, 'num_reviews': 82, 'num_lectures': 48, 'duration': '12.5 hours'}\n",
      "{'course_title': 'Learn E-Commerce Website in PHP & MySQL From Scratch!', 'url': 'https://www.udemy.com/ecommerce-website-in-php-mysqli/', 'price': 0, 'num_subscribers': 29990, 'num_reviews': 1342, 'num_lectures': 87, 'duration': '17.5 hours'}\n",
      "{'course_title': 'JavaScript Complete Guide to learning JavaScript', 'url': 'https://www.udemy.com/javascript-complete-guide-to-learning-javascript/', 'price': 200, 'num_subscribers': 1296, 'num_reviews': 22, 'num_lectures': 72, 'duration': '5.5 hours'}\n"
     ]
    },
    {
     "output_type": "stream",
     "name": "stderr",
     "text": [
      "127.0.0.1 - - [14/Jul/2021 05:38:32] \"GET /get/rcmd/java HTTP/1.1\" 200 -\n"
     ]
    },
    {
     "output_type": "stream",
     "name": "stdout",
     "text": [
      "Learning Dynamic Website Design - PHP MySQL and JavaScript\n",
      "2484\n",
      "{'course_title': 'Learning Dynamic Website Design - PHP MySQL and JavaScript', 'url': 'https://www.udemy.com/learning-dynamic-website-design/', 'price': 50, 'num_subscribers': 47886, 'num_reviews': 285, 'num_lectures': 125, 'duration': '12.5 hours'}\n",
      "{'course_title': 'Projects in PHP and MySQL', 'url': 'https://www.udemy.com/the-complete-web-development-course-learn-by-building-apps/', 'price': 60, 'num_subscribers': 10606, 'num_reviews': 570, 'num_lectures': 88, 'duration': '23 hours'}\n",
      "{'course_title': 'Practical Understanding of PHP and MySQL', 'url': 'https://www.udemy.com/practical-understanding-of-php-and-myqsl-demo/', 'price': 0, 'num_subscribers': 12201, 'num_reviews': 217, 'num_lectures': 24, 'duration': '5.5 hours'}\n",
      "{'course_title': 'PHP MySQL: Learn PHP MySQL with Project', 'url': 'https://www.udemy.com/php-mysql-project-learning/', 'price': 20, 'num_subscribers': 2314, 'num_reviews': 77, 'num_lectures': 25, 'duration': '2 hours'}\n",
      "{'course_title': 'PHP: Complete Login and Registration System with PHP & MYSQL', 'url': 'https://www.udemy.com/user-authentication-code-a-simple-login-system-with-php/', 'price': 200, 'num_subscribers': 1448, 'num_reviews': 173, 'num_lectures': 48, 'duration': '7.5 hours'}\n",
      "{'course_title': 'Complete Login and Registration System in PHP and MYSQL', 'url': 'https://www.udemy.com/login-and-registration-system-in-php-and-mysql-step-by-step/', 'price': 200, 'num_subscribers': 4714, 'num_reviews': 149, 'num_lectures': 28, 'duration': '4 hours'}\n",
      "{'course_title': 'Login and Registration from Scratch with PHP and MySQL', 'url': 'https://www.udemy.com/authentication-from-scratch-with-php-and-mysql/', 'price': 20, 'num_subscribers': 1128, 'num_reviews': 77, 'num_lectures': 36, 'duration': '2 hours'}\n",
      "{'course_title': 'PHP & MySQL - Learn The Easy Way. Master PHP & MySQL Quickly', 'url': 'https://www.udemy.com/learning-php-and-mysql-development-the-easy-way/', 'price': 50, 'num_subscribers': 5549, 'num_reviews': 92, 'num_lectures': 143, 'duration': '15.5 hours'}\n",
      "{'course_title': 'Complete Website & CMS in PHP & MySQL From Scratch!', 'url': 'https://www.udemy.com/cms-admin-panel-in-php-mysql/', 'price': 20, 'num_subscribers': 3357, 'num_reviews': 82, 'num_lectures': 48, 'duration': '12.5 hours'}\n",
      "{'course_title': 'Learn E-Commerce Website in PHP & MySQL From Scratch!', 'url': 'https://www.udemy.com/ecommerce-website-in-php-mysqli/', 'price': 0, 'num_subscribers': 29990, 'num_reviews': 1342, 'num_lectures': 87, 'duration': '17.5 hours'}\n",
      "{'course_title': 'JavaScript Complete Guide to learning JavaScript', 'url': 'https://www.udemy.com/javascript-complete-guide-to-learning-javascript/', 'price': 200, 'num_subscribers': 1296, 'num_reviews': 22, 'num_lectures': 72, 'duration': '5.5 hours'}\n"
     ]
    },
    {
     "output_type": "stream",
     "name": "stderr",
     "text": [
      "127.0.0.1 - - [14/Jul/2021 05:38:35] \"GET /get/rcmd/javas HTTP/1.1\" 200 -\n"
     ]
    },
    {
     "output_type": "stream",
     "name": "stdout",
     "text": [
      "Learning Dynamic Website Design - PHP MySQL and JavaScript\n",
      "2484\n",
      "{'course_title': 'Learning Dynamic Website Design - PHP MySQL and JavaScript', 'url': 'https://www.udemy.com/learning-dynamic-website-design/', 'price': 50, 'num_subscribers': 47886, 'num_reviews': 285, 'num_lectures': 125, 'duration': '12.5 hours'}\n",
      "{'course_title': 'Projects in PHP and MySQL', 'url': 'https://www.udemy.com/the-complete-web-development-course-learn-by-building-apps/', 'price': 60, 'num_subscribers': 10606, 'num_reviews': 570, 'num_lectures': 88, 'duration': '23 hours'}\n",
      "{'course_title': 'Practical Understanding of PHP and MySQL', 'url': 'https://www.udemy.com/practical-understanding-of-php-and-myqsl-demo/', 'price': 0, 'num_subscribers': 12201, 'num_reviews': 217, 'num_lectures': 24, 'duration': '5.5 hours'}\n",
      "{'course_title': 'PHP MySQL: Learn PHP MySQL with Project', 'url': 'https://www.udemy.com/php-mysql-project-learning/', 'price': 20, 'num_subscribers': 2314, 'num_reviews': 77, 'num_lectures': 25, 'duration': '2 hours'}\n",
      "{'course_title': 'PHP: Complete Login and Registration System with PHP & MYSQL', 'url': 'https://www.udemy.com/user-authentication-code-a-simple-login-system-with-php/', 'price': 200, 'num_subscribers': 1448, 'num_reviews': 173, 'num_lectures': 48, 'duration': '7.5 hours'}\n",
      "{'course_title': 'Complete Login and Registration System in PHP and MYSQL', 'url': 'https://www.udemy.com/login-and-registration-system-in-php-and-mysql-step-by-step/', 'price': 200, 'num_subscribers': 4714, 'num_reviews': 149, 'num_lectures': 28, 'duration': '4 hours'}\n",
      "{'course_title': 'Login and Registration from Scratch with PHP and MySQL', 'url': 'https://www.udemy.com/authentication-from-scratch-with-php-and-mysql/', 'price': 20, 'num_subscribers': 1128, 'num_reviews': 77, 'num_lectures': 36, 'duration': '2 hours'}\n",
      "{'course_title': 'PHP & MySQL - Learn The Easy Way. Master PHP & MySQL Quickly', 'url': 'https://www.udemy.com/learning-php-and-mysql-development-the-easy-way/', 'price': 50, 'num_subscribers': 5549, 'num_reviews': 92, 'num_lectures': 143, 'duration': '15.5 hours'}\n",
      "{'course_title': 'Complete Website & CMS in PHP & MySQL From Scratch!', 'url': 'https://www.udemy.com/cms-admin-panel-in-php-mysql/', 'price': 20, 'num_subscribers': 3357, 'num_reviews': 82, 'num_lectures': 48, 'duration': '12.5 hours'}\n",
      "{'course_title': 'Learn E-Commerce Website in PHP & MySQL From Scratch!', 'url': 'https://www.udemy.com/ecommerce-website-in-php-mysqli/', 'price': 0, 'num_subscribers': 29990, 'num_reviews': 1342, 'num_lectures': 87, 'duration': '17.5 hours'}\n",
      "{'course_title': 'JavaScript Complete Guide to learning JavaScript', 'url': 'https://www.udemy.com/javascript-complete-guide-to-learning-javascript/', 'price': 200, 'num_subscribers': 1296, 'num_reviews': 22, 'num_lectures': 72, 'duration': '5.5 hours'}\n"
     ]
    },
    {
     "output_type": "stream",
     "name": "stderr",
     "text": [
      "127.0.0.1 - - [14/Jul/2021 05:38:36] \"GET /get/rcmd/javasc HTTP/1.1\" 200 -\n"
     ]
    },
    {
     "output_type": "stream",
     "name": "stdout",
     "text": [
      "Learning Dynamic Website Design - PHP MySQL and JavaScript\n",
      "2484\n",
      "{'course_title': 'Learning Dynamic Website Design - PHP MySQL and JavaScript', 'url': 'https://www.udemy.com/learning-dynamic-website-design/', 'price': 50, 'num_subscribers': 47886, 'num_reviews': 285, 'num_lectures': 125, 'duration': '12.5 hours'}\n",
      "{'course_title': 'Projects in PHP and MySQL', 'url': 'https://www.udemy.com/the-complete-web-development-course-learn-by-building-apps/', 'price': 60, 'num_subscribers': 10606, 'num_reviews': 570, 'num_lectures': 88, 'duration': '23 hours'}\n",
      "{'course_title': 'Practical Understanding of PHP and MySQL', 'url': 'https://www.udemy.com/practical-understanding-of-php-and-myqsl-demo/', 'price': 0, 'num_subscribers': 12201, 'num_reviews': 217, 'num_lectures': 24, 'duration': '5.5 hours'}\n",
      "{'course_title': 'PHP MySQL: Learn PHP MySQL with Project', 'url': 'https://www.udemy.com/php-mysql-project-learning/', 'price': 20, 'num_subscribers': 2314, 'num_reviews': 77, 'num_lectures': 25, 'duration': '2 hours'}\n",
      "{'course_title': 'PHP: Complete Login and Registration System with PHP & MYSQL', 'url': 'https://www.udemy.com/user-authentication-code-a-simple-login-system-with-php/', 'price': 200, 'num_subscribers': 1448, 'num_reviews': 173, 'num_lectures': 48, 'duration': '7.5 hours'}\n",
      "{'course_title': 'Complete Login and Registration System in PHP and MYSQL', 'url': 'https://www.udemy.com/login-and-registration-system-in-php-and-mysql-step-by-step/', 'price': 200, 'num_subscribers': 4714, 'num_reviews': 149, 'num_lectures': 28, 'duration': '4 hours'}\n",
      "{'course_title': 'Login and Registration from Scratch with PHP and MySQL', 'url': 'https://www.udemy.com/authentication-from-scratch-with-php-and-mysql/', 'price': 20, 'num_subscribers': 1128, 'num_reviews': 77, 'num_lectures': 36, 'duration': '2 hours'}\n",
      "{'course_title': 'PHP & MySQL - Learn The Easy Way. Master PHP & MySQL Quickly', 'url': 'https://www.udemy.com/learning-php-and-mysql-development-the-easy-way/', 'price': 50, 'num_subscribers': 5549, 'num_reviews': 92, 'num_lectures': 143, 'duration': '15.5 hours'}\n",
      "{'course_title': 'Complete Website & CMS in PHP & MySQL From Scratch!', 'url': 'https://www.udemy.com/cms-admin-panel-in-php-mysql/', 'price': 20, 'num_subscribers': 3357, 'num_reviews': 82, 'num_lectures': 48, 'duration': '12.5 hours'}\n",
      "{'course_title': 'Learn E-Commerce Website in PHP & MySQL From Scratch!', 'url': 'https://www.udemy.com/ecommerce-website-in-php-mysqli/', 'price': 0, 'num_subscribers': 29990, 'num_reviews': 1342, 'num_lectures': 87, 'duration': '17.5 hours'}\n",
      "{'course_title': 'JavaScript Complete Guide to learning JavaScript', 'url': 'https://www.udemy.com/javascript-complete-guide-to-learning-javascript/', 'price': 200, 'num_subscribers': 1296, 'num_reviews': 22, 'num_lectures': 72, 'duration': '5.5 hours'}\n"
     ]
    },
    {
     "output_type": "stream",
     "name": "stderr",
     "text": [
      "127.0.0.1 - - [14/Jul/2021 05:38:37] \"GET /get/rcmd/javascr HTTP/1.1\" 200 -\n"
     ]
    },
    {
     "output_type": "stream",
     "name": "stdout",
     "text": [
      "Learning Dynamic Website Design - PHP MySQL and JavaScript\n",
      "2484\n",
      "{'course_title': 'Learning Dynamic Website Design - PHP MySQL and JavaScript', 'url': 'https://www.udemy.com/learning-dynamic-website-design/', 'price': 50, 'num_subscribers': 47886, 'num_reviews': 285, 'num_lectures': 125, 'duration': '12.5 hours'}\n",
      "{'course_title': 'Projects in PHP and MySQL', 'url': 'https://www.udemy.com/the-complete-web-development-course-learn-by-building-apps/', 'price': 60, 'num_subscribers': 10606, 'num_reviews': 570, 'num_lectures': 88, 'duration': '23 hours'}\n",
      "{'course_title': 'Practical Understanding of PHP and MySQL', 'url': 'https://www.udemy.com/practical-understanding-of-php-and-myqsl-demo/', 'price': 0, 'num_subscribers': 12201, 'num_reviews': 217, 'num_lectures': 24, 'duration': '5.5 hours'}\n",
      "{'course_title': 'PHP MySQL: Learn PHP MySQL with Project', 'url': 'https://www.udemy.com/php-mysql-project-learning/', 'price': 20, 'num_subscribers': 2314, 'num_reviews': 77, 'num_lectures': 25, 'duration': '2 hours'}\n",
      "{'course_title': 'PHP: Complete Login and Registration System with PHP & MYSQL', 'url': 'https://www.udemy.com/user-authentication-code-a-simple-login-system-with-php/', 'price': 200, 'num_subscribers': 1448, 'num_reviews': 173, 'num_lectures': 48, 'duration': '7.5 hours'}\n",
      "{'course_title': 'Complete Login and Registration System in PHP and MYSQL', 'url': 'https://www.udemy.com/login-and-registration-system-in-php-and-mysql-step-by-step/', 'price': 200, 'num_subscribers': 4714, 'num_reviews': 149, 'num_lectures': 28, 'duration': '4 hours'}\n",
      "{'course_title': 'Login and Registration from Scratch with PHP and MySQL', 'url': 'https://www.udemy.com/authentication-from-scratch-with-php-and-mysql/', 'price': 20, 'num_subscribers': 1128, 'num_reviews': 77, 'num_lectures': 36, 'duration': '2 hours'}\n",
      "{'course_title': 'PHP & MySQL - Learn The Easy Way. Master PHP & MySQL Quickly', 'url': 'https://www.udemy.com/learning-php-and-mysql-development-the-easy-way/', 'price': 50, 'num_subscribers': 5549, 'num_reviews': 92, 'num_lectures': 143, 'duration': '15.5 hours'}\n",
      "{'course_title': 'Complete Website & CMS in PHP & MySQL From Scratch!', 'url': 'https://www.udemy.com/cms-admin-panel-in-php-mysql/', 'price': 20, 'num_subscribers': 3357, 'num_reviews': 82, 'num_lectures': 48, 'duration': '12.5 hours'}\n",
      "{'course_title': 'Learn E-Commerce Website in PHP & MySQL From Scratch!', 'url': 'https://www.udemy.com/ecommerce-website-in-php-mysqli/', 'price': 0, 'num_subscribers': 29990, 'num_reviews': 1342, 'num_lectures': 87, 'duration': '17.5 hours'}\n",
      "{'course_title': 'JavaScript Complete Guide to learning JavaScript', 'url': 'https://www.udemy.com/javascript-complete-guide-to-learning-javascript/', 'price': 200, 'num_subscribers': 1296, 'num_reviews': 22, 'num_lectures': 72, 'duration': '5.5 hours'}\n"
     ]
    },
    {
     "output_type": "stream",
     "name": "stderr",
     "text": [
      "[2021-07-14 05:38:37,412] ERROR in app: Exception on /get/rcmd/javascru [GET]\n",
      "Traceback (most recent call last):\n",
      "  File \"C:\\Users\\vikantbhati\\AppData\\Local\\Programs\\Python\\Python39\\lib\\site-packages\\pandas\\core\\indexes\\base.py\", line 3080, in get_loc\n",
      "    return self._engine.get_loc(casted_key)\n",
      "  File \"pandas\\_libs\\index.pyx\", line 70, in pandas._libs.index.IndexEngine.get_loc\n",
      "  File \"pandas\\_libs\\index.pyx\", line 96, in pandas._libs.index.IndexEngine.get_loc\n",
      "  File \"pandas\\_libs\\index.pyx\", line 126, in pandas._libs.index.IndexEngine._get_loc_duplicates\n",
      "  File \"pandas\\_libs\\index.pyx\", line 133, in pandas._libs.index.IndexEngine._maybe_get_bool_indexer\n",
      "  File \"pandas\\_libs\\index.pyx\", line 150, in pandas._libs.index.IndexEngine._unpack_bool_indexer\n",
      "KeyError: 'javascru'\n",
      "\n",
      "The above exception was the direct cause of the following exception:\n",
      "\n",
      "Traceback (most recent call last):\n",
      "  File \"C:\\Users\\vikantbhati\\AppData\\Local\\Programs\\Python\\Python39\\lib\\site-packages\\flask\\app.py\", line 2070, in wsgi_app\n",
      "    response = self.full_dispatch_request()\n",
      "  File \"C:\\Users\\vikantbhati\\AppData\\Local\\Programs\\Python\\Python39\\lib\\site-packages\\flask\\app.py\", line 1515, in full_dispatch_request\n",
      "    rv = self.handle_user_exception(e)\n",
      "  File \"C:\\Users\\vikantbhati\\AppData\\Local\\Programs\\Python\\Python39\\lib\\site-packages\\flask_cors\\extension.py\", line 165, in wrapped_function\n",
      "    return cors_after_request(app.make_response(f(*args, **kwargs)))\n",
      "  File \"C:\\Users\\vikantbhati\\AppData\\Local\\Programs\\Python\\Python39\\lib\\site-packages\\flask\\app.py\", line 1513, in full_dispatch_request\n",
      "    rv = self.dispatch_request()\n",
      "  File \"C:\\Users\\vikantbhati\\AppData\\Local\\Programs\\Python\\Python39\\lib\\site-packages\\flask\\app.py\", line 1499, in dispatch_request\n",
      "    return self.ensure_sync(self.view_functions[rule.endpoint])(**req.view_args)\n",
      "  File \"<ipython-input-17-73409f7853f7>\", line 3, in index\n",
      "    return recommend_courses(title,cs,df,5)\n",
      "  File \"<ipython-input-15-4e48e984bda5>\", line 10, in recommend_courses\n",
      "    index=course_indices[title]\n",
      "  File \"C:\\Users\\vikantbhati\\AppData\\Local\\Programs\\Python\\Python39\\lib\\site-packages\\pandas\\core\\series.py\", line 853, in __getitem__\n",
      "    return self._get_value(key)\n",
      "  File \"C:\\Users\\vikantbhati\\AppData\\Local\\Programs\\Python\\Python39\\lib\\site-packages\\pandas\\core\\series.py\", line 961, in _get_value\n",
      "    loc = self.index.get_loc(label)\n",
      "  File \"C:\\Users\\vikantbhati\\AppData\\Local\\Programs\\Python\\Python39\\lib\\site-packages\\pandas\\core\\indexes\\base.py\", line 3082, in get_loc\n",
      "    raise KeyError(key) from err\n",
      "KeyError: 'javascru'\n",
      "127.0.0.1 - - [14/Jul/2021 05:38:37] \"GET /get/rcmd/javascru HTTP/1.1\" 500 -\n",
      "127.0.0.1 - - [14/Jul/2021 05:38:38] \"GET /get/rcmd/javascr HTTP/1.1\" 200 -\n"
     ]
    },
    {
     "output_type": "stream",
     "name": "stdout",
     "text": [
      "Learning Dynamic Website Design - PHP MySQL and JavaScript\n",
      "2484\n",
      "{'course_title': 'Learning Dynamic Website Design - PHP MySQL and JavaScript', 'url': 'https://www.udemy.com/learning-dynamic-website-design/', 'price': 50, 'num_subscribers': 47886, 'num_reviews': 285, 'num_lectures': 125, 'duration': '12.5 hours'}\n",
      "{'course_title': 'Projects in PHP and MySQL', 'url': 'https://www.udemy.com/the-complete-web-development-course-learn-by-building-apps/', 'price': 60, 'num_subscribers': 10606, 'num_reviews': 570, 'num_lectures': 88, 'duration': '23 hours'}\n",
      "{'course_title': 'Practical Understanding of PHP and MySQL', 'url': 'https://www.udemy.com/practical-understanding-of-php-and-myqsl-demo/', 'price': 0, 'num_subscribers': 12201, 'num_reviews': 217, 'num_lectures': 24, 'duration': '5.5 hours'}\n",
      "{'course_title': 'PHP MySQL: Learn PHP MySQL with Project', 'url': 'https://www.udemy.com/php-mysql-project-learning/', 'price': 20, 'num_subscribers': 2314, 'num_reviews': 77, 'num_lectures': 25, 'duration': '2 hours'}\n",
      "{'course_title': 'PHP: Complete Login and Registration System with PHP & MYSQL', 'url': 'https://www.udemy.com/user-authentication-code-a-simple-login-system-with-php/', 'price': 200, 'num_subscribers': 1448, 'num_reviews': 173, 'num_lectures': 48, 'duration': '7.5 hours'}\n",
      "{'course_title': 'Complete Login and Registration System in PHP and MYSQL', 'url': 'https://www.udemy.com/login-and-registration-system-in-php-and-mysql-step-by-step/', 'price': 200, 'num_subscribers': 4714, 'num_reviews': 149, 'num_lectures': 28, 'duration': '4 hours'}\n",
      "{'course_title': 'Login and Registration from Scratch with PHP and MySQL', 'url': 'https://www.udemy.com/authentication-from-scratch-with-php-and-mysql/', 'price': 20, 'num_subscribers': 1128, 'num_reviews': 77, 'num_lectures': 36, 'duration': '2 hours'}\n",
      "{'course_title': 'PHP & MySQL - Learn The Easy Way. Master PHP & MySQL Quickly', 'url': 'https://www.udemy.com/learning-php-and-mysql-development-the-easy-way/', 'price': 50, 'num_subscribers': 5549, 'num_reviews': 92, 'num_lectures': 143, 'duration': '15.5 hours'}\n",
      "{'course_title': 'Complete Website & CMS in PHP & MySQL From Scratch!', 'url': 'https://www.udemy.com/cms-admin-panel-in-php-mysql/', 'price': 20, 'num_subscribers': 3357, 'num_reviews': 82, 'num_lectures': 48, 'duration': '12.5 hours'}\n",
      "{'course_title': 'Learn E-Commerce Website in PHP & MySQL From Scratch!', 'url': 'https://www.udemy.com/ecommerce-website-in-php-mysqli/', 'price': 0, 'num_subscribers': 29990, 'num_reviews': 1342, 'num_lectures': 87, 'duration': '17.5 hours'}\n",
      "{'course_title': 'JavaScript Complete Guide to learning JavaScript', 'url': 'https://www.udemy.com/javascript-complete-guide-to-learning-javascript/', 'price': 200, 'num_subscribers': 1296, 'num_reviews': 22, 'num_lectures': 72, 'duration': '5.5 hours'}\n"
     ]
    },
    {
     "output_type": "stream",
     "name": "stderr",
     "text": [
      "127.0.0.1 - - [14/Jul/2021 05:38:38] \"GET /get/rcmd/javascri HTTP/1.1\" 200 -\n"
     ]
    },
    {
     "output_type": "stream",
     "name": "stdout",
     "text": [
      "Learning Dynamic Website Design - PHP MySQL and JavaScript\n",
      "2484\n",
      "{'course_title': 'Learning Dynamic Website Design - PHP MySQL and JavaScript', 'url': 'https://www.udemy.com/learning-dynamic-website-design/', 'price': 50, 'num_subscribers': 47886, 'num_reviews': 285, 'num_lectures': 125, 'duration': '12.5 hours'}\n",
      "{'course_title': 'Projects in PHP and MySQL', 'url': 'https://www.udemy.com/the-complete-web-development-course-learn-by-building-apps/', 'price': 60, 'num_subscribers': 10606, 'num_reviews': 570, 'num_lectures': 88, 'duration': '23 hours'}\n",
      "{'course_title': 'Practical Understanding of PHP and MySQL', 'url': 'https://www.udemy.com/practical-understanding-of-php-and-myqsl-demo/', 'price': 0, 'num_subscribers': 12201, 'num_reviews': 217, 'num_lectures': 24, 'duration': '5.5 hours'}\n",
      "{'course_title': 'PHP MySQL: Learn PHP MySQL with Project', 'url': 'https://www.udemy.com/php-mysql-project-learning/', 'price': 20, 'num_subscribers': 2314, 'num_reviews': 77, 'num_lectures': 25, 'duration': '2 hours'}\n",
      "{'course_title': 'PHP: Complete Login and Registration System with PHP & MYSQL', 'url': 'https://www.udemy.com/user-authentication-code-a-simple-login-system-with-php/', 'price': 200, 'num_subscribers': 1448, 'num_reviews': 173, 'num_lectures': 48, 'duration': '7.5 hours'}\n",
      "{'course_title': 'Complete Login and Registration System in PHP and MYSQL', 'url': 'https://www.udemy.com/login-and-registration-system-in-php-and-mysql-step-by-step/', 'price': 200, 'num_subscribers': 4714, 'num_reviews': 149, 'num_lectures': 28, 'duration': '4 hours'}\n",
      "{'course_title': 'Login and Registration from Scratch with PHP and MySQL', 'url': 'https://www.udemy.com/authentication-from-scratch-with-php-and-mysql/', 'price': 20, 'num_subscribers': 1128, 'num_reviews': 77, 'num_lectures': 36, 'duration': '2 hours'}\n",
      "{'course_title': 'PHP & MySQL - Learn The Easy Way. Master PHP & MySQL Quickly', 'url': 'https://www.udemy.com/learning-php-and-mysql-development-the-easy-way/', 'price': 50, 'num_subscribers': 5549, 'num_reviews': 92, 'num_lectures': 143, 'duration': '15.5 hours'}\n",
      "{'course_title': 'Complete Website & CMS in PHP & MySQL From Scratch!', 'url': 'https://www.udemy.com/cms-admin-panel-in-php-mysql/', 'price': 20, 'num_subscribers': 3357, 'num_reviews': 82, 'num_lectures': 48, 'duration': '12.5 hours'}\n",
      "{'course_title': 'Learn E-Commerce Website in PHP & MySQL From Scratch!', 'url': 'https://www.udemy.com/ecommerce-website-in-php-mysqli/', 'price': 0, 'num_subscribers': 29990, 'num_reviews': 1342, 'num_lectures': 87, 'duration': '17.5 hours'}\n",
      "{'course_title': 'JavaScript Complete Guide to learning JavaScript', 'url': 'https://www.udemy.com/javascript-complete-guide-to-learning-javascript/', 'price': 200, 'num_subscribers': 1296, 'num_reviews': 22, 'num_lectures': 72, 'duration': '5.5 hours'}\n"
     ]
    },
    {
     "output_type": "stream",
     "name": "stderr",
     "text": [
      "127.0.0.1 - - [14/Jul/2021 05:38:38] \"GET /get/rcmd/javascrip HTTP/1.1\" 200 -\n"
     ]
    },
    {
     "output_type": "stream",
     "name": "stdout",
     "text": [
      "Learning Dynamic Website Design - PHP MySQL and JavaScript\n",
      "2484\n",
      "{'course_title': 'Learning Dynamic Website Design - PHP MySQL and JavaScript', 'url': 'https://www.udemy.com/learning-dynamic-website-design/', 'price': 50, 'num_subscribers': 47886, 'num_reviews': 285, 'num_lectures': 125, 'duration': '12.5 hours'}\n",
      "{'course_title': 'Projects in PHP and MySQL', 'url': 'https://www.udemy.com/the-complete-web-development-course-learn-by-building-apps/', 'price': 60, 'num_subscribers': 10606, 'num_reviews': 570, 'num_lectures': 88, 'duration': '23 hours'}\n",
      "{'course_title': 'Practical Understanding of PHP and MySQL', 'url': 'https://www.udemy.com/practical-understanding-of-php-and-myqsl-demo/', 'price': 0, 'num_subscribers': 12201, 'num_reviews': 217, 'num_lectures': 24, 'duration': '5.5 hours'}\n",
      "{'course_title': 'PHP MySQL: Learn PHP MySQL with Project', 'url': 'https://www.udemy.com/php-mysql-project-learning/', 'price': 20, 'num_subscribers': 2314, 'num_reviews': 77, 'num_lectures': 25, 'duration': '2 hours'}\n",
      "{'course_title': 'PHP: Complete Login and Registration System with PHP & MYSQL', 'url': 'https://www.udemy.com/user-authentication-code-a-simple-login-system-with-php/', 'price': 200, 'num_subscribers': 1448, 'num_reviews': 173, 'num_lectures': 48, 'duration': '7.5 hours'}\n",
      "{'course_title': 'Complete Login and Registration System in PHP and MYSQL', 'url': 'https://www.udemy.com/login-and-registration-system-in-php-and-mysql-step-by-step/', 'price': 200, 'num_subscribers': 4714, 'num_reviews': 149, 'num_lectures': 28, 'duration': '4 hours'}\n",
      "{'course_title': 'Login and Registration from Scratch with PHP and MySQL', 'url': 'https://www.udemy.com/authentication-from-scratch-with-php-and-mysql/', 'price': 20, 'num_subscribers': 1128, 'num_reviews': 77, 'num_lectures': 36, 'duration': '2 hours'}\n",
      "{'course_title': 'PHP & MySQL - Learn The Easy Way. Master PHP & MySQL Quickly', 'url': 'https://www.udemy.com/learning-php-and-mysql-development-the-easy-way/', 'price': 50, 'num_subscribers': 5549, 'num_reviews': 92, 'num_lectures': 143, 'duration': '15.5 hours'}\n",
      "{'course_title': 'Complete Website & CMS in PHP & MySQL From Scratch!', 'url': 'https://www.udemy.com/cms-admin-panel-in-php-mysql/', 'price': 20, 'num_subscribers': 3357, 'num_reviews': 82, 'num_lectures': 48, 'duration': '12.5 hours'}\n",
      "{'course_title': 'Learn E-Commerce Website in PHP & MySQL From Scratch!', 'url': 'https://www.udemy.com/ecommerce-website-in-php-mysqli/', 'price': 0, 'num_subscribers': 29990, 'num_reviews': 1342, 'num_lectures': 87, 'duration': '17.5 hours'}\n",
      "{'course_title': 'JavaScript Complete Guide to learning JavaScript', 'url': 'https://www.udemy.com/javascript-complete-guide-to-learning-javascript/', 'price': 200, 'num_subscribers': 1296, 'num_reviews': 22, 'num_lectures': 72, 'duration': '5.5 hours'}\n",
      "Learning Dynamic Website Design - PHP MySQL and JavaScript\n",
      "2484\n",
      "{'course_title': 'Learning Dynamic Website Design - PHP MySQL and JavaScript', 'url': 'https://www.udemy.com/learning-dynamic-website-design/', 'price': 50, 'num_subscribers': 47886, 'num_reviews': 285, 'num_lectures': 125, 'duration': '12.5 hours'}\n",
      "{'course_title': 'Projects in PHP and MySQL', 'url': 'https://www.udemy.com/the-complete-web-development-course-learn-by-building-apps/', 'price': 60, 'num_subscribers': 10606, 'num_reviews': 570, 'num_lectures': 88, 'duration': '23 hours'}\n",
      "{'course_title': 'Practical Understanding of PHP and MySQL', 'url': 'https://www.udemy.com/practical-understanding-of-php-and-myqsl-demo/', 'price': 0, 'num_subscribers': 12201, 'num_reviews': 217, 'num_lectures': 24, 'duration': '5.5 hours'}\n",
      "{'course_title': 'PHP MySQL: Learn PHP MySQL with Project', 'url': 'https://www.udemy.com/php-mysql-project-learning/', 'price': 20, 'num_subscribers': 2314, 'num_reviews': 77, 'num_lectures': 25, 'duration': '2 hours'}\n",
      "{'course_title': 'PHP: Complete Login and Registration System with PHP & MYSQL', 'url': 'https://www.udemy.com/user-authentication-code-a-simple-login-system-with-php/', 'price': 200, 'num_subscribers': 1448, 'num_reviews': 173, 'num_lectures': 48, 'duration': '7.5 hours'}\n",
      "{'course_title': 'Complete Login and Registration System in PHP and MYSQL', 'url': 'https://www.udemy.com/login-and-registration-system-in-php-and-mysql-step-by-step/', 'price': 200, 'num_subscribers': 4714, 'num_reviews': 149, 'num_lectures': 28, 'duration': '4 hours'}\n",
      "{'course_title': 'Login and Registration from Scratch with PHP and MySQL', 'url': 'https://www.udemy.com/authentication-from-scratch-with-php-and-mysql/', 'price': 20, 'num_subscribers': 1128, 'num_reviews': 77, 'num_lectures': 36, 'duration': '2 hours'}\n",
      "{'course_title': 'PHP & MySQL - Learn The Easy Way. Master PHP & MySQL Quickly', 'url': 'https://www.udemy.com/learning-php-and-mysql-development-the-easy-way/', 'price': 50, 'num_subscribers': 5549, 'num_reviews': 92, 'num_lectures': 143, 'duration': '15.5 hours'}\n",
      "{'course_title': 'Complete Website & CMS in PHP & MySQL From Scratch!', 'url': 'https://www.udemy.com/cms-admin-panel-in-php-mysql/', 'price': 20, 'num_subscribers': 3357, 'num_reviews': 82, 'num_lectures': 48, 'duration': '12.5 hours'}\n",
      "{'course_title': 'Learn E-Commerce Website in PHP & MySQL From Scratch!', 'url': 'https://www.udemy.com/ecommerce-website-in-php-mysqli/', 'price': 0, 'num_subscribers': 29990, 'num_reviews': 1342, 'num_lectures': 87, 'duration': '17.5 hours'}"
     ]
    },
    {
     "output_type": "stream",
     "name": "stderr",
     "text": [
      "127.0.0.1 - - [14/Jul/2021 05:38:39] \"GET /get/rcmd/javascript HTTP/1.1\" 200 -\n"
     ]
    },
    {
     "output_type": "stream",
     "name": "stdout",
     "text": [
      "\n",
      "{'course_title': 'JavaScript Complete Guide to learning JavaScript', 'url': 'https://www.udemy.com/javascript-complete-guide-to-learning-javascript/', 'price': 200, 'num_subscribers': 1296, 'num_reviews': 22, 'num_lectures': 72, 'duration': '5.5 hours'}\n"
     ]
    },
    {
     "output_type": "stream",
     "name": "stderr",
     "text": [
      "127.0.0.1 - - [14/Jul/2021 05:38:41] \"GET /get/rcmd/javascript HTTP/1.1\" 200 -\n"
     ]
    },
    {
     "output_type": "stream",
     "name": "stdout",
     "text": [
      "Learning Dynamic Website Design - PHP MySQL and JavaScript\n",
      "2484\n",
      "{'course_title': 'Learning Dynamic Website Design - PHP MySQL and JavaScript', 'url': 'https://www.udemy.com/learning-dynamic-website-design/', 'price': 50, 'num_subscribers': 47886, 'num_reviews': 285, 'num_lectures': 125, 'duration': '12.5 hours'}\n",
      "{'course_title': 'Projects in PHP and MySQL', 'url': 'https://www.udemy.com/the-complete-web-development-course-learn-by-building-apps/', 'price': 60, 'num_subscribers': 10606, 'num_reviews': 570, 'num_lectures': 88, 'duration': '23 hours'}\n",
      "{'course_title': 'Practical Understanding of PHP and MySQL', 'url': 'https://www.udemy.com/practical-understanding-of-php-and-myqsl-demo/', 'price': 0, 'num_subscribers': 12201, 'num_reviews': 217, 'num_lectures': 24, 'duration': '5.5 hours'}\n",
      "{'course_title': 'PHP MySQL: Learn PHP MySQL with Project', 'url': 'https://www.udemy.com/php-mysql-project-learning/', 'price': 20, 'num_subscribers': 2314, 'num_reviews': 77, 'num_lectures': 25, 'duration': '2 hours'}\n",
      "{'course_title': 'PHP: Complete Login and Registration System with PHP & MYSQL', 'url': 'https://www.udemy.com/user-authentication-code-a-simple-login-system-with-php/', 'price': 200, 'num_subscribers': 1448, 'num_reviews': 173, 'num_lectures': 48, 'duration': '7.5 hours'}\n",
      "{'course_title': 'Complete Login and Registration System in PHP and MYSQL', 'url': 'https://www.udemy.com/login-and-registration-system-in-php-and-mysql-step-by-step/', 'price': 200, 'num_subscribers': 4714, 'num_reviews': 149, 'num_lectures': 28, 'duration': '4 hours'}\n",
      "{'course_title': 'Login and Registration from Scratch with PHP and MySQL', 'url': 'https://www.udemy.com/authentication-from-scratch-with-php-and-mysql/', 'price': 20, 'num_subscribers': 1128, 'num_reviews': 77, 'num_lectures': 36, 'duration': '2 hours'}\n",
      "{'course_title': 'PHP & MySQL - Learn The Easy Way. Master PHP & MySQL Quickly', 'url': 'https://www.udemy.com/learning-php-and-mysql-development-the-easy-way/', 'price': 50, 'num_subscribers': 5549, 'num_reviews': 92, 'num_lectures': 143, 'duration': '15.5 hours'}\n",
      "{'course_title': 'Complete Website & CMS in PHP & MySQL From Scratch!', 'url': 'https://www.udemy.com/cms-admin-panel-in-php-mysql/', 'price': 20, 'num_subscribers': 3357, 'num_reviews': 82, 'num_lectures': 48, 'duration': '12.5 hours'}\n",
      "{'course_title': 'Learn E-Commerce Website in PHP & MySQL From Scratch!', 'url': 'https://www.udemy.com/ecommerce-website-in-php-mysqli/', 'price': 0, 'num_subscribers': 29990, 'num_reviews': 1342, 'num_lectures': 87, 'duration': '17.5 hours'}\n",
      "{'course_title': 'JavaScript Complete Guide to learning JavaScript', 'url': 'https://www.udemy.com/javascript-complete-guide-to-learning-javascript/', 'price': 200, 'num_subscribers': 1296, 'num_reviews': 22, 'num_lectures': 72, 'duration': '5.5 hours'}\n"
     ]
    },
    {
     "output_type": "stream",
     "name": "stderr",
     "text": [
      "127.0.0.1 - - [14/Jul/2021 05:38:49] \"GET /get/rcmd/java HTTP/1.1\" 200 -\n"
     ]
    },
    {
     "output_type": "stream",
     "name": "stdout",
     "text": [
      "Learning Dynamic Website Design - PHP MySQL and JavaScript\n",
      "2484\n",
      "{'course_title': 'Learning Dynamic Website Design - PHP MySQL and JavaScript', 'url': 'https://www.udemy.com/learning-dynamic-website-design/', 'price': 50, 'num_subscribers': 47886, 'num_reviews': 285, 'num_lectures': 125, 'duration': '12.5 hours'}\n",
      "{'course_title': 'Projects in PHP and MySQL', 'url': 'https://www.udemy.com/the-complete-web-development-course-learn-by-building-apps/', 'price': 60, 'num_subscribers': 10606, 'num_reviews': 570, 'num_lectures': 88, 'duration': '23 hours'}\n",
      "{'course_title': 'Practical Understanding of PHP and MySQL', 'url': 'https://www.udemy.com/practical-understanding-of-php-and-myqsl-demo/', 'price': 0, 'num_subscribers': 12201, 'num_reviews': 217, 'num_lectures': 24, 'duration': '5.5 hours'}\n",
      "{'course_title': 'PHP MySQL: Learn PHP MySQL with Project', 'url': 'https://www.udemy.com/php-mysql-project-learning/', 'price': 20, 'num_subscribers': 2314, 'num_reviews': 77, 'num_lectures': 25, 'duration': '2 hours'}\n",
      "{'course_title': 'PHP: Complete Login and Registration System with PHP & MYSQL', 'url': 'https://www.udemy.com/user-authentication-code-a-simple-login-system-with-php/', 'price': 200, 'num_subscribers': 1448, 'num_reviews': 173, 'num_lectures': 48, 'duration': '7.5 hours'}\n",
      "{'course_title': 'Complete Login and Registration System in PHP and MYSQL', 'url': 'https://www.udemy.com/login-and-registration-system-in-php-and-mysql-step-by-step/', 'price': 200, 'num_subscribers': 4714, 'num_reviews': 149, 'num_lectures': 28, 'duration': '4 hours'}\n",
      "{'course_title': 'Login and Registration from Scratch with PHP and MySQL', 'url': 'https://www.udemy.com/authentication-from-scratch-with-php-and-mysql/', 'price': 20, 'num_subscribers': 1128, 'num_reviews': 77, 'num_lectures': 36, 'duration': '2 hours'}\n",
      "{'course_title': 'PHP & MySQL - Learn The Easy Way. Master PHP & MySQL Quickly', 'url': 'https://www.udemy.com/learning-php-and-mysql-development-the-easy-way/', 'price': 50, 'num_subscribers': 5549, 'num_reviews': 92, 'num_lectures': 143, 'duration': '15.5 hours'}\n",
      "{'course_title': 'Complete Website & CMS in PHP & MySQL From Scratch!', 'url': 'https://www.udemy.com/cms-admin-panel-in-php-mysql/', 'price': 20, 'num_subscribers': 3357, 'num_reviews': 82, 'num_lectures': 48, 'duration': '12.5 hours'}\n",
      "{'course_title': 'Learn E-Commerce Website in PHP & MySQL From Scratch!', 'url': 'https://www.udemy.com/ecommerce-website-in-php-mysqli/', 'price': 0, 'num_subscribers': 29990, 'num_reviews': 1342, 'num_lectures': 87, 'duration': '17.5 hours'}\n",
      "{'course_title': 'JavaScript Complete Guide to learning JavaScript', 'url': 'https://www.udemy.com/javascript-complete-guide-to-learning-javascript/', 'price': 200, 'num_subscribers': 1296, 'num_reviews': 22, 'num_lectures': 72, 'duration': '5.5 hours'}\n"
     ]
    },
    {
     "output_type": "stream",
     "name": "stderr",
     "text": [
      "127.0.0.1 - - [14/Jul/2021 05:41:37] \"GET /get/rcmd/ HTTP/1.1\" 404 -\n",
      "127.0.0.1 - - [14/Jul/2021 05:41:56] \"GET /get/rcmd/java HTTP/1.1\" 200 -\n"
     ]
    },
    {
     "output_type": "stream",
     "name": "stdout",
     "text": [
      "Learning Dynamic Website Design - PHP MySQL and JavaScript\n",
      "2484\n",
      "{'course_title': 'Learning Dynamic Website Design - PHP MySQL and JavaScript', 'url': 'https://www.udemy.com/learning-dynamic-website-design/', 'price': 50, 'num_subscribers': 47886, 'num_reviews': 285, 'num_lectures': 125, 'duration': '12.5 hours'}\n",
      "{'course_title': 'Projects in PHP and MySQL', 'url': 'https://www.udemy.com/the-complete-web-development-course-learn-by-building-apps/', 'price': 60, 'num_subscribers': 10606, 'num_reviews': 570, 'num_lectures': 88, 'duration': '23 hours'}\n",
      "{'course_title': 'Practical Understanding of PHP and MySQL', 'url': 'https://www.udemy.com/practical-understanding-of-php-and-myqsl-demo/', 'price': 0, 'num_subscribers': 12201, 'num_reviews': 217, 'num_lectures': 24, 'duration': '5.5 hours'}\n",
      "{'course_title': 'PHP MySQL: Learn PHP MySQL with Project', 'url': 'https://www.udemy.com/php-mysql-project-learning/', 'price': 20, 'num_subscribers': 2314, 'num_reviews': 77, 'num_lectures': 25, 'duration': '2 hours'}\n",
      "{'course_title': 'PHP: Complete Login and Registration System with PHP & MYSQL', 'url': 'https://www.udemy.com/user-authentication-code-a-simple-login-system-with-php/', 'price': 200, 'num_subscribers': 1448, 'num_reviews': 173, 'num_lectures': 48, 'duration': '7.5 hours'}\n",
      "{'course_title': 'Complete Login and Registration System in PHP and MYSQL', 'url': 'https://www.udemy.com/login-and-registration-system-in-php-and-mysql-step-by-step/', 'price': 200, 'num_subscribers': 4714, 'num_reviews': 149, 'num_lectures': 28, 'duration': '4 hours'}\n",
      "{'course_title': 'Login and Registration from Scratch with PHP and MySQL', 'url': 'https://www.udemy.com/authentication-from-scratch-with-php-and-mysql/', 'price': 20, 'num_subscribers': 1128, 'num_reviews': 77, 'num_lectures': 36, 'duration': '2 hours'}\n",
      "{'course_title': 'PHP & MySQL - Learn The Easy Way. Master PHP & MySQL Quickly', 'url': 'https://www.udemy.com/learning-php-and-mysql-development-the-easy-way/', 'price': 50, 'num_subscribers': 5549, 'num_reviews': 92, 'num_lectures': 143, 'duration': '15.5 hours'}\n",
      "{'course_title': 'Complete Website & CMS in PHP & MySQL From Scratch!', 'url': 'https://www.udemy.com/cms-admin-panel-in-php-mysql/', 'price': 20, 'num_subscribers': 3357, 'num_reviews': 82, 'num_lectures': 48, 'duration': '12.5 hours'}\n",
      "{'course_title': 'Learn E-Commerce Website in PHP & MySQL From Scratch!', 'url': 'https://www.udemy.com/ecommerce-website-in-php-mysqli/', 'price': 0, 'num_subscribers': 29990, 'num_reviews': 1342, 'num_lectures': 87, 'duration': '17.5 hours'}\n",
      "{'course_title': 'JavaScript Complete Guide to learning JavaScript', 'url': 'https://www.udemy.com/javascript-complete-guide-to-learning-javascript/', 'price': 200, 'num_subscribers': 1296, 'num_reviews': 22, 'num_lectures': 72, 'duration': '5.5 hours'}\n"
     ]
    },
    {
     "output_type": "stream",
     "name": "stderr",
     "text": [
      "127.0.0.1 - - [14/Jul/2021 05:42:30] \"GET /get/rcmd/java HTTP/1.1\" 200 -\n"
     ]
    },
    {
     "output_type": "stream",
     "name": "stdout",
     "text": [
      "Learning Dynamic Website Design - PHP MySQL and JavaScript\n",
      "2484\n",
      "{'course_title': 'Learning Dynamic Website Design - PHP MySQL and JavaScript', 'url': 'https://www.udemy.com/learning-dynamic-website-design/', 'price': 50, 'num_subscribers': 47886, 'num_reviews': 285, 'num_lectures': 125, 'duration': '12.5 hours'}\n",
      "{'course_title': 'Projects in PHP and MySQL', 'url': 'https://www.udemy.com/the-complete-web-development-course-learn-by-building-apps/', 'price': 60, 'num_subscribers': 10606, 'num_reviews': 570, 'num_lectures': 88, 'duration': '23 hours'}\n",
      "{'course_title': 'Practical Understanding of PHP and MySQL', 'url': 'https://www.udemy.com/practical-understanding-of-php-and-myqsl-demo/', 'price': 0, 'num_subscribers': 12201, 'num_reviews': 217, 'num_lectures': 24, 'duration': '5.5 hours'}\n",
      "{'course_title': 'PHP MySQL: Learn PHP MySQL with Project', 'url': 'https://www.udemy.com/php-mysql-project-learning/', 'price': 20, 'num_subscribers': 2314, 'num_reviews': 77, 'num_lectures': 25, 'duration': '2 hours'}\n",
      "{'course_title': 'PHP: Complete Login and Registration System with PHP & MYSQL', 'url': 'https://www.udemy.com/user-authentication-code-a-simple-login-system-with-php/', 'price': 200, 'num_subscribers': 1448, 'num_reviews': 173, 'num_lectures': 48, 'duration': '7.5 hours'}\n",
      "{'course_title': 'Complete Login and Registration System in PHP and MYSQL', 'url': 'https://www.udemy.com/login-and-registration-system-in-php-and-mysql-step-by-step/', 'price': 200, 'num_subscribers': 4714, 'num_reviews': 149, 'num_lectures': 28, 'duration': '4 hours'}\n",
      "{'course_title': 'Login and Registration from Scratch with PHP and MySQL', 'url': 'https://www.udemy.com/authentication-from-scratch-with-php-and-mysql/', 'price': 20, 'num_subscribers': 1128, 'num_reviews': 77, 'num_lectures': 36, 'duration': '2 hours'}\n",
      "{'course_title': 'PHP & MySQL - Learn The Easy Way. Master PHP & MySQL Quickly', 'url': 'https://www.udemy.com/learning-php-and-mysql-development-the-easy-way/', 'price': 50, 'num_subscribers': 5549, 'num_reviews': 92, 'num_lectures': 143, 'duration': '15.5 hours'}\n",
      "{'course_title': 'Complete Website & CMS in PHP & MySQL From Scratch!', 'url': 'https://www.udemy.com/cms-admin-panel-in-php-mysql/', 'price': 20, 'num_subscribers': 3357, 'num_reviews': 82, 'num_lectures': 48, 'duration': '12.5 hours'}\n",
      "{'course_title': 'Learn E-Commerce Website in PHP & MySQL From Scratch!', 'url': 'https://www.udemy.com/ecommerce-website-in-php-mysqli/', 'price': 0, 'num_subscribers': 29990, 'num_reviews': 1342, 'num_lectures': 87, 'duration': '17.5 hours'}\n",
      "{'course_title': 'JavaScript Complete Guide to learning JavaScript', 'url': 'https://www.udemy.com/javascript-complete-guide-to-learning-javascript/', 'price': 200, 'num_subscribers': 1296, 'num_reviews': 22, 'num_lectures': 72, 'duration': '5.5 hours'}\n"
     ]
    },
    {
     "output_type": "stream",
     "name": "stderr",
     "text": [
      "127.0.0.1 - - [14/Jul/2021 05:42:41] \"GET /get/rcmd/python HTTP/1.1\" 200 -\n"
     ]
    },
    {
     "output_type": "stream",
     "name": "stdout",
     "text": [
      "Python Algo Trading: Sentiment Trading with News\n",
      "14\n",
      "{'course_title': 'Python Algo Trading: Sentiment Trading with News', 'url': 'https://www.udemy.com/hedge-fund-strategy-trading-with-sentiment-analysis/', 'price': 200, 'num_subscribers': 294, 'num_reviews': 19, 'num_lectures': 42, 'duration': '7 hours'}\n",
      "{'course_title': 'Python Algo Trading: FX Trading with Oanda', 'url': 'https://www.udemy.com/python-algo-trading-fx-trading-with-oanda/', 'price': 200, 'num_subscribers': 453, 'num_reviews': 42, 'num_lectures': 33, 'duration': '3 hours'}\n",
      "{'course_title': 'Python Algo Stock Trading: Automate Your Trading!', 'url': 'https://www.udemy.com/algorithmic-stock-trading-bootcamp-automate-your-trading/', 'price': 95, 'num_subscribers': 1165, 'num_reviews': 21, 'num_lectures': 41, 'duration': '2.5 hours'}\n",
      "{'course_title': 'Quantitative Trading Analysis with Python', 'url': 'https://www.udemy.com/quantitative-trading-analysis-with-python/', 'price': 50, 'num_subscribers': 256, 'num_reviews': 17, 'num_lectures': 49, 'duration': '5.5 hours'}\n",
      "{'course_title': 'Black Algo Trading: Build Your Trading Robot', 'url': 'https://www.udemy.com/build-your-trading-robot/', 'price': 200, 'num_subscribers': 20195, 'num_reviews': 1113, 'num_lectures': 227, 'duration': '16 hours'}\n",
      "{'course_title': 'Trading: High-ROI Trading', 'url': 'https://www.udemy.com/the-high-roi-trading-video-course/', 'price': 190, 'num_subscribers': 126, 'num_reviews': 20, 'num_lectures': 47, 'duration': '12.5 hours'}\n",
      "{'course_title': 'Forex Trading with Fixed \\'Risk through Options Trading\"', 'url': 'https://www.udemy.com/forexoptions/', 'price': 200, 'num_subscribers': 611, 'num_reviews': 4, 'num_lectures': 26, 'duration': '1 hour'}\n",
      "{'course_title': 'TRADING PSYCHOLOGY: Trading Mindset Mastery', 'url': 'https://www.udemy.com/trading-psychology-trading-mindset-mastery/', 'price': 120, 'num_subscribers': 975, 'num_reviews': 23, 'num_lectures': 23, 'duration': '1 hour'}\n",
      "{'course_title': 'Forex Trading vs Option Trading', 'url': 'https://www.udemy.com/trading-excellence/', 'price': 95, 'num_subscribers': 1776, 'num_reviews': 14, 'num_lectures': 29, 'duration': '2.5 hours'}\n",
      "{'course_title': 'Volatility Trading Analysis with R', 'url': 'https://www.udemy.com/volatility-trading-analysis-with-r/', 'price': 50, 'num_subscribers': 190, 'num_reviews': 13, 'num_lectures': 45, 'duration': '6 hours'}\n",
      "{'course_title': 'Forex: Economic News Trading', 'url': 'https://www.udemy.com/forex-economic-news-trading/', 'price': 25, 'num_subscribers': 42, 'num_reviews': 14, 'num_lectures': 11, 'duration': '41 mins'}\n"
     ]
    },
    {
     "output_type": "stream",
     "name": "stderr",
     "text": [
      "127.0.0.1 - - [14/Jul/2021 05:42:52] \"GET /get/rcmd/html HTTP/1.1\" 200 -\n"
     ]
    },
    {
     "output_type": "stream",
     "name": "stdout",
     "text": [
      "Learn Web Designing & HTML5/CSS3 Essentials in 4-Hours\n",
      "course_title\n",
      "Learn Web Designing & HTML5/CSS3 Essentials in 4-Hours    2483\n",
      "Learn Web Designing & HTML5/CSS3 Essentials in 4-Hours    2566\n",
      "dtype: int64\n"
     ]
    },
    {
     "output_type": "stream",
     "name": "stderr",
     "text": [
      "127.0.0.1 - - [14/Jul/2021 05:43:17] \"GET /get/rcmd/css HTTP/1.1\" 200 -\n"
     ]
    },
    {
     "output_type": "stream",
     "name": "stdout",
     "text": [
      "Learn Web Designing & HTML5/CSS3 Essentials in 4-Hours\n",
      "course_title\n",
      "Learn Web Designing & HTML5/CSS3 Essentials in 4-Hours    2483\n",
      "Learn Web Designing & HTML5/CSS3 Essentials in 4-Hours    2566\n",
      "dtype: int64\n"
     ]
    },
    {
     "output_type": "stream",
     "name": "stderr",
     "text": [
      "127.0.0.1 - - [14/Jul/2021 05:43:24] \"GET /get/rcmd/azure HTTP/1.1\" 200 -\n"
     ]
    },
    {
     "output_type": "stream",
     "name": "stdout",
     "text": [
      "Learn Azure Cloud Step by Step\n",
      "3608\n",
      "{'course_title': 'Learn Azure Cloud Step by Step', 'url': 'https://www.udemy.com/marutiazure/', 'price': 20, 'num_subscribers': 791, 'num_reviews': 29, 'num_lectures': 24, 'duration': '2.5 hours'}\n",
      "{'course_title': 'Learn AngularJS Step By Step', 'url': 'https://www.udemy.com/maruti-angularjs/', 'price': 20, 'num_subscribers': 18777, 'num_reviews': 1112, 'num_lectures': 21, 'duration': '1.5 hours'}\n",
      "{'course_title': 'Learn ASP NET MVC 5 step by step', 'url': 'https://www.udemy.com/maruti-mvc5/', 'price': 20, 'num_subscribers': 1428, 'num_reviews': 91, 'num_lectures': 32, 'duration': '3 hours'}\n",
      "{'course_title': 'Flask Tutorial Step by Step', 'url': 'https://www.udemy.com/python-flask-tutorial-step-by-step/', 'price': 0, 'num_subscribers': 4645, 'num_reviews': 171, 'num_lectures': 19, 'duration': '2 hours'}\n",
      "{'course_title': 'Learn Basic Concepts of Economics Step by Step - Complete', 'url': 'https://www.udemy.com/introduction-to-economics-for-beginners/', 'price': 150, 'num_subscribers': 2801, 'num_reviews': 6, 'num_lectures': 25, 'duration': '1.5 hours'}\n",
      "{'course_title': 'WordPress Academy: Learn WordPress step by step', 'url': 'https://www.udemy.com/wordpress-academy-course/', 'price': 150, 'num_subscribers': 1873, 'num_reviews': 360, 'num_lectures': 79, 'duration': '7.5 hours'}\n",
      "{'course_title': 'Learn Laravel: Create Your Web App Step-By-Step', 'url': 'https://www.udemy.com/laravel-5-course-learn-php-laravel/', 'price': 45, 'num_subscribers': 604, 'num_reviews': 47, 'num_lectures': 35, 'duration': '4 hours'}\n",
      "{'course_title': 'Step by Step Classical Guitar Course', 'url': 'https://www.udemy.com/step-by-step-classical-guitar-course/', 'price': 100, 'num_subscribers': 9, 'num_reviews': 1, 'num_lectures': 45, 'duration': '4.5 hours'}\n",
      "{'course_title': 'Learn basics of South Indian Carnatic Flute Step by Step ', 'url': 'https://www.udemy.com/carnatic-flute/', 'price': 150, 'num_subscribers': 380, 'num_reviews': 113, 'num_lectures': 49, 'duration': '4 hours'}\n",
      "{'course_title': 'Financial Modelling in Excel Step by Step', 'url': 'https://www.udemy.com/financial-modelling-course-using-excel/', 'price': 20, 'num_subscribers': 13, 'num_reviews': 2, 'num_lectures': 17, 'duration': '1.5 hours'}\n",
      "{'course_title': 'Step by Step Gif animation in Photoshop', 'url': 'https://www.udemy.com/step-by-step-gif-animation-in-photoshop/', 'price': 20, 'num_subscribers': 518, 'num_reviews': 2, 'num_lectures': 17, 'duration': '1 hour'}\n"
     ]
    },
    {
     "output_type": "stream",
     "name": "stderr",
     "text": [
      "127.0.0.1 - - [14/Jul/2021 05:45:03] \"GET /get/rcmd/azure HTTP/1.1\" 200 -\n"
     ]
    },
    {
     "output_type": "stream",
     "name": "stdout",
     "text": [
      "Learn Azure Cloud Step by Step\n",
      "3608\n",
      "{'course_title': 'Learn Azure Cloud Step by Step', 'url': 'https://www.udemy.com/marutiazure/', 'price': 20, 'num_subscribers': 791, 'num_reviews': 29, 'num_lectures': 24, 'duration': '2.5 hours'}\n",
      "{'course_title': 'Learn AngularJS Step By Step', 'url': 'https://www.udemy.com/maruti-angularjs/', 'price': 20, 'num_subscribers': 18777, 'num_reviews': 1112, 'num_lectures': 21, 'duration': '1.5 hours'}\n",
      "{'course_title': 'Learn ASP NET MVC 5 step by step', 'url': 'https://www.udemy.com/maruti-mvc5/', 'price': 20, 'num_subscribers': 1428, 'num_reviews': 91, 'num_lectures': 32, 'duration': '3 hours'}\n",
      "{'course_title': 'Flask Tutorial Step by Step', 'url': 'https://www.udemy.com/python-flask-tutorial-step-by-step/', 'price': 0, 'num_subscribers': 4645, 'num_reviews': 171, 'num_lectures': 19, 'duration': '2 hours'}\n",
      "{'course_title': 'Learn Basic Concepts of Economics Step by Step - Complete', 'url': 'https://www.udemy.com/introduction-to-economics-for-beginners/', 'price': 150, 'num_subscribers': 2801, 'num_reviews': 6, 'num_lectures': 25, 'duration': '1.5 hours'}\n",
      "{'course_title': 'WordPress Academy: Learn WordPress step by step', 'url': 'https://www.udemy.com/wordpress-academy-course/', 'price': 150, 'num_subscribers': 1873, 'num_reviews': 360, 'num_lectures': 79, 'duration': '7.5 hours'}\n",
      "{'course_title': 'Learn Laravel: Create Your Web App Step-By-Step', 'url': 'https://www.udemy.com/laravel-5-course-learn-php-laravel/', 'price': 45, 'num_subscribers': 604, 'num_reviews': 47, 'num_lectures': 35, 'duration': '4 hours'}\n",
      "{'course_title': 'Step by Step Classical Guitar Course', 'url': 'https://www.udemy.com/step-by-step-classical-guitar-course/', 'price': 100, 'num_subscribers': 9, 'num_reviews': 1, 'num_lectures': 45, 'duration': '4.5 hours'}\n",
      "{'course_title': 'Learn basics of South Indian Carnatic Flute Step by Step ', 'url': 'https://www.udemy.com/carnatic-flute/', 'price': 150, 'num_subscribers': 380, 'num_reviews': 113, 'num_lectures': 49, 'duration': '4 hours'}\n",
      "{'course_title': 'Financial Modelling in Excel Step by Step', 'url': 'https://www.udemy.com/financial-modelling-course-using-excel/', 'price': 20, 'num_subscribers': 13, 'num_reviews': 2, 'num_lectures': 17, 'duration': '1.5 hours'}\n",
      "{'course_title': 'Step by Step Gif animation in Photoshop', 'url': 'https://www.udemy.com/step-by-step-gif-animation-in-photoshop/', 'price': 20, 'num_subscribers': 518, 'num_reviews': 2, 'num_lectures': 17, 'duration': '1 hour'}\n"
     ]
    },
    {
     "output_type": "stream",
     "name": "stderr",
     "text": [
      "127.0.0.1 - - [14/Jul/2021 05:56:53] \"GET /get/rcmd/azure HTTP/1.1\" 200 -\n"
     ]
    },
    {
     "output_type": "stream",
     "name": "stdout",
     "text": [
      "Learn Azure Cloud Step by Step\n",
      "3608\n",
      "{'course_title': 'Learn Azure Cloud Step by Step', 'url': 'https://www.udemy.com/marutiazure/', 'price': 20, 'num_subscribers': 791, 'num_reviews': 29, 'num_lectures': 24, 'duration': '2.5 hours'}\n",
      "{'course_title': 'Learn AngularJS Step By Step', 'url': 'https://www.udemy.com/maruti-angularjs/', 'price': 20, 'num_subscribers': 18777, 'num_reviews': 1112, 'num_lectures': 21, 'duration': '1.5 hours'}\n",
      "{'course_title': 'Learn ASP NET MVC 5 step by step', 'url': 'https://www.udemy.com/maruti-mvc5/', 'price': 20, 'num_subscribers': 1428, 'num_reviews': 91, 'num_lectures': 32, 'duration': '3 hours'}\n",
      "{'course_title': 'Flask Tutorial Step by Step', 'url': 'https://www.udemy.com/python-flask-tutorial-step-by-step/', 'price': 0, 'num_subscribers': 4645, 'num_reviews': 171, 'num_lectures': 19, 'duration': '2 hours'}\n",
      "{'course_title': 'Learn Basic Concepts of Economics Step by Step - Complete', 'url': 'https://www.udemy.com/introduction-to-economics-for-beginners/', 'price': 150, 'num_subscribers': 2801, 'num_reviews': 6, 'num_lectures': 25, 'duration': '1.5 hours'}\n",
      "{'course_title': 'WordPress Academy: Learn WordPress step by step', 'url': 'https://www.udemy.com/wordpress-academy-course/', 'price': 150, 'num_subscribers': 1873, 'num_reviews': 360, 'num_lectures': 79, 'duration': '7.5 hours'}\n",
      "{'course_title': 'Learn Laravel: Create Your Web App Step-By-Step', 'url': 'https://www.udemy.com/laravel-5-course-learn-php-laravel/', 'price': 45, 'num_subscribers': 604, 'num_reviews': 47, 'num_lectures': 35, 'duration': '4 hours'}\n",
      "{'course_title': 'Step by Step Classical Guitar Course', 'url': 'https://www.udemy.com/step-by-step-classical-guitar-course/', 'price': 100, 'num_subscribers': 9, 'num_reviews': 1, 'num_lectures': 45, 'duration': '4.5 hours'}\n",
      "{'course_title': 'Learn basics of South Indian Carnatic Flute Step by Step ', 'url': 'https://www.udemy.com/carnatic-flute/', 'price': 150, 'num_subscribers': 380, 'num_reviews': 113, 'num_lectures': 49, 'duration': '4 hours'}\n",
      "{'course_title': 'Financial Modelling in Excel Step by Step', 'url': 'https://www.udemy.com/financial-modelling-course-using-excel/', 'price': 20, 'num_subscribers': 13, 'num_reviews': 2, 'num_lectures': 17, 'duration': '1.5 hours'}\n",
      "{'course_title': 'Step by Step Gif animation in Photoshop', 'url': 'https://www.udemy.com/step-by-step-gif-animation-in-photoshop/', 'price': 20, 'num_subscribers': 518, 'num_reviews': 2, 'num_lectures': 17, 'duration': '1 hour'}\n"
     ]
    },
    {
     "output_type": "stream",
     "name": "stderr",
     "text": [
      "127.0.0.1 - - [14/Jul/2021 06:10:02] \"GET /get/rcmd/ HTTP/1.1\" 404 -\n",
      "127.0.0.1 - - [14/Jul/2021 06:10:31] \"GET /get/rcmd/ HTTP/1.1\" 404 -\n",
      "127.0.0.1 - - [14/Jul/2021 06:15:37] \"GET /get/rcmd/ HTTP/1.1\" 404 -\n",
      "127.0.0.1 - - [14/Jul/2021 06:15:39] \"GET /get/rcmd/ HTTP/1.1\" 404 -\n",
      "127.0.0.1 - - [14/Jul/2021 06:16:24] \"GET /get/rcmd/ HTTP/1.1\" 404 -\n"
     ]
    },
    {
     "output_type": "stream",
     "name": "stdout",
     "text": [
      "Learning Dynamic Website Design - PHP MySQL and JavaScript\n",
      "2484\n",
      "{'course_title': 'Learning Dynamic Website Design - PHP MySQL and JavaScript', 'url': 'https://www.udemy.com/learning-dynamic-website-design/', 'price': 50, 'num_subscribers': 47886, 'num_reviews': 285, 'num_lectures': 125, 'duration': '12.5 hours'}\n",
      "{'course_title': 'Projects in PHP and MySQL', 'url': 'https://www.udemy.com/the-complete-web-development-course-learn-by-building-apps/', 'price': 60, 'num_subscribers': 10606, 'num_reviews': 570, 'num_lectures': 88, 'duration': '23 hours'}\n",
      "{'course_title': 'Practical Understanding of PHP and MySQL', 'url': 'https://www.udemy.com/practical-understanding-of-php-and-myqsl-demo/', 'price': 0, 'num_subscribers': 12201, 'num_reviews': 217, 'num_lectures': 24, 'duration': '5.5 hours'}\n",
      "{'course_title': 'PHP MySQL: Learn PHP MySQL with Project', 'url': 'https://www.udemy.com/php-mysql-project-learning/', 'price': 20, 'num_subscribers': 2314, 'num_reviews': 77, 'num_lectures': 25, 'duration': '2 hours'}\n",
      "{'course_title': 'PHP: Complete Login and Registration System with PHP & MYSQL', 'url': 'https://www.udemy.com/user-authentication-code-a-simple-login-system-with-php/', 'price': 200, 'num_subscribers': 1448, 'num_reviews': 173, 'num_lectures': 48, 'duration': '7.5 hours'}\n",
      "{'course_title': 'Complete Login and Registration System in PHP and MYSQL', 'url': 'https://www.udemy.com/login-and-registration-system-in-php-and-mysql-step-by-step/', 'price': 200, 'num_subscribers': 4714, 'num_reviews': 149, 'num_lectures': 28, 'duration': '4 hours'}\n",
      "{'course_title': 'Login and Registration from Scratch with PHP and MySQL', 'url': 'https://www.udemy.com/authentication-from-scratch-with-php-and-mysql/', 'price': 20, 'num_subscribers': 1128, 'num_reviews': 77, 'num_lectures': 36, 'duration': '2 hours'}"
     ]
    },
    {
     "output_type": "stream",
     "name": "stderr",
     "text": [
      "127.0.0.1 - - [14/Jul/2021 06:16:32] \"GET /get/rcmd/java HTTP/1.1\" 200 -\n"
     ]
    },
    {
     "output_type": "stream",
     "name": "stdout",
     "text": [
      "\n",
      "{'course_title': 'PHP & MySQL - Learn The Easy Way. Master PHP & MySQL Quickly', 'url': 'https://www.udemy.com/learning-php-and-mysql-development-the-easy-way/', 'price': 50, 'num_subscribers': 5549, 'num_reviews': 92, 'num_lectures': 143, 'duration': '15.5 hours'}\n",
      "{'course_title': 'Complete Website & CMS in PHP & MySQL From Scratch!', 'url': 'https://www.udemy.com/cms-admin-panel-in-php-mysql/', 'price': 20, 'num_subscribers': 3357, 'num_reviews': 82, 'num_lectures': 48, 'duration': '12.5 hours'}\n",
      "{'course_title': 'Learn E-Commerce Website in PHP & MySQL From Scratch!', 'url': 'https://www.udemy.com/ecommerce-website-in-php-mysqli/', 'price': 0, 'num_subscribers': 29990, 'num_reviews': 1342, 'num_lectures': 87, 'duration': '17.5 hours'}\n",
      "{'course_title': 'JavaScript Complete Guide to learning JavaScript', 'url': 'https://www.udemy.com/javascript-complete-guide-to-learning-javascript/', 'price': 200, 'num_subscribers': 1296, 'num_reviews': 22, 'num_lectures': 72, 'duration': '5.5 hours'}\n"
     ]
    },
    {
     "output_type": "stream",
     "name": "stderr",
     "text": [
      "127.0.0.1 - - [14/Jul/2021 06:18:25] \"GET /get/rcmd/java HTTP/1.1\" 200 -\n"
     ]
    },
    {
     "output_type": "stream",
     "name": "stdout",
     "text": [
      "Learning Dynamic Website Design - PHP MySQL and JavaScript\n",
      "2484\n",
      "{'course_title': 'Learning Dynamic Website Design - PHP MySQL and JavaScript', 'url': 'https://www.udemy.com/learning-dynamic-website-design/', 'price': 50, 'num_subscribers': 47886, 'num_reviews': 285, 'num_lectures': 125, 'duration': '12.5 hours'}\n",
      "{'course_title': 'Projects in PHP and MySQL', 'url': 'https://www.udemy.com/the-complete-web-development-course-learn-by-building-apps/', 'price': 60, 'num_subscribers': 10606, 'num_reviews': 570, 'num_lectures': 88, 'duration': '23 hours'}\n",
      "{'course_title': 'Practical Understanding of PHP and MySQL', 'url': 'https://www.udemy.com/practical-understanding-of-php-and-myqsl-demo/', 'price': 0, 'num_subscribers': 12201, 'num_reviews': 217, 'num_lectures': 24, 'duration': '5.5 hours'}\n",
      "{'course_title': 'PHP MySQL: Learn PHP MySQL with Project', 'url': 'https://www.udemy.com/php-mysql-project-learning/', 'price': 20, 'num_subscribers': 2314, 'num_reviews': 77, 'num_lectures': 25, 'duration': '2 hours'}\n",
      "{'course_title': 'PHP: Complete Login and Registration System with PHP & MYSQL', 'url': 'https://www.udemy.com/user-authentication-code-a-simple-login-system-with-php/', 'price': 200, 'num_subscribers': 1448, 'num_reviews': 173, 'num_lectures': 48, 'duration': '7.5 hours'}\n",
      "{'course_title': 'Complete Login and Registration System in PHP and MYSQL', 'url': 'https://www.udemy.com/login-and-registration-system-in-php-and-mysql-step-by-step/', 'price': 200, 'num_subscribers': 4714, 'num_reviews': 149, 'num_lectures': 28, 'duration': '4 hours'}\n",
      "{'course_title': 'Login and Registration from Scratch with PHP and MySQL', 'url': 'https://www.udemy.com/authentication-from-scratch-with-php-and-mysql/', 'price': 20, 'num_subscribers': 1128, 'num_reviews': 77, 'num_lectures': 36, 'duration': '2 hours'}\n",
      "{'course_title': 'PHP & MySQL - Learn The Easy Way. Master PHP & MySQL Quickly', 'url': 'https://www.udemy.com/learning-php-and-mysql-development-the-easy-way/', 'price': 50, 'num_subscribers': 5549, 'num_reviews': 92, 'num_lectures': 143, 'duration': '15.5 hours'}\n",
      "{'course_title': 'Complete Website & CMS in PHP & MySQL From Scratch!', 'url': 'https://www.udemy.com/cms-admin-panel-in-php-mysql/', 'price': 20, 'num_subscribers': 3357, 'num_reviews': 82, 'num_lectures': 48, 'duration': '12.5 hours'}\n",
      "{'course_title': 'Learn E-Commerce Website in PHP & MySQL From Scratch!', 'url': 'https://www.udemy.com/ecommerce-website-in-php-mysqli/', 'price': 0, 'num_subscribers': 29990, 'num_reviews': 1342, 'num_lectures': 87, 'duration': '17.5 hours'}\n",
      "{'course_title': 'JavaScript Complete Guide to learning JavaScript', 'url': 'https://www.udemy.com/javascript-complete-guide-to-learning-javascript/', 'price': 200, 'num_subscribers': 1296, 'num_reviews': 22, 'num_lectures': 72, 'duration': '5.5 hours'}\n",
      "Python Algo Trading: Sentiment Trading with News\n",
      "14\n",
      "{'course_title': 'Python Algo Trading: Sentiment Trading with News', 'url': 'https://www.udemy.com/hedge-fund-strategy-trading-with-sentiment-analysis/', 'price': 200, 'num_subscribers': 294, 'num_reviews': 19, 'num_lectures': 42, 'duration': '7 hours'}\n",
      "{'course_title': 'Python Algo Trading: FX Trading with Oanda', 'url': 'https://www.udemy.com/python-algo-trading-fx-trading-with-oanda/', 'price': 200, 'num_subscribers': 453, 'num_reviews': 42, 'num_lectures': 33, 'duration': '3 hours'}\n",
      "{'course_title': 'Python Algo Stock Trading: Automate Your Trading!', 'url': 'https://www.udemy.com/algorithmic-stock-trading-bootcamp-automate-your-trading/', 'price': 95, 'num_subscribers': 1165, 'num_reviews': 21, 'num_lectures': 41, 'duration': '2.5 hours'}\n",
      "{'course_title': 'Quantitative Trading Analysis with Python', 'url': 'https://www.udemy.com/quantitative-trading-analysis-with-python/', 'price': 50, 'num_subscribers': 256, 'num_reviews': 17, 'num_lectures': 49, 'duration': '5.5 hours'}\n",
      "{'course_title': 'Black Algo Trading: Build Your Trading Robot', 'url': 'https://www.udemy.com/build-your-trading-robot/', 'price': 200, 'num_subscribers': 20195, 'num_reviews': 1113, 'num_lectures': 227, 'duration': '16 hours'}\n",
      "{'course_title': 'Trading: High-ROI Trading', 'url': 'https://www.udemy.com/the-high-roi-trading-video-course/', 'price': 190, 'num_subscribers': 126, 'num_reviews': 20, 'num_lectures': 47, 'duration': '12.5 hours'}\n",
      "{'course_title': 'Forex Trading with Fixed \\'Risk through Options Trading\"', 'url': 'https://www.udemy.com/forexoptions/', 'price': 200, 'num_subscribers': 611, 'num_reviews': 4, 'num_lectures': 26, 'duration': '1 hour'}\n",
      "{'course_title': 'TRADING PSYCHOLOGY: Trading Mindset Mastery', 'url': 'https://www.udemy.com/trading-psychology-trading-mindset-mastery/', 'price': 120, 'num_subscribers': 975, 'num_reviews': 23, 'num_lectures': 23, 'duration': '1 hour'}"
     ]
    },
    {
     "output_type": "stream",
     "name": "stderr",
     "text": [
      "127.0.0.1 - - [14/Jul/2021 06:30:00] \"GET /get/rcmd/python HTTP/1.1\" 200 -\n"
     ]
    },
    {
     "output_type": "stream",
     "name": "stdout",
     "text": [
      "\n",
      "{'course_title': 'Forex Trading vs Option Trading', 'url': 'https://www.udemy.com/trading-excellence/', 'price': 95, 'num_subscribers': 1776, 'num_reviews': 14, 'num_lectures': 29, 'duration': '2.5 hours'}\n",
      "{'course_title': 'Volatility Trading Analysis with R', 'url': 'https://www.udemy.com/volatility-trading-analysis-with-r/', 'price': 50, 'num_subscribers': 190, 'num_reviews': 13, 'num_lectures': 45, 'duration': '6 hours'}\n",
      "{'course_title': 'Forex: Economic News Trading', 'url': 'https://www.udemy.com/forex-economic-news-trading/', 'price': 25, 'num_subscribers': 42, 'num_reviews': 14, 'num_lectures': 11, 'duration': '41 mins'}\n"
     ]
    },
    {
     "output_type": "stream",
     "name": "stderr",
     "text": [
      "127.0.0.1 - - [14/Jul/2021 06:34:13] \"GET /get/rcmd/ HTTP/1.1\" 404 -\n"
     ]
    },
    {
     "output_type": "stream",
     "name": "stdout",
     "text": [
      "Learning Dynamic Website Design - PHP MySQL and JavaScript\n",
      "2484\n",
      "{'course_title': 'Learning Dynamic Website Design - PHP MySQL and JavaScript', 'url': 'https://www.udemy.com/learning-dynamic-website-design/', 'price': 50, 'num_subscribers': 47886, 'num_reviews': 285, 'num_lectures': 125, 'duration': '12.5 hours'}\n",
      "{'course_title': 'Projects in PHP and MySQL', 'url': 'https://www.udemy.com/the-complete-web-development-course-learn-by-building-apps/', 'price': 60, 'num_subscribers': 10606, 'num_reviews': 570, 'num_lectures': 88, 'duration': '23 hours'}\n",
      "{'course_title': 'Practical Understanding of PHP and MySQL', 'url': 'https://www.udemy.com/practical-understanding-of-php-and-myqsl-demo/', 'price': 0, 'num_subscribers': 12201, 'num_reviews': 217, 'num_lectures': 24, 'duration': '5.5 hours'}\n",
      "{'course_title': 'PHP MySQL: Learn PHP MySQL with Project', 'url': 'https://www.udemy.com/php-mysql-project-learning/', 'price': 20, 'num_subscribers': 2314, 'num_reviews': 77, 'num_lectures': 25, 'duration': '2 hours'}\n",
      "{'course_title': 'PHP: Complete Login and Registration System with PHP & MYSQL', 'url': 'https://www.udemy.com/user-authentication-code-a-simple-login-system-with-php/', 'price': 200, 'num_subscribers': 1448, 'num_reviews': 173, 'num_lectures': 48, 'duration': '7.5 hours'}\n",
      "{'course_title': 'Complete Login and Registration System in PHP and MYSQL', 'url': 'https://www.udemy.com/login-and-registration-system-in-php-and-mysql-step-by-step/', 'price': 200, 'num_subscribers': 4714, 'num_reviews': 149, 'num_lectures': 28, 'duration': '4 hours'}\n",
      "{'course_title': 'Login and Registration from Scratch with PHP and MySQL', 'url': 'https://www.udemy.com/authentication-from-scratch-with-php-and-mysql/', 'price': 20, 'num_subscribers': 1128, 'num_reviews': 77, 'num_lectures': 36, 'duration': '2 hours'}\n",
      "{'course_title': 'PHP & MySQL - Learn The Easy Way. Master PHP & MySQL Quickly', 'url': 'https://www.udemy.com/learning-php-and-mysql-development-the-easy-way/', 'price': 50, 'num_subscribers': 5549, 'num_reviews': 92, 'num_lectures': 143, 'duration': '15.5 hours'}\n",
      "{'course_title': 'Complete Website & CMS in PHP & MySQL From Scratch!', 'url': 'https://www.udemy.com/cms-admin-panel-in-php-mysql/', 'price': 20, 'num_subscribers': 3357, 'num_reviews': 82, 'num_lectures': 48, 'duration': '12.5 hours'}"
     ]
    },
    {
     "output_type": "stream",
     "name": "stderr",
     "text": [
      "127.0.0.1 - - [14/Jul/2021 06:34:47] \"GET /get/rcmd/java HTTP/1.1\" 200 -\n"
     ]
    },
    {
     "output_type": "stream",
     "name": "stdout",
     "text": [
      "\n",
      "{'course_title': 'Learn E-Commerce Website in PHP & MySQL From Scratch!', 'url': 'https://www.udemy.com/ecommerce-website-in-php-mysqli/', 'price': 0, 'num_subscribers': 29990, 'num_reviews': 1342, 'num_lectures': 87, 'duration': '17.5 hours'}\n",
      "{'course_title': 'JavaScript Complete Guide to learning JavaScript', 'url': 'https://www.udemy.com/javascript-complete-guide-to-learning-javascript/', 'price': 200, 'num_subscribers': 1296, 'num_reviews': 22, 'num_lectures': 72, 'duration': '5.5 hours'}\n",
      "Learning Dynamic Website Design - PHP MySQL and JavaScript\n",
      "2484\n",
      "{'course_title': 'Learning Dynamic Website Design - PHP MySQL and JavaScript', 'url': 'https://www.udemy.com/learning-dynamic-website-design/', 'price': 50, 'num_subscribers': 47886, 'num_reviews': 285, 'num_lectures': 125, 'duration': '12.5 hours'}\n",
      "{'course_title': 'Projects in PHP and MySQL', 'url': 'https://www.udemy.com/the-complete-web-development-course-learn-by-building-apps/', 'price': 60, 'num_subscribers': 10606, 'num_reviews': 570, 'num_lectures': 88, 'duration': '23 hours'}\n",
      "{'course_title': 'Practical Understanding of PHP and MySQL', 'url': 'https://www.udemy.com/practical-understanding-of-php-and-myqsl-demo/', 'price': 0, 'num_subscribers': 12201, 'num_reviews': 217, 'num_lectures': 24, 'duration': '5.5 hours'}\n",
      "{'course_title': 'PHP MySQL: Learn PHP MySQL with Project', 'url': 'https://www.udemy.com/php-mysql-project-learning/', 'price': 20, 'num_subscribers': 2314, 'num_reviews': 77, 'num_lectures': 25, 'duration': '2 hours'}\n",
      "{'course_title': 'PHP: Complete Login and Registration System with PHP & MYSQL', 'url': 'https://www.udemy.com/user-authentication-code-a-simple-login-system-with-php/', 'price': 200, 'num_subscribers': 1448, 'num_reviews': 173, 'num_lectures': 48, 'duration': '7.5 hours'}\n",
      "{'course_title': 'Complete Login and Registration System in PHP and MYSQL', 'url': 'https://www.udemy.com/login-and-registration-system-in-php-and-mysql-step-by-step/', 'price': 200, 'num_subscribers': 4714, 'num_reviews': 149, 'num_lectures': 28, 'duration': '4 hours'}\n",
      "{'course_title': 'Login and Registration from Scratch with PHP and MySQL', 'url': 'https://www.udemy.com/authentication-from-scratch-with-php-and-mysql/', 'price': 20, 'num_subscribers': 1128, 'num_reviews': 77, 'num_lectures': 36, 'duration': '2 hours'}\n",
      "{'course_title': 'PHP & MySQL - Learn The Easy Way. Master PHP & MySQL Quickly', 'url': 'https://www.udemy.com/learning-php-and-mysql-development-the-easy-way/', 'price': 50, 'num_subscribers': 5549, 'num_reviews': 92, 'num_lectures': 143, 'duration': '15.5 hours'}\n",
      "{'course_title': 'Complete Website & CMS in PHP & MySQL From Scratch!', 'url': 'https://www.udemy.com/cms-admin-panel-in-php-mysql/', 'price': 20, 'num_subscribers': 3357, 'num_reviews': 82, 'num_lectures': 48, 'duration': '12.5 hours'}\n"
     ]
    },
    {
     "output_type": "stream",
     "name": "stderr",
     "text": [
      "127.0.0.1 - - [14/Jul/2021 06:36:54] \"GET /get/rcmd/java HTTP/1.1\" 200 -\n"
     ]
    },
    {
     "output_type": "stream",
     "name": "stdout",
     "text": [
      "{'course_title': 'Learn E-Commerce Website in PHP & MySQL From Scratch!', 'url': 'https://www.udemy.com/ecommerce-website-in-php-mysqli/', 'price': 0, 'num_subscribers': 29990, 'num_reviews': 1342, 'num_lectures': 87, 'duration': '17.5 hours'}\n",
      "{'course_title': 'JavaScript Complete Guide to learning JavaScript', 'url': 'https://www.udemy.com/javascript-complete-guide-to-learning-javascript/', 'price': 200, 'num_subscribers': 1296, 'num_reviews': 22, 'num_lectures': 72, 'duration': '5.5 hours'}\n",
      "Learning Dynamic Website Design - PHP MySQL and JavaScript\n",
      "2484\n",
      "{'course_title': 'Learning Dynamic Website Design - PHP MySQL and JavaScript', 'url': 'https://www.udemy.com/learning-dynamic-website-design/', 'price': 50, 'num_subscribers': 47886, 'num_reviews': 285, 'num_lectures': 125, 'duration': '12.5 hours'}\n",
      "{'course_title': 'Projects in PHP and MySQL', 'url': 'https://www.udemy.com/the-complete-web-development-course-learn-by-building-apps/', 'price': 60, 'num_subscribers': 10606, 'num_reviews': 570, 'num_lectures': 88, 'duration': '23 hours'}\n",
      "{'course_title': 'Practical Understanding of PHP and MySQL', 'url': 'https://www.udemy.com/practical-understanding-of-php-and-myqsl-demo/', 'price': 0, 'num_subscribers': 12201, 'num_reviews': 217, 'num_lectures': 24, 'duration': '5.5 hours'}\n",
      "{'course_title': 'PHP MySQL: Learn PHP MySQL with Project', 'url': 'https://www.udemy.com/php-mysql-project-learning/', 'price': 20, 'num_subscribers': 2314, 'num_reviews': 77, 'num_lectures': 25, 'duration': '2 hours'}\n",
      "{'course_title': 'PHP: Complete Login and Registration System with PHP & MYSQL', 'url': 'https://www.udemy.com/user-authentication-code-a-simple-login-system-with-php/', 'price': 200, 'num_subscribers': 1448, 'num_reviews': 173, 'num_lectures': 48, 'duration': '7.5 hours'}\n",
      "{'course_title': 'Complete Login and Registration System in PHP and MYSQL', 'url': 'https://www.udemy.com/login-and-registration-system-in-php-and-mysql-step-by-step/', 'price': 200, 'num_subscribers': 4714, 'num_reviews': 149, 'num_lectures': 28, 'duration': '4 hours'}\n",
      "{'course_title': 'Login and Registration from Scratch with PHP and MySQL', 'url': 'https://www.udemy.com/authentication-from-scratch-with-php-and-mysql/', 'price': 20, 'num_subscribers': 1128, 'num_reviews': 77, 'num_lectures': 36, 'duration': '2 hours'}\n",
      "{'course_title': 'PHP & MySQL - Learn The Easy Way. Master PHP & MySQL Quickly', 'url': 'https://www.udemy.com/learning-php-and-mysql-development-the-easy-way/', 'price': 50, 'num_subscribers': 5549, 'num_reviews': 92, 'num_lectures': 143, 'duration': '15.5 hours'}"
     ]
    },
    {
     "output_type": "stream",
     "name": "stderr",
     "text": [
      "127.0.0.1 - - [14/Jul/2021 06:37:05] \"GET /get/rcmd/java HTTP/1.1\" 200 -\n"
     ]
    },
    {
     "output_type": "stream",
     "name": "stdout",
     "text": [
      "\n",
      "{'course_title': 'Complete Website & CMS in PHP & MySQL From Scratch!', 'url': 'https://www.udemy.com/cms-admin-panel-in-php-mysql/', 'price': 20, 'num_subscribers': 3357, 'num_reviews': 82, 'num_lectures': 48, 'duration': '12.5 hours'}\n",
      "{'course_title': 'Learn E-Commerce Website in PHP & MySQL From Scratch!', 'url': 'https://www.udemy.com/ecommerce-website-in-php-mysqli/', 'price': 0, 'num_subscribers': 29990, 'num_reviews': 1342, 'num_lectures': 87, 'duration': '17.5 hours'}\n",
      "{'course_title': 'JavaScript Complete Guide to learning JavaScript', 'url': 'https://www.udemy.com/javascript-complete-guide-to-learning-javascript/', 'price': 200, 'num_subscribers': 1296, 'num_reviews': 22, 'num_lectures': 72, 'duration': '5.5 hours'}\n",
      "Learning Dynamic Website Design - PHP MySQL and JavaScript\n",
      "2484\n",
      "{'course_title': 'Learning Dynamic Website Design - PHP MySQL and JavaScript', 'url': 'https://www.udemy.com/learning-dynamic-website-design/', 'price': 50, 'num_subscribers': 47886, 'num_reviews': 285, 'num_lectures': 125, 'duration': '12.5 hours'}\n",
      "{'course_title': 'Projects in PHP and MySQL', 'url': 'https://www.udemy.com/the-complete-web-development-course-learn-by-building-apps/', 'price': 60, 'num_subscribers': 10606, 'num_reviews': 570, 'num_lectures': 88, 'duration': '23 hours'}\n",
      "{'course_title': 'Practical Understanding of PHP and MySQL', 'url': 'https://www.udemy.com/practical-understanding-of-php-and-myqsl-demo/', 'price': 0, 'num_subscribers': 12201, 'num_reviews': 217, 'num_lectures': 24, 'duration': '5.5 hours'}\n",
      "{'course_title': 'PHP MySQL: Learn PHP MySQL with Project', 'url': 'https://www.udemy.com/php-mysql-project-learning/', 'price': 20, 'num_subscribers': 2314, 'num_reviews': 77, 'num_lectures': 25, 'duration': '2 hours'}\n",
      "{'course_title': 'PHP: Complete Login and Registration System with PHP & MYSQL', 'url': 'https://www.udemy.com/user-authentication-code-a-simple-login-system-with-php/', 'price': 200, 'num_subscribers': 1448, 'num_reviews': 173, 'num_lectures': 48, 'duration': '7.5 hours'}\n",
      "{'course_title': 'Complete Login and Registration System in PHP and MYSQL', 'url': 'https://www.udemy.com/login-and-registration-system-in-php-and-mysql-step-by-step/', 'price': 200, 'num_subscribers': 4714, 'num_reviews': 149, 'num_lectures': 28, 'duration': '4 hours'}\n",
      "{'course_title': 'Login and Registration from Scratch with PHP and MySQL', 'url': 'https://www.udemy.com/authentication-from-scratch-with-php-and-mysql/', 'price': 20, 'num_subscribers': 1128, 'num_reviews': 77, 'num_lectures': 36, 'duration': '2 hours'}"
     ]
    },
    {
     "output_type": "stream",
     "name": "stderr",
     "text": [
      "127.0.0.1 - - [14/Jul/2021 06:37:09] \"GET /get/rcmd/java HTTP/1.1\" 200 -\n"
     ]
    },
    {
     "output_type": "stream",
     "name": "stdout",
     "text": [
      "\n",
      "{'course_title': 'PHP & MySQL - Learn The Easy Way. Master PHP & MySQL Quickly', 'url': 'https://www.udemy.com/learning-php-and-mysql-development-the-easy-way/', 'price': 50, 'num_subscribers': 5549, 'num_reviews': 92, 'num_lectures': 143, 'duration': '15.5 hours'}\n",
      "{'course_title': 'Complete Website & CMS in PHP & MySQL From Scratch!', 'url': 'https://www.udemy.com/cms-admin-panel-in-php-mysql/', 'price': 20, 'num_subscribers': 3357, 'num_reviews': 82, 'num_lectures': 48, 'duration': '12.5 hours'}\n",
      "{'course_title': 'Learn E-Commerce Website in PHP & MySQL From Scratch!', 'url': 'https://www.udemy.com/ecommerce-website-in-php-mysqli/', 'price': 0, 'num_subscribers': 29990, 'num_reviews': 1342, 'num_lectures': 87, 'duration': '17.5 hours'}\n",
      "{'course_title': 'JavaScript Complete Guide to learning JavaScript', 'url': 'https://www.udemy.com/javascript-complete-guide-to-learning-javascript/', 'price': 200, 'num_subscribers': 1296, 'num_reviews': 22, 'num_lectures': 72, 'duration': '5.5 hours'}\n",
      "Learning Dynamic Website Design - PHP MySQL and JavaScript\n",
      "2484\n",
      "{'course_title': 'Learning Dynamic Website Design - PHP MySQL and JavaScript', 'url': 'https://www.udemy.com/learning-dynamic-website-design/', 'price': 50, 'num_subscribers': 47886, 'num_reviews': 285, 'num_lectures': 125, 'duration': '12.5 hours'}\n",
      "{'course_title': 'Projects in PHP and MySQL', 'url': 'https://www.udemy.com/the-complete-web-development-course-learn-by-building-apps/', 'price': 60, 'num_subscribers': 10606, 'num_reviews': 570, 'num_lectures': 88, 'duration': '23 hours'}\n",
      "{'course_title': 'Practical Understanding of PHP and MySQL', 'url': 'https://www.udemy.com/practical-understanding-of-php-and-myqsl-demo/', 'price': 0, 'num_subscribers': 12201, 'num_reviews': 217, 'num_lectures': 24, 'duration': '5.5 hours'}\n",
      "{'course_title': 'PHP MySQL: Learn PHP MySQL with Project', 'url': 'https://www.udemy.com/php-mysql-project-learning/', 'price': 20, 'num_subscribers': 2314, 'num_reviews': 77, 'num_lectures': 25, 'duration': '2 hours'}\n",
      "{'course_title': 'PHP: Complete Login and Registration System with PHP & MYSQL', 'url': 'https://www.udemy.com/user-authentication-code-a-simple-login-system-with-php/', 'price': 200, 'num_subscribers': 1448, 'num_reviews': 173, 'num_lectures': 48, 'duration': '7.5 hours'}\n",
      "{'course_title': 'Complete Login and Registration System in PHP and MYSQL', 'url': 'https://www.udemy.com/login-and-registration-system-in-php-and-mysql-step-by-step/', 'price': 200, 'num_subscribers': 4714, 'num_reviews': 149, 'num_lectures': 28, 'duration': '4 hours'}\n",
      "{'course_title': 'Login and Registration from Scratch with PHP and MySQL', 'url': 'https://www.udemy.com/authentication-from-scratch-with-php-and-mysql/', 'price': 20, 'num_subscribers': 1128, 'num_reviews': 77, 'num_lectures': 36, 'duration': '2 hours'}\n",
      "{'course_title': 'PHP & MySQL - Learn The Easy Way. Master PHP & MySQL Quickly', 'url': 'https://www.udemy.com/learning-php-and-mysql-development-the-easy-way/', 'price': 50, 'num_subscribers': 5549, 'num_reviews': 92, 'num_lectures': 143, 'duration': '15.5 hours'}\n",
      "{'course_title': 'Complete Website & CMS in PHP & MySQL From Scratch!', 'url': 'https://www.udemy.com/cms-admin-panel-in-php-mysql/', 'price': 20, 'num_subscribers': 3357, 'num_reviews': 82, 'num_lectures': 48, 'duration': '12.5 hours'}\n"
     ]
    },
    {
     "output_type": "stream",
     "name": "stderr",
     "text": [
      "127.0.0.1 - - [14/Jul/2021 06:37:12] \"GET /get/rcmd/java HTTP/1.1\" 200 -\n"
     ]
    },
    {
     "output_type": "stream",
     "name": "stdout",
     "text": [
      "{'course_title': 'Learn E-Commerce Website in PHP & MySQL From Scratch!', 'url': 'https://www.udemy.com/ecommerce-website-in-php-mysqli/', 'price': 0, 'num_subscribers': 29990, 'num_reviews': 1342, 'num_lectures': 87, 'duration': '17.5 hours'}\n",
      "{'course_title': 'JavaScript Complete Guide to learning JavaScript', 'url': 'https://www.udemy.com/javascript-complete-guide-to-learning-javascript/', 'price': 200, 'num_subscribers': 1296, 'num_reviews': 22, 'num_lectures': 72, 'duration': '5.5 hours'}\n"
     ]
    },
    {
     "output_type": "stream",
     "name": "stderr",
     "text": [
      "127.0.0.1 - - [14/Jul/2021 06:37:58] \"GET /get/rcmd/ HTTP/1.1\" 404 -\n"
     ]
    },
    {
     "output_type": "stream",
     "name": "stdout",
     "text": [
      "Learning Dynamic Website Design - PHP MySQL and JavaScript\n",
      "2484\n",
      "{'course_title': 'Learning Dynamic Website Design - PHP MySQL and JavaScript', 'url': 'https://www.udemy.com/learning-dynamic-website-design/', 'price': 50, 'num_subscribers': 47886, 'num_reviews': 285, 'num_lectures': 125, 'duration': '12.5 hours'}\n",
      "{'course_title': 'Projects in PHP and MySQL', 'url': 'https://www.udemy.com/the-complete-web-development-course-learn-by-building-apps/', 'price': 60, 'num_subscribers': 10606, 'num_reviews': 570, 'num_lectures': 88, 'duration': '23 hours'}\n",
      "{'course_title': 'Practical Understanding of PHP and MySQL', 'url': 'https://www.udemy.com/practical-understanding-of-php-and-myqsl-demo/', 'price': 0, 'num_subscribers': 12201, 'num_reviews': 217, 'num_lectures': 24, 'duration': '5.5 hours'}\n",
      "{'course_title': 'PHP MySQL: Learn PHP MySQL with Project', 'url': 'https://www.udemy.com/php-mysql-project-learning/', 'price': 20, 'num_subscribers': 2314, 'num_reviews': 77, 'num_lectures': 25, 'duration': '2 hours'}\n",
      "{'course_title': 'PHP: Complete Login and Registration System with PHP & MYSQL', 'url': 'https://www.udemy.com/user-authentication-code-a-simple-login-system-with-php/', 'price': 200, 'num_subscribers': 1448, 'num_reviews': 173, 'num_lectures': 48, 'duration': '7.5 hours'}\n"
     ]
    },
    {
     "output_type": "stream",
     "name": "stderr",
     "text": [
      "127.0.0.1 - - [14/Jul/2021 06:38:05] \"GET /get/rcmd/java HTTP/1.1\" 200 -\n"
     ]
    },
    {
     "output_type": "stream",
     "name": "stdout",
     "text": [
      "{'course_title': 'Complete Login and Registration System in PHP and MYSQL', 'url': 'https://www.udemy.com/login-and-registration-system-in-php-and-mysql-step-by-step/', 'price': 200, 'num_subscribers': 4714, 'num_reviews': 149, 'num_lectures': 28, 'duration': '4 hours'}\n",
      "{'course_title': 'Login and Registration from Scratch with PHP and MySQL', 'url': 'https://www.udemy.com/authentication-from-scratch-with-php-and-mysql/', 'price': 20, 'num_subscribers': 1128, 'num_reviews': 77, 'num_lectures': 36, 'duration': '2 hours'}\n",
      "{'course_title': 'PHP & MySQL - Learn The Easy Way. Master PHP & MySQL Quickly', 'url': 'https://www.udemy.com/learning-php-and-mysql-development-the-easy-way/', 'price': 50, 'num_subscribers': 5549, 'num_reviews': 92, 'num_lectures': 143, 'duration': '15.5 hours'}\n",
      "{'course_title': 'Complete Website & CMS in PHP & MySQL From Scratch!', 'url': 'https://www.udemy.com/cms-admin-panel-in-php-mysql/', 'price': 20, 'num_subscribers': 3357, 'num_reviews': 82, 'num_lectures': 48, 'duration': '12.5 hours'}\n",
      "{'course_title': 'Learn E-Commerce Website in PHP & MySQL From Scratch!', 'url': 'https://www.udemy.com/ecommerce-website-in-php-mysqli/', 'price': 0, 'num_subscribers': 29990, 'num_reviews': 1342, 'num_lectures': 87, 'duration': '17.5 hours'}\n",
      "{'course_title': 'JavaScript Complete Guide to learning JavaScript', 'url': 'https://www.udemy.com/javascript-complete-guide-to-learning-javascript/', 'price': 200, 'num_subscribers': 1296, 'num_reviews': 22, 'num_lectures': 72, 'duration': '5.5 hours'}\n"
     ]
    },
    {
     "output_type": "stream",
     "name": "stderr",
     "text": [
      "127.0.0.1 - - [14/Jul/2021 06:40:54] \"GET /get/rcmd/java HTTP/1.1\" 200 -\n"
     ]
    },
    {
     "output_type": "stream",
     "name": "stdout",
     "text": [
      "Learning Dynamic Website Design - PHP MySQL and JavaScript\n",
      "2484\n",
      "{'course_title': 'Learning Dynamic Website Design - PHP MySQL and JavaScript', 'url': 'https://www.udemy.com/learning-dynamic-website-design/', 'price': 50, 'num_subscribers': 47886, 'num_reviews': 285, 'num_lectures': 125, 'duration': '12.5 hours'}\n",
      "{'course_title': 'Projects in PHP and MySQL', 'url': 'https://www.udemy.com/the-complete-web-development-course-learn-by-building-apps/', 'price': 60, 'num_subscribers': 10606, 'num_reviews': 570, 'num_lectures': 88, 'duration': '23 hours'}\n",
      "{'course_title': 'Practical Understanding of PHP and MySQL', 'url': 'https://www.udemy.com/practical-understanding-of-php-and-myqsl-demo/', 'price': 0, 'num_subscribers': 12201, 'num_reviews': 217, 'num_lectures': 24, 'duration': '5.5 hours'}\n",
      "{'course_title': 'PHP MySQL: Learn PHP MySQL with Project', 'url': 'https://www.udemy.com/php-mysql-project-learning/', 'price': 20, 'num_subscribers': 2314, 'num_reviews': 77, 'num_lectures': 25, 'duration': '2 hours'}\n",
      "{'course_title': 'PHP: Complete Login and Registration System with PHP & MYSQL', 'url': 'https://www.udemy.com/user-authentication-code-a-simple-login-system-with-php/', 'price': 200, 'num_subscribers': 1448, 'num_reviews': 173, 'num_lectures': 48, 'duration': '7.5 hours'}\n",
      "{'course_title': 'Complete Login and Registration System in PHP and MYSQL', 'url': 'https://www.udemy.com/login-and-registration-system-in-php-and-mysql-step-by-step/', 'price': 200, 'num_subscribers': 4714, 'num_reviews': 149, 'num_lectures': 28, 'duration': '4 hours'}\n",
      "{'course_title': 'Login and Registration from Scratch with PHP and MySQL', 'url': 'https://www.udemy.com/authentication-from-scratch-with-php-and-mysql/', 'price': 20, 'num_subscribers': 1128, 'num_reviews': 77, 'num_lectures': 36, 'duration': '2 hours'}\n",
      "{'course_title': 'PHP & MySQL - Learn The Easy Way. Master PHP & MySQL Quickly', 'url': 'https://www.udemy.com/learning-php-and-mysql-development-the-easy-way/', 'price': 50, 'num_subscribers': 5549, 'num_reviews': 92, 'num_lectures': 143, 'duration': '15.5 hours'}\n",
      "{'course_title': 'Complete Website & CMS in PHP & MySQL From Scratch!', 'url': 'https://www.udemy.com/cms-admin-panel-in-php-mysql/', 'price': 20, 'num_subscribers': 3357, 'num_reviews': 82, 'num_lectures': 48, 'duration': '12.5 hours'}\n",
      "{'course_title': 'Learn E-Commerce Website in PHP & MySQL From Scratch!', 'url': 'https://www.udemy.com/ecommerce-website-in-php-mysqli/', 'price': 0, 'num_subscribers': 29990, 'num_reviews': 1342, 'num_lectures': 87, 'duration': '17.5 hours'}\n",
      "{'course_title': 'JavaScript Complete Guide to learning JavaScript', 'url': 'https://www.udemy.com/javascript-complete-guide-to-learning-javascript/', 'price': 200, 'num_subscribers': 1296, 'num_reviews': 22, 'num_lectures': 72, 'duration': '5.5 hours'}\n"
     ]
    },
    {
     "output_type": "stream",
     "name": "stderr",
     "text": [
      "127.0.0.1 - - [14/Jul/2021 06:41:02] \"GET /get/rcmd/java HTTP/1.1\" 200 -\n"
     ]
    },
    {
     "output_type": "stream",
     "name": "stdout",
     "text": [
      "Learning Dynamic Website Design - PHP MySQL and JavaScript\n",
      "2484\n",
      "{'course_title': 'Learning Dynamic Website Design - PHP MySQL and JavaScript', 'url': 'https://www.udemy.com/learning-dynamic-website-design/', 'price': 50, 'num_subscribers': 47886, 'num_reviews': 285, 'num_lectures': 125, 'duration': '12.5 hours'}\n",
      "{'course_title': 'Projects in PHP and MySQL', 'url': 'https://www.udemy.com/the-complete-web-development-course-learn-by-building-apps/', 'price': 60, 'num_subscribers': 10606, 'num_reviews': 570, 'num_lectures': 88, 'duration': '23 hours'}\n",
      "{'course_title': 'Practical Understanding of PHP and MySQL', 'url': 'https://www.udemy.com/practical-understanding-of-php-and-myqsl-demo/', 'price': 0, 'num_subscribers': 12201, 'num_reviews': 217, 'num_lectures': 24, 'duration': '5.5 hours'}\n",
      "{'course_title': 'PHP MySQL: Learn PHP MySQL with Project', 'url': 'https://www.udemy.com/php-mysql-project-learning/', 'price': 20, 'num_subscribers': 2314, 'num_reviews': 77, 'num_lectures': 25, 'duration': '2 hours'}\n",
      "{'course_title': 'PHP: Complete Login and Registration System with PHP & MYSQL', 'url': 'https://www.udemy.com/user-authentication-code-a-simple-login-system-with-php/', 'price': 200, 'num_subscribers': 1448, 'num_reviews': 173, 'num_lectures': 48, 'duration': '7.5 hours'}\n",
      "{'course_title': 'Complete Login and Registration System in PHP and MYSQL', 'url': 'https://www.udemy.com/login-and-registration-system-in-php-and-mysql-step-by-step/', 'price': 200, 'num_subscribers': 4714, 'num_reviews': 149, 'num_lectures': 28, 'duration': '4 hours'}\n",
      "{'course_title': 'Login and Registration from Scratch with PHP and MySQL', 'url': 'https://www.udemy.com/authentication-from-scratch-with-php-and-mysql/', 'price': 20, 'num_subscribers': 1128, 'num_reviews': 77, 'num_lectures': 36, 'duration': '2 hours'}\n",
      "{'course_title': 'PHP & MySQL - Learn The Easy Way. Master PHP & MySQL Quickly', 'url': 'https://www.udemy.com/learning-php-and-mysql-development-the-easy-way/', 'price': 50, 'num_subscribers': 5549, 'num_reviews': 92, 'num_lectures': 143, 'duration': '15.5 hours'}\n",
      "{'course_title': 'Complete Website & CMS in PHP & MySQL From Scratch!', 'url': 'https://www.udemy.com/cms-admin-panel-in-php-mysql/', 'price': 20, 'num_subscribers': 3357, 'num_reviews': 82, 'num_lectures': 48, 'duration': '12.5 hours'}\n",
      "{'course_title': 'Learn E-Commerce Website in PHP & MySQL From Scratch!', 'url': 'https://www.udemy.com/ecommerce-website-in-php-mysqli/', 'price': 0, 'num_subscribers': 29990, 'num_reviews': 1342, 'num_lectures': 87, 'duration': '17.5 hours'}\n",
      "{'course_title': 'JavaScript Complete Guide to learning JavaScript', 'url': 'https://www.udemy.com/javascript-complete-guide-to-learning-javascript/', 'price': 200, 'num_subscribers': 1296, 'num_reviews': 22, 'num_lectures': 72, 'duration': '5.5 hours'}\n"
     ]
    },
    {
     "output_type": "stream",
     "name": "stderr",
     "text": [
      "127.0.0.1 - - [14/Jul/2021 06:41:45] \"GET /get/rcmd/java HTTP/1.1\" 200 -\n"
     ]
    },
    {
     "output_type": "stream",
     "name": "stdout",
     "text": [
      "Learning Dynamic Website Design - PHP MySQL and JavaScript\n",
      "2484\n",
      "{'course_title': 'Learning Dynamic Website Design - PHP MySQL and JavaScript', 'url': 'https://www.udemy.com/learning-dynamic-website-design/', 'price': 50, 'num_subscribers': 47886, 'num_reviews': 285, 'num_lectures': 125, 'duration': '12.5 hours'}\n",
      "{'course_title': 'Projects in PHP and MySQL', 'url': 'https://www.udemy.com/the-complete-web-development-course-learn-by-building-apps/', 'price': 60, 'num_subscribers': 10606, 'num_reviews': 570, 'num_lectures': 88, 'duration': '23 hours'}\n",
      "{'course_title': 'Practical Understanding of PHP and MySQL', 'url': 'https://www.udemy.com/practical-understanding-of-php-and-myqsl-demo/', 'price': 0, 'num_subscribers': 12201, 'num_reviews': 217, 'num_lectures': 24, 'duration': '5.5 hours'}\n",
      "{'course_title': 'PHP MySQL: Learn PHP MySQL with Project', 'url': 'https://www.udemy.com/php-mysql-project-learning/', 'price': 20, 'num_subscribers': 2314, 'num_reviews': 77, 'num_lectures': 25, 'duration': '2 hours'}\n",
      "{'course_title': 'PHP: Complete Login and Registration System with PHP & MYSQL', 'url': 'https://www.udemy.com/user-authentication-code-a-simple-login-system-with-php/', 'price': 200, 'num_subscribers': 1448, 'num_reviews': 173, 'num_lectures': 48, 'duration': '7.5 hours'}\n",
      "{'course_title': 'Complete Login and Registration System in PHP and MYSQL', 'url': 'https://www.udemy.com/login-and-registration-system-in-php-and-mysql-step-by-step/', 'price': 200, 'num_subscribers': 4714, 'num_reviews': 149, 'num_lectures': 28, 'duration': '4 hours'}\n",
      "{'course_title': 'Login and Registration from Scratch with PHP and MySQL', 'url': 'https://www.udemy.com/authentication-from-scratch-with-php-and-mysql/', 'price': 20, 'num_subscribers': 1128, 'num_reviews': 77, 'num_lectures': 36, 'duration': '2 hours'}\n",
      "{'course_title': 'PHP & MySQL - Learn The Easy Way. Master PHP & MySQL Quickly', 'url': 'https://www.udemy.com/learning-php-and-mysql-development-the-easy-way/', 'price': 50, 'num_subscribers': 5549, 'num_reviews': 92, 'num_lectures': 143, 'duration': '15.5 hours'}\n",
      "{'course_title': 'Complete Website & CMS in PHP & MySQL From Scratch!', 'url': 'https://www.udemy.com/cms-admin-panel-in-php-mysql/', 'price': 20, 'num_subscribers': 3357, 'num_reviews': 82, 'num_lectures': 48, 'duration': '12.5 hours'}\n",
      "{'course_title': 'Learn E-Commerce Website in PHP & MySQL From Scratch!', 'url': 'https://www.udemy.com/ecommerce-website-in-php-mysqli/', 'price': 0, 'num_subscribers': 29990, 'num_reviews': 1342, 'num_lectures': 87, 'duration': '17.5 hours'}\n",
      "{'course_title': 'JavaScript Complete Guide to learning JavaScript', 'url': 'https://www.udemy.com/javascript-complete-guide-to-learning-javascript/', 'price': 200, 'num_subscribers': 1296, 'num_reviews': 22, 'num_lectures': 72, 'duration': '5.5 hours'}\n"
     ]
    },
    {
     "output_type": "stream",
     "name": "stderr",
     "text": [
      "127.0.0.1 - - [14/Jul/2021 07:05:19] \"GET /get/rcmd/ HTTP/1.1\" 404 -\n"
     ]
    },
    {
     "output_type": "stream",
     "name": "stdout",
     "text": [
      "Learning Dynamic Website Design - PHP MySQL and JavaScript\n",
      "2484\n",
      "{'course_title': 'Learning Dynamic Website Design - PHP MySQL and JavaScript', 'url': 'https://www.udemy.com/learning-dynamic-website-design/', 'price': 50, 'num_subscribers': 47886, 'num_reviews': 285, 'num_lectures': 125, 'duration': '12.5 hours'}\n",
      "{'course_title': 'Projects in PHP and MySQL', 'url': 'https://www.udemy.com/the-complete-web-development-course-learn-by-building-apps/', 'price': 60, 'num_subscribers': 10606, 'num_reviews': 570, 'num_lectures': 88, 'duration': '23 hours'}\n",
      "{'course_title': 'Practical Understanding of PHP and MySQL', 'url': 'https://www.udemy.com/practical-understanding-of-php-and-myqsl-demo/', 'price': 0, 'num_subscribers': 12201, 'num_reviews': 217, 'num_lectures': 24, 'duration': '5.5 hours'}\n",
      "{'course_title': 'PHP MySQL: Learn PHP MySQL with Project', 'url': 'https://www.udemy.com/php-mysql-project-learning/', 'price': 20, 'num_subscribers': 2314, 'num_reviews': 77, 'num_lectures': 25, 'duration': '2 hours'}\n",
      "{'course_title': 'PHP: Complete Login and Registration System with PHP & MYSQL', 'url': 'https://www.udemy.com/user-authentication-code-a-simple-login-system-with-php/', 'price': 200, 'num_subscribers': 1448, 'num_reviews': 173, 'num_lectures': 48, 'duration': '7.5 hours'}\n",
      "{'course_title': 'Complete Login and Registration System in PHP and MYSQL', 'url': 'https://www.udemy.com/login-and-registration-system-in-php-and-mysql-step-by-step/', 'price': 200, 'num_subscribers': 4714, 'num_reviews': 149, 'num_lectures': 28, 'duration': '4 hours'}\n",
      "{'course_title': 'Login and Registration from Scratch with PHP and MySQL', 'url': 'https://www.udemy.com/authentication-from-scratch-with-php-and-mysql/', 'price': 20, 'num_subscribers': 1128, 'num_reviews': 77, 'num_lectures': 36, 'duration': '2 hours'}"
     ]
    },
    {
     "output_type": "stream",
     "name": "stderr",
     "text": [
      "127.0.0.1 - - [14/Jul/2021 07:05:31] \"GET /get/rcmd/java HTTP/1.1\" 200 -\n"
     ]
    },
    {
     "output_type": "stream",
     "name": "stdout",
     "text": [
      "\n",
      "{'course_title': 'PHP & MySQL - Learn The Easy Way. Master PHP & MySQL Quickly', 'url': 'https://www.udemy.com/learning-php-and-mysql-development-the-easy-way/', 'price': 50, 'num_subscribers': 5549, 'num_reviews': 92, 'num_lectures': 143, 'duration': '15.5 hours'}\n",
      "{'course_title': 'Complete Website & CMS in PHP & MySQL From Scratch!', 'url': 'https://www.udemy.com/cms-admin-panel-in-php-mysql/', 'price': 20, 'num_subscribers': 3357, 'num_reviews': 82, 'num_lectures': 48, 'duration': '12.5 hours'}\n",
      "{'course_title': 'Learn E-Commerce Website in PHP & MySQL From Scratch!', 'url': 'https://www.udemy.com/ecommerce-website-in-php-mysqli/', 'price': 0, 'num_subscribers': 29990, 'num_reviews': 1342, 'num_lectures': 87, 'duration': '17.5 hours'}\n",
      "{'course_title': 'JavaScript Complete Guide to learning JavaScript', 'url': 'https://www.udemy.com/javascript-complete-guide-to-learning-javascript/', 'price': 200, 'num_subscribers': 1296, 'num_reviews': 22, 'num_lectures': 72, 'duration': '5.5 hours'}\n"
     ]
    },
    {
     "output_type": "stream",
     "name": "stderr",
     "text": [
      "127.0.0.1 - - [14/Jul/2021 07:07:53] \"GET /get/rcmd/ HTTP/1.1\" 404 -\n"
     ]
    },
    {
     "output_type": "stream",
     "name": "stdout",
     "text": [
      "Python Algo Trading: Sentiment Trading with News\n",
      "14\n",
      "{'course_title': 'Python Algo Trading: Sentiment Trading with News', 'url': 'https://www.udemy.com/hedge-fund-strategy-trading-with-sentiment-analysis/', 'price': 200, 'num_subscribers': 294, 'num_reviews': 19, 'num_lectures': 42, 'duration': '7 hours'}\n",
      "{'course_title': 'Python Algo Trading: FX Trading with Oanda', 'url': 'https://www.udemy.com/python-algo-trading-fx-trading-with-oanda/', 'price': 200, 'num_subscribers': 453, 'num_reviews': 42, 'num_lectures': 33, 'duration': '3 hours'}\n",
      "{'course_title': 'Python Algo Stock Trading: Automate Your Trading!', 'url': 'https://www.udemy.com/algorithmic-stock-trading-bootcamp-automate-your-trading/', 'price': 95, 'num_subscribers': 1165, 'num_reviews': 21, 'num_lectures': 41, 'duration': '2.5 hours'}\n",
      "{'course_title': 'Quantitative Trading Analysis with Python', 'url': 'https://www.udemy.com/quantitative-trading-analysis-with-python/', 'price': 50, 'num_subscribers': 256, 'num_reviews': 17, 'num_lectures': 49, 'duration': '5.5 hours'}\n",
      "{'course_title': 'Black Algo Trading: Build Your Trading Robot', 'url': 'https://www.udemy.com/build-your-trading-robot/', 'price': 200, 'num_subscribers': 20195, 'num_reviews': 1113, 'num_lectures': 227, 'duration': '16 hours'}\n",
      "{'course_title': 'Trading: High-ROI Trading', 'url': 'https://www.udemy.com/the-high-roi-trading-video-course/', 'price': 190, 'num_subscribers': 126, 'num_reviews': 20, 'num_lectures': 47, 'duration': '12.5 hours'}\n",
      "{'course_title': 'Forex Trading with Fixed \\'Risk through Options Trading\"', 'url': 'https://www.udemy.com/forexoptions/', 'price': 200, 'num_subscribers': 611, 'num_reviews': 4, 'num_lectures': 26, 'duration': '1 hour'}\n"
     ]
    },
    {
     "output_type": "stream",
     "name": "stderr",
     "text": [
      "127.0.0.1 - - [14/Jul/2021 07:07:59] \"GET /get/rcmd/python HTTP/1.1\" 200 -\n"
     ]
    },
    {
     "output_type": "stream",
     "name": "stdout",
     "text": [
      "{'course_title': 'TRADING PSYCHOLOGY: Trading Mindset Mastery', 'url': 'https://www.udemy.com/trading-psychology-trading-mindset-mastery/', 'price': 120, 'num_subscribers': 975, 'num_reviews': 23, 'num_lectures': 23, 'duration': '1 hour'}\n",
      "{'course_title': 'Forex Trading vs Option Trading', 'url': 'https://www.udemy.com/trading-excellence/', 'price': 95, 'num_subscribers': 1776, 'num_reviews': 14, 'num_lectures': 29, 'duration': '2.5 hours'}\n",
      "{'course_title': 'Volatility Trading Analysis with R', 'url': 'https://www.udemy.com/volatility-trading-analysis-with-r/', 'price': 50, 'num_subscribers': 190, 'num_reviews': 13, 'num_lectures': 45, 'duration': '6 hours'}\n",
      "{'course_title': 'Forex: Economic News Trading', 'url': 'https://www.udemy.com/forex-economic-news-trading/', 'price': 25, 'num_subscribers': 42, 'num_reviews': 14, 'num_lectures': 11, 'duration': '41 mins'}\n"
     ]
    },
    {
     "output_type": "stream",
     "name": "stderr",
     "text": [
      "127.0.0.1 - - [14/Jul/2021 07:08:17] \"GET /get/rcmd/ HTTP/1.1\" 404 -\n",
      "127.0.0.1 - - [14/Jul/2021 07:08:42] \"GET /get/rcmd/ HTTP/1.1\" 404 -\n",
      "127.0.0.1 - - [14/Jul/2021 07:09:40] \"GET /get/rcmd/ HTTP/1.1\" 404 -\n",
      "127.0.0.1 - - [14/Jul/2021 07:10:26] \"GET /get/rcmd/ HTTP/1.1\" 404 -\n",
      "127.0.0.1 - - [14/Jul/2021 07:11:23] \"GET /get/rcmd/ HTTP/1.1\" 404 -\n",
      "127.0.0.1 - - [14/Jul/2021 07:13:03] \"GET /get/rcmd/ HTTP/1.1\" 404 -\n",
      "127.0.0.1 - - [14/Jul/2021 07:14:12] \"GET /get/rcmd/ HTTP/1.1\" 404 -\n",
      "127.0.0.1 - - [14/Jul/2021 07:14:38] \"GET /get/rcmd/ HTTP/1.1\" 404 -\n"
     ]
    },
    {
     "output_type": "stream",
     "name": "stdout",
     "text": [
      "Python Algo Trading: Sentiment Trading with News\n",
      "14\n",
      "{'course_title': 'Python Algo Trading: Sentiment Trading with News', 'url': 'https://www.udemy.com/hedge-fund-strategy-trading-with-sentiment-analysis/', 'price': 200, 'num_subscribers': 294, 'num_reviews': 19, 'num_lectures': 42, 'duration': '7 hours'}\n",
      "{'course_title': 'Python Algo Trading: FX Trading with Oanda', 'url': 'https://www.udemy.com/python-algo-trading-fx-trading-with-oanda/', 'price': 200, 'num_subscribers': 453, 'num_reviews': 42, 'num_lectures': 33, 'duration': '3 hours'}\n",
      "{'course_title': 'Python Algo Stock Trading: Automate Your Trading!', 'url': 'https://www.udemy.com/algorithmic-stock-trading-bootcamp-automate-your-trading/', 'price': 95, 'num_subscribers': 1165, 'num_reviews': 21, 'num_lectures': 41, 'duration': '2.5 hours'}\n",
      "{'course_title': 'Quantitative Trading Analysis with Python', 'url': 'https://www.udemy.com/quantitative-trading-analysis-with-python/', 'price': 50, 'num_subscribers': 256, 'num_reviews': 17, 'num_lectures': 49, 'duration': '5.5 hours'}\n",
      "{'course_title': 'Black Algo Trading: Build Your Trading Robot', 'url': 'https://www.udemy.com/build-your-trading-robot/', 'price': 200, 'num_subscribers': 20195, 'num_reviews': 1113, 'num_lectures': 227, 'duration': '16 hours'}\n",
      "{'course_title': 'Trading: High-ROI Trading', 'url': 'https://www.udemy.com/the-high-roi-trading-video-course/', 'price': 190, 'num_subscribers': 126, 'num_reviews': 20, 'num_lectures': 47, 'duration': '12.5 hours'}"
     ]
    },
    {
     "output_type": "stream",
     "name": "stderr",
     "text": [
      "127.0.0.1 - - [14/Jul/2021 07:14:44] \"GET /get/rcmd/python HTTP/1.1\" 200 -\n"
     ]
    },
    {
     "output_type": "stream",
     "name": "stdout",
     "text": [
      "\n",
      "{'course_title': 'Forex Trading with Fixed \\'Risk through Options Trading\"', 'url': 'https://www.udemy.com/forexoptions/', 'price': 200, 'num_subscribers': 611, 'num_reviews': 4, 'num_lectures': 26, 'duration': '1 hour'}\n",
      "{'course_title': 'TRADING PSYCHOLOGY: Trading Mindset Mastery', 'url': 'https://www.udemy.com/trading-psychology-trading-mindset-mastery/', 'price': 120, 'num_subscribers': 975, 'num_reviews': 23, 'num_lectures': 23, 'duration': '1 hour'}\n",
      "{'course_title': 'Forex Trading vs Option Trading', 'url': 'https://www.udemy.com/trading-excellence/', 'price': 95, 'num_subscribers': 1776, 'num_reviews': 14, 'num_lectures': 29, 'duration': '2.5 hours'}\n",
      "{'course_title': 'Volatility Trading Analysis with R', 'url': 'https://www.udemy.com/volatility-trading-analysis-with-r/', 'price': 50, 'num_subscribers': 190, 'num_reviews': 13, 'num_lectures': 45, 'duration': '6 hours'}\n",
      "{'course_title': 'Forex: Economic News Trading', 'url': 'https://www.udemy.com/forex-economic-news-trading/', 'price': 25, 'num_subscribers': 42, 'num_reviews': 14, 'num_lectures': 11, 'duration': '41 mins'}\n",
      "Forex Trading Secrets of the Pros With Amazon's AWS\n",
      "10\n",
      "{'course_title': \"Forex Trading Secrets of the Pros With Amazon's AWS\", 'url': 'https://www.udemy.com/trading-with-amazons-aws-servers-trade-secrets-of-the-pros/', 'price': 200, 'num_subscribers': 4284, 'num_reviews': 93, 'num_lectures': 76, 'duration': '5 hours'}\n",
      "{'course_title': 'Forex Trading A-Z™ - With LIVE Examples of Forex Trading', 'url': 'https://www.udemy.com/forex-trading/', 'price': 195, 'num_subscribers': 16900, 'num_reviews': 2476, 'num_lectures': 52, 'duration': '5.5 hours'}\n",
      "{'course_title': 'Forex Trading: The High ROI Forex Trading End of Day Course', 'url': 'https://www.udemy.com/the-high-roi-forex-trading-end-of-day-course/', 'price': 125, 'num_subscribers': 8, 'num_reviews': 1, 'num_lectures': 19, 'duration': '2.5 hours'}\n",
      "{'course_title': 'Fundamentals of Forex Trading', 'url': 'https://www.udemy.com/fundamentals-of-forex-trading/', 'price': 0, 'num_subscribers': 17160, 'num_reviews': 620, 'num_lectures': 23, 'duration': '1 hour'}\n",
      "{'course_title': 'The Psychology of Trading', 'url': 'https://www.udemy.com/the-psychology-of-trading/', 'price': 20, 'num_subscribers': 95, 'num_reviews': 3, 'num_lectures': 20, 'duration': '1 hour'}\n",
      "{'course_title': 'Winning Forex Trading with Live Forex Trading Examples', 'url': 'https://www.udemy.com/forexmacross/', 'price': 200, 'num_subscribers': 809, 'num_reviews': 3, 'num_lectures': 25, 'duration': '2 hours'}\n",
      "{'course_title': 'Forex Trading', 'url': 'https://www.udemy.com/how-to-trade-forex/', 'price': 95, 'num_subscribers': 136, 'num_reviews': 14, 'num_lectures': 25, 'duration': '4.5 hours'}\n",
      "{'course_title': 'Master The Psychology of Forex & Binary Options Trading', 'url': 'https://www.udemy.com/master-the-psychology-of-forex-binary-options-trading/', 'price': 20, 'num_subscribers': 53, 'num_reviews': 16, 'num_lectures': 7, 'duration': '1 hour'}\n",
      "{'course_title': 'FOREX Trading with Price Action', 'url': 'https://www.udemy.com/forex-trading-system/', 'price': 195, 'num_subscribers': 484, 'num_reviews': 57, 'num_lectures': 19, 'duration': '1 hour'}\n",
      "{'course_title': 'Forex trading with binary options', 'url': 'https://www.udemy.com/forex-trading-with-binary-options/', 'price': 25, 'num_subscribers': 136, 'num_reviews': 28, 'num_lectures': 21, 'duration': '3 hours'}"
     ]
    },
    {
     "output_type": "stream",
     "name": "stderr",
     "text": [
      "127.0.0.1 - - [14/Jul/2021 07:15:38] \"GET /get/rcmd/aws HTTP/1.1\" 200 -\n"
     ]
    },
    {
     "output_type": "stream",
     "name": "stdout",
     "text": [
      "\n",
      "{'course_title': 'Forex Trading with Fixed \\'Risk through Options Trading\"', 'url': 'https://www.udemy.com/forexoptions/', 'price': 200, 'num_subscribers': 611, 'num_reviews': 4, 'num_lectures': 26, 'duration': '1 hour'}\n",
      "Learn Azure Cloud Step by Step\n",
      "3608\n",
      "{'course_title': 'Learn Azure Cloud Step by Step', 'url': 'https://www.udemy.com/marutiazure/', 'price': 20, 'num_subscribers': 791, 'num_reviews': 29, 'num_lectures': 24, 'duration': '2.5 hours'}\n",
      "{'course_title': 'Learn AngularJS Step By Step', 'url': 'https://www.udemy.com/maruti-angularjs/', 'price': 20, 'num_subscribers': 18777, 'num_reviews': 1112, 'num_lectures': 21, 'duration': '1.5 hours'}\n",
      "{'course_title': 'Learn ASP NET MVC 5 step by step', 'url': 'https://www.udemy.com/maruti-mvc5/', 'price': 20, 'num_subscribers': 1428, 'num_reviews': 91, 'num_lectures': 32, 'duration': '3 hours'}\n",
      "{'course_title': 'Flask Tutorial Step by Step', 'url': 'https://www.udemy.com/python-flask-tutorial-step-by-step/', 'price': 0, 'num_subscribers': 4645, 'num_reviews': 171, 'num_lectures': 19, 'duration': '2 hours'}\n",
      "{'course_title': 'Learn Basic Concepts of Economics Step by Step - Complete', 'url': 'https://www.udemy.com/introduction-to-economics-for-beginners/', 'price': 150, 'num_subscribers': 2801, 'num_reviews': 6, 'num_lectures': 25, 'duration': '1.5 hours'}\n",
      "{'course_title': 'WordPress Academy: Learn WordPress step by step', 'url': 'https://www.udemy.com/wordpress-academy-course/', 'price': 150, 'num_subscribers': 1873, 'num_reviews': 360, 'num_lectures': 79, 'duration': '7.5 hours'}\n",
      "{'course_title': 'Learn Laravel: Create Your Web App Step-By-Step', 'url': 'https://www.udemy.com/laravel-5-course-learn-php-laravel/', 'price': 45, 'num_subscribers': 604, 'num_reviews': 47, 'num_lectures': 35, 'duration': '4 hours'}"
     ]
    },
    {
     "output_type": "stream",
     "name": "stderr",
     "text": [
      "127.0.0.1 - - [14/Jul/2021 07:15:46] \"GET /get/rcmd/azure HTTP/1.1\" 200 -\n"
     ]
    },
    {
     "output_type": "stream",
     "name": "stdout",
     "text": [
      "\n",
      "{'course_title': 'Step by Step Classical Guitar Course', 'url': 'https://www.udemy.com/step-by-step-classical-guitar-course/', 'price': 100, 'num_subscribers': 9, 'num_reviews': 1, 'num_lectures': 45, 'duration': '4.5 hours'}\n",
      "{'course_title': 'Learn basics of South Indian Carnatic Flute Step by Step ', 'url': 'https://www.udemy.com/carnatic-flute/', 'price': 150, 'num_subscribers': 380, 'num_reviews': 113, 'num_lectures': 49, 'duration': '4 hours'}\n",
      "{'course_title': 'Financial Modelling in Excel Step by Step', 'url': 'https://www.udemy.com/financial-modelling-course-using-excel/', 'price': 20, 'num_subscribers': 13, 'num_reviews': 2, 'num_lectures': 17, 'duration': '1.5 hours'}\n",
      "{'course_title': 'Step by Step Gif animation in Photoshop', 'url': 'https://www.udemy.com/step-by-step-gif-animation-in-photoshop/', 'price': 20, 'num_subscribers': 518, 'num_reviews': 2, 'num_lectures': 17, 'duration': '1 hour'}\n",
      "Python Algo Trading: Sentiment Trading with News\n",
      "14\n",
      "{'course_title': 'Python Algo Trading: Sentiment Trading with News', 'url': 'https://www.udemy.com/hedge-fund-strategy-trading-with-sentiment-analysis/', 'price': 200, 'num_subscribers': 294, 'num_reviews': 19, 'num_lectures': 42, 'duration': '7 hours'}\n",
      "{'course_title': 'Python Algo Trading: FX Trading with Oanda', 'url': 'https://www.udemy.com/python-algo-trading-fx-trading-with-oanda/', 'price': 200, 'num_subscribers': 453, 'num_reviews': 42, 'num_lectures': 33, 'duration': '3 hours'}\n",
      "{'course_title': 'Python Algo Stock Trading: Automate Your Trading!', 'url': 'https://www.udemy.com/algorithmic-stock-trading-bootcamp-automate-your-trading/', 'price': 95, 'num_subscribers': 1165, 'num_reviews': 21, 'num_lectures': 41, 'duration': '2.5 hours'}\n",
      "{'course_title': 'Quantitative Trading Analysis with Python', 'url': 'https://www.udemy.com/quantitative-trading-analysis-with-python/', 'price': 50, 'num_subscribers': 256, 'num_reviews': 17, 'num_lectures': 49, 'duration': '5.5 hours'}\n",
      "{'course_title': 'Black Algo Trading: Build Your Trading Robot', 'url': 'https://www.udemy.com/build-your-trading-robot/', 'price': 200, 'num_subscribers': 20195, 'num_reviews': 1113, 'num_lectures': 227, 'duration': '16 hours'}\n",
      "{'course_title': 'Trading: High-ROI Trading', 'url': 'https://www.udemy.com/the-high-roi-trading-video-course/', 'price': 190, 'num_subscribers': 126, 'num_reviews': 20, 'num_lectures': 47, 'duration': '12.5 hours'}\n",
      "{'course_title': 'Forex Trading with Fixed \\'Risk through Options Trading\"', 'url': 'https://www.udemy.com/forexoptions/', 'price': 200, 'num_subscribers': 611, 'num_reviews': 4, 'num_lectures': 26, 'duration': '1 hour'}\n",
      "{'course_title': 'TRADING PSYCHOLOGY: Trading Mindset Mastery', 'url': 'https://www.udemy.com/trading-psychology-trading-mindset-mastery/', 'price': 120, 'num_subscribers': 975, 'num_reviews': 23, 'num_lectures': 23, 'duration': '1 hour'}"
     ]
    },
    {
     "output_type": "stream",
     "name": "stderr",
     "text": [
      "127.0.0.1 - - [14/Jul/2021 07:15:56] \"GET /get/rcmd/python HTTP/1.1\" 200 -\n"
     ]
    },
    {
     "output_type": "stream",
     "name": "stdout",
     "text": [
      "\n",
      "{'course_title': 'Forex Trading vs Option Trading', 'url': 'https://www.udemy.com/trading-excellence/', 'price': 95, 'num_subscribers': 1776, 'num_reviews': 14, 'num_lectures': 29, 'duration': '2.5 hours'}\n",
      "{'course_title': 'Volatility Trading Analysis with R', 'url': 'https://www.udemy.com/volatility-trading-analysis-with-r/', 'price': 50, 'num_subscribers': 190, 'num_reviews': 13, 'num_lectures': 45, 'duration': '6 hours'}\n",
      "{'course_title': 'Forex: Economic News Trading', 'url': 'https://www.udemy.com/forex-economic-news-trading/', 'price': 25, 'num_subscribers': 42, 'num_reviews': 14, 'num_lectures': 11, 'duration': '41 mins'}\n",
      "Learning Dynamic Website Design - PHP MySQL and JavaScript\n",
      "2484\n",
      "{'course_title': 'Learning Dynamic Website Design - PHP MySQL and JavaScript', 'url': 'https://www.udemy.com/learning-dynamic-website-design/', 'price': 50, 'num_subscribers': 47886, 'num_reviews': 285, 'num_lectures': 125, 'duration': '12.5 hours'}\n",
      "{'course_title': 'Projects in PHP and MySQL', 'url': 'https://www.udemy.com/the-complete-web-development-course-learn-by-building-apps/', 'price': 60, 'num_subscribers': 10606, 'num_reviews': 570, 'num_lectures': 88, 'duration': '23 hours'}\n",
      "{'course_title': 'Practical Understanding of PHP and MySQL', 'url': 'https://www.udemy.com/practical-understanding-of-php-and-myqsl-demo/', 'price': 0, 'num_subscribers': 12201, 'num_reviews': 217, 'num_lectures': 24, 'duration': '5.5 hours'}\n",
      "{'course_title': 'PHP MySQL: Learn PHP MySQL with Project', 'url': 'https://www.udemy.com/php-mysql-project-learning/', 'price': 20, 'num_subscribers': 2314, 'num_reviews': 77, 'num_lectures': 25, 'duration': '2 hours'}\n",
      "{'course_title': 'PHP: Complete Login and Registration System with PHP & MYSQL', 'url': 'https://www.udemy.com/user-authentication-code-a-simple-login-system-with-php/', 'price': 200, 'num_subscribers': 1448, 'num_reviews': 173, 'num_lectures': 48, 'duration': '7.5 hours'}\n",
      "{'course_title': 'Complete Login and Registration System in PHP and MYSQL', 'url': 'https://www.udemy.com/login-and-registration-system-in-php-and-mysql-step-by-step/', 'price': 200, 'num_subscribers': 4714, 'num_reviews': 149, 'num_lectures': 28, 'duration': '4 hours'}\n",
      "{'course_title': 'Login and Registration from Scratch with PHP and MySQL', 'url': 'https://www.udemy.com/authentication-from-scratch-with-php-and-mysql/', 'price': 20, 'num_subscribers': 1128, 'num_reviews': 77, 'num_lectures': 36, 'duration': '2 hours'}\n",
      "{'course_title': 'PHP & MySQL - Learn The Easy Way. Master PHP & MySQL Quickly', 'url': 'https://www.udemy.com/learning-php-and-mysql-development-the-easy-way/', 'price': 50, 'num_subscribers': 5549, 'num_reviews': 92, 'num_lectures': 143, 'duration': '15.5 hours'}\n"
     ]
    },
    {
     "output_type": "stream",
     "name": "stderr",
     "text": [
      "127.0.0.1 - - [14/Jul/2021 07:16:01] \"GET /get/rcmd/java HTTP/1.1\" 200 -\n"
     ]
    },
    {
     "output_type": "stream",
     "name": "stdout",
     "text": [
      "{'course_title': 'Complete Website & CMS in PHP & MySQL From Scratch!', 'url': 'https://www.udemy.com/cms-admin-panel-in-php-mysql/', 'price': 20, 'num_subscribers': 3357, 'num_reviews': 82, 'num_lectures': 48, 'duration': '12.5 hours'}\n",
      "{'course_title': 'Learn E-Commerce Website in PHP & MySQL From Scratch!', 'url': 'https://www.udemy.com/ecommerce-website-in-php-mysqli/', 'price': 0, 'num_subscribers': 29990, 'num_reviews': 1342, 'num_lectures': 87, 'duration': '17.5 hours'}\n",
      "{'course_title': 'JavaScript Complete Guide to learning JavaScript', 'url': 'https://www.udemy.com/javascript-complete-guide-to-learning-javascript/', 'price': 200, 'num_subscribers': 1296, 'num_reviews': 22, 'num_lectures': 72, 'duration': '5.5 hours'}\n",
      "Ultimate Investment Banking Course\n",
      "0\n",
      "{'course_title': 'Ultimate Investment Banking Course', 'url': 'https://www.udemy.com/ultimate-investment-banking-course/', 'price': 200, 'num_subscribers': 2147, 'num_reviews': 23, 'num_lectures': 51, 'duration': '1.5 hours'}\n",
      "{'course_title': 'The Complete Investment Banking Course 2017', 'url': 'https://www.udemy.com/the-complete-investment-banking-course-2016/', 'price': 195, 'num_subscribers': 8575, 'num_reviews': 809, 'num_lectures': 110, 'duration': '5.5 hours'}\n",
      "{'course_title': 'Ultimate WordPress Plugin Course', 'url': 'https://www.udemy.com/wordpress-plugin-course/', 'price': 100, 'num_subscribers': 4537, 'num_reviews': 415, 'num_lectures': 49, 'duration': '9 hours'}\n",
      "{'course_title': 'The Ultimate jQuery Course', 'url': 'https://www.udemy.com/essential-jquery-training/', 'price': 20, 'num_subscribers': 1098, 'num_reviews': 15, 'num_lectures': 54, 'duration': '2.5 hours'}\n",
      "{'course_title': 'Advanced Accounting for Investment Banking', 'url': 'https://www.udemy.com/advanced-accounting-for-investment-banking/', 'price': 50, 'num_subscribers': 1260, 'num_reviews': 80, 'num_lectures': 38, 'duration': '4 hours'}\n",
      "{'course_title': 'The Investment Banking Recruitment Series', 'url': 'https://www.udemy.com/investmentbanking/', 'price': 40, 'num_subscribers': 17, 'num_reviews': 6, 'num_lectures': 26, 'duration': '3.5 hours'}\n",
      "{'course_title': 'The Ultimate Web Development Course', 'url': 'https://www.udemy.com/build-an-instant-update-database-interface-with-jquery-ajax/', 'price': 50, 'num_subscribers': 9881, 'num_reviews': 329, 'num_lectures': 136, 'duration': '12 hours'}"
     ]
    },
    {
     "output_type": "stream",
     "name": "stderr",
     "text": [
      "127.0.0.1 - - [14/Jul/2021 07:16:20] \"GET /get/rcmd/investment HTTP/1.1\" 200 -\n"
     ]
    },
    {
     "output_type": "stream",
     "name": "stdout",
     "text": [
      "\n",
      "{'course_title': 'Financial Accounting - The Ultimate Beginner Course', 'url': 'https://www.udemy.com/financial-accounting-the-ultimate-beginner-course/', 'price': 100, 'num_subscribers': 9, 'num_reviews': 2, 'num_lectures': 101, 'duration': '10 hours'}\n",
      "{'course_title': 'Managerial Accounting - The Ultimate Beginner Course!', 'url': 'https://www.udemy.com/managerial-accounting-the-ultimate-beginner-course/', 'price': 100, 'num_subscribers': 11, 'num_reviews': 0, 'num_lectures': 121, 'duration': '11 hours'}\n",
      "{'course_title': 'The Ultimate Vue JS 2 Developers Course', 'url': 'https://www.udemy.com/vuejs-2-essentials/', 'price': 195, 'num_subscribers': 1703, 'num_reviews': 292, 'num_lectures': 178, 'duration': '13 hours'}\n",
      "{'course_title': 'PHP with PDO - ULTIMATE Crash Course', 'url': 'https://www.udemy.com/php-with-pdo-ultimate-crash-course/', 'price': 50, 'num_subscribers': 1248, 'num_reviews': 171, 'num_lectures': 18, 'duration': '1.5 hours'}\n",
      "Learning Dynamic Website Design - PHP MySQL and JavaScript\n",
      "2484\n",
      "{'course_title': 'Learning Dynamic Website Design - PHP MySQL and JavaScript', 'url': 'https://www.udemy.com/learning-dynamic-website-design/', 'price': 50, 'num_subscribers': 47886, 'num_reviews': 285, 'num_lectures': 125, 'duration': '12.5 hours'}\n",
      "{'course_title': 'Projects in PHP and MySQL', 'url': 'https://www.udemy.com/the-complete-web-development-course-learn-by-building-apps/', 'price': 60, 'num_subscribers': 10606, 'num_reviews': 570, 'num_lectures': 88, 'duration': '23 hours'}\n",
      "{'course_title': 'Practical Understanding of PHP and MySQL', 'url': 'https://www.udemy.com/practical-understanding-of-php-and-myqsl-demo/', 'price': 0, 'num_subscribers': 12201, 'num_reviews': 217, 'num_lectures': 24, 'duration': '5.5 hours'}\n",
      "{'course_title': 'PHP MySQL: Learn PHP MySQL with Project', 'url': 'https://www.udemy.com/php-mysql-project-learning/', 'price': 20, 'num_subscribers': 2314, 'num_reviews': 77, 'num_lectures': 25, 'duration': '2 hours'}\n",
      "{'course_title': 'PHP: Complete Login and Registration System with PHP & MYSQL', 'url': 'https://www.udemy.com/user-authentication-code-a-simple-login-system-with-php/', 'price': 200, 'num_subscribers': 1448, 'num_reviews': 173, 'num_lectures': 48, 'duration': '7.5 hours'}\n",
      "{'course_title': 'Complete Login and Registration System in PHP and MYSQL', 'url': 'https://www.udemy.com/login-and-registration-system-in-php-and-mysql-step-by-step/', 'price': 200, 'num_subscribers': 4714, 'num_reviews': 149, 'num_lectures': 28, 'duration': '4 hours'}\n",
      "{'course_title': 'Login and Registration from Scratch with PHP and MySQL', 'url': 'https://www.udemy.com/authentication-from-scratch-with-php-and-mysql/', 'price': 20, 'num_subscribers': 1128, 'num_reviews': 77, 'num_lectures': 36, 'duration': '2 hours'}\n",
      "{'course_title': 'PHP & MySQL - Learn The Easy Way. Master PHP & MySQL Quickly', 'url': 'https://www.udemy.com/learning-php-and-mysql-development-the-easy-way/', 'price': 50, 'num_subscribers': 5549, 'num_reviews': 92, 'num_lectures': 143, 'duration': '15.5 hours'}"
     ]
    },
    {
     "output_type": "stream",
     "name": "stderr",
     "text": [
      "127.0.0.1 - - [14/Jul/2021 07:16:29] \"GET /get/rcmd/php HTTP/1.1\" 200 -\n"
     ]
    },
    {
     "output_type": "stream",
     "name": "stdout",
     "text": [
      "\n",
      "{'course_title': 'Complete Website & CMS in PHP & MySQL From Scratch!', 'url': 'https://www.udemy.com/cms-admin-panel-in-php-mysql/', 'price': 20, 'num_subscribers': 3357, 'num_reviews': 82, 'num_lectures': 48, 'duration': '12.5 hours'}\n",
      "{'course_title': 'Learn E-Commerce Website in PHP & MySQL From Scratch!', 'url': 'https://www.udemy.com/ecommerce-website-in-php-mysqli/', 'price': 0, 'num_subscribers': 29990, 'num_reviews': 1342, 'num_lectures': 87, 'duration': '17.5 hours'}\n",
      "{'course_title': 'JavaScript Complete Guide to learning JavaScript', 'url': 'https://www.udemy.com/javascript-complete-guide-to-learning-javascript/', 'price': 200, 'num_subscribers': 1296, 'num_reviews': 22, 'num_lectures': 72, 'duration': '5.5 hours'}\n"
     ]
    }
   ],
   "metadata": {}
  },
  {
   "cell_type": "code",
   "execution_count": null,
   "source": [],
   "outputs": [],
   "metadata": {}
  }
 ],
 "metadata": {
  "kernelspec": {
   "display_name": "Python 3",
   "language": "python",
   "name": "python3"
  },
  "language_info": {
   "codemirror_mode": {
    "name": "ipython",
    "version": 3
   },
   "file_extension": ".py",
   "mimetype": "text/x-python",
   "name": "python",
   "nbconvert_exporter": "python",
   "pygments_lexer": "ipython3",
   "version": "3.9.5"
  }
 },
 "nbformat": 4,
 "nbformat_minor": 5
}